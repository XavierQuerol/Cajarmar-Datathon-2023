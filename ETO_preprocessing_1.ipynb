{
 "cells": [
  {
   "cell_type": "code",
   "execution_count": 59,
   "id": "ff92b577",
   "metadata": {},
   "outputs": [],
   "source": [
    "import pandas as pd\n",
    "import matplotlib.pyplot as plt\n",
    "import numpy as np\n",
    "import seaborn as sns"
   ]
  },
  {
   "cell_type": "code",
   "execution_count": 60,
   "id": "36df8c62",
   "metadata": {},
   "outputs": [],
   "source": [
    "df = pd.read_csv(\"./UH_2023/DATOS_ETO.txt\", sep = \"|\")"
   ]
  },
  {
   "cell_type": "code",
   "execution_count": 61,
   "id": "fe6087cb",
   "metadata": {},
   "outputs": [],
   "source": [
    "df.date = df.date.astype('str')\n",
    "df.date = pd.to_datetime(df.date)"
   ]
  },
  {
   "cell_type": "code",
   "execution_count": 62,
   "id": "32ed35a0",
   "metadata": {},
   "outputs": [],
   "source": [
    "columns_to_drop = list(df.isna().sum()[df.isna().sum() > 20].index)"
   ]
  },
  {
   "cell_type": "code",
   "execution_count": 63,
   "id": "e35cf758",
   "metadata": {},
   "outputs": [],
   "source": [
    "df2 = df.drop(columns_to_drop, axis=1)"
   ]
  },
  {
   "cell_type": "code",
   "execution_count": 64,
   "id": "47806681",
   "metadata": {},
   "outputs": [],
   "source": [
    "cols_to_modify = list(df2.isna().sum()[df2.isna().sum() != 0].index)"
   ]
  },
  {
   "cell_type": "code",
   "execution_count": 65,
   "id": "289dec0f",
   "metadata": {},
   "outputs": [],
   "source": [
    "df2[cols_to_modify] = (df2[cols_to_modify].ffill()+df2[cols_to_modify].bfill())/2"
   ]
  },
  {
   "cell_type": "code",
   "execution_count": 67,
   "id": "6e626ccc",
   "metadata": {},
   "outputs": [],
   "source": [
    "df3 = df2.bfill()"
   ]
  },
  {
   "cell_type": "code",
   "execution_count": 74,
   "id": "c1617fd5",
   "metadata": {},
   "outputs": [],
   "source": [
    "df4 = df3.drop(df3[(df3.date.dt.day == 29) & (df3.date.dt.month == 6) & (df3.date.dt.year == 2015)].index)"
   ]
  },
  {
   "cell_type": "code",
   "execution_count": 77,
   "id": "e8216327",
   "metadata": {},
   "outputs": [],
   "source": [
    "df4.to_csv(\"./ds_tractats/df_eto_tractat.csv\", index = False)"
   ]
  }
 ],
 "metadata": {
  "kernelspec": {
   "display_name": "Python 3 (ipykernel)",
   "language": "python",
   "name": "python3"
  },
  "language_info": {
   "codemirror_mode": {
    "name": "ipython",
    "version": 3
   },
   "file_extension": ".py",
   "mimetype": "text/x-python",
   "name": "python",
   "nbconvert_exporter": "python",
   "pygments_lexer": "ipython3",
   "version": "3.9.12"
  }
 },
 "nbformat": 4,
 "nbformat_minor": 5
}
