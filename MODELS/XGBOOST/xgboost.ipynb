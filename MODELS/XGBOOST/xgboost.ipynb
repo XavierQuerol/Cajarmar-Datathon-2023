{
 "cells": [
  {
   "cell_type": "code",
   "execution_count": 2,
   "metadata": {
    "id": "ee-sOv-S0zcT"
   },
   "outputs": [],
   "source": [
    "import pandas as pd\n",
    "import numpy as np\n",
    "\n",
    "import xgboost as xgb\n",
    "from sklearn.model_selection import GridSearchCV\n",
    "\n",
    "import seaborn as sns"
   ]
  },
  {
   "cell_type": "code",
   "execution_count": 2,
   "metadata": {
    "id": "PmgoAwkI4l37"
   },
   "outputs": [],
   "source": [
    "r2 = []\n",
    "rmse = []"
   ]
  },
  {
   "cell_type": "code",
   "execution_count": 32,
   "metadata": {},
   "outputs": [],
   "source": [
    "import category_encoders as ce\n",
    "from sklearn.preprocessing import LabelEncoder\n",
    "encoder = ce.OrdinalEncoder(cols=[\"ID_FINCA\", \"ID_ZONA\", \"ID_ESTACION\", \"ALTITUD\", \"VARIEDAD\", \"COLOR\", \"TIPO\", \"MODO\", \"SUPERFICIE\"])\n"
   ]
  },
  {
   "cell_type": "code",
   "execution_count": 33,
   "metadata": {},
   "outputs": [],
   "source": [
    "df = pd.read_csv(\"df_train_tractat.csv\").drop(columns=['ALTITUD_MIN', 'ALTITUD_DIF'])\n",
    "df = encoder.fit_transform(df)"
   ]
  },
  {
   "cell_type": "code",
   "execution_count": 34,
   "metadata": {},
   "outputs": [],
   "source": [
    "df2 = pd.read_csv(\"./UH_2023/UH_2023_TRAIN.txt\", sep = \"|\")\n",
    "df2 = encoder.fit_transform(df2)"
   ]
  },
  {
   "cell_type": "code",
   "execution_count": 35,
   "metadata": {},
   "outputs": [
    {
     "data": {
      "text/plain": [
       "0       22215.0\n",
       "1       22215.0\n",
       "2       20978.0\n",
       "3       40722.0\n",
       "4       14126.0\n",
       "         ...   \n",
       "8521    28160.1\n",
       "8522    41310.0\n",
       "8523    45420.0\n",
       "8524    56140.0\n",
       "8525    13869.9\n",
       "Name: PRODUCCION, Length: 8526, dtype: float64"
      ]
     },
     "execution_count": 35,
     "metadata": {},
     "output_type": "execute_result"
    }
   ],
   "source": [
    "X_train = df[df['CAMPAÑA']!='22'].drop(columns=['PRODUCCION'])\n",
    "y_train = df[df['CAMPAÑA']!='22']['PRODUCCION']\n",
    "X_train\n",
    "y_train"
   ]
  },
  {
   "cell_type": "code",
   "execution_count": 37,
   "metadata": {},
   "outputs": [
    {
     "data": {
      "text/html": [
       "<div>\n",
       "<style scoped>\n",
       "    .dataframe tbody tr th:only-of-type {\n",
       "        vertical-align: middle;\n",
       "    }\n",
       "\n",
       "    .dataframe tbody tr th {\n",
       "        vertical-align: top;\n",
       "    }\n",
       "\n",
       "    .dataframe thead th {\n",
       "        text-align: right;\n",
       "    }\n",
       "</style>\n",
       "<table border=\"1\" class=\"dataframe\">\n",
       "  <thead>\n",
       "    <tr style=\"text-align: right;\">\n",
       "      <th></th>\n",
       "      <th>CAMPAÑA</th>\n",
       "      <th>ID_FINCA</th>\n",
       "      <th>ID_ZONA</th>\n",
       "      <th>ID_ESTACION</th>\n",
       "      <th>ALTITUD</th>\n",
       "      <th>VARIEDAD</th>\n",
       "      <th>MODO</th>\n",
       "      <th>TIPO</th>\n",
       "      <th>COLOR</th>\n",
       "      <th>SUPERFICIE</th>\n",
       "    </tr>\n",
       "  </thead>\n",
       "  <tbody>\n",
       "    <tr>\n",
       "      <th>8526</th>\n",
       "      <td>22</td>\n",
       "      <td>913</td>\n",
       "      <td>105</td>\n",
       "      <td>19</td>\n",
       "      <td>77</td>\n",
       "      <td>2</td>\n",
       "      <td>1</td>\n",
       "      <td>1</td>\n",
       "      <td>1</td>\n",
       "      <td>2</td>\n",
       "    </tr>\n",
       "    <tr>\n",
       "      <th>8527</th>\n",
       "      <td>22</td>\n",
       "      <td>914</td>\n",
       "      <td>105</td>\n",
       "      <td>19</td>\n",
       "      <td>77</td>\n",
       "      <td>2</td>\n",
       "      <td>1</td>\n",
       "      <td>1</td>\n",
       "      <td>1</td>\n",
       "      <td>3</td>\n",
       "    </tr>\n",
       "    <tr>\n",
       "      <th>8528</th>\n",
       "      <td>22</td>\n",
       "      <td>12</td>\n",
       "      <td>7</td>\n",
       "      <td>2</td>\n",
       "      <td>4</td>\n",
       "      <td>5</td>\n",
       "      <td>2</td>\n",
       "      <td>1</td>\n",
       "      <td>1</td>\n",
       "      <td>4</td>\n",
       "    </tr>\n",
       "    <tr>\n",
       "      <th>8529</th>\n",
       "      <td>22</td>\n",
       "      <td>13</td>\n",
       "      <td>7</td>\n",
       "      <td>2</td>\n",
       "      <td>4</td>\n",
       "      <td>2</td>\n",
       "      <td>1</td>\n",
       "      <td>1</td>\n",
       "      <td>1</td>\n",
       "      <td>1011</td>\n",
       "    </tr>\n",
       "    <tr>\n",
       "      <th>8530</th>\n",
       "      <td>22</td>\n",
       "      <td>13</td>\n",
       "      <td>7</td>\n",
       "      <td>2</td>\n",
       "      <td>4</td>\n",
       "      <td>6</td>\n",
       "      <td>1</td>\n",
       "      <td>1</td>\n",
       "      <td>1</td>\n",
       "      <td>1012</td>\n",
       "    </tr>\n",
       "    <tr>\n",
       "      <th>...</th>\n",
       "      <td>...</td>\n",
       "      <td>...</td>\n",
       "      <td>...</td>\n",
       "      <td>...</td>\n",
       "      <td>...</td>\n",
       "      <td>...</td>\n",
       "      <td>...</td>\n",
       "      <td>...</td>\n",
       "      <td>...</td>\n",
       "      <td>...</td>\n",
       "    </tr>\n",
       "    <tr>\n",
       "      <th>9596</th>\n",
       "      <td>22</td>\n",
       "      <td>909</td>\n",
       "      <td>104</td>\n",
       "      <td>18</td>\n",
       "      <td>7</td>\n",
       "      <td>8</td>\n",
       "      <td>1</td>\n",
       "      <td>1</td>\n",
       "      <td>1</td>\n",
       "      <td>869</td>\n",
       "    </tr>\n",
       "    <tr>\n",
       "      <th>9597</th>\n",
       "      <td>22</td>\n",
       "      <td>911</td>\n",
       "      <td>104</td>\n",
       "      <td>18</td>\n",
       "      <td>7</td>\n",
       "      <td>2</td>\n",
       "      <td>1</td>\n",
       "      <td>1</td>\n",
       "      <td>1</td>\n",
       "      <td>870</td>\n",
       "    </tr>\n",
       "    <tr>\n",
       "      <th>9598</th>\n",
       "      <td>22</td>\n",
       "      <td>911</td>\n",
       "      <td>104</td>\n",
       "      <td>18</td>\n",
       "      <td>7</td>\n",
       "      <td>5</td>\n",
       "      <td>1</td>\n",
       "      <td>1</td>\n",
       "      <td>1</td>\n",
       "      <td>810</td>\n",
       "    </tr>\n",
       "    <tr>\n",
       "      <th>9599</th>\n",
       "      <td>22</td>\n",
       "      <td>912</td>\n",
       "      <td>104</td>\n",
       "      <td>18</td>\n",
       "      <td>7</td>\n",
       "      <td>6</td>\n",
       "      <td>1</td>\n",
       "      <td>1</td>\n",
       "      <td>1</td>\n",
       "      <td>1211</td>\n",
       "    </tr>\n",
       "    <tr>\n",
       "      <th>9600</th>\n",
       "      <td>22</td>\n",
       "      <td>912</td>\n",
       "      <td>104</td>\n",
       "      <td>18</td>\n",
       "      <td>7</td>\n",
       "      <td>8</td>\n",
       "      <td>1</td>\n",
       "      <td>1</td>\n",
       "      <td>1</td>\n",
       "      <td>1212</td>\n",
       "    </tr>\n",
       "  </tbody>\n",
       "</table>\n",
       "<p>1075 rows × 10 columns</p>\n",
       "</div>"
      ],
      "text/plain": [
       "      CAMPAÑA  ID_FINCA  ID_ZONA  ID_ESTACION  ALTITUD  VARIEDAD  MODO  TIPO  \\\n",
       "8526       22       913      105           19       77         2     1     1   \n",
       "8527       22       914      105           19       77         2     1     1   \n",
       "8528       22        12        7            2        4         5     2     1   \n",
       "8529       22        13        7            2        4         2     1     1   \n",
       "8530       22        13        7            2        4         6     1     1   \n",
       "...       ...       ...      ...          ...      ...       ...   ...   ...   \n",
       "9596       22       909      104           18        7         8     1     1   \n",
       "9597       22       911      104           18        7         2     1     1   \n",
       "9598       22       911      104           18        7         5     1     1   \n",
       "9599       22       912      104           18        7         6     1     1   \n",
       "9600       22       912      104           18        7         8     1     1   \n",
       "\n",
       "      COLOR  SUPERFICIE  \n",
       "8526      1           2  \n",
       "8527      1           3  \n",
       "8528      1           4  \n",
       "8529      1        1011  \n",
       "8530      1        1012  \n",
       "...     ...         ...  \n",
       "9596      1         869  \n",
       "9597      1         870  \n",
       "9598      1         810  \n",
       "9599      1        1211  \n",
       "9600      1        1212  \n",
       "\n",
       "[1075 rows x 10 columns]"
      ]
     },
     "execution_count": 37,
     "metadata": {},
     "output_type": "execute_result"
    }
   ],
   "source": [
    "X_test = df2[df2['CAMPAÑA']==22].drop(columns=['PRODUCCION'])\n",
    "X_test"
   ]
  },
  {
   "cell_type": "code",
   "execution_count": 39,
   "metadata": {},
   "outputs": [],
   "source": [
    "gsc_f = xgb.XGBRegressor(n_estimators =300,\n",
    "                        learning_rate= 0.15,\n",
    "                        max_depth= 20,\n",
    "                        min_child_weight = 1,\n",
    "                        gamma = 0.0,\n",
    "                        colsample_bytree=0.4)\n",
    "\n",
    "grid_result_f = gsc_f.fit(X_train, y_train)"
   ]
  },
  {
   "cell_type": "code",
   "execution_count": 61,
   "metadata": {},
   "outputs": [
    {
     "name": "stderr",
     "output_type": "stream",
     "text": [
      "<ipython-input-61-bfed3a86148c>:4: SettingWithCopyWarning: \n",
      "A value is trying to be set on a copy of a slice from a DataFrame.\n",
      "Try using .loc[row_indexer,col_indexer] = value instead\n",
      "\n",
      "See the caveats in the documentation: https://pandas.pydata.org/pandas-docs/stable/user_guide/indexing.html#returning-a-view-versus-a-copy\n",
      "  df_aux[df_aux['PRODUCCION'] < 0]['PRODUCCION'] = 0\n"
     ]
    },
    {
     "ename": "KeyError",
     "evalue": "\"None of [Int64Index([0, 0, 0, 0, 0, 0, 0, 0, 0, 0,\\n            ...\\n            0, 0, 0, 0, 0, 0, 0, 0, 0, 0],\\n           dtype='int64', length=8526)] are in the [index]\"",
     "output_type": "error",
     "traceback": [
      "\u001b[0;31m---------------------------------------------------------------------------\u001b[0m",
      "\u001b[0;31mKeyError\u001b[0m                                  Traceback (most recent call last)",
      "\u001b[0;32m<ipython-input-61-bfed3a86148c>\u001b[0m in \u001b[0;36m<module>\u001b[0;34m\u001b[0m\n\u001b[1;32m      4\u001b[0m \u001b[0mdf_aux\u001b[0m\u001b[0;34m[\u001b[0m\u001b[0mdf_aux\u001b[0m\u001b[0;34m[\u001b[0m\u001b[0;34m'PRODUCCION'\u001b[0m\u001b[0;34m]\u001b[0m \u001b[0;34m<\u001b[0m \u001b[0;36m0\u001b[0m\u001b[0;34m]\u001b[0m\u001b[0;34m[\u001b[0m\u001b[0;34m'PRODUCCION'\u001b[0m\u001b[0;34m]\u001b[0m \u001b[0;34m=\u001b[0m \u001b[0;36m0\u001b[0m\u001b[0;34m\u001b[0m\u001b[0;34m\u001b[0m\u001b[0m\n\u001b[1;32m      5\u001b[0m \u001b[0mmask\u001b[0m \u001b[0;34m=\u001b[0m \u001b[0;34m(\u001b[0m\u001b[0mdf\u001b[0m\u001b[0;34m[\u001b[0m\u001b[0;34m'PRODUCCION'\u001b[0m\u001b[0;34m]\u001b[0m\u001b[0;34m<\u001b[0m\u001b[0;36m0\u001b[0m\u001b[0;34m)\u001b[0m\u001b[0;34m*\u001b[0m\u001b[0;36m1\u001b[0m\u001b[0;34m\u001b[0m\u001b[0;34m\u001b[0m\u001b[0m\n\u001b[0;32m----> 6\u001b[0;31m \u001b[0mdf_aux\u001b[0m\u001b[0;34m.\u001b[0m\u001b[0mloc\u001b[0m\u001b[0;34m[\u001b[0m\u001b[0mmask\u001b[0m\u001b[0;34m,\u001b[0m \u001b[0;34m'PRODUCCION'\u001b[0m\u001b[0;34m]\u001b[0m \u001b[0;34m=\u001b[0m \u001b[0;36m0\u001b[0m\u001b[0;34m\u001b[0m\u001b[0;34m\u001b[0m\u001b[0m\n\u001b[0m\u001b[1;32m      7\u001b[0m \u001b[0mdf_aux\u001b[0m \u001b[0;34m=\u001b[0m \u001b[0mdf_aux\u001b[0m\u001b[0;34m.\u001b[0m\u001b[0msort_values\u001b[0m\u001b[0;34m(\u001b[0m\u001b[0mby\u001b[0m\u001b[0;34m=\u001b[0m\u001b[0;34m[\u001b[0m\u001b[0;34m\"ID_FINCA\"\u001b[0m\u001b[0;34m,\u001b[0m \u001b[0;34m\"VARIEDAD\"\u001b[0m\u001b[0;34m,\u001b[0m \u001b[0;34m\"MODO\"\u001b[0m\u001b[0;34m,\u001b[0m \u001b[0;34m\"TIPO\"\u001b[0m\u001b[0;34m,\u001b[0m \u001b[0;34m\"COLOR\"\u001b[0m\u001b[0;34m,\u001b[0m \u001b[0;34m\"SUPERFICIE\"\u001b[0m\u001b[0;34m]\u001b[0m\u001b[0;34m)\u001b[0m\u001b[0;34m\u001b[0m\u001b[0;34m\u001b[0m\u001b[0m\n\u001b[1;32m      8\u001b[0m \u001b[0mdf_aux\u001b[0m \u001b[0;34m=\u001b[0m \u001b[0mdf_aux\u001b[0m\u001b[0;34m.\u001b[0m\u001b[0mreindex\u001b[0m\u001b[0;34m(\u001b[0m\u001b[0mcolumns\u001b[0m\u001b[0;34m=\u001b[0m\u001b[0;34m[\u001b[0m\u001b[0;34m\"ID_FINCA\"\u001b[0m\u001b[0;34m,\u001b[0m \u001b[0;34m\"VARIEDAD\"\u001b[0m\u001b[0;34m,\u001b[0m \u001b[0;34m\"MODO\"\u001b[0m\u001b[0;34m,\u001b[0m \u001b[0;34m\"TIPO\"\u001b[0m\u001b[0;34m,\u001b[0m \u001b[0;34m\"COLOR\"\u001b[0m\u001b[0;34m,\u001b[0m \u001b[0;34m\"SUPERFICIE\"\u001b[0m\u001b[0;34m,\u001b[0m \u001b[0;34m\"PRODUCCION\"\u001b[0m\u001b[0;34m]\u001b[0m\u001b[0;34m)\u001b[0m\u001b[0;34m\u001b[0m\u001b[0;34m\u001b[0m\u001b[0m\n",
      "\u001b[0;32m/opt/anaconda3/lib/python3.8/site-packages/pandas/core/indexing.py\u001b[0m in \u001b[0;36m__setitem__\u001b[0;34m(self, key, value)\u001b[0m\n\u001b[1;32m    664\u001b[0m         \u001b[0;32melse\u001b[0m\u001b[0;34m:\u001b[0m\u001b[0;34m\u001b[0m\u001b[0;34m\u001b[0m\u001b[0m\n\u001b[1;32m    665\u001b[0m             \u001b[0mkey\u001b[0m \u001b[0;34m=\u001b[0m \u001b[0mcom\u001b[0m\u001b[0;34m.\u001b[0m\u001b[0mapply_if_callable\u001b[0m\u001b[0;34m(\u001b[0m\u001b[0mkey\u001b[0m\u001b[0;34m,\u001b[0m \u001b[0mself\u001b[0m\u001b[0;34m.\u001b[0m\u001b[0mobj\u001b[0m\u001b[0;34m)\u001b[0m\u001b[0;34m\u001b[0m\u001b[0;34m\u001b[0m\u001b[0m\n\u001b[0;32m--> 666\u001b[0;31m         \u001b[0mindexer\u001b[0m \u001b[0;34m=\u001b[0m \u001b[0mself\u001b[0m\u001b[0;34m.\u001b[0m\u001b[0m_get_setitem_indexer\u001b[0m\u001b[0;34m(\u001b[0m\u001b[0mkey\u001b[0m\u001b[0;34m)\u001b[0m\u001b[0;34m\u001b[0m\u001b[0;34m\u001b[0m\u001b[0m\n\u001b[0m\u001b[1;32m    667\u001b[0m         \u001b[0mself\u001b[0m\u001b[0;34m.\u001b[0m\u001b[0m_has_valid_setitem_indexer\u001b[0m\u001b[0;34m(\u001b[0m\u001b[0mkey\u001b[0m\u001b[0;34m)\u001b[0m\u001b[0;34m\u001b[0m\u001b[0;34m\u001b[0m\u001b[0m\n\u001b[1;32m    668\u001b[0m \u001b[0;34m\u001b[0m\u001b[0m\n",
      "\u001b[0;32m/opt/anaconda3/lib/python3.8/site-packages/pandas/core/indexing.py\u001b[0m in \u001b[0;36m_get_setitem_indexer\u001b[0;34m(self, key)\u001b[0m\n\u001b[1;32m    607\u001b[0m         \u001b[0;32mif\u001b[0m \u001b[0misinstance\u001b[0m\u001b[0;34m(\u001b[0m\u001b[0mkey\u001b[0m\u001b[0;34m,\u001b[0m \u001b[0mtuple\u001b[0m\u001b[0;34m)\u001b[0m\u001b[0;34m:\u001b[0m\u001b[0;34m\u001b[0m\u001b[0;34m\u001b[0m\u001b[0m\n\u001b[1;32m    608\u001b[0m             \u001b[0;32mtry\u001b[0m\u001b[0;34m:\u001b[0m\u001b[0;34m\u001b[0m\u001b[0;34m\u001b[0m\u001b[0m\n\u001b[0;32m--> 609\u001b[0;31m                 \u001b[0;32mreturn\u001b[0m \u001b[0mself\u001b[0m\u001b[0;34m.\u001b[0m\u001b[0m_convert_tuple\u001b[0m\u001b[0;34m(\u001b[0m\u001b[0mkey\u001b[0m\u001b[0;34m,\u001b[0m \u001b[0mis_setter\u001b[0m\u001b[0;34m=\u001b[0m\u001b[0;32mTrue\u001b[0m\u001b[0;34m)\u001b[0m\u001b[0;34m\u001b[0m\u001b[0;34m\u001b[0m\u001b[0m\n\u001b[0m\u001b[1;32m    610\u001b[0m             \u001b[0;32mexcept\u001b[0m \u001b[0mIndexingError\u001b[0m\u001b[0;34m:\u001b[0m\u001b[0;34m\u001b[0m\u001b[0;34m\u001b[0m\u001b[0m\n\u001b[1;32m    611\u001b[0m                 \u001b[0;32mpass\u001b[0m\u001b[0;34m\u001b[0m\u001b[0;34m\u001b[0m\u001b[0m\n",
      "\u001b[0;32m/opt/anaconda3/lib/python3.8/site-packages/pandas/core/indexing.py\u001b[0m in \u001b[0;36m_convert_tuple\u001b[0;34m(self, key, is_setter)\u001b[0m\n\u001b[1;32m    732\u001b[0m                 \u001b[0;32mif\u001b[0m \u001b[0mi\u001b[0m \u001b[0;34m>=\u001b[0m \u001b[0mself\u001b[0m\u001b[0;34m.\u001b[0m\u001b[0mndim\u001b[0m\u001b[0;34m:\u001b[0m\u001b[0;34m\u001b[0m\u001b[0;34m\u001b[0m\u001b[0m\n\u001b[1;32m    733\u001b[0m                     \u001b[0;32mraise\u001b[0m \u001b[0mIndexingError\u001b[0m\u001b[0;34m(\u001b[0m\u001b[0;34m\"Too many indexers\"\u001b[0m\u001b[0;34m)\u001b[0m\u001b[0;34m\u001b[0m\u001b[0;34m\u001b[0m\u001b[0m\n\u001b[0;32m--> 734\u001b[0;31m                 \u001b[0midx\u001b[0m \u001b[0;34m=\u001b[0m \u001b[0mself\u001b[0m\u001b[0;34m.\u001b[0m\u001b[0m_convert_to_indexer\u001b[0m\u001b[0;34m(\u001b[0m\u001b[0mk\u001b[0m\u001b[0;34m,\u001b[0m \u001b[0maxis\u001b[0m\u001b[0;34m=\u001b[0m\u001b[0mi\u001b[0m\u001b[0;34m,\u001b[0m \u001b[0mis_setter\u001b[0m\u001b[0;34m=\u001b[0m\u001b[0mis_setter\u001b[0m\u001b[0;34m)\u001b[0m\u001b[0;34m\u001b[0m\u001b[0;34m\u001b[0m\u001b[0m\n\u001b[0m\u001b[1;32m    735\u001b[0m                 \u001b[0mkeyidx\u001b[0m\u001b[0;34m.\u001b[0m\u001b[0mappend\u001b[0m\u001b[0;34m(\u001b[0m\u001b[0midx\u001b[0m\u001b[0;34m)\u001b[0m\u001b[0;34m\u001b[0m\u001b[0;34m\u001b[0m\u001b[0m\n\u001b[1;32m    736\u001b[0m         \u001b[0;32mreturn\u001b[0m \u001b[0mtuple\u001b[0m\u001b[0;34m(\u001b[0m\u001b[0mkeyidx\u001b[0m\u001b[0;34m)\u001b[0m\u001b[0;34m\u001b[0m\u001b[0;34m\u001b[0m\u001b[0m\n",
      "\u001b[0;32m/opt/anaconda3/lib/python3.8/site-packages/pandas/core/indexing.py\u001b[0m in \u001b[0;36m_convert_to_indexer\u001b[0;34m(self, key, axis, is_setter)\u001b[0m\n\u001b[1;32m   1196\u001b[0m             \u001b[0;32melse\u001b[0m\u001b[0;34m:\u001b[0m\u001b[0;34m\u001b[0m\u001b[0;34m\u001b[0m\u001b[0m\n\u001b[1;32m   1197\u001b[0m                 \u001b[0;31m# When setting, missing keys are not allowed, even with .loc:\u001b[0m\u001b[0;34m\u001b[0m\u001b[0;34m\u001b[0m\u001b[0;34m\u001b[0m\u001b[0m\n\u001b[0;32m-> 1198\u001b[0;31m                 \u001b[0;32mreturn\u001b[0m \u001b[0mself\u001b[0m\u001b[0;34m.\u001b[0m\u001b[0m_get_listlike_indexer\u001b[0m\u001b[0;34m(\u001b[0m\u001b[0mkey\u001b[0m\u001b[0;34m,\u001b[0m \u001b[0maxis\u001b[0m\u001b[0;34m,\u001b[0m \u001b[0mraise_missing\u001b[0m\u001b[0;34m=\u001b[0m\u001b[0;32mTrue\u001b[0m\u001b[0;34m)\u001b[0m\u001b[0;34m[\u001b[0m\u001b[0;36m1\u001b[0m\u001b[0;34m]\u001b[0m\u001b[0;34m\u001b[0m\u001b[0;34m\u001b[0m\u001b[0m\n\u001b[0m\u001b[1;32m   1199\u001b[0m         \u001b[0;32melse\u001b[0m\u001b[0;34m:\u001b[0m\u001b[0;34m\u001b[0m\u001b[0;34m\u001b[0m\u001b[0m\n\u001b[1;32m   1200\u001b[0m             \u001b[0;32mtry\u001b[0m\u001b[0;34m:\u001b[0m\u001b[0;34m\u001b[0m\u001b[0;34m\u001b[0m\u001b[0m\n",
      "\u001b[0;32m/opt/anaconda3/lib/python3.8/site-packages/pandas/core/indexing.py\u001b[0m in \u001b[0;36m_get_listlike_indexer\u001b[0;34m(self, key, axis, raise_missing)\u001b[0m\n\u001b[1;32m   1252\u001b[0m             \u001b[0mkeyarr\u001b[0m\u001b[0;34m,\u001b[0m \u001b[0mindexer\u001b[0m\u001b[0;34m,\u001b[0m \u001b[0mnew_indexer\u001b[0m \u001b[0;34m=\u001b[0m \u001b[0max\u001b[0m\u001b[0;34m.\u001b[0m\u001b[0m_reindex_non_unique\u001b[0m\u001b[0;34m(\u001b[0m\u001b[0mkeyarr\u001b[0m\u001b[0;34m)\u001b[0m\u001b[0;34m\u001b[0m\u001b[0;34m\u001b[0m\u001b[0m\n\u001b[1;32m   1253\u001b[0m \u001b[0;34m\u001b[0m\u001b[0m\n\u001b[0;32m-> 1254\u001b[0;31m         \u001b[0mself\u001b[0m\u001b[0;34m.\u001b[0m\u001b[0m_validate_read_indexer\u001b[0m\u001b[0;34m(\u001b[0m\u001b[0mkeyarr\u001b[0m\u001b[0;34m,\u001b[0m \u001b[0mindexer\u001b[0m\u001b[0;34m,\u001b[0m \u001b[0maxis\u001b[0m\u001b[0;34m,\u001b[0m \u001b[0mraise_missing\u001b[0m\u001b[0;34m=\u001b[0m\u001b[0mraise_missing\u001b[0m\u001b[0;34m)\u001b[0m\u001b[0;34m\u001b[0m\u001b[0;34m\u001b[0m\u001b[0m\n\u001b[0m\u001b[1;32m   1255\u001b[0m         \u001b[0;32mreturn\u001b[0m \u001b[0mkeyarr\u001b[0m\u001b[0;34m,\u001b[0m \u001b[0mindexer\u001b[0m\u001b[0;34m\u001b[0m\u001b[0;34m\u001b[0m\u001b[0m\n\u001b[1;32m   1256\u001b[0m \u001b[0;34m\u001b[0m\u001b[0m\n",
      "\u001b[0;32m/opt/anaconda3/lib/python3.8/site-packages/pandas/core/indexing.py\u001b[0m in \u001b[0;36m_validate_read_indexer\u001b[0;34m(self, key, indexer, axis, raise_missing)\u001b[0m\n\u001b[1;32m   1296\u001b[0m             \u001b[0;32mif\u001b[0m \u001b[0mmissing\u001b[0m \u001b[0;34m==\u001b[0m \u001b[0mlen\u001b[0m\u001b[0;34m(\u001b[0m\u001b[0mindexer\u001b[0m\u001b[0;34m)\u001b[0m\u001b[0;34m:\u001b[0m\u001b[0;34m\u001b[0m\u001b[0;34m\u001b[0m\u001b[0m\n\u001b[1;32m   1297\u001b[0m                 \u001b[0maxis_name\u001b[0m \u001b[0;34m=\u001b[0m \u001b[0mself\u001b[0m\u001b[0;34m.\u001b[0m\u001b[0mobj\u001b[0m\u001b[0;34m.\u001b[0m\u001b[0m_get_axis_name\u001b[0m\u001b[0;34m(\u001b[0m\u001b[0maxis\u001b[0m\u001b[0;34m)\u001b[0m\u001b[0;34m\u001b[0m\u001b[0;34m\u001b[0m\u001b[0m\n\u001b[0;32m-> 1298\u001b[0;31m                 \u001b[0;32mraise\u001b[0m \u001b[0mKeyError\u001b[0m\u001b[0;34m(\u001b[0m\u001b[0;34mf\"None of [{key}] are in the [{axis_name}]\"\u001b[0m\u001b[0;34m)\u001b[0m\u001b[0;34m\u001b[0m\u001b[0;34m\u001b[0m\u001b[0m\n\u001b[0m\u001b[1;32m   1299\u001b[0m \u001b[0;34m\u001b[0m\u001b[0m\n\u001b[1;32m   1300\u001b[0m             \u001b[0;31m# We (temporarily) allow for some missing keys with .loc, except in\u001b[0m\u001b[0;34m\u001b[0m\u001b[0;34m\u001b[0m\u001b[0;34m\u001b[0m\u001b[0m\n",
      "\u001b[0;31mKeyError\u001b[0m: \"None of [Int64Index([0, 0, 0, 0, 0, 0, 0, 0, 0, 0,\\n            ...\\n            0, 0, 0, 0, 0, 0, 0, 0, 0, 0],\\n           dtype='int64', length=8526)] are in the [index]\""
     ]
    }
   ],
   "source": [
    "df_aux = pd.read_csv(\"./UH_2023/UH_2023_TRAIN.txt\", sep = \"|\")\n",
    "df_aux= df_aux[df_aux['CAMPAÑA']==22]\n",
    "df_aux['PRODUCCION'] = grid_result_f.predict(X_test)\n",
    "df_aux[df_aux['PRODUCCION'] < 0]['PRODUCCION'] = 0\n",
    "mask = (df['PRODUCCION']<0)*1\n",
    "df_aux.loc[mask, 'PRODUCCION'] = 0\n",
    "df_aux = df_aux.sort_values(by=[\"ID_FINCA\", \"VARIEDAD\", \"MODO\", \"TIPO\", \"COLOR\", \"SUPERFICIE\"])\n",
    "df_aux = df_aux.reindex(columns=[\"ID_FINCA\", \"VARIEDAD\", \"MODO\", \"TIPO\", \"COLOR\", \"SUPERFICIE\", \"PRODUCCION\"])\n",
    "df_aux.head(50)"
   ]
  },
  {
   "cell_type": "code",
   "execution_count": 48,
   "metadata": {},
   "outputs": [],
   "source": [
    "df_aux[\"PRODUCCION\"] = df_aux[\"PRODUCCION\"].apply(lambda x: '{:.2f}'.format(x) if type(x) is int or type(x) is float else x)\n",
    "df_aux[\"SUPERFICIE\"] = df_aux[\"SUPERFICIE\"].apply(lambda x: '{:.2f}'.format(x) if type(x) is int or type(x) is float else x)\n",
    "\n",
    "def fun(x): \n",
    "    x=str(x)\n",
    "    if len(x) == 0:\n",
    "        return '\"' + '000' +'\"'\n",
    "    elif len(x) == 1:\n",
    "        return '\"' + '00' + x +'\"'\n",
    "    elif len(x) == 2:\n",
    "        return '\"' + '0' + x +'\"'\n",
    "    elif len(x) == 3:\n",
    "        return '\"' + x +'\"'\n",
    "\n",
    "def fun2(x): \n",
    "    x='\"' + str(x) +'\"'\n",
    "    return x\n",
    "\n",
    "df_aux[\"VARIEDAD\"] = df_aux[\"VARIEDAD\"].apply(fun)\n",
    "df_aux[\"TIPO\"] = df_aux[\"TIPO\"].apply(fun2)\n",
    "\n",
    "\n",
    "name_file = \"UH2023_Universitat Autònoma de Barcelona (UAB)_Farts del vi_1.txt\"\n",
    "df_aux.to_csv(name_file, sep = \"|\", header=False, index=False)"
   ]
  },
  {
   "cell_type": "markdown",
   "metadata": {
    "id": "jn8i9ZHGB6sv"
   },
   "source": [
    "**TRAIN I TEST ALEATORI (SENSE ALTITUD, CAMPANYA NI PRODUCCIÓ CLAR)**"
   ]
  },
  {
   "cell_type": "code",
   "execution_count": 31,
   "metadata": {
    "id": "8Cs8qAUy1DI_"
   },
   "outputs": [],
   "source": [
    "df = pd.read_csv(\"/content/df_train_tractat.csv\")\n",
    "#df.drop(columns=[df.columns[0]], inplace=True)\n",
    "#df[df['SUPERFICIE']<0]"
   ]
  },
  {
   "cell_type": "code",
   "execution_count": 4,
   "metadata": {
    "id": "WiwDTbOV1Ghr"
   },
   "outputs": [],
   "source": [
    "X = df.drop(columns = ['PRODUCCION', 'ALTITUD'])\n",
    "y = df['PRODUCCION']"
   ]
  },
  {
   "cell_type": "code",
   "execution_count": 5,
   "metadata": {
    "id": "JXyuB31s-Z2W"
   },
   "outputs": [],
   "source": [
    "from sklearn.model_selection import train_test_split\n",
    "\n",
    "X_train, X_test, y_train, y_test= train_test_split(X, y,\n",
    "                                                   test_size= 0.15,\n",
    "                                                   shuffle= True, #shuffle the data to avoid bias\n",
    "                                                   random_state= 0)"
   ]
  },
  {
   "cell_type": "code",
   "execution_count": 6,
   "metadata": {
    "id": "J-tyzRoZ3IsE"
   },
   "outputs": [],
   "source": [
    "gsc1 = GridSearchCV(\n",
    "            estimator=xgb.XGBRegressor(),\n",
    "            param_grid={\"n_estimators\": [ 500],\n",
    "                        \"learning_rate\": [0.15],\n",
    "                        \"max_depth\": [20],\n",
    "                        \"min_child_weight\": [1],\n",
    "                        \"gamma\":[ 0.0],\n",
    "                        \"colsample_bytree\":[0.4],},\n",
    "            cv=5, scoring='r2', verbose=0, n_jobs=-1)\n",
    "\n",
    "grid_result1 = gsc1.fit(X_train, y_train)\n",
    "#grid_result1_1 = gsc1.fit(X,y)\n"
   ]
  },
  {
   "cell_type": "code",
   "execution_count": 7,
   "metadata": {
    "colab": {
     "base_uri": "https://localhost:8080/"
    },
    "id": "6sjg1BTpAIJV",
    "outputId": "74825840-1515-41cb-8134-deff49caa3a0"
   },
   "outputs": [
    {
     "name": "stdout",
     "output_type": "stream",
     "text": [
      "0.9999992561341488 0.8178248625881704\n"
     ]
    }
   ],
   "source": [
    "print( grid_result1.score(X_train,y_train), grid_result1.score(X_test, y_test))\n",
    "results = (grid_result1.score(X_train,y_train), grid_result1.score(X_test, y_test))\n",
    "r2.append(results)"
   ]
  },
  {
   "cell_type": "code",
   "execution_count": 8,
   "metadata": {
    "id": "I7YSUVsfsPV8"
   },
   "outputs": [],
   "source": [
    "gsc1_1 = GridSearchCV(\n",
    "            estimator=xgb.XGBRegressor(),\n",
    "            param_grid={\"n_estimators\": [ 500],\n",
    "                        \"learning_rate\": [0.15],\n",
    "                        \"max_depth\": [20],\n",
    "                        \"min_child_weight\": [1],\n",
    "                        \"gamma\":[ 0.0],\n",
    "                        \"colsample_bytree\":[0.4],},\n",
    "            cv=5, scoring='neg_root_mean_squared_error', verbose=0, n_jobs=-1)\n",
    "\n",
    "grid_result1_1 = gsc1_1.fit(X_train, y_train)\n",
    "#grid_result1_1 = gsc1.fit(X,y)"
   ]
  },
  {
   "cell_type": "code",
   "execution_count": 9,
   "metadata": {
    "colab": {
     "base_uri": "https://localhost:8080/"
    },
    "id": "M0HnOI6XtqC0",
    "outputId": "14083f5e-4c29-4db5-8a89-bf1a8ed9568b"
   },
   "outputs": [
    {
     "name": "stdout",
     "output_type": "stream",
     "text": [
      "-11.42461684042509 -5715.316533858098\n"
     ]
    }
   ],
   "source": [
    "print( grid_result1_1.score(X_train,y_train), grid_result1_1.score(X_test, y_test))\n",
    "results = (grid_result1_1.score(X_train,y_train), grid_result1_1.score(X_test, y_test))\n",
    "rmse.append(results)"
   ]
  },
  {
   "cell_type": "code",
   "execution_count": 10,
   "metadata": {
    "id": "FM6TaETe84DO"
   },
   "outputs": [],
   "source": [
    "#grid_result1.best_params_"
   ]
  },
  {
   "cell_type": "markdown",
   "metadata": {
    "id": "H83ivAG3CRTH"
   },
   "source": [
    "**TRAIN ANYS ABANS 2021 I TEST 2021 (SENSE ALTITUD, NI PRODUCCIÓ CLAR)**"
   ]
  },
  {
   "cell_type": "code",
   "execution_count": 11,
   "metadata": {
    "id": "C4IsWD6GCukk"
   },
   "outputs": [],
   "source": [
    "X = df.drop(columns = ['PRODUCCION', 'ALTITUD'])\n",
    "X_train = X[X['CAMPAÑA'] != 21]\n",
    "y_train = df[df['CAMPAÑA'] != 21]['PRODUCCION']"
   ]
  },
  {
   "cell_type": "code",
   "execution_count": 12,
   "metadata": {
    "id": "6UDalCb3DMif"
   },
   "outputs": [],
   "source": [
    "X_test = X[X['CAMPAÑA'] == 21]\n",
    "y_test = df[df['CAMPAÑA'] == 21]['PRODUCCION']"
   ]
  },
  {
   "cell_type": "code",
   "execution_count": 13,
   "metadata": {
    "id": "B5NOoIA6DXpB"
   },
   "outputs": [],
   "source": [
    "gsc2 = GridSearchCV(\n",
    "            estimator=xgb.XGBRegressor(),\n",
    "            param_grid={\"n_estimators\": [300],\n",
    "                        \"learning_rate\": [0.15],\n",
    "                        \"max_depth\": [20],\n",
    "                        \"min_child_weight\": [1],\n",
    "                        \"gamma\":[ 0.0],\n",
    "                        \"colsample_bytree\":[0.4],},\n",
    "            cv=5, scoring='r2', verbose=0, n_jobs=-1)\n",
    "\n",
    "grid_result2 = gsc2.fit(X_train, y_train)"
   ]
  },
  {
   "cell_type": "code",
   "execution_count": 14,
   "metadata": {
    "colab": {
     "base_uri": "https://localhost:8080/"
    },
    "id": "ZuniHWH0D2bG",
    "outputId": "24bb748e-4027-43a1-9dc8-9acfb3276d28"
   },
   "outputs": [
    {
     "name": "stdout",
     "output_type": "stream",
     "text": [
      "0.9999985998053591 0.785189512327019\n"
     ]
    }
   ],
   "source": [
    "print( grid_result2.score(X_train,y_train), grid_result2.score(X_test, y_test))\n",
    "results = (grid_result2.score(X_train,y_train), grid_result2.score(X_test, y_test))\n",
    "r2.append(results)"
   ]
  },
  {
   "cell_type": "code",
   "execution_count": 15,
   "metadata": {
    "id": "MnnVn1Dz0CSr"
   },
   "outputs": [],
   "source": [
    "gsc2_1 = GridSearchCV(\n",
    "            estimator=xgb.XGBRegressor(),\n",
    "            param_grid={\"n_estimators\": [300],\n",
    "                        \"learning_rate\": [0.15],\n",
    "                        \"max_depth\": [20],\n",
    "                        \"min_child_weight\": [1],\n",
    "                        \"gamma\":[ 0.0],\n",
    "                        \"colsample_bytree\":[0.4],},\n",
    "            cv=5, scoring='neg_root_mean_squared_error', verbose=0, n_jobs=-1)\n",
    "\n",
    "grid_result2_1 = gsc2_1.fit(X_train, y_train)"
   ]
  },
  {
   "cell_type": "code",
   "execution_count": 16,
   "metadata": {
    "colab": {
     "base_uri": "https://localhost:8080/"
    },
    "id": "XWgzukAV0d-Q",
    "outputId": "a7c3f46d-0040-4474-b262-1558be19dd14"
   },
   "outputs": [
    {
     "name": "stdout",
     "output_type": "stream",
     "text": [
      "-15.633273106167826 -6322.651292719792\n"
     ]
    }
   ],
   "source": [
    "print( grid_result2_1.score(X_train,y_train), grid_result2_1.score(X_test, y_test))\n",
    "results = (grid_result2_1.score(X_train,y_train), grid_result2_1.score(X_test, y_test))\n",
    "rmse.append(results)"
   ]
  },
  {
   "cell_type": "code",
   "execution_count": 17,
   "metadata": {
    "id": "sEd2ekqHEMyM"
   },
   "outputs": [],
   "source": [
    "#grid_result2.best_params_"
   ]
  },
  {
   "cell_type": "markdown",
   "metadata": {
    "id": "xrP8tEXcGISQ"
   },
   "source": [
    "**TRAIN I TEST ALEATORI (SENSE ALTITUD, CAMPAÑA, NI PRODUCCIÓ CLAR)**"
   ]
  },
  {
   "cell_type": "code",
   "execution_count": 18,
   "metadata": {
    "id": "jE1dzZ8IGZKq"
   },
   "outputs": [],
   "source": [
    "X = df.drop(columns = ['PRODUCCION', 'ALTITUD', 'CAMPAÑA'])\n",
    "y = df['PRODUCCION']"
   ]
  },
  {
   "cell_type": "code",
   "execution_count": 19,
   "metadata": {
    "id": "tj1FzyUbGy2y"
   },
   "outputs": [],
   "source": [
    "from sklearn.model_selection import train_test_split\n",
    "\n",
    "X_train, X_test, y_train, y_test= train_test_split(X, y,\n",
    "                                                   test_size= 0.15,\n",
    "                                                   shuffle= True, #shuffle the data to avoid bias\n",
    "                                                   random_state= 0)"
   ]
  },
  {
   "cell_type": "code",
   "execution_count": 20,
   "metadata": {
    "id": "OJdqrbqeGZKr"
   },
   "outputs": [],
   "source": [
    "gsc3 = GridSearchCV(\n",
    "            estimator=xgb.XGBRegressor(),\n",
    "            param_grid={\"n_estimators\": [100],\n",
    "                        \"learning_rate\": [0.15],\n",
    "                        \"max_depth\": [100],\n",
    "                        \"min_child_weight\": [1],\n",
    "                        \"gamma\":[ 0.0],\n",
    "                        \"colsample_bytree\":[0.4],},\n",
    "            cv=5, scoring='r2', verbose=0, n_jobs=-1)\n",
    "\n",
    "grid_result3 = gsc3.fit(X_train, y_train)"
   ]
  },
  {
   "cell_type": "code",
   "execution_count": 21,
   "metadata": {
    "colab": {
     "base_uri": "https://localhost:8080/"
    },
    "id": "VQ3R2joHGZKr",
    "outputId": "8b0e64f9-0410-4be7-90c2-75803f60ef31"
   },
   "outputs": [
    {
     "name": "stdout",
     "output_type": "stream",
     "text": [
      "0.9903187624290571 0.8253618181314967\n"
     ]
    }
   ],
   "source": [
    "print( grid_result3.score(X_train,y_train), grid_result3.score(X_test, y_test))\n",
    "results = (grid_result3.score(X_train,y_train), grid_result3.score(X_test, y_test))\n",
    "r2.append(results)"
   ]
  },
  {
   "cell_type": "code",
   "execution_count": 22,
   "metadata": {
    "id": "_o7H1gPZ08_3"
   },
   "outputs": [],
   "source": [
    "gsc3_1 = GridSearchCV(\n",
    "            estimator=xgb.XGBRegressor(),\n",
    "            param_grid={\"n_estimators\": [100],\n",
    "                        \"learning_rate\": [0.15],\n",
    "                        \"max_depth\": [100],\n",
    "                        \"min_child_weight\": [1],\n",
    "                        \"gamma\":[ 0.0],\n",
    "                        \"colsample_bytree\":[0.4],},\n",
    "            cv=5, scoring='neg_root_mean_squared_error', verbose=0, n_jobs=-1)\n",
    "\n",
    "grid_result3_1 = gsc3_1.fit(X_train, y_train)"
   ]
  },
  {
   "cell_type": "code",
   "execution_count": 23,
   "metadata": {
    "colab": {
     "base_uri": "https://localhost:8080/"
    },
    "id": "TK5oLDY31Hws",
    "outputId": "c05edef9-1b26-4f19-b2e5-3eab1465db09"
   },
   "outputs": [
    {
     "name": "stdout",
     "output_type": "stream",
     "text": [
      "-1303.3461439260245 -5595.840612606942\n"
     ]
    }
   ],
   "source": [
    "print( grid_result3_1.score(X_train,y_train), grid_result3_1.score(X_test, y_test))\n",
    "results = (grid_result3_1.score(X_train,y_train), grid_result3_1.score(X_test, y_test))\n",
    "rmse.append(results)"
   ]
  },
  {
   "cell_type": "code",
   "execution_count": 24,
   "metadata": {
    "id": "1pC9DvTYGZKs"
   },
   "outputs": [],
   "source": [
    "#grid_result3.best_params_"
   ]
  },
  {
   "cell_type": "code",
   "execution_count": 25,
   "metadata": {
    "id": "KiHYz3303dXT"
   },
   "outputs": [],
   "source": [
    "#grid_result3_1.best_params_"
   ]
  },
  {
   "cell_type": "markdown",
   "metadata": {
    "id": "AE8QXNufI4eT"
   },
   "source": [
    "**TRAIN I TEST ALEATORI (SENSE ALTITUD, SUPERFICIE, NI PRODUCCIÓ CLAR)**"
   ]
  },
  {
   "cell_type": "code",
   "execution_count": 26,
   "metadata": {
    "id": "POtLzaybI4eU"
   },
   "outputs": [],
   "source": [
    "X = df.drop(columns = ['PRODUCCION', 'ALTITUD', 'SUPERFICIE'])\n",
    "y = df['PRODUCCION']"
   ]
  },
  {
   "cell_type": "code",
   "execution_count": 27,
   "metadata": {
    "id": "vR__ex9II4eU"
   },
   "outputs": [],
   "source": [
    "from sklearn.model_selection import train_test_split\n",
    "\n",
    "X_train, X_test, y_train, y_test= train_test_split(X, y,\n",
    "                                                   test_size= 0.15,\n",
    "                                                   shuffle= True, #shuffle the data to avoid bias\n",
    "                                                   random_state= 0)"
   ]
  },
  {
   "cell_type": "code",
   "execution_count": 28,
   "metadata": {
    "id": "OHVLiPuuI4eU"
   },
   "outputs": [],
   "source": [
    "gsc4 = GridSearchCV(\n",
    "            estimator=xgb.XGBRegressor(),\n",
    "            param_grid={\"n_estimators\": [100],\n",
    "                        \"learning_rate\": [0.15],\n",
    "                        \"max_depth\": [20],\n",
    "                        \"min_child_weight\": [1],\n",
    "                        \"gamma\":[ 0.0],\n",
    "                        \"colsample_bytree\":[0.4],},\n",
    "            cv=5, scoring='r2', verbose=0, n_jobs=-1)\n",
    "\n",
    "grid_result4 = gsc4.fit(X_train, y_train)"
   ]
  },
  {
   "cell_type": "code",
   "execution_count": 29,
   "metadata": {
    "colab": {
     "base_uri": "https://localhost:8080/"
    },
    "id": "ZAVrjMvhI4eU",
    "outputId": "454d9514-de82-4239-9fcc-b3c2fa56b32f"
   },
   "outputs": [
    {
     "name": "stdout",
     "output_type": "stream",
     "text": [
      "0.9743104800597309 0.7657780012920226\n"
     ]
    }
   ],
   "source": [
    "print( grid_result4.score(X_train,y_train), grid_result4.score(X_test, y_test))\n",
    "results = (grid_result4.score(X_train,y_train), grid_result4.score(X_test, y_test))\n",
    "r2.append(results)"
   ]
  },
  {
   "cell_type": "code",
   "execution_count": 30,
   "metadata": {
    "id": "f-DLBFSe1pf2"
   },
   "outputs": [],
   "source": [
    "gsc4_1 = GridSearchCV(\n",
    "            estimator=xgb.XGBRegressor(),\n",
    "            param_grid={\"n_estimators\": [100],\n",
    "                        \"learning_rate\": [0.15],\n",
    "                        \"max_depth\": [20],\n",
    "                        \"min_child_weight\": [1],\n",
    "                        \"gamma\":[ 0.0],\n",
    "                        \"colsample_bytree\":[0.4],},\n",
    "            cv=5, scoring='neg_root_mean_squared_error', verbose=0, n_jobs=-1)\n",
    "\n",
    "grid_result4_1 = gsc4_1.fit(X_train, y_train)"
   ]
  },
  {
   "cell_type": "code",
   "execution_count": 31,
   "metadata": {
    "colab": {
     "base_uri": "https://localhost:8080/"
    },
    "id": "OYmhUcCo1mno",
    "outputId": "dbaffded-1f46-4f43-d51e-a7d3d41e0377"
   },
   "outputs": [
    {
     "name": "stdout",
     "output_type": "stream",
     "text": [
      "-2123.109174125441 -6480.515841173995\n"
     ]
    }
   ],
   "source": [
    "print( grid_result4_1.score(X_train,y_train), grid_result4_1.score(X_test, y_test))\n",
    "results = (grid_result4_1.score(X_train,y_train), grid_result4_1.score(X_test, y_test))\n",
    "rmse.append(results)"
   ]
  },
  {
   "cell_type": "code",
   "execution_count": 32,
   "metadata": {
    "id": "ksyIjuzrI4eU"
   },
   "outputs": [],
   "source": [
    "#grid_result4.best_params_"
   ]
  },
  {
   "cell_type": "markdown",
   "metadata": {
    "id": "Fe4cDo1QKZss"
   },
   "source": [
    "**TRAIN PRE 2021 I TEST 2021 (SENSE ALTITUD, CAMPAÑA, NI PRODUCCIÓ CLAR)**"
   ]
  },
  {
   "cell_type": "code",
   "execution_count": 33,
   "metadata": {
    "id": "YHxYebFGK57K"
   },
   "outputs": [],
   "source": [
    "X_train = df[df['CAMPAÑA'] != 21].drop(columns = ['PRODUCCION', 'ALTITUD', 'CAMPAÑA'])\n",
    "y_train = df[df['CAMPAÑA'] != 21]['PRODUCCION']"
   ]
  },
  {
   "cell_type": "code",
   "execution_count": 34,
   "metadata": {
    "id": "3ehjK-_CK57L"
   },
   "outputs": [],
   "source": [
    "X_test = df[df['CAMPAÑA'] == 21].drop(columns = ['PRODUCCION', 'ALTITUD', 'CAMPAÑA'])\n",
    "y_test = df[df['CAMPAÑA'] == 21]['PRODUCCION']"
   ]
  },
  {
   "cell_type": "code",
   "execution_count": 35,
   "metadata": {
    "id": "V-ilWhsWK57L"
   },
   "outputs": [],
   "source": [
    "gsc5 = GridSearchCV(\n",
    "            estimator=xgb.XGBRegressor(),\n",
    "            param_grid={\"n_estimators\": [ 300],\n",
    "                        \"learning_rate\": [0.15],\n",
    "                        \"max_depth\": [40],\n",
    "                        \"min_child_weight\": [1],\n",
    "                        \"gamma\":[ 0.0],\n",
    "                        \"colsample_bytree\":[0.4],},\n",
    "            cv=5, scoring='r2', verbose=0, n_jobs=-1)\n",
    "\n",
    "grid_result5 = gsc5.fit(X_train, y_train)"
   ]
  },
  {
   "cell_type": "code",
   "execution_count": 36,
   "metadata": {
    "colab": {
     "base_uri": "https://localhost:8080/"
    },
    "id": "l0Nc6alwK57L",
    "outputId": "1de5aef1-db29-4f0d-da1d-02adc5e8e8ef"
   },
   "outputs": [
    {
     "name": "stdout",
     "output_type": "stream",
     "text": [
      "0.9992726156128926 0.7769533794143471\n"
     ]
    }
   ],
   "source": [
    "print( grid_result5.score(X_train,y_train), grid_result5.score(X_test, y_test))\n",
    "results = (grid_result5.score(X_train,y_train), grid_result5.score(X_test, y_test))\n",
    "r2.append(results)"
   ]
  },
  {
   "cell_type": "code",
   "execution_count": 37,
   "metadata": {
    "id": "x5tL8oh83H9Q"
   },
   "outputs": [],
   "source": [
    "gsc5_1 = GridSearchCV(\n",
    "            estimator=xgb.XGBRegressor(),\n",
    "            param_grid={\"n_estimators\": [ 300],\n",
    "                        \"learning_rate\": [0.15],\n",
    "                        \"max_depth\": [40],\n",
    "                        \"min_child_weight\": [1],\n",
    "                        \"gamma\":[ 0.0],\n",
    "                        \"colsample_bytree\":[0.4],},\n",
    "            cv=5, scoring='neg_root_mean_squared_error', verbose=0, n_jobs=-1)\n",
    "\n",
    "grid_result5_1 = gsc5_1.fit(X_train, y_train)"
   ]
  },
  {
   "cell_type": "code",
   "execution_count": 38,
   "metadata": {
    "colab": {
     "base_uri": "https://localhost:8080/"
    },
    "id": "AEPKRGGp3Eda",
    "outputId": "bb5c0b42-e6d7-4cb4-89cd-871a3b30583a"
   },
   "outputs": [
    {
     "name": "stdout",
     "output_type": "stream",
     "text": [
      "-356.31794649555417 -6442.720832617403\n"
     ]
    }
   ],
   "source": [
    "print( grid_result5_1.score(X_train,y_train), grid_result5_1.score(X_test, y_test))\n",
    "results = (grid_result5_1.score(X_train,y_train), grid_result5_1.score(X_test, y_test))\n",
    "rmse.append(results)"
   ]
  },
  {
   "cell_type": "code",
   "execution_count": 39,
   "metadata": {
    "id": "UJzbQ5nKK57L"
   },
   "outputs": [],
   "source": [
    "#grid_result5.best_params_"
   ]
  },
  {
   "cell_type": "markdown",
   "metadata": {
    "id": "FsoidNU9Pi-I"
   },
   "source": [
    "**TRAIN PRE 2021 I TEST 2021 (SENSE ALTITUD, ESTACIÓ, NI PRODUCCIÓ CLAR)**"
   ]
  },
  {
   "cell_type": "code",
   "execution_count": 40,
   "metadata": {
    "id": "TBCj7harNUgi"
   },
   "outputs": [],
   "source": [
    "X_train = df[df['CAMPAÑA'] != 21].drop(columns = ['PRODUCCION', 'ALTITUD', 'ID_ESTACION'])\n",
    "y_train = df[df['CAMPAÑA'] != 21]['PRODUCCION']"
   ]
  },
  {
   "cell_type": "code",
   "execution_count": 41,
   "metadata": {
    "id": "AZfroQnJNUgi"
   },
   "outputs": [],
   "source": [
    "X_test = df[df['CAMPAÑA'] == 21].drop(columns = ['PRODUCCION', 'ALTITUD', 'ID_ESTACION'])\n",
    "y_test = df[df['CAMPAÑA'] == 21]['PRODUCCION']"
   ]
  },
  {
   "cell_type": "code",
   "execution_count": 42,
   "metadata": {
    "id": "7ObPqmOzNUgj"
   },
   "outputs": [],
   "source": [
    "gsc6 = GridSearchCV(\n",
    "            estimator=xgb.XGBRegressor(),\n",
    "            param_grid={\"n_estimators\": [300],\n",
    "                        \"learning_rate\": [0.15],\n",
    "                        \"max_depth\": [40],\n",
    "                        \"min_child_weight\": [1],\n",
    "                        \"gamma\":[ 0.0],\n",
    "                        \"colsample_bytree\":[0.4],},\n",
    "            cv=5, scoring='r2', verbose=0, n_jobs=-1)\n",
    "\n",
    "grid_result6 = gsc6.fit(X_train, y_train)"
   ]
  },
  {
   "cell_type": "code",
   "execution_count": 43,
   "metadata": {
    "colab": {
     "base_uri": "https://localhost:8080/"
    },
    "id": "4NK26Qf6NUgj",
    "outputId": "3b0b91a8-ec91-4842-efc1-73f3315c5191"
   },
   "outputs": [
    {
     "name": "stdout",
     "output_type": "stream",
     "text": [
      "0.999999699878823 0.7717865752773425\n"
     ]
    }
   ],
   "source": [
    "print( grid_result6.score(X_train,y_train), grid_result6.score(X_test, y_test))\n",
    "results = (grid_result6.score(X_train,y_train), grid_result6.score(X_test, y_test))\n",
    "r2.append(results)"
   ]
  },
  {
   "cell_type": "code",
   "execution_count": 44,
   "metadata": {
    "id": "7MVVk8S83xkc"
   },
   "outputs": [],
   "source": [
    "gsc6_1 = GridSearchCV(\n",
    "            estimator=xgb.XGBRegressor(),\n",
    "            param_grid={\"n_estimators\": [300],\n",
    "                        \"learning_rate\": [0.15],\n",
    "                        \"max_depth\": [40],\n",
    "                        \"min_child_weight\": [1],\n",
    "                        \"gamma\":[ 0.0],\n",
    "                        \"colsample_bytree\":[0.4],},\n",
    "            cv=5, scoring='neg_root_mean_squared_error', verbose=0, n_jobs=-1)\n",
    "\n",
    "grid_result6_1 = gsc6_1.fit(X_train, y_train)"
   ]
  },
  {
   "cell_type": "code",
   "execution_count": 45,
   "metadata": {
    "colab": {
     "base_uri": "https://localhost:8080/"
    },
    "id": "9s97oiU93uvF",
    "outputId": "6b8485d1-8f34-4a9c-a15d-82b9b7014569"
   },
   "outputs": [
    {
     "name": "stdout",
     "output_type": "stream",
     "text": [
      "-7.237757529993546 -6516.915410157708\n"
     ]
    }
   ],
   "source": [
    "print( grid_result6_1.score(X_train,y_train), grid_result6_1.score(X_test, y_test))\n",
    "results = (grid_result6_1.score(X_train,y_train), grid_result6_1.score(X_test, y_test))\n",
    "rmse.append(results)"
   ]
  },
  {
   "cell_type": "code",
   "execution_count": 46,
   "metadata": {
    "id": "Odru1yhPNUgj"
   },
   "outputs": [],
   "source": [
    "#grid_result6.best_params_"
   ]
  },
  {
   "cell_type": "markdown",
   "metadata": {
    "id": "I2uhnz9OqQQF"
   },
   "source": [
    "**TRAIN PRE 2021 I TEST 2021 (SENSE ALTITUD, SUPERFICIE, NI PRODUCCIÓ CLAR)**"
   ]
  },
  {
   "cell_type": "code",
   "execution_count": 47,
   "metadata": {
    "id": "LQ-Mf8SVqQQF"
   },
   "outputs": [],
   "source": [
    "X_train = df[df['CAMPAÑA'] != 21].drop(columns = ['PRODUCCION', 'ALTITUD', 'SUPERFICIE'])\n",
    "y_train = df[df['CAMPAÑA'] != 21]['PRODUCCION']"
   ]
  },
  {
   "cell_type": "code",
   "execution_count": 48,
   "metadata": {
    "id": "0oklXAODqQQF"
   },
   "outputs": [],
   "source": [
    "X_test = df[df['CAMPAÑA'] == 21].drop(columns = ['PRODUCCION', 'ALTITUD', 'SUPERFICIE'])\n",
    "y_test = df[df['CAMPAÑA'] == 21]['PRODUCCION']"
   ]
  },
  {
   "cell_type": "code",
   "execution_count": 49,
   "metadata": {
    "id": "BzsamnyDqQQG"
   },
   "outputs": [],
   "source": [
    "gsc7 = GridSearchCV(\n",
    "            estimator=xgb.XGBRegressor(),\n",
    "            param_grid={\"n_estimators\": [100],\n",
    "                        \"learning_rate\": [0.15],\n",
    "                        \"max_depth\": [60],\n",
    "                        \"min_child_weight\": [1],\n",
    "                        \"gamma\":[ 0.0],\n",
    "                        \"colsample_bytree\":[0.4],},\n",
    "            cv=5, scoring='r2', verbose=0, n_jobs=-1)\n",
    "\n",
    "grid_result7 = gsc7.fit(X_train, y_train)"
   ]
  },
  {
   "cell_type": "code",
   "execution_count": 50,
   "metadata": {
    "colab": {
     "base_uri": "https://localhost:8080/"
    },
    "id": "oCCCFjp6qQQG",
    "outputId": "732ab471-087c-4f38-e3dd-60cb18a14a65"
   },
   "outputs": [
    {
     "name": "stdout",
     "output_type": "stream",
     "text": [
      "0.9721059456678479 0.7795763774538554\n"
     ]
    }
   ],
   "source": [
    "print( grid_result7.score(X_train,y_train), grid_result7.score(X_test, y_test))\n",
    "results = (grid_result7.score(X_train,y_train), grid_result7.score(X_test, y_test))\n",
    "r2.append(results)"
   ]
  },
  {
   "cell_type": "code",
   "execution_count": 51,
   "metadata": {
    "id": "L_pZYfNk4YRS"
   },
   "outputs": [],
   "source": [
    "gsc7_1 = GridSearchCV(\n",
    "            estimator=xgb.XGBRegressor(),\n",
    "            param_grid={\"n_estimators\": [100],\n",
    "                        \"learning_rate\": [0.15],\n",
    "                        \"max_depth\": [60],\n",
    "                        \"min_child_weight\": [1],\n",
    "                        \"gamma\":[ 0.0],\n",
    "                        \"colsample_bytree\":[0.4],},\n",
    "            cv=5, scoring='neg_root_mean_squared_error', verbose=0, n_jobs=-1)\n",
    "\n",
    "grid_result7_1 = gsc7_1.fit(X_train, y_train)"
   ]
  },
  {
   "cell_type": "code",
   "execution_count": 52,
   "metadata": {
    "colab": {
     "base_uri": "https://localhost:8080/"
    },
    "id": "dMjBu75z4YRS",
    "outputId": "7043ee4d-184e-4aa7-b415-28a8eeb75fbb"
   },
   "outputs": [
    {
     "name": "stdout",
     "output_type": "stream",
     "text": [
      "-2206.5386072009433 -6404.726036792351\n"
     ]
    }
   ],
   "source": [
    "print( grid_result7_1.score(X_train,y_train), grid_result7_1.score(X_test, y_test))\n",
    "results = (grid_result7_1.score(X_train,y_train), grid_result7_1.score(X_test, y_test))\n",
    "rmse.append(results)"
   ]
  },
  {
   "cell_type": "code",
   "execution_count": 53,
   "metadata": {
    "id": "My_n9tcjqQQG"
   },
   "outputs": [],
   "source": [
    "#grid_result7.best_params_"
   ]
  },
  {
   "cell_type": "markdown",
   "metadata": {
    "id": "bdtHbQETslwx"
   },
   "source": [
    "**TRAIN 14-19+21 I TEST 2020 (SENSE ALTITUD, SUPERFICIE, NI PRODUCCIÓ CLAR)**"
   ]
  },
  {
   "cell_type": "code",
   "execution_count": 54,
   "metadata": {
    "id": "_EqOxXQAslwx"
   },
   "outputs": [],
   "source": [
    "X_train = df[df['CAMPAÑA'] != 20].drop(columns = ['PRODUCCION', 'ALTITUD', 'SUPERFICIE'])\n",
    "y_train = df[df['CAMPAÑA'] != 20]['PRODUCCION']"
   ]
  },
  {
   "cell_type": "code",
   "execution_count": 55,
   "metadata": {
    "id": "iB8z-OT-slwy"
   },
   "outputs": [],
   "source": [
    "X_test = df[df['CAMPAÑA'] == 20].drop(columns = ['PRODUCCION', 'ALTITUD', 'SUPERFICIE'])\n",
    "y_test = df[df['CAMPAÑA'] == 20]['PRODUCCION']"
   ]
  },
  {
   "cell_type": "code",
   "execution_count": 56,
   "metadata": {
    "id": "5___sQ24slwy"
   },
   "outputs": [],
   "source": [
    "gsc8 = GridSearchCV(\n",
    "            estimator=xgb.XGBRegressor(),\n",
    "            param_grid={\"n_estimators\": [100],\n",
    "                        \"learning_rate\": [0.15],\n",
    "                        \"max_depth\": [20],\n",
    "                        \"min_child_weight\": [1],\n",
    "                        \"gamma\":[ 0.0],\n",
    "                        \"colsample_bytree\":[0.4],},\n",
    "            cv=5, scoring='r2', verbose=0, n_jobs=-1)\n",
    "\n",
    "grid_result8 = gsc8.fit(X_train, y_train)"
   ]
  },
  {
   "cell_type": "code",
   "execution_count": 57,
   "metadata": {
    "colab": {
     "base_uri": "https://localhost:8080/"
    },
    "id": "SbmMhB1Eslwy",
    "outputId": "baed0376-7391-4701-a02d-c32d87ddc3db"
   },
   "outputs": [
    {
     "name": "stdout",
     "output_type": "stream",
     "text": [
      "0.9726474615267175 0.7752420512855773\n"
     ]
    }
   ],
   "source": [
    "print( grid_result8.score(X_train,y_train), grid_result8.score(X_test, y_test))\n",
    "results = (grid_result8.score(X_train,y_train), grid_result8.score(X_test, y_test))\n",
    "r2.append(results)"
   ]
  },
  {
   "cell_type": "code",
   "execution_count": 58,
   "metadata": {
    "id": "uTfhLZHI5NPn"
   },
   "outputs": [],
   "source": [
    "gsc8_1 = GridSearchCV(\n",
    "            estimator=xgb.XGBRegressor(),\n",
    "            param_grid={\"n_estimators\": [100],\n",
    "                        \"learning_rate\": [0.15],\n",
    "                        \"max_depth\": [20],\n",
    "                        \"min_child_weight\": [1],\n",
    "                        \"gamma\":[ 0.0],\n",
    "                        \"colsample_bytree\":[0.4],},\n",
    "            cv=5, scoring='neg_root_mean_squared_error', verbose=0, n_jobs=-1)\n",
    "\n",
    "grid_result8_1 = gsc8_1.fit(X_train, y_train)"
   ]
  },
  {
   "cell_type": "code",
   "execution_count": 59,
   "metadata": {
    "colab": {
     "base_uri": "https://localhost:8080/"
    },
    "id": "CYrUTGpy5Vz0",
    "outputId": "9028be1e-cecb-47f5-a73f-edfec9b0cf77"
   },
   "outputs": [
    {
     "name": "stdout",
     "output_type": "stream",
     "text": [
      "-2190.7390166606096 -6364.039637393608\n"
     ]
    }
   ],
   "source": [
    "print( grid_result8_1.score(X_train,y_train), grid_result8_1.score(X_test, y_test))\n",
    "results = (grid_result8_1.score(X_train,y_train), grid_result8_1.score(X_test, y_test))\n",
    "rmse.append(results)"
   ]
  },
  {
   "cell_type": "code",
   "execution_count": 60,
   "metadata": {
    "id": "1LDhjA3sslwy"
   },
   "outputs": [],
   "source": [
    "#grid_result8.best_params_"
   ]
  },
  {
   "cell_type": "markdown",
   "metadata": {
    "id": "3F3xdAJ-vxNT"
   },
   "source": [
    "**TRAIN 14-19+21 I TEST 2020 (SENSE ALTITUD, CAMPAÑA, NI PRODUCCIÓ CLAR)**"
   ]
  },
  {
   "cell_type": "code",
   "execution_count": 61,
   "metadata": {
    "id": "bvTVkEHBvxNT"
   },
   "outputs": [],
   "source": [
    "X_train = df[df['CAMPAÑA'] != 20].drop(columns = ['PRODUCCION', 'ALTITUD', 'CAMPAÑA'])\n",
    "y_train = df[df['CAMPAÑA'] != 20]['PRODUCCION']"
   ]
  },
  {
   "cell_type": "code",
   "execution_count": 62,
   "metadata": {
    "id": "mivaz25DvxNU"
   },
   "outputs": [],
   "source": [
    "X_test = df[df['CAMPAÑA'] == 20].drop(columns = ['PRODUCCION', 'ALTITUD', 'CAMPAÑA'])\n",
    "y_test = df[df['CAMPAÑA'] == 20]['PRODUCCION']"
   ]
  },
  {
   "cell_type": "code",
   "execution_count": 63,
   "metadata": {
    "id": "GnCiLEZXvxNU"
   },
   "outputs": [],
   "source": [
    "gsc9 = GridSearchCV(\n",
    "            estimator=xgb.XGBRegressor(),\n",
    "            param_grid={\"n_estimators\": [300],\n",
    "                        \"learning_rate\": [0.15],\n",
    "                        \"max_depth\": [20],\n",
    "                        \"min_child_weight\": [1],\n",
    "                        \"gamma\":[ 0.0],\n",
    "                        \"colsample_bytree\":[0.4],},\n",
    "            cv=5, scoring='r2', verbose=0, n_jobs=-1)\n",
    "\n",
    "grid_result9 = gsc9.fit(X_train, y_train)"
   ]
  },
  {
   "cell_type": "code",
   "execution_count": 64,
   "metadata": {
    "colab": {
     "base_uri": "https://localhost:8080/"
    },
    "id": "ArE7axVvvxNU",
    "outputId": "fa2799d0-7f9f-4894-f851-4cbbda0022d0"
   },
   "outputs": [
    {
     "name": "stdout",
     "output_type": "stream",
     "text": [
      "0.9992600655510594 0.7535613992274898\n"
     ]
    }
   ],
   "source": [
    "print( grid_result9.score(X_train,y_train), grid_result9.score(X_test, y_test))\n",
    "results = (grid_result9.score(X_train,y_train), grid_result9.score(X_test, y_test))\n",
    "r2.append(results)"
   ]
  },
  {
   "cell_type": "code",
   "execution_count": 65,
   "metadata": {
    "id": "tbmm64q35r97"
   },
   "outputs": [],
   "source": [
    "gsc9_1 = GridSearchCV(\n",
    "            estimator=xgb.XGBRegressor(),\n",
    "            param_grid={\"n_estimators\": [300],\n",
    "                        \"learning_rate\": [0.15],\n",
    "                        \"max_depth\": [20],\n",
    "                        \"min_child_weight\": [1],\n",
    "                        \"gamma\":[ 0.0],\n",
    "                        \"colsample_bytree\":[0.4],},\n",
    "            cv=5, scoring='neg_root_mean_squared_error', verbose=0, n_jobs=-1)\n",
    "\n",
    "grid_result9_1 = gsc9_1.fit(X_train, y_train)"
   ]
  },
  {
   "cell_type": "code",
   "execution_count": 66,
   "metadata": {
    "colab": {
     "base_uri": "https://localhost:8080/"
    },
    "id": "98R7GMwB5r98",
    "outputId": "e0b1a7ec-1a32-4da6-b028-24b4786cf72f"
   },
   "outputs": [
    {
     "name": "stdout",
     "output_type": "stream",
     "text": [
      "-360.32006551523733 -6663.9190550972535\n"
     ]
    }
   ],
   "source": [
    "print( grid_result9_1.score(X_train,y_train), grid_result9_1.score(X_test, y_test))\n",
    "results = (grid_result9_1.score(X_train,y_train), grid_result9_1.score(X_test, y_test))\n",
    "rmse.append(results)"
   ]
  },
  {
   "cell_type": "code",
   "execution_count": 67,
   "metadata": {
    "id": "EgL60SmLvxNU"
   },
   "outputs": [],
   "source": [
    "#grid_result9.best_params_"
   ]
  },
  {
   "cell_type": "markdown",
   "metadata": {
    "id": "-gx4MmdfxsLV"
   },
   "source": [
    "**TRAIN 14-20 I TEST 2021 (SENSE ALTITUD, ZONA, NI PRODUCCIÓ CLAR)**"
   ]
  },
  {
   "cell_type": "code",
   "execution_count": 68,
   "metadata": {
    "id": "TIp-G-qTxsLV"
   },
   "outputs": [],
   "source": [
    "X_train = df[df['CAMPAÑA'] != 21].drop(columns = ['PRODUCCION', 'ALTITUD', 'ID_ZONA'])\n",
    "y_train = df[df['CAMPAÑA'] != 21]['PRODUCCION']"
   ]
  },
  {
   "cell_type": "code",
   "execution_count": 69,
   "metadata": {
    "id": "p7MlNg9ixsLW"
   },
   "outputs": [],
   "source": [
    "X_test = df[df['CAMPAÑA'] == 21].drop(columns = ['PRODUCCION', 'ALTITUD', 'ID_ZONA'])\n",
    "y_test = df[df['CAMPAÑA'] == 21]['PRODUCCION']"
   ]
  },
  {
   "cell_type": "code",
   "execution_count": 70,
   "metadata": {
    "id": "XhCI0vMQxsLW"
   },
   "outputs": [],
   "source": [
    "gsc10 = GridSearchCV(\n",
    "            estimator=xgb.XGBRegressor(),\n",
    "            param_grid={\"n_estimators\": [300],\n",
    "                        \"learning_rate\": [0.15],\n",
    "                        \"max_depth\": [40],\n",
    "                        \"min_child_weight\": [1],\n",
    "                        \"gamma\":[ 0.0],\n",
    "                        \"colsample_bytree\":[0.4],},\n",
    "            cv=5, scoring='r2', verbose=0, n_jobs=-1)\n",
    "\n",
    "grid_result10 = gsc10.fit(X_train, y_train)"
   ]
  },
  {
   "cell_type": "code",
   "execution_count": 71,
   "metadata": {
    "colab": {
     "base_uri": "https://localhost:8080/"
    },
    "id": "AWnE2gxdxsLW",
    "outputId": "ed16b059-39c0-4aa0-b17f-199b2786146b"
   },
   "outputs": [
    {
     "name": "stdout",
     "output_type": "stream",
     "text": [
      "0.9999996595348577 0.771843970356952\n"
     ]
    }
   ],
   "source": [
    "print( grid_result10.score(X_train,y_train), grid_result10.score(X_test, y_test))\n",
    "results = (grid_result10.score(X_train,y_train), grid_result10.score(X_test, y_test))\n",
    "r2.append(results)"
   ]
  },
  {
   "cell_type": "code",
   "execution_count": 72,
   "metadata": {
    "id": "VgTmuKW56MGr"
   },
   "outputs": [],
   "source": [
    "gsc10_1 = GridSearchCV(\n",
    "            estimator=xgb.XGBRegressor(),\n",
    "            param_grid={\"n_estimators\": [300],\n",
    "                        \"learning_rate\": [0.15, 0.2],\n",
    "                        \"max_depth\": [20],\n",
    "                        \"min_child_weight\": [1],\n",
    "                        \"gamma\":[ 0.0],\n",
    "                        \"colsample_bytree\":[0.4],},\n",
    "            cv=5, scoring='neg_root_mean_squared_error', verbose=0, n_jobs=-1)\n",
    "\n",
    "grid_result10_1 = gsc10_1.fit(X_train, y_train)"
   ]
  },
  {
   "cell_type": "code",
   "execution_count": 73,
   "metadata": {
    "colab": {
     "base_uri": "https://localhost:8080/"
    },
    "id": "u1JihI4W6MGr",
    "outputId": "4fe93587-666d-4051-8ad1-0271fadd0b9b"
   },
   "outputs": [
    {
     "name": "stdout",
     "output_type": "stream",
     "text": [
      "-12.178884170999162 -6493.3579260255465\n"
     ]
    }
   ],
   "source": [
    "print( grid_result10_1.score(X_train,y_train), grid_result10_1.score(X_test, y_test))\n",
    "results = (grid_result10_1.score(X_train,y_train), grid_result10_1.score(X_test, y_test))\n",
    "rmse.append(results)"
   ]
  },
  {
   "cell_type": "code",
   "execution_count": 74,
   "metadata": {
    "id": "RHViFRROxsLW"
   },
   "outputs": [],
   "source": [
    "#grid_result10.best_params_"
   ]
  },
  {
   "cell_type": "markdown",
   "metadata": {
    "id": "87pin0kvqRgC"
   },
   "source": [
    "**RESULTATS**"
   ]
  },
  {
   "cell_type": "code",
   "execution_count": 75,
   "metadata": {
    "id": "Ue_tlzFXNUgj"
   },
   "outputs": [],
   "source": [
    "cols = ['train test aleatori', 'train test 14-20/21', 'train test aleatori + no campanya', 'train test aleatori + no superficie', 'train test 14-20/21 + no campanya', 'train test 14-20/21 + no estació', 'train test 14-20/21 + no superficie', 'train test 14-19+21/20 + no superficie', 'train test 14-19+21/20 + no campaña', 'train test 19-20/21 no zona']\n",
    "\n",
    "results = pd.DataFrame([r2,rmse], columns = cols).transpose()\n",
    "results['r2'] = results[0]\n",
    "results['rmse'] = results[1]\n",
    "results.drop(columns=[0,1], inplace=True)\n"
   ]
  },
  {
   "cell_type": "code",
   "execution_count": 76,
   "metadata": {
    "colab": {
     "base_uri": "https://localhost:8080/",
     "height": 363
    },
    "id": "hbyobBEGo9Ww",
    "outputId": "52342b7e-78a0-415c-de1f-403299e2fb3e"
   },
   "outputs": [
    {
     "data": {
      "text/html": [
       "\n",
       "  <div id=\"df-f6f401a8-2a1d-4270-99bc-46b55c42c51b\">\n",
       "    <div class=\"colab-df-container\">\n",
       "      <div>\n",
       "<style scoped>\n",
       "    .dataframe tbody tr th:only-of-type {\n",
       "        vertical-align: middle;\n",
       "    }\n",
       "\n",
       "    .dataframe tbody tr th {\n",
       "        vertical-align: top;\n",
       "    }\n",
       "\n",
       "    .dataframe thead th {\n",
       "        text-align: right;\n",
       "    }\n",
       "</style>\n",
       "<table border=\"1\" class=\"dataframe\">\n",
       "  <thead>\n",
       "    <tr style=\"text-align: right;\">\n",
       "      <th></th>\n",
       "      <th>r2</th>\n",
       "      <th>rmse</th>\n",
       "    </tr>\n",
       "  </thead>\n",
       "  <tbody>\n",
       "    <tr>\n",
       "      <th>train test aleatori</th>\n",
       "      <td>(0.9999992561341488, 0.8178248625881704)</td>\n",
       "      <td>(-11.42461684042509, -5715.316533858098)</td>\n",
       "    </tr>\n",
       "    <tr>\n",
       "      <th>train test 14-20/21</th>\n",
       "      <td>(0.9999985998053591, 0.785189512327019)</td>\n",
       "      <td>(-15.633273106167826, -6322.651292719792)</td>\n",
       "    </tr>\n",
       "    <tr>\n",
       "      <th>train test aleatori + no campanya</th>\n",
       "      <td>(0.9903187624290571, 0.8253618181314967)</td>\n",
       "      <td>(-1303.3461439260245, -5595.840612606942)</td>\n",
       "    </tr>\n",
       "    <tr>\n",
       "      <th>train test aleatori + no superficie</th>\n",
       "      <td>(0.9743104800597309, 0.7657780012920226)</td>\n",
       "      <td>(-2123.109174125441, -6480.515841173995)</td>\n",
       "    </tr>\n",
       "    <tr>\n",
       "      <th>train test 14-20/21 + no campanya</th>\n",
       "      <td>(0.9992726156128926, 0.7769533794143471)</td>\n",
       "      <td>(-356.31794649555417, -6442.720832617403)</td>\n",
       "    </tr>\n",
       "    <tr>\n",
       "      <th>train test 14-20/21 + no estació</th>\n",
       "      <td>(0.999999699878823, 0.7717865752773425)</td>\n",
       "      <td>(-7.237757529993546, -6516.915410157708)</td>\n",
       "    </tr>\n",
       "    <tr>\n",
       "      <th>train test 14-20/21 + no superficie</th>\n",
       "      <td>(0.9721059456678479, 0.7795763774538554)</td>\n",
       "      <td>(-2206.5386072009433, -6404.726036792351)</td>\n",
       "    </tr>\n",
       "    <tr>\n",
       "      <th>train test 14-19+21/20 + no superficie</th>\n",
       "      <td>(0.9726474615267175, 0.7752420512855773)</td>\n",
       "      <td>(-2190.7390166606096, -6364.039637393608)</td>\n",
       "    </tr>\n",
       "    <tr>\n",
       "      <th>train test 14-19+21/20 + no campaña</th>\n",
       "      <td>(0.9992600655510594, 0.7535613992274898)</td>\n",
       "      <td>(-360.32006551523733, -6663.9190550972535)</td>\n",
       "    </tr>\n",
       "    <tr>\n",
       "      <th>train test 19-20/21 no zona</th>\n",
       "      <td>(0.9999996595348577, 0.771843970356952)</td>\n",
       "      <td>(-12.178884170999162, -6493.3579260255465)</td>\n",
       "    </tr>\n",
       "  </tbody>\n",
       "</table>\n",
       "</div>\n",
       "      <button class=\"colab-df-convert\" onclick=\"convertToInteractive('df-f6f401a8-2a1d-4270-99bc-46b55c42c51b')\"\n",
       "              title=\"Convert this dataframe to an interactive table.\"\n",
       "              style=\"display:none;\">\n",
       "        \n",
       "  <svg xmlns=\"http://www.w3.org/2000/svg\" height=\"24px\"viewBox=\"0 0 24 24\"\n",
       "       width=\"24px\">\n",
       "    <path d=\"M0 0h24v24H0V0z\" fill=\"none\"/>\n",
       "    <path d=\"M18.56 5.44l.94 2.06.94-2.06 2.06-.94-2.06-.94-.94-2.06-.94 2.06-2.06.94zm-11 1L8.5 8.5l.94-2.06 2.06-.94-2.06-.94L8.5 2.5l-.94 2.06-2.06.94zm10 10l.94 2.06.94-2.06 2.06-.94-2.06-.94-.94-2.06-.94 2.06-2.06.94z\"/><path d=\"M17.41 7.96l-1.37-1.37c-.4-.4-.92-.59-1.43-.59-.52 0-1.04.2-1.43.59L10.3 9.45l-7.72 7.72c-.78.78-.78 2.05 0 2.83L4 21.41c.39.39.9.59 1.41.59.51 0 1.02-.2 1.41-.59l7.78-7.78 2.81-2.81c.8-.78.8-2.07 0-2.86zM5.41 20L4 18.59l7.72-7.72 1.47 1.35L5.41 20z\"/>\n",
       "  </svg>\n",
       "      </button>\n",
       "      \n",
       "  <style>\n",
       "    .colab-df-container {\n",
       "      display:flex;\n",
       "      flex-wrap:wrap;\n",
       "      gap: 12px;\n",
       "    }\n",
       "\n",
       "    .colab-df-convert {\n",
       "      background-color: #E8F0FE;\n",
       "      border: none;\n",
       "      border-radius: 50%;\n",
       "      cursor: pointer;\n",
       "      display: none;\n",
       "      fill: #1967D2;\n",
       "      height: 32px;\n",
       "      padding: 0 0 0 0;\n",
       "      width: 32px;\n",
       "    }\n",
       "\n",
       "    .colab-df-convert:hover {\n",
       "      background-color: #E2EBFA;\n",
       "      box-shadow: 0px 1px 2px rgba(60, 64, 67, 0.3), 0px 1px 3px 1px rgba(60, 64, 67, 0.15);\n",
       "      fill: #174EA6;\n",
       "    }\n",
       "\n",
       "    [theme=dark] .colab-df-convert {\n",
       "      background-color: #3B4455;\n",
       "      fill: #D2E3FC;\n",
       "    }\n",
       "\n",
       "    [theme=dark] .colab-df-convert:hover {\n",
       "      background-color: #434B5C;\n",
       "      box-shadow: 0px 1px 3px 1px rgba(0, 0, 0, 0.15);\n",
       "      filter: drop-shadow(0px 1px 2px rgba(0, 0, 0, 0.3));\n",
       "      fill: #FFFFFF;\n",
       "    }\n",
       "  </style>\n",
       "\n",
       "      <script>\n",
       "        const buttonEl =\n",
       "          document.querySelector('#df-f6f401a8-2a1d-4270-99bc-46b55c42c51b button.colab-df-convert');\n",
       "        buttonEl.style.display =\n",
       "          google.colab.kernel.accessAllowed ? 'block' : 'none';\n",
       "\n",
       "        async function convertToInteractive(key) {\n",
       "          const element = document.querySelector('#df-f6f401a8-2a1d-4270-99bc-46b55c42c51b');\n",
       "          const dataTable =\n",
       "            await google.colab.kernel.invokeFunction('convertToInteractive',\n",
       "                                                     [key], {});\n",
       "          if (!dataTable) return;\n",
       "\n",
       "          const docLinkHtml = 'Like what you see? Visit the ' +\n",
       "            '<a target=\"_blank\" href=https://colab.research.google.com/notebooks/data_table.ipynb>data table notebook</a>'\n",
       "            + ' to learn more about interactive tables.';\n",
       "          element.innerHTML = '';\n",
       "          dataTable['output_type'] = 'display_data';\n",
       "          await google.colab.output.renderOutput(dataTable, element);\n",
       "          const docLink = document.createElement('div');\n",
       "          docLink.innerHTML = docLinkHtml;\n",
       "          element.appendChild(docLink);\n",
       "        }\n",
       "      </script>\n",
       "    </div>\n",
       "  </div>\n",
       "  "
      ],
      "text/plain": [
       "                                                                              r2  \\\n",
       "train test aleatori                     (0.9999992561341488, 0.8178248625881704)   \n",
       "train test 14-20/21                      (0.9999985998053591, 0.785189512327019)   \n",
       "train test aleatori + no campanya       (0.9903187624290571, 0.8253618181314967)   \n",
       "train test aleatori + no superficie     (0.9743104800597309, 0.7657780012920226)   \n",
       "train test 14-20/21 + no campanya       (0.9992726156128926, 0.7769533794143471)   \n",
       "train test 14-20/21 + no estació         (0.999999699878823, 0.7717865752773425)   \n",
       "train test 14-20/21 + no superficie     (0.9721059456678479, 0.7795763774538554)   \n",
       "train test 14-19+21/20 + no superficie  (0.9726474615267175, 0.7752420512855773)   \n",
       "train test 14-19+21/20 + no campaña     (0.9992600655510594, 0.7535613992274898)   \n",
       "train test 19-20/21 no zona              (0.9999996595348577, 0.771843970356952)   \n",
       "\n",
       "                                                                              rmse  \n",
       "train test aleatori                       (-11.42461684042509, -5715.316533858098)  \n",
       "train test 14-20/21                      (-15.633273106167826, -6322.651292719792)  \n",
       "train test aleatori + no campanya        (-1303.3461439260245, -5595.840612606942)  \n",
       "train test aleatori + no superficie       (-2123.109174125441, -6480.515841173995)  \n",
       "train test 14-20/21 + no campanya        (-356.31794649555417, -6442.720832617403)  \n",
       "train test 14-20/21 + no estació          (-7.237757529993546, -6516.915410157708)  \n",
       "train test 14-20/21 + no superficie      (-2206.5386072009433, -6404.726036792351)  \n",
       "train test 14-19+21/20 + no superficie   (-2190.7390166606096, -6364.039637393608)  \n",
       "train test 14-19+21/20 + no campaña     (-360.32006551523733, -6663.9190550972535)  \n",
       "train test 19-20/21 no zona             (-12.178884170999162, -6493.3579260255465)  "
      ]
     },
     "execution_count": 76,
     "metadata": {},
     "output_type": "execute_result"
    }
   ],
   "source": [
    "results"
   ]
  },
  {
   "cell_type": "markdown",
   "metadata": {
    "id": "p7P-zVu67IP2"
   },
   "source": [
    "\n",
    "\n",
    "*   Agafar dataset bo ✅\n",
    "*   Agafar dadaes meteorològiques\n",
    "\n"
   ]
  },
  {
   "cell_type": "markdown",
   "metadata": {
    "id": "x6cfsbBtQb_q"
   },
   "source": [
    "**XGBOOST TRAIN + DADES METEO**\n",
    "\n"
   ]
  },
  {
   "cell_type": "markdown",
   "metadata": {
    "id": "N9A_PfV3l-0x"
   },
   "source": [
    "+ Assignar a cada combinació diferent d'any i estació la suma de la producció d'aquell any i estació en el train. Encara q no crec q estigui del tot bé."
   ]
  },
  {
   "cell_type": "code",
   "execution_count": 9,
   "metadata": {
    "colab": {
     "base_uri": "https://localhost:8080/",
     "height": 488
    },
    "id": "ghySbE9STBW7",
    "outputId": "8e697e87-beaf-4ac6-aee7-3e67573d15e3"
   },
   "outputs": [
    {
     "data": {
      "text/html": [
       "\n",
       "  <div id=\"df-cf2108d2-088d-4839-8ece-407d54b38555\">\n",
       "    <div class=\"colab-df-container\">\n",
       "      <div>\n",
       "<style scoped>\n",
       "    .dataframe tbody tr th:only-of-type {\n",
       "        vertical-align: middle;\n",
       "    }\n",
       "\n",
       "    .dataframe tbody tr th {\n",
       "        vertical-align: top;\n",
       "    }\n",
       "\n",
       "    .dataframe thead th {\n",
       "        text-align: right;\n",
       "    }\n",
       "</style>\n",
       "<table border=\"1\" class=\"dataframe\">\n",
       "  <thead>\n",
       "    <tr style=\"text-align: right;\">\n",
       "      <th></th>\n",
       "      <th>validTimeUtc</th>\n",
       "      <th>ID_ESTACION</th>\n",
       "      <th>precip1HourDayAvg</th>\n",
       "      <th>pressureChangeDayAvg</th>\n",
       "      <th>relativeHumidityDayAvg</th>\n",
       "      <th>snow1HourDayAvg</th>\n",
       "      <th>temperatureDayAvg</th>\n",
       "      <th>temperatureDewPointDayAvg</th>\n",
       "      <th>temperatureFeelsLikeDayAvg</th>\n",
       "      <th>uvIndexDayAvg</th>\n",
       "      <th>...</th>\n",
       "      <th>WindSpeedLocalEveningMin</th>\n",
       "      <th>WindSpeedLocalMorningAvg</th>\n",
       "      <th>WindSpeedLocalMorningMax</th>\n",
       "      <th>WindSpeedLocalMorningMin</th>\n",
       "      <th>WindSpeedLocalNighttimeAvg</th>\n",
       "      <th>WindSpeedLocalNighttimeMax</th>\n",
       "      <th>WindSpeedLocalNighttimeMin</th>\n",
       "      <th>WindSpeedLocalOvernightAvg</th>\n",
       "      <th>WindSpeedLocalOvernightMax</th>\n",
       "      <th>WindSpeedLocalOvernightMin</th>\n",
       "    </tr>\n",
       "  </thead>\n",
       "  <tbody>\n",
       "    <tr>\n",
       "      <th>0</th>\n",
       "      <td>2015-06-30</td>\n",
       "      <td>0</td>\n",
       "      <td>0.0</td>\n",
       "      <td>-0.321739</td>\n",
       "      <td>44.700000</td>\n",
       "      <td>0.0</td>\n",
       "      <td>26.534783</td>\n",
       "      <td>12.095652</td>\n",
       "      <td>26.565217</td>\n",
       "      <td>2.521739</td>\n",
       "      <td>...</td>\n",
       "      <td>1.8</td>\n",
       "      <td>2.1</td>\n",
       "      <td>3.5</td>\n",
       "      <td>1.2</td>\n",
       "      <td>2.4</td>\n",
       "      <td>4.7</td>\n",
       "      <td>1.3</td>\n",
       "      <td>1.5</td>\n",
       "      <td>1.9</td>\n",
       "      <td>1.3</td>\n",
       "    </tr>\n",
       "    <tr>\n",
       "      <th>1</th>\n",
       "      <td>2015-06-30</td>\n",
       "      <td>1</td>\n",
       "      <td>0.0</td>\n",
       "      <td>-0.308696</td>\n",
       "      <td>38.773913</td>\n",
       "      <td>0.0</td>\n",
       "      <td>26.834783</td>\n",
       "      <td>10.226087</td>\n",
       "      <td>26.834783</td>\n",
       "      <td>2.652174</td>\n",
       "      <td>...</td>\n",
       "      <td>2.3</td>\n",
       "      <td>2.4</td>\n",
       "      <td>4.0</td>\n",
       "      <td>1.4</td>\n",
       "      <td>2.9</td>\n",
       "      <td>5.4</td>\n",
       "      <td>1.6</td>\n",
       "      <td>1.7</td>\n",
       "      <td>2.0</td>\n",
       "      <td>1.6</td>\n",
       "    </tr>\n",
       "    <tr>\n",
       "      <th>2</th>\n",
       "      <td>2015-06-30</td>\n",
       "      <td>2</td>\n",
       "      <td>0.0</td>\n",
       "      <td>-0.330435</td>\n",
       "      <td>44.865217</td>\n",
       "      <td>0.0</td>\n",
       "      <td>26.821739</td>\n",
       "      <td>12.252174</td>\n",
       "      <td>26.839130</td>\n",
       "      <td>2.565217</td>\n",
       "      <td>...</td>\n",
       "      <td>2.0</td>\n",
       "      <td>2.1</td>\n",
       "      <td>3.6</td>\n",
       "      <td>1.3</td>\n",
       "      <td>2.5</td>\n",
       "      <td>4.8</td>\n",
       "      <td>1.3</td>\n",
       "      <td>1.5</td>\n",
       "      <td>1.8</td>\n",
       "      <td>1.3</td>\n",
       "    </tr>\n",
       "    <tr>\n",
       "      <th>3</th>\n",
       "      <td>2015-06-30</td>\n",
       "      <td>3</td>\n",
       "      <td>0.0</td>\n",
       "      <td>-0.321739</td>\n",
       "      <td>41.652174</td>\n",
       "      <td>0.0</td>\n",
       "      <td>27.213043</td>\n",
       "      <td>11.456522</td>\n",
       "      <td>27.213043</td>\n",
       "      <td>2.565217</td>\n",
       "      <td>...</td>\n",
       "      <td>2.1</td>\n",
       "      <td>2.2</td>\n",
       "      <td>3.8</td>\n",
       "      <td>1.4</td>\n",
       "      <td>2.7</td>\n",
       "      <td>5.2</td>\n",
       "      <td>1.4</td>\n",
       "      <td>1.6</td>\n",
       "      <td>1.9</td>\n",
       "      <td>1.4</td>\n",
       "    </tr>\n",
       "    <tr>\n",
       "      <th>4</th>\n",
       "      <td>2015-06-30</td>\n",
       "      <td>4</td>\n",
       "      <td>0.0</td>\n",
       "      <td>-0.308696</td>\n",
       "      <td>40.960870</td>\n",
       "      <td>0.0</td>\n",
       "      <td>26.852174</td>\n",
       "      <td>10.904348</td>\n",
       "      <td>26.865217</td>\n",
       "      <td>2.565217</td>\n",
       "      <td>...</td>\n",
       "      <td>2.3</td>\n",
       "      <td>2.3</td>\n",
       "      <td>4.0</td>\n",
       "      <td>1.5</td>\n",
       "      <td>2.9</td>\n",
       "      <td>5.4</td>\n",
       "      <td>1.5</td>\n",
       "      <td>1.6</td>\n",
       "      <td>1.9</td>\n",
       "      <td>1.5</td>\n",
       "    </tr>\n",
       "    <tr>\n",
       "      <th>...</th>\n",
       "      <td>...</td>\n",
       "      <td>...</td>\n",
       "      <td>...</td>\n",
       "      <td>...</td>\n",
       "      <td>...</td>\n",
       "      <td>...</td>\n",
       "      <td>...</td>\n",
       "      <td>...</td>\n",
       "      <td>...</td>\n",
       "      <td>...</td>\n",
       "      <td>...</td>\n",
       "      <td>...</td>\n",
       "      <td>...</td>\n",
       "      <td>...</td>\n",
       "      <td>...</td>\n",
       "      <td>...</td>\n",
       "      <td>...</td>\n",
       "      <td>...</td>\n",
       "      <td>...</td>\n",
       "      <td>...</td>\n",
       "      <td>...</td>\n",
       "    </tr>\n",
       "    <tr>\n",
       "      <th>51155</th>\n",
       "      <td>2022-06-30</td>\n",
       "      <td>15</td>\n",
       "      <td>0.0</td>\n",
       "      <td>0.230435</td>\n",
       "      <td>53.113043</td>\n",
       "      <td>0.0</td>\n",
       "      <td>23.769565</td>\n",
       "      <td>12.200000</td>\n",
       "      <td>23.791304</td>\n",
       "      <td>2.565217</td>\n",
       "      <td>...</td>\n",
       "      <td>2.2</td>\n",
       "      <td>1.2</td>\n",
       "      <td>1.6</td>\n",
       "      <td>0.7</td>\n",
       "      <td>3.3</td>\n",
       "      <td>4.1</td>\n",
       "      <td>2.2</td>\n",
       "      <td>3.8</td>\n",
       "      <td>4.1</td>\n",
       "      <td>3.2</td>\n",
       "    </tr>\n",
       "    <tr>\n",
       "      <th>51156</th>\n",
       "      <td>2022-06-30</td>\n",
       "      <td>16</td>\n",
       "      <td>0.0</td>\n",
       "      <td>0.239130</td>\n",
       "      <td>52.556522</td>\n",
       "      <td>0.0</td>\n",
       "      <td>24.182609</td>\n",
       "      <td>12.626087</td>\n",
       "      <td>24.200000</td>\n",
       "      <td>2.565217</td>\n",
       "      <td>...</td>\n",
       "      <td>1.7</td>\n",
       "      <td>1.0</td>\n",
       "      <td>1.2</td>\n",
       "      <td>0.5</td>\n",
       "      <td>3.1</td>\n",
       "      <td>4.0</td>\n",
       "      <td>1.7</td>\n",
       "      <td>3.7</td>\n",
       "      <td>4.0</td>\n",
       "      <td>3.2</td>\n",
       "    </tr>\n",
       "    <tr>\n",
       "      <th>51157</th>\n",
       "      <td>2022-06-30</td>\n",
       "      <td>17</td>\n",
       "      <td>0.0</td>\n",
       "      <td>0.226087</td>\n",
       "      <td>48.439130</td>\n",
       "      <td>0.0</td>\n",
       "      <td>23.582609</td>\n",
       "      <td>10.091304</td>\n",
       "      <td>23.586957</td>\n",
       "      <td>2.652174</td>\n",
       "      <td>...</td>\n",
       "      <td>2.3</td>\n",
       "      <td>1.3</td>\n",
       "      <td>1.6</td>\n",
       "      <td>1.0</td>\n",
       "      <td>3.3</td>\n",
       "      <td>4.5</td>\n",
       "      <td>2.3</td>\n",
       "      <td>3.3</td>\n",
       "      <td>3.7</td>\n",
       "      <td>2.6</td>\n",
       "    </tr>\n",
       "    <tr>\n",
       "      <th>51158</th>\n",
       "      <td>2022-06-30</td>\n",
       "      <td>18</td>\n",
       "      <td>0.0</td>\n",
       "      <td>0.304348</td>\n",
       "      <td>52.656522</td>\n",
       "      <td>0.0</td>\n",
       "      <td>24.195652</td>\n",
       "      <td>13.030435</td>\n",
       "      <td>24.239130</td>\n",
       "      <td>2.521739</td>\n",
       "      <td>...</td>\n",
       "      <td>1.7</td>\n",
       "      <td>1.3</td>\n",
       "      <td>1.7</td>\n",
       "      <td>0.9</td>\n",
       "      <td>2.6</td>\n",
       "      <td>3.3</td>\n",
       "      <td>1.7</td>\n",
       "      <td>3.1</td>\n",
       "      <td>3.3</td>\n",
       "      <td>2.6</td>\n",
       "    </tr>\n",
       "    <tr>\n",
       "      <th>51159</th>\n",
       "      <td>2022-06-30</td>\n",
       "      <td>19</td>\n",
       "      <td>0.0</td>\n",
       "      <td>0.260870</td>\n",
       "      <td>53.482609</td>\n",
       "      <td>0.0</td>\n",
       "      <td>24.969565</td>\n",
       "      <td>13.686957</td>\n",
       "      <td>25.047826</td>\n",
       "      <td>2.521739</td>\n",
       "      <td>...</td>\n",
       "      <td>1.6</td>\n",
       "      <td>1.2</td>\n",
       "      <td>1.6</td>\n",
       "      <td>0.8</td>\n",
       "      <td>2.9</td>\n",
       "      <td>3.8</td>\n",
       "      <td>1.6</td>\n",
       "      <td>3.5</td>\n",
       "      <td>3.8</td>\n",
       "      <td>3.0</td>\n",
       "    </tr>\n",
       "  </tbody>\n",
       "</table>\n",
       "<p>51160 rows × 401 columns</p>\n",
       "</div>\n",
       "      <button class=\"colab-df-convert\" onclick=\"convertToInteractive('df-cf2108d2-088d-4839-8ece-407d54b38555')\"\n",
       "              title=\"Convert this dataframe to an interactive table.\"\n",
       "              style=\"display:none;\">\n",
       "        \n",
       "  <svg xmlns=\"http://www.w3.org/2000/svg\" height=\"24px\"viewBox=\"0 0 24 24\"\n",
       "       width=\"24px\">\n",
       "    <path d=\"M0 0h24v24H0V0z\" fill=\"none\"/>\n",
       "    <path d=\"M18.56 5.44l.94 2.06.94-2.06 2.06-.94-2.06-.94-.94-2.06-.94 2.06-2.06.94zm-11 1L8.5 8.5l.94-2.06 2.06-.94-2.06-.94L8.5 2.5l-.94 2.06-2.06.94zm10 10l.94 2.06.94-2.06 2.06-.94-2.06-.94-.94-2.06-.94 2.06-2.06.94z\"/><path d=\"M17.41 7.96l-1.37-1.37c-.4-.4-.92-.59-1.43-.59-.52 0-1.04.2-1.43.59L10.3 9.45l-7.72 7.72c-.78.78-.78 2.05 0 2.83L4 21.41c.39.39.9.59 1.41.59.51 0 1.02-.2 1.41-.59l7.78-7.78 2.81-2.81c.8-.78.8-2.07 0-2.86zM5.41 20L4 18.59l7.72-7.72 1.47 1.35L5.41 20z\"/>\n",
       "  </svg>\n",
       "      </button>\n",
       "      \n",
       "  <style>\n",
       "    .colab-df-container {\n",
       "      display:flex;\n",
       "      flex-wrap:wrap;\n",
       "      gap: 12px;\n",
       "    }\n",
       "\n",
       "    .colab-df-convert {\n",
       "      background-color: #E8F0FE;\n",
       "      border: none;\n",
       "      border-radius: 50%;\n",
       "      cursor: pointer;\n",
       "      display: none;\n",
       "      fill: #1967D2;\n",
       "      height: 32px;\n",
       "      padding: 0 0 0 0;\n",
       "      width: 32px;\n",
       "    }\n",
       "\n",
       "    .colab-df-convert:hover {\n",
       "      background-color: #E2EBFA;\n",
       "      box-shadow: 0px 1px 2px rgba(60, 64, 67, 0.3), 0px 1px 3px 1px rgba(60, 64, 67, 0.15);\n",
       "      fill: #174EA6;\n",
       "    }\n",
       "\n",
       "    [theme=dark] .colab-df-convert {\n",
       "      background-color: #3B4455;\n",
       "      fill: #D2E3FC;\n",
       "    }\n",
       "\n",
       "    [theme=dark] .colab-df-convert:hover {\n",
       "      background-color: #434B5C;\n",
       "      box-shadow: 0px 1px 3px 1px rgba(0, 0, 0, 0.15);\n",
       "      filter: drop-shadow(0px 1px 2px rgba(0, 0, 0, 0.3));\n",
       "      fill: #FFFFFF;\n",
       "    }\n",
       "  </style>\n",
       "\n",
       "      <script>\n",
       "        const buttonEl =\n",
       "          document.querySelector('#df-cf2108d2-088d-4839-8ece-407d54b38555 button.colab-df-convert');\n",
       "        buttonEl.style.display =\n",
       "          google.colab.kernel.accessAllowed ? 'block' : 'none';\n",
       "\n",
       "        async function convertToInteractive(key) {\n",
       "          const element = document.querySelector('#df-cf2108d2-088d-4839-8ece-407d54b38555');\n",
       "          const dataTable =\n",
       "            await google.colab.kernel.invokeFunction('convertToInteractive',\n",
       "                                                     [key], {});\n",
       "          if (!dataTable) return;\n",
       "\n",
       "          const docLinkHtml = 'Like what you see? Visit the ' +\n",
       "            '<a target=\"_blank\" href=https://colab.research.google.com/notebooks/data_table.ipynb>data table notebook</a>'\n",
       "            + ' to learn more about interactive tables.';\n",
       "          element.innerHTML = '';\n",
       "          dataTable['output_type'] = 'display_data';\n",
       "          await google.colab.output.renderOutput(dataTable, element);\n",
       "          const docLink = document.createElement('div');\n",
       "          docLink.innerHTML = docLinkHtml;\n",
       "          element.appendChild(docLink);\n",
       "        }\n",
       "      </script>\n",
       "    </div>\n",
       "  </div>\n",
       "  "
      ],
      "text/plain": [
       "      validTimeUtc  ID_ESTACION  precip1HourDayAvg  pressureChangeDayAvg  \\\n",
       "0       2015-06-30            0                0.0             -0.321739   \n",
       "1       2015-06-30            1                0.0             -0.308696   \n",
       "2       2015-06-30            2                0.0             -0.330435   \n",
       "3       2015-06-30            3                0.0             -0.321739   \n",
       "4       2015-06-30            4                0.0             -0.308696   \n",
       "...            ...          ...                ...                   ...   \n",
       "51155   2022-06-30           15                0.0              0.230435   \n",
       "51156   2022-06-30           16                0.0              0.239130   \n",
       "51157   2022-06-30           17                0.0              0.226087   \n",
       "51158   2022-06-30           18                0.0              0.304348   \n",
       "51159   2022-06-30           19                0.0              0.260870   \n",
       "\n",
       "       relativeHumidityDayAvg  snow1HourDayAvg  temperatureDayAvg  \\\n",
       "0                   44.700000              0.0          26.534783   \n",
       "1                   38.773913              0.0          26.834783   \n",
       "2                   44.865217              0.0          26.821739   \n",
       "3                   41.652174              0.0          27.213043   \n",
       "4                   40.960870              0.0          26.852174   \n",
       "...                       ...              ...                ...   \n",
       "51155               53.113043              0.0          23.769565   \n",
       "51156               52.556522              0.0          24.182609   \n",
       "51157               48.439130              0.0          23.582609   \n",
       "51158               52.656522              0.0          24.195652   \n",
       "51159               53.482609              0.0          24.969565   \n",
       "\n",
       "       temperatureDewPointDayAvg  temperatureFeelsLikeDayAvg  uvIndexDayAvg  \\\n",
       "0                      12.095652                   26.565217       2.521739   \n",
       "1                      10.226087                   26.834783       2.652174   \n",
       "2                      12.252174                   26.839130       2.565217   \n",
       "3                      11.456522                   27.213043       2.565217   \n",
       "4                      10.904348                   26.865217       2.565217   \n",
       "...                          ...                         ...            ...   \n",
       "51155                  12.200000                   23.791304       2.565217   \n",
       "51156                  12.626087                   24.200000       2.565217   \n",
       "51157                  10.091304                   23.586957       2.652174   \n",
       "51158                  13.030435                   24.239130       2.521739   \n",
       "51159                  13.686957                   25.047826       2.521739   \n",
       "\n",
       "       ...  WindSpeedLocalEveningMin  WindSpeedLocalMorningAvg  \\\n",
       "0      ...                       1.8                       2.1   \n",
       "1      ...                       2.3                       2.4   \n",
       "2      ...                       2.0                       2.1   \n",
       "3      ...                       2.1                       2.2   \n",
       "4      ...                       2.3                       2.3   \n",
       "...    ...                       ...                       ...   \n",
       "51155  ...                       2.2                       1.2   \n",
       "51156  ...                       1.7                       1.0   \n",
       "51157  ...                       2.3                       1.3   \n",
       "51158  ...                       1.7                       1.3   \n",
       "51159  ...                       1.6                       1.2   \n",
       "\n",
       "       WindSpeedLocalMorningMax  WindSpeedLocalMorningMin  \\\n",
       "0                           3.5                       1.2   \n",
       "1                           4.0                       1.4   \n",
       "2                           3.6                       1.3   \n",
       "3                           3.8                       1.4   \n",
       "4                           4.0                       1.5   \n",
       "...                         ...                       ...   \n",
       "51155                       1.6                       0.7   \n",
       "51156                       1.2                       0.5   \n",
       "51157                       1.6                       1.0   \n",
       "51158                       1.7                       0.9   \n",
       "51159                       1.6                       0.8   \n",
       "\n",
       "       WindSpeedLocalNighttimeAvg  WindSpeedLocalNighttimeMax  \\\n",
       "0                             2.4                         4.7   \n",
       "1                             2.9                         5.4   \n",
       "2                             2.5                         4.8   \n",
       "3                             2.7                         5.2   \n",
       "4                             2.9                         5.4   \n",
       "...                           ...                         ...   \n",
       "51155                         3.3                         4.1   \n",
       "51156                         3.1                         4.0   \n",
       "51157                         3.3                         4.5   \n",
       "51158                         2.6                         3.3   \n",
       "51159                         2.9                         3.8   \n",
       "\n",
       "       WindSpeedLocalNighttimeMin  WindSpeedLocalOvernightAvg  \\\n",
       "0                             1.3                         1.5   \n",
       "1                             1.6                         1.7   \n",
       "2                             1.3                         1.5   \n",
       "3                             1.4                         1.6   \n",
       "4                             1.5                         1.6   \n",
       "...                           ...                         ...   \n",
       "51155                         2.2                         3.8   \n",
       "51156                         1.7                         3.7   \n",
       "51157                         2.3                         3.3   \n",
       "51158                         1.7                         3.1   \n",
       "51159                         1.6                         3.5   \n",
       "\n",
       "       WindSpeedLocalOvernightMax  WindSpeedLocalOvernightMin  \n",
       "0                             1.9                         1.3  \n",
       "1                             2.0                         1.6  \n",
       "2                             1.8                         1.3  \n",
       "3                             1.9                         1.4  \n",
       "4                             1.9                         1.5  \n",
       "...                           ...                         ...  \n",
       "51155                         4.1                         3.2  \n",
       "51156                         4.0                         3.2  \n",
       "51157                         3.7                         2.6  \n",
       "51158                         3.3                         2.6  \n",
       "51159                         3.8                         3.0  \n",
       "\n",
       "[51160 rows x 401 columns]"
      ]
     },
     "execution_count": 9,
     "metadata": {},
     "output_type": "execute_result"
    }
   ],
   "source": [
    "df_meteo = pd.read_csv(\"/content/df_meteo_eto.csv\", index_col = False, parse_dates = ['validTimeUtc'], dayfirst=True)\n",
    "df_meteo"
   ]
  },
  {
   "cell_type": "code",
   "execution_count": 10,
   "metadata": {
    "id": "L9rHrv2yTN9u"
   },
   "outputs": [],
   "source": [
    "df_meteo['DIA'] = df_meteo.validTimeUtc.dt.day\n",
    "df_meteo['MES'] = df_meteo.validTimeUtc.dt.month\n",
    "df_meteo['CAMPAÑA'] = df_meteo.validTimeUtc.dt.year-2000"
   ]
  },
  {
   "cell_type": "code",
   "execution_count": 11,
   "metadata": {
    "id": "sWPFSYflTXAJ"
   },
   "outputs": [],
   "source": [
    "df_meteo.drop(columns=['validTimeUtc'], inplace= True)"
   ]
  },
  {
   "cell_type": "code",
   "execution_count": 12,
   "metadata": {
    "colab": {
     "base_uri": "https://localhost:8080/",
     "height": 300
    },
    "id": "Ryq4igI3U-wk",
    "outputId": "b0f43f8d-e697-41e2-884f-93b0d065b125"
   },
   "outputs": [
    {
     "data": {
      "text/html": [
       "\n",
       "  <div id=\"df-32ca4ac7-e3ea-4025-905e-5caf9f2fd58d\">\n",
       "    <div class=\"colab-df-container\">\n",
       "      <div>\n",
       "<style scoped>\n",
       "    .dataframe tbody tr th:only-of-type {\n",
       "        vertical-align: middle;\n",
       "    }\n",
       "\n",
       "    .dataframe tbody tr th {\n",
       "        vertical-align: top;\n",
       "    }\n",
       "\n",
       "    .dataframe thead th {\n",
       "        text-align: right;\n",
       "    }\n",
       "</style>\n",
       "<table border=\"1\" class=\"dataframe\">\n",
       "  <thead>\n",
       "    <tr style=\"text-align: right;\">\n",
       "      <th></th>\n",
       "      <th>ID_ESTACION</th>\n",
       "      <th>precip1HourDayAvg</th>\n",
       "      <th>pressureChangeDayAvg</th>\n",
       "      <th>relativeHumidityDayAvg</th>\n",
       "      <th>snow1HourDayAvg</th>\n",
       "      <th>temperatureDayAvg</th>\n",
       "      <th>temperatureDewPointDayAvg</th>\n",
       "      <th>temperatureFeelsLikeDayAvg</th>\n",
       "      <th>uvIndexDayAvg</th>\n",
       "      <th>visibilityDayAvg</th>\n",
       "      <th>...</th>\n",
       "      <th>WindSpeedLocalMorningMin</th>\n",
       "      <th>WindSpeedLocalNighttimeAvg</th>\n",
       "      <th>WindSpeedLocalNighttimeMax</th>\n",
       "      <th>WindSpeedLocalNighttimeMin</th>\n",
       "      <th>WindSpeedLocalOvernightAvg</th>\n",
       "      <th>WindSpeedLocalOvernightMax</th>\n",
       "      <th>WindSpeedLocalOvernightMin</th>\n",
       "      <th>DIA</th>\n",
       "      <th>MES</th>\n",
       "      <th>CAMPAÑA</th>\n",
       "    </tr>\n",
       "  </thead>\n",
       "  <tbody>\n",
       "    <tr>\n",
       "      <th>0</th>\n",
       "      <td>0</td>\n",
       "      <td>0.0</td>\n",
       "      <td>-0.321739</td>\n",
       "      <td>44.700000</td>\n",
       "      <td>0.0</td>\n",
       "      <td>26.534783</td>\n",
       "      <td>12.095652</td>\n",
       "      <td>26.565217</td>\n",
       "      <td>2.521739</td>\n",
       "      <td>16.09</td>\n",
       "      <td>...</td>\n",
       "      <td>1.2</td>\n",
       "      <td>2.4</td>\n",
       "      <td>4.7</td>\n",
       "      <td>1.3</td>\n",
       "      <td>1.5</td>\n",
       "      <td>1.9</td>\n",
       "      <td>1.3</td>\n",
       "      <td>30</td>\n",
       "      <td>6</td>\n",
       "      <td>15</td>\n",
       "    </tr>\n",
       "    <tr>\n",
       "      <th>1</th>\n",
       "      <td>1</td>\n",
       "      <td>0.0</td>\n",
       "      <td>-0.308696</td>\n",
       "      <td>38.773913</td>\n",
       "      <td>0.0</td>\n",
       "      <td>26.834783</td>\n",
       "      <td>10.226087</td>\n",
       "      <td>26.834783</td>\n",
       "      <td>2.652174</td>\n",
       "      <td>16.09</td>\n",
       "      <td>...</td>\n",
       "      <td>1.4</td>\n",
       "      <td>2.9</td>\n",
       "      <td>5.4</td>\n",
       "      <td>1.6</td>\n",
       "      <td>1.7</td>\n",
       "      <td>2.0</td>\n",
       "      <td>1.6</td>\n",
       "      <td>30</td>\n",
       "      <td>6</td>\n",
       "      <td>15</td>\n",
       "    </tr>\n",
       "    <tr>\n",
       "      <th>2</th>\n",
       "      <td>2</td>\n",
       "      <td>0.0</td>\n",
       "      <td>-0.330435</td>\n",
       "      <td>44.865217</td>\n",
       "      <td>0.0</td>\n",
       "      <td>26.821739</td>\n",
       "      <td>12.252174</td>\n",
       "      <td>26.839130</td>\n",
       "      <td>2.565217</td>\n",
       "      <td>16.09</td>\n",
       "      <td>...</td>\n",
       "      <td>1.3</td>\n",
       "      <td>2.5</td>\n",
       "      <td>4.8</td>\n",
       "      <td>1.3</td>\n",
       "      <td>1.5</td>\n",
       "      <td>1.8</td>\n",
       "      <td>1.3</td>\n",
       "      <td>30</td>\n",
       "      <td>6</td>\n",
       "      <td>15</td>\n",
       "    </tr>\n",
       "    <tr>\n",
       "      <th>3</th>\n",
       "      <td>3</td>\n",
       "      <td>0.0</td>\n",
       "      <td>-0.321739</td>\n",
       "      <td>41.652174</td>\n",
       "      <td>0.0</td>\n",
       "      <td>27.213043</td>\n",
       "      <td>11.456522</td>\n",
       "      <td>27.213043</td>\n",
       "      <td>2.565217</td>\n",
       "      <td>16.09</td>\n",
       "      <td>...</td>\n",
       "      <td>1.4</td>\n",
       "      <td>2.7</td>\n",
       "      <td>5.2</td>\n",
       "      <td>1.4</td>\n",
       "      <td>1.6</td>\n",
       "      <td>1.9</td>\n",
       "      <td>1.4</td>\n",
       "      <td>30</td>\n",
       "      <td>6</td>\n",
       "      <td>15</td>\n",
       "    </tr>\n",
       "    <tr>\n",
       "      <th>4</th>\n",
       "      <td>4</td>\n",
       "      <td>0.0</td>\n",
       "      <td>-0.308696</td>\n",
       "      <td>40.960870</td>\n",
       "      <td>0.0</td>\n",
       "      <td>26.852174</td>\n",
       "      <td>10.904348</td>\n",
       "      <td>26.865217</td>\n",
       "      <td>2.565217</td>\n",
       "      <td>16.09</td>\n",
       "      <td>...</td>\n",
       "      <td>1.5</td>\n",
       "      <td>2.9</td>\n",
       "      <td>5.4</td>\n",
       "      <td>1.5</td>\n",
       "      <td>1.6</td>\n",
       "      <td>1.9</td>\n",
       "      <td>1.5</td>\n",
       "      <td>30</td>\n",
       "      <td>6</td>\n",
       "      <td>15</td>\n",
       "    </tr>\n",
       "  </tbody>\n",
       "</table>\n",
       "<p>5 rows × 403 columns</p>\n",
       "</div>\n",
       "      <button class=\"colab-df-convert\" onclick=\"convertToInteractive('df-32ca4ac7-e3ea-4025-905e-5caf9f2fd58d')\"\n",
       "              title=\"Convert this dataframe to an interactive table.\"\n",
       "              style=\"display:none;\">\n",
       "        \n",
       "  <svg xmlns=\"http://www.w3.org/2000/svg\" height=\"24px\"viewBox=\"0 0 24 24\"\n",
       "       width=\"24px\">\n",
       "    <path d=\"M0 0h24v24H0V0z\" fill=\"none\"/>\n",
       "    <path d=\"M18.56 5.44l.94 2.06.94-2.06 2.06-.94-2.06-.94-.94-2.06-.94 2.06-2.06.94zm-11 1L8.5 8.5l.94-2.06 2.06-.94-2.06-.94L8.5 2.5l-.94 2.06-2.06.94zm10 10l.94 2.06.94-2.06 2.06-.94-2.06-.94-.94-2.06-.94 2.06-2.06.94z\"/><path d=\"M17.41 7.96l-1.37-1.37c-.4-.4-.92-.59-1.43-.59-.52 0-1.04.2-1.43.59L10.3 9.45l-7.72 7.72c-.78.78-.78 2.05 0 2.83L4 21.41c.39.39.9.59 1.41.59.51 0 1.02-.2 1.41-.59l7.78-7.78 2.81-2.81c.8-.78.8-2.07 0-2.86zM5.41 20L4 18.59l7.72-7.72 1.47 1.35L5.41 20z\"/>\n",
       "  </svg>\n",
       "      </button>\n",
       "      \n",
       "  <style>\n",
       "    .colab-df-container {\n",
       "      display:flex;\n",
       "      flex-wrap:wrap;\n",
       "      gap: 12px;\n",
       "    }\n",
       "\n",
       "    .colab-df-convert {\n",
       "      background-color: #E8F0FE;\n",
       "      border: none;\n",
       "      border-radius: 50%;\n",
       "      cursor: pointer;\n",
       "      display: none;\n",
       "      fill: #1967D2;\n",
       "      height: 32px;\n",
       "      padding: 0 0 0 0;\n",
       "      width: 32px;\n",
       "    }\n",
       "\n",
       "    .colab-df-convert:hover {\n",
       "      background-color: #E2EBFA;\n",
       "      box-shadow: 0px 1px 2px rgba(60, 64, 67, 0.3), 0px 1px 3px 1px rgba(60, 64, 67, 0.15);\n",
       "      fill: #174EA6;\n",
       "    }\n",
       "\n",
       "    [theme=dark] .colab-df-convert {\n",
       "      background-color: #3B4455;\n",
       "      fill: #D2E3FC;\n",
       "    }\n",
       "\n",
       "    [theme=dark] .colab-df-convert:hover {\n",
       "      background-color: #434B5C;\n",
       "      box-shadow: 0px 1px 3px 1px rgba(0, 0, 0, 0.15);\n",
       "      filter: drop-shadow(0px 1px 2px rgba(0, 0, 0, 0.3));\n",
       "      fill: #FFFFFF;\n",
       "    }\n",
       "  </style>\n",
       "\n",
       "      <script>\n",
       "        const buttonEl =\n",
       "          document.querySelector('#df-32ca4ac7-e3ea-4025-905e-5caf9f2fd58d button.colab-df-convert');\n",
       "        buttonEl.style.display =\n",
       "          google.colab.kernel.accessAllowed ? 'block' : 'none';\n",
       "\n",
       "        async function convertToInteractive(key) {\n",
       "          const element = document.querySelector('#df-32ca4ac7-e3ea-4025-905e-5caf9f2fd58d');\n",
       "          const dataTable =\n",
       "            await google.colab.kernel.invokeFunction('convertToInteractive',\n",
       "                                                     [key], {});\n",
       "          if (!dataTable) return;\n",
       "\n",
       "          const docLinkHtml = 'Like what you see? Visit the ' +\n",
       "            '<a target=\"_blank\" href=https://colab.research.google.com/notebooks/data_table.ipynb>data table notebook</a>'\n",
       "            + ' to learn more about interactive tables.';\n",
       "          element.innerHTML = '';\n",
       "          dataTable['output_type'] = 'display_data';\n",
       "          await google.colab.output.renderOutput(dataTable, element);\n",
       "          const docLink = document.createElement('div');\n",
       "          docLink.innerHTML = docLinkHtml;\n",
       "          element.appendChild(docLink);\n",
       "        }\n",
       "      </script>\n",
       "    </div>\n",
       "  </div>\n",
       "  "
      ],
      "text/plain": [
       "   ID_ESTACION  precip1HourDayAvg  pressureChangeDayAvg  \\\n",
       "0            0                0.0             -0.321739   \n",
       "1            1                0.0             -0.308696   \n",
       "2            2                0.0             -0.330435   \n",
       "3            3                0.0             -0.321739   \n",
       "4            4                0.0             -0.308696   \n",
       "\n",
       "   relativeHumidityDayAvg  snow1HourDayAvg  temperatureDayAvg  \\\n",
       "0               44.700000              0.0          26.534783   \n",
       "1               38.773913              0.0          26.834783   \n",
       "2               44.865217              0.0          26.821739   \n",
       "3               41.652174              0.0          27.213043   \n",
       "4               40.960870              0.0          26.852174   \n",
       "\n",
       "   temperatureDewPointDayAvg  temperatureFeelsLikeDayAvg  uvIndexDayAvg  \\\n",
       "0                  12.095652                   26.565217       2.521739   \n",
       "1                  10.226087                   26.834783       2.652174   \n",
       "2                  12.252174                   26.839130       2.565217   \n",
       "3                  11.456522                   27.213043       2.565217   \n",
       "4                  10.904348                   26.865217       2.565217   \n",
       "\n",
       "   visibilityDayAvg  ...  WindSpeedLocalMorningMin  \\\n",
       "0             16.09  ...                       1.2   \n",
       "1             16.09  ...                       1.4   \n",
       "2             16.09  ...                       1.3   \n",
       "3             16.09  ...                       1.4   \n",
       "4             16.09  ...                       1.5   \n",
       "\n",
       "   WindSpeedLocalNighttimeAvg  WindSpeedLocalNighttimeMax  \\\n",
       "0                         2.4                         4.7   \n",
       "1                         2.9                         5.4   \n",
       "2                         2.5                         4.8   \n",
       "3                         2.7                         5.2   \n",
       "4                         2.9                         5.4   \n",
       "\n",
       "   WindSpeedLocalNighttimeMin  WindSpeedLocalOvernightAvg  \\\n",
       "0                         1.3                         1.5   \n",
       "1                         1.6                         1.7   \n",
       "2                         1.3                         1.5   \n",
       "3                         1.4                         1.6   \n",
       "4                         1.5                         1.6   \n",
       "\n",
       "   WindSpeedLocalOvernightMax  WindSpeedLocalOvernightMin  DIA  MES  CAMPAÑA  \n",
       "0                         1.9                         1.3   30    6       15  \n",
       "1                         2.0                         1.6   30    6       15  \n",
       "2                         1.8                         1.3   30    6       15  \n",
       "3                         1.9                         1.4   30    6       15  \n",
       "4                         1.9                         1.5   30    6       15  \n",
       "\n",
       "[5 rows x 403 columns]"
      ]
     },
     "execution_count": 12,
     "metadata": {},
     "output_type": "execute_result"
    }
   ],
   "source": [
    "df_meteo.head()"
   ]
  },
  {
   "cell_type": "code",
   "execution_count": 47,
   "metadata": {
    "colab": {
     "base_uri": "https://localhost:8080/",
     "height": 353
    },
    "id": "_U_5cV9im2EX",
    "outputId": "58dd5fbc-c988-46cc-ce1d-6c995ce19ea9"
   },
   "outputs": [
    {
     "ename": "ValueError",
     "evalue": "ignored",
     "output_type": "error",
     "traceback": [
      "\u001b[0;31m---------------------------------------------------------------------------\u001b[0m",
      "\u001b[0;31mValueError\u001b[0m                                Traceback (most recent call last)",
      "\u001b[0;32m<ipython-input-47-6b8585450c3a>\u001b[0m in \u001b[0;36m<module>\u001b[0;34m\u001b[0m\n\u001b[1;32m      1\u001b[0m \u001b[0mdf_merge\u001b[0m \u001b[0;34m=\u001b[0m \u001b[0mdf_meteo\u001b[0m\u001b[0;34m.\u001b[0m\u001b[0mcopy\u001b[0m\u001b[0;34m(\u001b[0m\u001b[0;34m)\u001b[0m\u001b[0;34m\u001b[0m\u001b[0;34m\u001b[0m\u001b[0m\n\u001b[0;32m----> 2\u001b[0;31m \u001b[0mdf_merge\u001b[0m\u001b[0;34m[\u001b[0m\u001b[0;34m'PRODUCCIO'\u001b[0m\u001b[0;34m]\u001b[0m \u001b[0;34m=\u001b[0m \u001b[0mdf\u001b[0m\u001b[0;34m[\u001b[0m\u001b[0mdf\u001b[0m\u001b[0;34m.\u001b[0m\u001b[0mloc\u001b[0m\u001b[0;34m[\u001b[0m\u001b[0;34m:\u001b[0m\u001b[0;34m,\u001b[0m\u001b[0;34m[\u001b[0m\u001b[0;34m'ID_ESTACION'\u001b[0m\u001b[0;34m,\u001b[0m\u001b[0;34m'CAMPAÑA'\u001b[0m\u001b[0;34m]\u001b[0m\u001b[0;34m]\u001b[0m \u001b[0;34m==\u001b[0m \u001b[0mdf_meteo\u001b[0m\u001b[0;34m.\u001b[0m\u001b[0mloc\u001b[0m\u001b[0;34m[\u001b[0m\u001b[0;34m:\u001b[0m\u001b[0;34m,\u001b[0m\u001b[0;34m[\u001b[0m\u001b[0;34m'ID_ESTACION'\u001b[0m\u001b[0;34m,\u001b[0m \u001b[0;34m'CAMPAÑA'\u001b[0m\u001b[0;34m]\u001b[0m\u001b[0;34m]\u001b[0m\u001b[0;34m]\u001b[0m\u001b[0;34m[\u001b[0m\u001b[0;34m'PRODUCCION'\u001b[0m\u001b[0;34m]\u001b[0m\u001b[0;34m.\u001b[0m\u001b[0msum\u001b[0m\u001b[0;34m(\u001b[0m\u001b[0;34m)\u001b[0m\u001b[0;34m\u001b[0m\u001b[0;34m\u001b[0m\u001b[0m\n\u001b[0m",
      "\u001b[0;32m/usr/local/lib/python3.8/dist-packages/pandas/core/ops/common.py\u001b[0m in \u001b[0;36mnew_method\u001b[0;34m(self, other)\u001b[0m\n\u001b[1;32m     67\u001b[0m         \u001b[0mother\u001b[0m \u001b[0;34m=\u001b[0m \u001b[0mitem_from_zerodim\u001b[0m\u001b[0;34m(\u001b[0m\u001b[0mother\u001b[0m\u001b[0;34m)\u001b[0m\u001b[0;34m\u001b[0m\u001b[0;34m\u001b[0m\u001b[0m\n\u001b[1;32m     68\u001b[0m \u001b[0;34m\u001b[0m\u001b[0m\n\u001b[0;32m---> 69\u001b[0;31m         \u001b[0;32mreturn\u001b[0m \u001b[0mmethod\u001b[0m\u001b[0;34m(\u001b[0m\u001b[0mself\u001b[0m\u001b[0;34m,\u001b[0m \u001b[0mother\u001b[0m\u001b[0;34m)\u001b[0m\u001b[0;34m\u001b[0m\u001b[0;34m\u001b[0m\u001b[0m\n\u001b[0m\u001b[1;32m     70\u001b[0m \u001b[0;34m\u001b[0m\u001b[0m\n\u001b[1;32m     71\u001b[0m     \u001b[0;32mreturn\u001b[0m \u001b[0mnew_method\u001b[0m\u001b[0;34m\u001b[0m\u001b[0;34m\u001b[0m\u001b[0m\n",
      "\u001b[0;32m/usr/local/lib/python3.8/dist-packages/pandas/core/arraylike.py\u001b[0m in \u001b[0;36m__eq__\u001b[0;34m(self, other)\u001b[0m\n\u001b[1;32m     30\u001b[0m     \u001b[0;34m@\u001b[0m\u001b[0munpack_zerodim_and_defer\u001b[0m\u001b[0;34m(\u001b[0m\u001b[0;34m\"__eq__\"\u001b[0m\u001b[0;34m)\u001b[0m\u001b[0;34m\u001b[0m\u001b[0;34m\u001b[0m\u001b[0m\n\u001b[1;32m     31\u001b[0m     \u001b[0;32mdef\u001b[0m \u001b[0m__eq__\u001b[0m\u001b[0;34m(\u001b[0m\u001b[0mself\u001b[0m\u001b[0;34m,\u001b[0m \u001b[0mother\u001b[0m\u001b[0;34m)\u001b[0m\u001b[0;34m:\u001b[0m\u001b[0;34m\u001b[0m\u001b[0;34m\u001b[0m\u001b[0m\n\u001b[0;32m---> 32\u001b[0;31m         \u001b[0;32mreturn\u001b[0m \u001b[0mself\u001b[0m\u001b[0;34m.\u001b[0m\u001b[0m_cmp_method\u001b[0m\u001b[0;34m(\u001b[0m\u001b[0mother\u001b[0m\u001b[0;34m,\u001b[0m \u001b[0moperator\u001b[0m\u001b[0;34m.\u001b[0m\u001b[0meq\u001b[0m\u001b[0;34m)\u001b[0m\u001b[0;34m\u001b[0m\u001b[0;34m\u001b[0m\u001b[0m\n\u001b[0m\u001b[1;32m     33\u001b[0m \u001b[0;34m\u001b[0m\u001b[0m\n\u001b[1;32m     34\u001b[0m     \u001b[0;34m@\u001b[0m\u001b[0munpack_zerodim_and_defer\u001b[0m\u001b[0;34m(\u001b[0m\u001b[0;34m\"__ne__\"\u001b[0m\u001b[0;34m)\u001b[0m\u001b[0;34m\u001b[0m\u001b[0;34m\u001b[0m\u001b[0m\n",
      "\u001b[0;32m/usr/local/lib/python3.8/dist-packages/pandas/core/frame.py\u001b[0m in \u001b[0;36m_cmp_method\u001b[0;34m(self, other, op)\u001b[0m\n\u001b[1;32m   6849\u001b[0m         \u001b[0maxis\u001b[0m \u001b[0;34m=\u001b[0m \u001b[0;36m1\u001b[0m  \u001b[0;31m# only relevant for Series other case\u001b[0m\u001b[0;34m\u001b[0m\u001b[0;34m\u001b[0m\u001b[0m\n\u001b[1;32m   6850\u001b[0m \u001b[0;34m\u001b[0m\u001b[0m\n\u001b[0;32m-> 6851\u001b[0;31m         \u001b[0mself\u001b[0m\u001b[0;34m,\u001b[0m \u001b[0mother\u001b[0m \u001b[0;34m=\u001b[0m \u001b[0mops\u001b[0m\u001b[0;34m.\u001b[0m\u001b[0malign_method_FRAME\u001b[0m\u001b[0;34m(\u001b[0m\u001b[0mself\u001b[0m\u001b[0;34m,\u001b[0m \u001b[0mother\u001b[0m\u001b[0;34m,\u001b[0m \u001b[0maxis\u001b[0m\u001b[0;34m,\u001b[0m \u001b[0mflex\u001b[0m\u001b[0;34m=\u001b[0m\u001b[0;32mFalse\u001b[0m\u001b[0;34m,\u001b[0m \u001b[0mlevel\u001b[0m\u001b[0;34m=\u001b[0m\u001b[0;32mNone\u001b[0m\u001b[0;34m)\u001b[0m\u001b[0;34m\u001b[0m\u001b[0;34m\u001b[0m\u001b[0m\n\u001b[0m\u001b[1;32m   6852\u001b[0m \u001b[0;34m\u001b[0m\u001b[0m\n\u001b[1;32m   6853\u001b[0m         \u001b[0;31m# See GH#4537 for discussion of scalar op behavior\u001b[0m\u001b[0;34m\u001b[0m\u001b[0;34m\u001b[0m\u001b[0;34m\u001b[0m\u001b[0m\n",
      "\u001b[0;32m/usr/local/lib/python3.8/dist-packages/pandas/core/ops/__init__.py\u001b[0m in \u001b[0;36malign_method_FRAME\u001b[0;34m(left, right, axis, flex, level)\u001b[0m\n\u001b[1;32m    286\u001b[0m                 \u001b[0mleft\u001b[0m\u001b[0;34m,\u001b[0m \u001b[0mright\u001b[0m \u001b[0;34m=\u001b[0m \u001b[0mleft\u001b[0m\u001b[0;34m.\u001b[0m\u001b[0malign\u001b[0m\u001b[0;34m(\u001b[0m\u001b[0mright\u001b[0m\u001b[0;34m,\u001b[0m \u001b[0mjoin\u001b[0m\u001b[0;34m=\u001b[0m\u001b[0;34m\"outer\"\u001b[0m\u001b[0;34m,\u001b[0m \u001b[0mlevel\u001b[0m\u001b[0;34m=\u001b[0m\u001b[0mlevel\u001b[0m\u001b[0;34m,\u001b[0m \u001b[0mcopy\u001b[0m\u001b[0;34m=\u001b[0m\u001b[0;32mFalse\u001b[0m\u001b[0;34m)\u001b[0m\u001b[0;34m\u001b[0m\u001b[0;34m\u001b[0m\u001b[0m\n\u001b[1;32m    287\u001b[0m             \u001b[0;32melse\u001b[0m\u001b[0;34m:\u001b[0m\u001b[0;34m\u001b[0m\u001b[0;34m\u001b[0m\u001b[0m\n\u001b[0;32m--> 288\u001b[0;31m                 raise ValueError(\n\u001b[0m\u001b[1;32m    289\u001b[0m                     \u001b[0;34m\"Can only compare identically-labeled DataFrame objects\"\u001b[0m\u001b[0;34m\u001b[0m\u001b[0;34m\u001b[0m\u001b[0m\n\u001b[1;32m    290\u001b[0m                 )\n",
      "\u001b[0;31mValueError\u001b[0m: Can only compare identically-labeled DataFrame objects"
     ]
    }
   ],
   "source": [
    "#df_merge = df_meteo.copy()\n",
    "#df_merge['PRODUCCIO'] = df[df.loc[:,['ID_ESTACION','CAMPAÑA']] == df_meteo.loc[:,['ID_ESTACION', 'CAMPAÑA']]]['PRODUCCION'].sum()"
   ]
  },
  {
   "cell_type": "code",
   "execution_count": 19,
   "metadata": {
    "id": "GIfA_F17boOD"
   },
   "outputs": [],
   "source": [
    "sum_prod = df.groupby(by=['ID_ESTACION', 'CAMPAÑA']).sum()['PRODUCCION']\n",
    "sum_prod = pd.DataFrame(sum_prod).reset_index()"
   ]
  },
  {
   "cell_type": "code",
   "execution_count": 29,
   "metadata": {
    "colab": {
     "base_uri": "https://localhost:8080/",
     "height": 332
    },
    "id": "pkQ9h9NmdEo8",
    "outputId": "775547bc-6419-4b6a-de45-3883d13baa19"
   },
   "outputs": [
    {
     "data": {
      "text/html": [
       "\n",
       "  <div id=\"df-eca7391f-8aaf-4abf-89c3-362e6cb857dc\">\n",
       "    <div class=\"colab-df-container\">\n",
       "      <div>\n",
       "<style scoped>\n",
       "    .dataframe tbody tr th:only-of-type {\n",
       "        vertical-align: middle;\n",
       "    }\n",
       "\n",
       "    .dataframe tbody tr th {\n",
       "        vertical-align: top;\n",
       "    }\n",
       "\n",
       "    .dataframe thead th {\n",
       "        text-align: right;\n",
       "    }\n",
       "</style>\n",
       "<table border=\"1\" class=\"dataframe\">\n",
       "  <thead>\n",
       "    <tr style=\"text-align: right;\">\n",
       "      <th></th>\n",
       "      <th>ID_ESTACION</th>\n",
       "      <th>PRODUCCION</th>\n",
       "    </tr>\n",
       "    <tr>\n",
       "      <th>CAMPAÑA</th>\n",
       "      <th></th>\n",
       "      <th></th>\n",
       "    </tr>\n",
       "  </thead>\n",
       "  <tbody>\n",
       "    <tr>\n",
       "      <th>14</th>\n",
       "      <td>18</td>\n",
       "      <td>18</td>\n",
       "    </tr>\n",
       "    <tr>\n",
       "      <th>15</th>\n",
       "      <td>16</td>\n",
       "      <td>16</td>\n",
       "    </tr>\n",
       "    <tr>\n",
       "      <th>16</th>\n",
       "      <td>16</td>\n",
       "      <td>16</td>\n",
       "    </tr>\n",
       "    <tr>\n",
       "      <th>17</th>\n",
       "      <td>18</td>\n",
       "      <td>18</td>\n",
       "    </tr>\n",
       "    <tr>\n",
       "      <th>18</th>\n",
       "      <td>17</td>\n",
       "      <td>17</td>\n",
       "    </tr>\n",
       "    <tr>\n",
       "      <th>19</th>\n",
       "      <td>16</td>\n",
       "      <td>16</td>\n",
       "    </tr>\n",
       "    <tr>\n",
       "      <th>20</th>\n",
       "      <td>17</td>\n",
       "      <td>17</td>\n",
       "    </tr>\n",
       "    <tr>\n",
       "      <th>21</th>\n",
       "      <td>16</td>\n",
       "      <td>16</td>\n",
       "    </tr>\n",
       "  </tbody>\n",
       "</table>\n",
       "</div>\n",
       "      <button class=\"colab-df-convert\" onclick=\"convertToInteractive('df-eca7391f-8aaf-4abf-89c3-362e6cb857dc')\"\n",
       "              title=\"Convert this dataframe to an interactive table.\"\n",
       "              style=\"display:none;\">\n",
       "        \n",
       "  <svg xmlns=\"http://www.w3.org/2000/svg\" height=\"24px\"viewBox=\"0 0 24 24\"\n",
       "       width=\"24px\">\n",
       "    <path d=\"M0 0h24v24H0V0z\" fill=\"none\"/>\n",
       "    <path d=\"M18.56 5.44l.94 2.06.94-2.06 2.06-.94-2.06-.94-.94-2.06-.94 2.06-2.06.94zm-11 1L8.5 8.5l.94-2.06 2.06-.94-2.06-.94L8.5 2.5l-.94 2.06-2.06.94zm10 10l.94 2.06.94-2.06 2.06-.94-2.06-.94-.94-2.06-.94 2.06-2.06.94z\"/><path d=\"M17.41 7.96l-1.37-1.37c-.4-.4-.92-.59-1.43-.59-.52 0-1.04.2-1.43.59L10.3 9.45l-7.72 7.72c-.78.78-.78 2.05 0 2.83L4 21.41c.39.39.9.59 1.41.59.51 0 1.02-.2 1.41-.59l7.78-7.78 2.81-2.81c.8-.78.8-2.07 0-2.86zM5.41 20L4 18.59l7.72-7.72 1.47 1.35L5.41 20z\"/>\n",
       "  </svg>\n",
       "      </button>\n",
       "      \n",
       "  <style>\n",
       "    .colab-df-container {\n",
       "      display:flex;\n",
       "      flex-wrap:wrap;\n",
       "      gap: 12px;\n",
       "    }\n",
       "\n",
       "    .colab-df-convert {\n",
       "      background-color: #E8F0FE;\n",
       "      border: none;\n",
       "      border-radius: 50%;\n",
       "      cursor: pointer;\n",
       "      display: none;\n",
       "      fill: #1967D2;\n",
       "      height: 32px;\n",
       "      padding: 0 0 0 0;\n",
       "      width: 32px;\n",
       "    }\n",
       "\n",
       "    .colab-df-convert:hover {\n",
       "      background-color: #E2EBFA;\n",
       "      box-shadow: 0px 1px 2px rgba(60, 64, 67, 0.3), 0px 1px 3px 1px rgba(60, 64, 67, 0.15);\n",
       "      fill: #174EA6;\n",
       "    }\n",
       "\n",
       "    [theme=dark] .colab-df-convert {\n",
       "      background-color: #3B4455;\n",
       "      fill: #D2E3FC;\n",
       "    }\n",
       "\n",
       "    [theme=dark] .colab-df-convert:hover {\n",
       "      background-color: #434B5C;\n",
       "      box-shadow: 0px 1px 3px 1px rgba(0, 0, 0, 0.15);\n",
       "      filter: drop-shadow(0px 1px 2px rgba(0, 0, 0, 0.3));\n",
       "      fill: #FFFFFF;\n",
       "    }\n",
       "  </style>\n",
       "\n",
       "      <script>\n",
       "        const buttonEl =\n",
       "          document.querySelector('#df-eca7391f-8aaf-4abf-89c3-362e6cb857dc button.colab-df-convert');\n",
       "        buttonEl.style.display =\n",
       "          google.colab.kernel.accessAllowed ? 'block' : 'none';\n",
       "\n",
       "        async function convertToInteractive(key) {\n",
       "          const element = document.querySelector('#df-eca7391f-8aaf-4abf-89c3-362e6cb857dc');\n",
       "          const dataTable =\n",
       "            await google.colab.kernel.invokeFunction('convertToInteractive',\n",
       "                                                     [key], {});\n",
       "          if (!dataTable) return;\n",
       "\n",
       "          const docLinkHtml = 'Like what you see? Visit the ' +\n",
       "            '<a target=\"_blank\" href=https://colab.research.google.com/notebooks/data_table.ipynb>data table notebook</a>'\n",
       "            + ' to learn more about interactive tables.';\n",
       "          element.innerHTML = '';\n",
       "          dataTable['output_type'] = 'display_data';\n",
       "          await google.colab.output.renderOutput(dataTable, element);\n",
       "          const docLink = document.createElement('div');\n",
       "          docLink.innerHTML = docLinkHtml;\n",
       "          element.appendChild(docLink);\n",
       "        }\n",
       "      </script>\n",
       "    </div>\n",
       "  </div>\n",
       "  "
      ],
      "text/plain": [
       "         ID_ESTACION  PRODUCCION\n",
       "CAMPAÑA                         \n",
       "14                18          18\n",
       "15                16          16\n",
       "16                16          16\n",
       "17                18          18\n",
       "18                17          17\n",
       "19                16          16\n",
       "20                17          17\n",
       "21                16          16"
      ]
     },
     "execution_count": 29,
     "metadata": {},
     "output_type": "execute_result"
    }
   ],
   "source": [
    "sum_prod.groupby(by='CAMPAÑA').count()"
   ]
  },
  {
   "cell_type": "code",
   "execution_count": null,
   "metadata": {
    "id": "silha1iueXcl"
   },
   "outputs": [],
   "source": [
    "df_meteo.groupby(by=['ID_ESTACION', 'CAMPAÑA']).sum()"
   ]
  },
  {
   "cell_type": "code",
   "execution_count": 24,
   "metadata": {
    "colab": {
     "base_uri": "https://localhost:8080/"
    },
    "id": "KeeEIPBRaKHQ",
    "outputId": "25440dc8-567b-4818-f678-b360ef84bce3"
   },
   "outputs": [
    {
     "name": "stdout",
     "output_type": "stream",
     "text": [
      "0.0 14.0\n",
      "0.0 20.0\n",
      "1.0 17.0\n",
      "1.0 18.0\n",
      "2.0 14.0\n",
      "2.0 15.0\n",
      "2.0 16.0\n",
      "2.0 17.0\n",
      "2.0 18.0\n",
      "2.0 19.0\n",
      "2.0 20.0\n",
      "2.0 21.0\n",
      "3.0 14.0\n",
      "3.0 15.0\n",
      "3.0 16.0\n",
      "3.0 17.0\n",
      "3.0 18.0\n",
      "3.0 19.0\n",
      "3.0 20.0\n",
      "3.0 21.0\n",
      "4.0 14.0\n",
      "5.0 14.0\n",
      "5.0 15.0\n",
      "5.0 16.0\n",
      "5.0 17.0\n",
      "5.0 18.0\n",
      "5.0 19.0\n",
      "5.0 20.0\n",
      "5.0 21.0\n",
      "6.0 14.0\n",
      "6.0 15.0\n",
      "6.0 16.0\n",
      "6.0 17.0\n",
      "6.0 18.0\n",
      "6.0 19.0\n",
      "6.0 20.0\n",
      "6.0 21.0\n",
      "7.0 14.0\n",
      "7.0 15.0\n",
      "7.0 16.0\n",
      "7.0 17.0\n",
      "7.0 18.0\n",
      "7.0 19.0\n",
      "7.0 20.0\n",
      "7.0 21.0\n",
      "8.0 14.0\n",
      "8.0 15.0\n",
      "8.0 16.0\n",
      "8.0 17.0\n",
      "8.0 18.0\n",
      "8.0 19.0\n",
      "8.0 20.0\n",
      "8.0 21.0\n",
      "9.0 14.0\n",
      "9.0 15.0\n",
      "9.0 16.0\n",
      "9.0 17.0\n",
      "9.0 18.0\n",
      "9.0 19.0\n",
      "9.0 20.0\n",
      "9.0 21.0\n",
      "10.0 14.0\n",
      "10.0 15.0\n",
      "10.0 16.0\n",
      "10.0 17.0\n",
      "10.0 18.0\n",
      "10.0 19.0\n",
      "10.0 20.0\n",
      "10.0 21.0\n",
      "11.0 14.0\n",
      "11.0 17.0\n",
      "11.0 18.0\n",
      "11.0 19.0\n",
      "11.0 20.0\n",
      "11.0 21.0\n",
      "12.0 14.0\n",
      "12.0 15.0\n",
      "12.0 16.0\n",
      "12.0 17.0\n",
      "12.0 18.0\n",
      "12.0 19.0\n",
      "12.0 20.0\n",
      "12.0 21.0\n",
      "13.0 15.0\n",
      "13.0 16.0\n",
      "13.0 17.0\n",
      "13.0 18.0\n",
      "13.0 19.0\n",
      "13.0 20.0\n",
      "13.0 21.0\n",
      "14.0 14.0\n",
      "14.0 15.0\n",
      "14.0 16.0\n",
      "14.0 17.0\n",
      "14.0 18.0\n",
      "14.0 19.0\n",
      "14.0 20.0\n",
      "14.0 21.0\n",
      "15.0 14.0\n",
      "15.0 15.0\n",
      "15.0 16.0\n",
      "15.0 17.0\n",
      "15.0 18.0\n",
      "15.0 19.0\n",
      "15.0 20.0\n",
      "15.0 21.0\n",
      "16.0 14.0\n",
      "16.0 15.0\n",
      "16.0 16.0\n",
      "16.0 17.0\n",
      "16.0 18.0\n",
      "16.0 19.0\n",
      "16.0 20.0\n",
      "16.0 21.0\n",
      "17.0 14.0\n",
      "17.0 15.0\n",
      "17.0 16.0\n",
      "17.0 17.0\n",
      "18.0 14.0\n",
      "18.0 15.0\n",
      "18.0 16.0\n",
      "18.0 17.0\n",
      "18.0 18.0\n",
      "18.0 19.0\n",
      "18.0 20.0\n",
      "18.0 21.0\n",
      "19.0 14.0\n",
      "19.0 15.0\n",
      "19.0 16.0\n",
      "19.0 17.0\n",
      "19.0 18.0\n",
      "19.0 19.0\n",
      "19.0 20.0\n",
      "19.0 21.0\n"
     ]
    }
   ],
   "source": [
    "for est, camp, prod in sum_prod.values:\n",
    "  "
   ]
  },
  {
   "cell_type": "markdown",
   "metadata": {
    "id": "SxVm_FD9aLCF"
   },
   "source": [
    "**XGBOOST TRAIN + XGBOOST DADES METEO**"
   ]
  },
  {
   "cell_type": "markdown",
   "metadata": {
    "id": "xYsqiEuyaPYb"
   },
   "source": [
    "**XGBOOST (TRAIN + DADES METEO) PCA**"
   ]
  },
  {
   "cell_type": "code",
   "execution_count": 93,
   "metadata": {
    "colab": {
     "base_uri": "https://localhost:8080/"
    },
    "id": "sP2u_DNzTbFA",
    "outputId": "d63cec45-d07f-4b42-f1ed-efa55dee9733"
   },
   "outputs": [
    {
     "data": {
      "text/plain": [
       "(51160, 403)"
      ]
     },
     "execution_count": 93,
     "metadata": {},
     "output_type": "execute_result"
    }
   ],
   "source": [
    "#from sklearn.decomposition import PCA\n",
    "\n",
    "#pca = PCA()\n",
    "#pca = pca.fit(df_meteo)\n",
    "#pca_meteo = pca.transform(df_meteo)\n",
    "#pca_meteo.shape\n"
   ]
  },
  {
   "cell_type": "markdown",
   "metadata": {
    "id": "XF5lysXma8iA"
   },
   "source": [
    "**CATEGORITZAR SUPERFICIE:**"
   ]
  },
  {
   "cell_type": "code",
   "execution_count": 2,
   "metadata": {
    "colab": {
     "base_uri": "https://localhost:8080/",
     "height": 407
    },
    "id": "vDrlxcYupABQ",
    "outputId": "36cfa72b-2412-4ec9-f11e-7850da0aabe4"
   },
   "outputs": [
    {
     "ename": "FileNotFoundError",
     "evalue": "ignored",
     "output_type": "error",
     "traceback": [
      "\u001b[0;31m---------------------------------------------------------------------------\u001b[0m",
      "\u001b[0;31mFileNotFoundError\u001b[0m                         Traceback (most recent call last)",
      "\u001b[0;32m<ipython-input-2-286a52e9fae0>\u001b[0m in \u001b[0;36m<module>\u001b[0;34m\u001b[0m\n\u001b[1;32m      2\u001b[0m \u001b[0;32mfrom\u001b[0m \u001b[0msklearn\u001b[0m\u001b[0;34m.\u001b[0m\u001b[0mpreprocessing\u001b[0m \u001b[0;32mimport\u001b[0m \u001b[0mLabelEncoder\u001b[0m\u001b[0;34m\u001b[0m\u001b[0;34m\u001b[0m\u001b[0m\n\u001b[1;32m      3\u001b[0m \u001b[0;34m\u001b[0m\u001b[0m\n\u001b[0;32m----> 4\u001b[0;31m \u001b[0mdf\u001b[0m \u001b[0;34m=\u001b[0m \u001b[0mpd\u001b[0m\u001b[0;34m.\u001b[0m\u001b[0mread_csv\u001b[0m\u001b[0;34m(\u001b[0m\u001b[0;34m\"/DATASETS/D_T_3.csv\"\u001b[0m\u001b[0;34m)\u001b[0m\u001b[0;34m\u001b[0m\u001b[0;34m\u001b[0m\u001b[0m\n\u001b[0m\u001b[1;32m      5\u001b[0m \u001b[0mdf\u001b[0m\u001b[0;34m.\u001b[0m\u001b[0mdrop\u001b[0m\u001b[0;34m(\u001b[0m\u001b[0mcolumns\u001b[0m\u001b[0;34m=\u001b[0m\u001b[0;34m[\u001b[0m\u001b[0mdf\u001b[0m\u001b[0;34m.\u001b[0m\u001b[0mcolumns\u001b[0m\u001b[0;34m[\u001b[0m\u001b[0;36m0\u001b[0m\u001b[0;34m]\u001b[0m\u001b[0;34m]\u001b[0m\u001b[0;34m,\u001b[0m \u001b[0minplace\u001b[0m\u001b[0;34m=\u001b[0m\u001b[0;32mTrue\u001b[0m\u001b[0;34m)\u001b[0m\u001b[0;34m\u001b[0m\u001b[0;34m\u001b[0m\u001b[0m\n\u001b[1;32m      6\u001b[0m \u001b[0mX\u001b[0m \u001b[0;34m=\u001b[0m \u001b[0mdf\u001b[0m\u001b[0;34m.\u001b[0m\u001b[0mdrop\u001b[0m\u001b[0;34m(\u001b[0m\u001b[0mcolumns\u001b[0m\u001b[0;34m=\u001b[0m\u001b[0;34m[\u001b[0m\u001b[0;34m'SUPERFICIE'\u001b[0m\u001b[0;34m]\u001b[0m\u001b[0;34m)\u001b[0m\u001b[0;34m\u001b[0m\u001b[0;34m\u001b[0m\u001b[0m\n",
      "\u001b[0;32m/usr/local/lib/python3.8/dist-packages/pandas/util/_decorators.py\u001b[0m in \u001b[0;36mwrapper\u001b[0;34m(*args, **kwargs)\u001b[0m\n\u001b[1;32m    309\u001b[0m                     \u001b[0mstacklevel\u001b[0m\u001b[0;34m=\u001b[0m\u001b[0mstacklevel\u001b[0m\u001b[0;34m,\u001b[0m\u001b[0;34m\u001b[0m\u001b[0;34m\u001b[0m\u001b[0m\n\u001b[1;32m    310\u001b[0m                 )\n\u001b[0;32m--> 311\u001b[0;31m             \u001b[0;32mreturn\u001b[0m \u001b[0mfunc\u001b[0m\u001b[0;34m(\u001b[0m\u001b[0;34m*\u001b[0m\u001b[0margs\u001b[0m\u001b[0;34m,\u001b[0m \u001b[0;34m**\u001b[0m\u001b[0mkwargs\u001b[0m\u001b[0;34m)\u001b[0m\u001b[0;34m\u001b[0m\u001b[0;34m\u001b[0m\u001b[0m\n\u001b[0m\u001b[1;32m    312\u001b[0m \u001b[0;34m\u001b[0m\u001b[0m\n\u001b[1;32m    313\u001b[0m         \u001b[0;32mreturn\u001b[0m \u001b[0mwrapper\u001b[0m\u001b[0;34m\u001b[0m\u001b[0;34m\u001b[0m\u001b[0m\n",
      "\u001b[0;32m/usr/local/lib/python3.8/dist-packages/pandas/io/parsers/readers.py\u001b[0m in \u001b[0;36mread_csv\u001b[0;34m(filepath_or_buffer, sep, delimiter, header, names, index_col, usecols, squeeze, prefix, mangle_dupe_cols, dtype, engine, converters, true_values, false_values, skipinitialspace, skiprows, skipfooter, nrows, na_values, keep_default_na, na_filter, verbose, skip_blank_lines, parse_dates, infer_datetime_format, keep_date_col, date_parser, dayfirst, cache_dates, iterator, chunksize, compression, thousands, decimal, lineterminator, quotechar, quoting, doublequote, escapechar, comment, encoding, encoding_errors, dialect, error_bad_lines, warn_bad_lines, on_bad_lines, delim_whitespace, low_memory, memory_map, float_precision, storage_options)\u001b[0m\n\u001b[1;32m    584\u001b[0m     \u001b[0mkwds\u001b[0m\u001b[0;34m.\u001b[0m\u001b[0mupdate\u001b[0m\u001b[0;34m(\u001b[0m\u001b[0mkwds_defaults\u001b[0m\u001b[0;34m)\u001b[0m\u001b[0;34m\u001b[0m\u001b[0;34m\u001b[0m\u001b[0m\n\u001b[1;32m    585\u001b[0m \u001b[0;34m\u001b[0m\u001b[0m\n\u001b[0;32m--> 586\u001b[0;31m     \u001b[0;32mreturn\u001b[0m \u001b[0m_read\u001b[0m\u001b[0;34m(\u001b[0m\u001b[0mfilepath_or_buffer\u001b[0m\u001b[0;34m,\u001b[0m \u001b[0mkwds\u001b[0m\u001b[0;34m)\u001b[0m\u001b[0;34m\u001b[0m\u001b[0;34m\u001b[0m\u001b[0m\n\u001b[0m\u001b[1;32m    587\u001b[0m \u001b[0;34m\u001b[0m\u001b[0m\n\u001b[1;32m    588\u001b[0m \u001b[0;34m\u001b[0m\u001b[0m\n",
      "\u001b[0;32m/usr/local/lib/python3.8/dist-packages/pandas/io/parsers/readers.py\u001b[0m in \u001b[0;36m_read\u001b[0;34m(filepath_or_buffer, kwds)\u001b[0m\n\u001b[1;32m    480\u001b[0m \u001b[0;34m\u001b[0m\u001b[0m\n\u001b[1;32m    481\u001b[0m     \u001b[0;31m# Create the parser.\u001b[0m\u001b[0;34m\u001b[0m\u001b[0;34m\u001b[0m\u001b[0;34m\u001b[0m\u001b[0m\n\u001b[0;32m--> 482\u001b[0;31m     \u001b[0mparser\u001b[0m \u001b[0;34m=\u001b[0m \u001b[0mTextFileReader\u001b[0m\u001b[0;34m(\u001b[0m\u001b[0mfilepath_or_buffer\u001b[0m\u001b[0;34m,\u001b[0m \u001b[0;34m**\u001b[0m\u001b[0mkwds\u001b[0m\u001b[0;34m)\u001b[0m\u001b[0;34m\u001b[0m\u001b[0;34m\u001b[0m\u001b[0m\n\u001b[0m\u001b[1;32m    483\u001b[0m \u001b[0;34m\u001b[0m\u001b[0m\n\u001b[1;32m    484\u001b[0m     \u001b[0;32mif\u001b[0m \u001b[0mchunksize\u001b[0m \u001b[0;32mor\u001b[0m \u001b[0miterator\u001b[0m\u001b[0;34m:\u001b[0m\u001b[0;34m\u001b[0m\u001b[0;34m\u001b[0m\u001b[0m\n",
      "\u001b[0;32m/usr/local/lib/python3.8/dist-packages/pandas/io/parsers/readers.py\u001b[0m in \u001b[0;36m__init__\u001b[0;34m(self, f, engine, **kwds)\u001b[0m\n\u001b[1;32m    809\u001b[0m             \u001b[0mself\u001b[0m\u001b[0;34m.\u001b[0m\u001b[0moptions\u001b[0m\u001b[0;34m[\u001b[0m\u001b[0;34m\"has_index_names\"\u001b[0m\u001b[0;34m]\u001b[0m \u001b[0;34m=\u001b[0m \u001b[0mkwds\u001b[0m\u001b[0;34m[\u001b[0m\u001b[0;34m\"has_index_names\"\u001b[0m\u001b[0;34m]\u001b[0m\u001b[0;34m\u001b[0m\u001b[0;34m\u001b[0m\u001b[0m\n\u001b[1;32m    810\u001b[0m \u001b[0;34m\u001b[0m\u001b[0m\n\u001b[0;32m--> 811\u001b[0;31m         \u001b[0mself\u001b[0m\u001b[0;34m.\u001b[0m\u001b[0m_engine\u001b[0m \u001b[0;34m=\u001b[0m \u001b[0mself\u001b[0m\u001b[0;34m.\u001b[0m\u001b[0m_make_engine\u001b[0m\u001b[0;34m(\u001b[0m\u001b[0mself\u001b[0m\u001b[0;34m.\u001b[0m\u001b[0mengine\u001b[0m\u001b[0;34m)\u001b[0m\u001b[0;34m\u001b[0m\u001b[0;34m\u001b[0m\u001b[0m\n\u001b[0m\u001b[1;32m    812\u001b[0m \u001b[0;34m\u001b[0m\u001b[0m\n\u001b[1;32m    813\u001b[0m     \u001b[0;32mdef\u001b[0m \u001b[0mclose\u001b[0m\u001b[0;34m(\u001b[0m\u001b[0mself\u001b[0m\u001b[0;34m)\u001b[0m\u001b[0;34m:\u001b[0m\u001b[0;34m\u001b[0m\u001b[0;34m\u001b[0m\u001b[0m\n",
      "\u001b[0;32m/usr/local/lib/python3.8/dist-packages/pandas/io/parsers/readers.py\u001b[0m in \u001b[0;36m_make_engine\u001b[0;34m(self, engine)\u001b[0m\n\u001b[1;32m   1038\u001b[0m             )\n\u001b[1;32m   1039\u001b[0m         \u001b[0;31m# error: Too many arguments for \"ParserBase\"\u001b[0m\u001b[0;34m\u001b[0m\u001b[0;34m\u001b[0m\u001b[0;34m\u001b[0m\u001b[0m\n\u001b[0;32m-> 1040\u001b[0;31m         \u001b[0;32mreturn\u001b[0m \u001b[0mmapping\u001b[0m\u001b[0;34m[\u001b[0m\u001b[0mengine\u001b[0m\u001b[0;34m]\u001b[0m\u001b[0;34m(\u001b[0m\u001b[0mself\u001b[0m\u001b[0;34m.\u001b[0m\u001b[0mf\u001b[0m\u001b[0;34m,\u001b[0m \u001b[0;34m**\u001b[0m\u001b[0mself\u001b[0m\u001b[0;34m.\u001b[0m\u001b[0moptions\u001b[0m\u001b[0;34m)\u001b[0m  \u001b[0;31m# type: ignore[call-arg]\u001b[0m\u001b[0;34m\u001b[0m\u001b[0;34m\u001b[0m\u001b[0m\n\u001b[0m\u001b[1;32m   1041\u001b[0m \u001b[0;34m\u001b[0m\u001b[0m\n\u001b[1;32m   1042\u001b[0m     \u001b[0;32mdef\u001b[0m \u001b[0m_failover_to_python\u001b[0m\u001b[0;34m(\u001b[0m\u001b[0mself\u001b[0m\u001b[0;34m)\u001b[0m\u001b[0;34m:\u001b[0m\u001b[0;34m\u001b[0m\u001b[0;34m\u001b[0m\u001b[0m\n",
      "\u001b[0;32m/usr/local/lib/python3.8/dist-packages/pandas/io/parsers/c_parser_wrapper.py\u001b[0m in \u001b[0;36m__init__\u001b[0;34m(self, src, **kwds)\u001b[0m\n\u001b[1;32m     49\u001b[0m \u001b[0;34m\u001b[0m\u001b[0m\n\u001b[1;32m     50\u001b[0m         \u001b[0;31m# open handles\u001b[0m\u001b[0;34m\u001b[0m\u001b[0;34m\u001b[0m\u001b[0;34m\u001b[0m\u001b[0m\n\u001b[0;32m---> 51\u001b[0;31m         \u001b[0mself\u001b[0m\u001b[0;34m.\u001b[0m\u001b[0m_open_handles\u001b[0m\u001b[0;34m(\u001b[0m\u001b[0msrc\u001b[0m\u001b[0;34m,\u001b[0m \u001b[0mkwds\u001b[0m\u001b[0;34m)\u001b[0m\u001b[0;34m\u001b[0m\u001b[0;34m\u001b[0m\u001b[0m\n\u001b[0m\u001b[1;32m     52\u001b[0m         \u001b[0;32massert\u001b[0m \u001b[0mself\u001b[0m\u001b[0;34m.\u001b[0m\u001b[0mhandles\u001b[0m \u001b[0;32mis\u001b[0m \u001b[0;32mnot\u001b[0m \u001b[0;32mNone\u001b[0m\u001b[0;34m\u001b[0m\u001b[0;34m\u001b[0m\u001b[0m\n\u001b[1;32m     53\u001b[0m \u001b[0;34m\u001b[0m\u001b[0m\n",
      "\u001b[0;32m/usr/local/lib/python3.8/dist-packages/pandas/io/parsers/base_parser.py\u001b[0m in \u001b[0;36m_open_handles\u001b[0;34m(self, src, kwds)\u001b[0m\n\u001b[1;32m    220\u001b[0m         \u001b[0mLet\u001b[0m \u001b[0mthe\u001b[0m \u001b[0mreaders\u001b[0m \u001b[0mopen\u001b[0m \u001b[0mIOHandles\u001b[0m \u001b[0mafter\u001b[0m \u001b[0mthey\u001b[0m \u001b[0mare\u001b[0m \u001b[0mdone\u001b[0m \u001b[0;32mwith\u001b[0m \u001b[0mtheir\u001b[0m \u001b[0mpotential\u001b[0m \u001b[0mraises\u001b[0m\u001b[0;34m.\u001b[0m\u001b[0;34m\u001b[0m\u001b[0;34m\u001b[0m\u001b[0m\n\u001b[1;32m    221\u001b[0m         \"\"\"\n\u001b[0;32m--> 222\u001b[0;31m         self.handles = get_handle(\n\u001b[0m\u001b[1;32m    223\u001b[0m             \u001b[0msrc\u001b[0m\u001b[0;34m,\u001b[0m\u001b[0;34m\u001b[0m\u001b[0;34m\u001b[0m\u001b[0m\n\u001b[1;32m    224\u001b[0m             \u001b[0;34m\"r\"\u001b[0m\u001b[0;34m,\u001b[0m\u001b[0;34m\u001b[0m\u001b[0;34m\u001b[0m\u001b[0m\n",
      "\u001b[0;32m/usr/local/lib/python3.8/dist-packages/pandas/io/common.py\u001b[0m in \u001b[0;36mget_handle\u001b[0;34m(path_or_buf, mode, encoding, compression, memory_map, is_text, errors, storage_options)\u001b[0m\n\u001b[1;32m    700\u001b[0m         \u001b[0;32mif\u001b[0m \u001b[0mioargs\u001b[0m\u001b[0;34m.\u001b[0m\u001b[0mencoding\u001b[0m \u001b[0;32mand\u001b[0m \u001b[0;34m\"b\"\u001b[0m \u001b[0;32mnot\u001b[0m \u001b[0;32min\u001b[0m \u001b[0mioargs\u001b[0m\u001b[0;34m.\u001b[0m\u001b[0mmode\u001b[0m\u001b[0;34m:\u001b[0m\u001b[0;34m\u001b[0m\u001b[0;34m\u001b[0m\u001b[0m\n\u001b[1;32m    701\u001b[0m             \u001b[0;31m# Encoding\u001b[0m\u001b[0;34m\u001b[0m\u001b[0;34m\u001b[0m\u001b[0;34m\u001b[0m\u001b[0m\n\u001b[0;32m--> 702\u001b[0;31m             handle = open(\n\u001b[0m\u001b[1;32m    703\u001b[0m                 \u001b[0mhandle\u001b[0m\u001b[0;34m,\u001b[0m\u001b[0;34m\u001b[0m\u001b[0;34m\u001b[0m\u001b[0m\n\u001b[1;32m    704\u001b[0m                 \u001b[0mioargs\u001b[0m\u001b[0;34m.\u001b[0m\u001b[0mmode\u001b[0m\u001b[0;34m,\u001b[0m\u001b[0;34m\u001b[0m\u001b[0;34m\u001b[0m\u001b[0m\n",
      "\u001b[0;31mFileNotFoundError\u001b[0m: [Errno 2] No such file or directory: '/DATASETS/D_T_3.csv'"
     ]
    }
   ],
   "source": [
    "from sklearn.model_selection import train_test_split\n",
    "from sklearn.preprocessing import LabelEncoder\n",
    "\n",
    "df = pd.read_csv(\"/DATASETS/D_T_3.csv\")\n",
    "df.drop(columns=[df.columns[0]], inplace=True)\n",
    "X = df.drop(columns=['SUPERFICIE'])\n",
    "y = df['SUPERFICIE']"
   ]
  },
  {
   "cell_type": "code",
   "execution_count": null,
   "metadata": {
    "id": "GFH2TSn5gQOe"
   },
   "outputs": [],
   "source": [
    "l_enc = LabelEncoder()\n",
    "#y = l_enc.fit_transform(y)\n",
    "#np.unique(y)"
   ]
  },
  {
   "cell_type": "code",
   "execution_count": 53,
   "metadata": {
    "colab": {
     "base_uri": "https://localhost:8080/",
     "height": 505
    },
    "id": "i8S2QWmjqH8u",
    "outputId": "25e4c0a6-e379-41de-aeec-95f15ff686a6"
   },
   "outputs": [
    {
     "data": {
      "text/html": [
       "\n",
       "  <div id=\"df-9d9160fb-cd68-464c-aaae-61e5446c50e7\">\n",
       "    <div class=\"colab-df-container\">\n",
       "      <div>\n",
       "<style scoped>\n",
       "    .dataframe tbody tr th:only-of-type {\n",
       "        vertical-align: middle;\n",
       "    }\n",
       "\n",
       "    .dataframe tbody tr th {\n",
       "        vertical-align: top;\n",
       "    }\n",
       "\n",
       "    .dataframe thead th {\n",
       "        text-align: right;\n",
       "    }\n",
       "</style>\n",
       "<table border=\"1\" class=\"dataframe\">\n",
       "  <thead>\n",
       "    <tr style=\"text-align: right;\">\n",
       "      <th></th>\n",
       "      <th>Unnamed: 0</th>\n",
       "      <th>CAMPAÑA</th>\n",
       "      <th>ID_FINCA</th>\n",
       "      <th>ID_ZONA</th>\n",
       "      <th>ID_ESTACION</th>\n",
       "      <th>ALTITUD</th>\n",
       "      <th>VARIEDAD</th>\n",
       "      <th>MODO</th>\n",
       "      <th>TIPO</th>\n",
       "      <th>COLOR</th>\n",
       "      <th>PRODUCCION</th>\n",
       "      <th>ALTITUD_MIN</th>\n",
       "      <th>ALTITUD_DIF</th>\n",
       "      <th>SUPERFICIE_CAT</th>\n",
       "    </tr>\n",
       "  </thead>\n",
       "  <tbody>\n",
       "    <tr>\n",
       "      <th>2</th>\n",
       "      <td>2</td>\n",
       "      <td>14</td>\n",
       "      <td>85579</td>\n",
       "      <td>340</td>\n",
       "      <td>4</td>\n",
       "      <td>520</td>\n",
       "      <td>32</td>\n",
       "      <td>1</td>\n",
       "      <td>0</td>\n",
       "      <td>1</td>\n",
       "      <td>20978.0</td>\n",
       "      <td>520.000000</td>\n",
       "      <td>0.00000</td>\n",
       "      <td>4528</td>\n",
       "    </tr>\n",
       "    <tr>\n",
       "      <th>3</th>\n",
       "      <td>3</td>\n",
       "      <td>14</td>\n",
       "      <td>69671</td>\n",
       "      <td>340</td>\n",
       "      <td>4</td>\n",
       "      <td>520</td>\n",
       "      <td>32</td>\n",
       "      <td>1</td>\n",
       "      <td>0</td>\n",
       "      <td>1</td>\n",
       "      <td>40722.0</td>\n",
       "      <td>520.000000</td>\n",
       "      <td>0.00000</td>\n",
       "      <td>5234</td>\n",
       "    </tr>\n",
       "    <tr>\n",
       "      <th>4</th>\n",
       "      <td>4</td>\n",
       "      <td>14</td>\n",
       "      <td>14001</td>\n",
       "      <td>852</td>\n",
       "      <td>14</td>\n",
       "      <td>650-660</td>\n",
       "      <td>81</td>\n",
       "      <td>0</td>\n",
       "      <td>0</td>\n",
       "      <td>1</td>\n",
       "      <td>14126.0</td>\n",
       "      <td>654.501718</td>\n",
       "      <td>9.19244</td>\n",
       "      <td>5353</td>\n",
       "    </tr>\n",
       "    <tr>\n",
       "      <th>5</th>\n",
       "      <td>5</td>\n",
       "      <td>14</td>\n",
       "      <td>17059</td>\n",
       "      <td>852</td>\n",
       "      <td>14</td>\n",
       "      <td>650-660</td>\n",
       "      <td>81</td>\n",
       "      <td>0</td>\n",
       "      <td>0</td>\n",
       "      <td>1</td>\n",
       "      <td>6054.0</td>\n",
       "      <td>654.501718</td>\n",
       "      <td>9.19244</td>\n",
       "      <td>4667</td>\n",
       "    </tr>\n",
       "    <tr>\n",
       "      <th>6</th>\n",
       "      <td>6</td>\n",
       "      <td>14</td>\n",
       "      <td>87611</td>\n",
       "      <td>602</td>\n",
       "      <td>14</td>\n",
       "      <td>650-660</td>\n",
       "      <td>81</td>\n",
       "      <td>0</td>\n",
       "      <td>0</td>\n",
       "      <td>1</td>\n",
       "      <td>12900.0</td>\n",
       "      <td>654.501718</td>\n",
       "      <td>9.19244</td>\n",
       "      <td>5248</td>\n",
       "    </tr>\n",
       "    <tr>\n",
       "      <th>...</th>\n",
       "      <td>...</td>\n",
       "      <td>...</td>\n",
       "      <td>...</td>\n",
       "      <td>...</td>\n",
       "      <td>...</td>\n",
       "      <td>...</td>\n",
       "      <td>...</td>\n",
       "      <td>...</td>\n",
       "      <td>...</td>\n",
       "      <td>...</td>\n",
       "      <td>...</td>\n",
       "      <td>...</td>\n",
       "      <td>...</td>\n",
       "      <td>...</td>\n",
       "    </tr>\n",
       "    <tr>\n",
       "      <th>8501</th>\n",
       "      <td>8501</td>\n",
       "      <td>21</td>\n",
       "      <td>69003</td>\n",
       "      <td>349</td>\n",
       "      <td>19</td>\n",
       "      <td>445-465</td>\n",
       "      <td>59</td>\n",
       "      <td>0</td>\n",
       "      <td>0</td>\n",
       "      <td>1</td>\n",
       "      <td>26710.0</td>\n",
       "      <td>445.000000</td>\n",
       "      <td>20.00000</td>\n",
       "      <td>6897</td>\n",
       "    </tr>\n",
       "    <tr>\n",
       "      <th>8512</th>\n",
       "      <td>8512</td>\n",
       "      <td>21</td>\n",
       "      <td>49636</td>\n",
       "      <td>473</td>\n",
       "      <td>10</td>\n",
       "      <td>450-480</td>\n",
       "      <td>9</td>\n",
       "      <td>1</td>\n",
       "      <td>0</td>\n",
       "      <td>0</td>\n",
       "      <td>4530.0</td>\n",
       "      <td>450.000000</td>\n",
       "      <td>30.00000</td>\n",
       "      <td>5766</td>\n",
       "    </tr>\n",
       "    <tr>\n",
       "      <th>8514</th>\n",
       "      <td>8514</td>\n",
       "      <td>21</td>\n",
       "      <td>49636</td>\n",
       "      <td>473</td>\n",
       "      <td>10</td>\n",
       "      <td>450-480</td>\n",
       "      <td>26</td>\n",
       "      <td>1</td>\n",
       "      <td>0</td>\n",
       "      <td>1</td>\n",
       "      <td>8020.0</td>\n",
       "      <td>450.000000</td>\n",
       "      <td>30.00000</td>\n",
       "      <td>5777</td>\n",
       "    </tr>\n",
       "    <tr>\n",
       "      <th>8515</th>\n",
       "      <td>8515</td>\n",
       "      <td>21</td>\n",
       "      <td>49636</td>\n",
       "      <td>473</td>\n",
       "      <td>10</td>\n",
       "      <td>450-480</td>\n",
       "      <td>52</td>\n",
       "      <td>1</td>\n",
       "      <td>0</td>\n",
       "      <td>1</td>\n",
       "      <td>36630.0</td>\n",
       "      <td>450.000000</td>\n",
       "      <td>30.00000</td>\n",
       "      <td>7082</td>\n",
       "    </tr>\n",
       "    <tr>\n",
       "      <th>8520</th>\n",
       "      <td>8520</td>\n",
       "      <td>21</td>\n",
       "      <td>34244</td>\n",
       "      <td>831</td>\n",
       "      <td>10</td>\n",
       "      <td>455-465</td>\n",
       "      <td>59</td>\n",
       "      <td>1</td>\n",
       "      <td>0</td>\n",
       "      <td>1</td>\n",
       "      <td>8900.0</td>\n",
       "      <td>455.000000</td>\n",
       "      <td>10.00000</td>\n",
       "      <td>6423</td>\n",
       "    </tr>\n",
       "  </tbody>\n",
       "</table>\n",
       "<p>6659 rows × 14 columns</p>\n",
       "</div>\n",
       "      <button class=\"colab-df-convert\" onclick=\"convertToInteractive('df-9d9160fb-cd68-464c-aaae-61e5446c50e7')\"\n",
       "              title=\"Convert this dataframe to an interactive table.\"\n",
       "              style=\"display:none;\">\n",
       "        \n",
       "  <svg xmlns=\"http://www.w3.org/2000/svg\" height=\"24px\"viewBox=\"0 0 24 24\"\n",
       "       width=\"24px\">\n",
       "    <path d=\"M0 0h24v24H0V0z\" fill=\"none\"/>\n",
       "    <path d=\"M18.56 5.44l.94 2.06.94-2.06 2.06-.94-2.06-.94-.94-2.06-.94 2.06-2.06.94zm-11 1L8.5 8.5l.94-2.06 2.06-.94-2.06-.94L8.5 2.5l-.94 2.06-2.06.94zm10 10l.94 2.06.94-2.06 2.06-.94-2.06-.94-.94-2.06-.94 2.06-2.06.94z\"/><path d=\"M17.41 7.96l-1.37-1.37c-.4-.4-.92-.59-1.43-.59-.52 0-1.04.2-1.43.59L10.3 9.45l-7.72 7.72c-.78.78-.78 2.05 0 2.83L4 21.41c.39.39.9.59 1.41.59.51 0 1.02-.2 1.41-.59l7.78-7.78 2.81-2.81c.8-.78.8-2.07 0-2.86zM5.41 20L4 18.59l7.72-7.72 1.47 1.35L5.41 20z\"/>\n",
       "  </svg>\n",
       "      </button>\n",
       "      \n",
       "  <style>\n",
       "    .colab-df-container {\n",
       "      display:flex;\n",
       "      flex-wrap:wrap;\n",
       "      gap: 12px;\n",
       "    }\n",
       "\n",
       "    .colab-df-convert {\n",
       "      background-color: #E8F0FE;\n",
       "      border: none;\n",
       "      border-radius: 50%;\n",
       "      cursor: pointer;\n",
       "      display: none;\n",
       "      fill: #1967D2;\n",
       "      height: 32px;\n",
       "      padding: 0 0 0 0;\n",
       "      width: 32px;\n",
       "    }\n",
       "\n",
       "    .colab-df-convert:hover {\n",
       "      background-color: #E2EBFA;\n",
       "      box-shadow: 0px 1px 2px rgba(60, 64, 67, 0.3), 0px 1px 3px 1px rgba(60, 64, 67, 0.15);\n",
       "      fill: #174EA6;\n",
       "    }\n",
       "\n",
       "    [theme=dark] .colab-df-convert {\n",
       "      background-color: #3B4455;\n",
       "      fill: #D2E3FC;\n",
       "    }\n",
       "\n",
       "    [theme=dark] .colab-df-convert:hover {\n",
       "      background-color: #434B5C;\n",
       "      box-shadow: 0px 1px 3px 1px rgba(0, 0, 0, 0.15);\n",
       "      filter: drop-shadow(0px 1px 2px rgba(0, 0, 0, 0.3));\n",
       "      fill: #FFFFFF;\n",
       "    }\n",
       "  </style>\n",
       "\n",
       "      <script>\n",
       "        const buttonEl =\n",
       "          document.querySelector('#df-9d9160fb-cd68-464c-aaae-61e5446c50e7 button.colab-df-convert');\n",
       "        buttonEl.style.display =\n",
       "          google.colab.kernel.accessAllowed ? 'block' : 'none';\n",
       "\n",
       "        async function convertToInteractive(key) {\n",
       "          const element = document.querySelector('#df-9d9160fb-cd68-464c-aaae-61e5446c50e7');\n",
       "          const dataTable =\n",
       "            await google.colab.kernel.invokeFunction('convertToInteractive',\n",
       "                                                     [key], {});\n",
       "          if (!dataTable) return;\n",
       "\n",
       "          const docLinkHtml = 'Like what you see? Visit the ' +\n",
       "            '<a target=\"_blank\" href=https://colab.research.google.com/notebooks/data_table.ipynb>data table notebook</a>'\n",
       "            + ' to learn more about interactive tables.';\n",
       "          element.innerHTML = '';\n",
       "          dataTable['output_type'] = 'display_data';\n",
       "          await google.colab.output.renderOutput(dataTable, element);\n",
       "          const docLink = document.createElement('div');\n",
       "          docLink.innerHTML = docLinkHtml;\n",
       "          element.appendChild(docLink);\n",
       "        }\n",
       "      </script>\n",
       "    </div>\n",
       "  </div>\n",
       "  "
      ],
      "text/plain": [
       "      Unnamed: 0  CAMPAÑA  ID_FINCA  ID_ZONA  ID_ESTACION  ALTITUD  VARIEDAD  \\\n",
       "2              2       14     85579      340            4      520        32   \n",
       "3              3       14     69671      340            4      520        32   \n",
       "4              4       14     14001      852           14  650-660        81   \n",
       "5              5       14     17059      852           14  650-660        81   \n",
       "6              6       14     87611      602           14  650-660        81   \n",
       "...          ...      ...       ...      ...          ...      ...       ...   \n",
       "8501        8501       21     69003      349           19  445-465        59   \n",
       "8512        8512       21     49636      473           10  450-480         9   \n",
       "8514        8514       21     49636      473           10  450-480        26   \n",
       "8515        8515       21     49636      473           10  450-480        52   \n",
       "8520        8520       21     34244      831           10  455-465        59   \n",
       "\n",
       "      MODO  TIPO  COLOR  PRODUCCION  ALTITUD_MIN  ALTITUD_DIF  SUPERFICIE_CAT  \n",
       "2        1     0      1     20978.0   520.000000      0.00000            4528  \n",
       "3        1     0      1     40722.0   520.000000      0.00000            5234  \n",
       "4        0     0      1     14126.0   654.501718      9.19244            5353  \n",
       "5        0     0      1      6054.0   654.501718      9.19244            4667  \n",
       "6        0     0      1     12900.0   654.501718      9.19244            5248  \n",
       "...    ...   ...    ...         ...          ...          ...             ...  \n",
       "8501     0     0      1     26710.0   445.000000     20.00000            6897  \n",
       "8512     1     0      0      4530.0   450.000000     30.00000            5766  \n",
       "8514     1     0      1      8020.0   450.000000     30.00000            5777  \n",
       "8515     1     0      1     36630.0   450.000000     30.00000            7082  \n",
       "8520     1     0      1      8900.0   455.000000     10.00000            6423  \n",
       "\n",
       "[6659 rows x 14 columns]"
      ]
     },
     "execution_count": 53,
     "metadata": {},
     "output_type": "execute_result"
    }
   ],
   "source": [
    "df_train = df.copy()\n",
    "df_train['SUPERFICIE_CAT'] = l_enc.fit_transform(df_train['SUPERFICIE'])\n",
    "df_train.drop(columns=['SUPERFICIE'], inplace=True)\n",
    "df_supcat = df_train.groupby(by='SUPERFICIE_CAT').count().reset_index()\n",
    "sup_uniq = df_supcat[df_supcat['CAMPAÑA']==1]['SUPERFICIE_CAT']\n",
    "df_train2 = df_train[df_train['SUPERFICIE_CAT'].isin(sup_uniq)]\n",
    "df_train2"
   ]
  },
  {
   "cell_type": "code",
   "execution_count": null,
   "metadata": {
    "id": "klNcEIweHvVU"
   },
   "outputs": [],
   "source": [
    "df_train.drop(columns=['SUPERFICIE'], inplace=True)\n",
    "df_supcat = df_train.groupby(by='SUPERFICIE_CAT').count().reset_index()\n",
    "index = df_supcat[df_supcat['CAMPAÑA']==1]['SUPERFICIE_CAT']\n",
    "\n",
    "df_supcat = df_supcat[df_supcat['CAMPAÑA']==1]\n",
    "df_supcat\n",
    "\n",
    "df_supcat = df_supcat[df_supcat['CAMPAÑA']==1].reset_index().reset_index()\n",
    "base_train = list(df_supcat['index'])\n",
    "X_train = df_train.iloc[base_train]\n",
    "df_train.drop(index = base_train, inplace = True)\n",
    "df_train.groupby(by='SUPERFICIE_CAT').count()\n",
    "df_supcat"
   ]
  },
  {
   "cell_type": "code",
   "execution_count": 44,
   "metadata": {
    "colab": {
     "base_uri": "https://localhost:8080/",
     "height": 488
    },
    "id": "mQj9MPq70M6i",
    "outputId": "ee15ba8a-6fa5-4aba-b9d5-20bee869a27d"
   },
   "outputs": [
    {
     "data": {
      "text/html": [
       "\n",
       "  <div id=\"df-f7bfcefc-5555-43bf-915c-7a3039649d95\">\n",
       "    <div class=\"colab-df-container\">\n",
       "      <div>\n",
       "<style scoped>\n",
       "    .dataframe tbody tr th:only-of-type {\n",
       "        vertical-align: middle;\n",
       "    }\n",
       "\n",
       "    .dataframe tbody tr th {\n",
       "        vertical-align: top;\n",
       "    }\n",
       "\n",
       "    .dataframe thead th {\n",
       "        text-align: right;\n",
       "    }\n",
       "</style>\n",
       "<table border=\"1\" class=\"dataframe\">\n",
       "  <thead>\n",
       "    <tr style=\"text-align: right;\">\n",
       "      <th></th>\n",
       "      <th>CAMPAÑA</th>\n",
       "      <th>ID_FINCA</th>\n",
       "      <th>ID_ZONA</th>\n",
       "      <th>ID_ESTACION</th>\n",
       "      <th>ALTITUD</th>\n",
       "      <th>VARIEDAD</th>\n",
       "      <th>MODO</th>\n",
       "      <th>TIPO</th>\n",
       "      <th>COLOR</th>\n",
       "      <th>PRODUCCION</th>\n",
       "      <th>ALTITUD_MIN</th>\n",
       "      <th>ALTITUD_DIF</th>\n",
       "      <th>SUPERFICIE_CAT</th>\n",
       "    </tr>\n",
       "  </thead>\n",
       "  <tbody>\n",
       "    <tr>\n",
       "      <th>0</th>\n",
       "      <td>14</td>\n",
       "      <td>76953</td>\n",
       "      <td>515</td>\n",
       "      <td>4</td>\n",
       "      <td>660</td>\n",
       "      <td>26</td>\n",
       "      <td>1</td>\n",
       "      <td>0</td>\n",
       "      <td>1</td>\n",
       "      <td>22215.000</td>\n",
       "      <td>660.000000</td>\n",
       "      <td>0.00000</td>\n",
       "      <td>7225</td>\n",
       "    </tr>\n",
       "    <tr>\n",
       "      <th>1</th>\n",
       "      <td>14</td>\n",
       "      <td>84318</td>\n",
       "      <td>515</td>\n",
       "      <td>4</td>\n",
       "      <td>660</td>\n",
       "      <td>26</td>\n",
       "      <td>1</td>\n",
       "      <td>0</td>\n",
       "      <td>1</td>\n",
       "      <td>22215.000</td>\n",
       "      <td>660.000000</td>\n",
       "      <td>0.00000</td>\n",
       "      <td>7225</td>\n",
       "    </tr>\n",
       "    <tr>\n",
       "      <th>2</th>\n",
       "      <td>14</td>\n",
       "      <td>85579</td>\n",
       "      <td>340</td>\n",
       "      <td>4</td>\n",
       "      <td>520</td>\n",
       "      <td>32</td>\n",
       "      <td>1</td>\n",
       "      <td>0</td>\n",
       "      <td>1</td>\n",
       "      <td>20978.000</td>\n",
       "      <td>520.000000</td>\n",
       "      <td>0.00000</td>\n",
       "      <td>7037</td>\n",
       "    </tr>\n",
       "    <tr>\n",
       "      <th>3</th>\n",
       "      <td>14</td>\n",
       "      <td>69671</td>\n",
       "      <td>340</td>\n",
       "      <td>4</td>\n",
       "      <td>520</td>\n",
       "      <td>32</td>\n",
       "      <td>1</td>\n",
       "      <td>0</td>\n",
       "      <td>1</td>\n",
       "      <td>40722.000</td>\n",
       "      <td>520.000000</td>\n",
       "      <td>0.00000</td>\n",
       "      <td>7151</td>\n",
       "    </tr>\n",
       "    <tr>\n",
       "      <th>4</th>\n",
       "      <td>14</td>\n",
       "      <td>14001</td>\n",
       "      <td>852</td>\n",
       "      <td>14</td>\n",
       "      <td>650-660</td>\n",
       "      <td>81</td>\n",
       "      <td>0</td>\n",
       "      <td>0</td>\n",
       "      <td>1</td>\n",
       "      <td>14126.000</td>\n",
       "      <td>654.501718</td>\n",
       "      <td>9.19244</td>\n",
       "      <td>7038</td>\n",
       "    </tr>\n",
       "    <tr>\n",
       "      <th>...</th>\n",
       "      <td>...</td>\n",
       "      <td>...</td>\n",
       "      <td>...</td>\n",
       "      <td>...</td>\n",
       "      <td>...</td>\n",
       "      <td>...</td>\n",
       "      <td>...</td>\n",
       "      <td>...</td>\n",
       "      <td>...</td>\n",
       "      <td>...</td>\n",
       "      <td>...</td>\n",
       "      <td>...</td>\n",
       "      <td>...</td>\n",
       "    </tr>\n",
       "    <tr>\n",
       "      <th>6584</th>\n",
       "      <td>20</td>\n",
       "      <td>38272</td>\n",
       "      <td>44</td>\n",
       "      <td>7</td>\n",
       "      <td>620-640</td>\n",
       "      <td>71</td>\n",
       "      <td>0</td>\n",
       "      <td>0</td>\n",
       "      <td>1</td>\n",
       "      <td>498.528</td>\n",
       "      <td>620.000000</td>\n",
       "      <td>20.00000</td>\n",
       "      <td>2748</td>\n",
       "    </tr>\n",
       "    <tr>\n",
       "      <th>6585</th>\n",
       "      <td>20</td>\n",
       "      <td>38272</td>\n",
       "      <td>44</td>\n",
       "      <td>7</td>\n",
       "      <td>620-640</td>\n",
       "      <td>87</td>\n",
       "      <td>0</td>\n",
       "      <td>0</td>\n",
       "      <td>0</td>\n",
       "      <td>2960.000</td>\n",
       "      <td>620.000000</td>\n",
       "      <td>20.00000</td>\n",
       "      <td>4056</td>\n",
       "    </tr>\n",
       "    <tr>\n",
       "      <th>6586</th>\n",
       "      <td>20</td>\n",
       "      <td>38272</td>\n",
       "      <td>44</td>\n",
       "      <td>7</td>\n",
       "      <td>620-640</td>\n",
       "      <td>17</td>\n",
       "      <td>0</td>\n",
       "      <td>0</td>\n",
       "      <td>1</td>\n",
       "      <td>7580.000</td>\n",
       "      <td>620.000000</td>\n",
       "      <td>20.00000</td>\n",
       "      <td>3660</td>\n",
       "    </tr>\n",
       "    <tr>\n",
       "      <th>6587</th>\n",
       "      <td>20</td>\n",
       "      <td>38272</td>\n",
       "      <td>44</td>\n",
       "      <td>7</td>\n",
       "      <td>620-640</td>\n",
       "      <td>81</td>\n",
       "      <td>0</td>\n",
       "      <td>0</td>\n",
       "      <td>1</td>\n",
       "      <td>9200.000</td>\n",
       "      <td>620.000000</td>\n",
       "      <td>20.00000</td>\n",
       "      <td>5698</td>\n",
       "    </tr>\n",
       "    <tr>\n",
       "      <th>6588</th>\n",
       "      <td>20</td>\n",
       "      <td>27629</td>\n",
       "      <td>44</td>\n",
       "      <td>7</td>\n",
       "      <td>620-640</td>\n",
       "      <td>32</td>\n",
       "      <td>1</td>\n",
       "      <td>0</td>\n",
       "      <td>1</td>\n",
       "      <td>20010.000</td>\n",
       "      <td>620.000000</td>\n",
       "      <td>20.00000</td>\n",
       "      <td>5552</td>\n",
       "    </tr>\n",
       "  </tbody>\n",
       "</table>\n",
       "<p>6589 rows × 13 columns</p>\n",
       "</div>\n",
       "      <button class=\"colab-df-convert\" onclick=\"convertToInteractive('df-f7bfcefc-5555-43bf-915c-7a3039649d95')\"\n",
       "              title=\"Convert this dataframe to an interactive table.\"\n",
       "              style=\"display:none;\">\n",
       "        \n",
       "  <svg xmlns=\"http://www.w3.org/2000/svg\" height=\"24px\"viewBox=\"0 0 24 24\"\n",
       "       width=\"24px\">\n",
       "    <path d=\"M0 0h24v24H0V0z\" fill=\"none\"/>\n",
       "    <path d=\"M18.56 5.44l.94 2.06.94-2.06 2.06-.94-2.06-.94-.94-2.06-.94 2.06-2.06.94zm-11 1L8.5 8.5l.94-2.06 2.06-.94-2.06-.94L8.5 2.5l-.94 2.06-2.06.94zm10 10l.94 2.06.94-2.06 2.06-.94-2.06-.94-.94-2.06-.94 2.06-2.06.94z\"/><path d=\"M17.41 7.96l-1.37-1.37c-.4-.4-.92-.59-1.43-.59-.52 0-1.04.2-1.43.59L10.3 9.45l-7.72 7.72c-.78.78-.78 2.05 0 2.83L4 21.41c.39.39.9.59 1.41.59.51 0 1.02-.2 1.41-.59l7.78-7.78 2.81-2.81c.8-.78.8-2.07 0-2.86zM5.41 20L4 18.59l7.72-7.72 1.47 1.35L5.41 20z\"/>\n",
       "  </svg>\n",
       "      </button>\n",
       "      \n",
       "  <style>\n",
       "    .colab-df-container {\n",
       "      display:flex;\n",
       "      flex-wrap:wrap;\n",
       "      gap: 12px;\n",
       "    }\n",
       "\n",
       "    .colab-df-convert {\n",
       "      background-color: #E8F0FE;\n",
       "      border: none;\n",
       "      border-radius: 50%;\n",
       "      cursor: pointer;\n",
       "      display: none;\n",
       "      fill: #1967D2;\n",
       "      height: 32px;\n",
       "      padding: 0 0 0 0;\n",
       "      width: 32px;\n",
       "    }\n",
       "\n",
       "    .colab-df-convert:hover {\n",
       "      background-color: #E2EBFA;\n",
       "      box-shadow: 0px 1px 2px rgba(60, 64, 67, 0.3), 0px 1px 3px 1px rgba(60, 64, 67, 0.15);\n",
       "      fill: #174EA6;\n",
       "    }\n",
       "\n",
       "    [theme=dark] .colab-df-convert {\n",
       "      background-color: #3B4455;\n",
       "      fill: #D2E3FC;\n",
       "    }\n",
       "\n",
       "    [theme=dark] .colab-df-convert:hover {\n",
       "      background-color: #434B5C;\n",
       "      box-shadow: 0px 1px 3px 1px rgba(0, 0, 0, 0.15);\n",
       "      filter: drop-shadow(0px 1px 2px rgba(0, 0, 0, 0.3));\n",
       "      fill: #FFFFFF;\n",
       "    }\n",
       "  </style>\n",
       "\n",
       "      <script>\n",
       "        const buttonEl =\n",
       "          document.querySelector('#df-f7bfcefc-5555-43bf-915c-7a3039649d95 button.colab-df-convert');\n",
       "        buttonEl.style.display =\n",
       "          google.colab.kernel.accessAllowed ? 'block' : 'none';\n",
       "\n",
       "        async function convertToInteractive(key) {\n",
       "          const element = document.querySelector('#df-f7bfcefc-5555-43bf-915c-7a3039649d95');\n",
       "          const dataTable =\n",
       "            await google.colab.kernel.invokeFunction('convertToInteractive',\n",
       "                                                     [key], {});\n",
       "          if (!dataTable) return;\n",
       "\n",
       "          const docLinkHtml = 'Like what you see? Visit the ' +\n",
       "            '<a target=\"_blank\" href=https://colab.research.google.com/notebooks/data_table.ipynb>data table notebook</a>'\n",
       "            + ' to learn more about interactive tables.';\n",
       "          element.innerHTML = '';\n",
       "          dataTable['output_type'] = 'display_data';\n",
       "          await google.colab.output.renderOutput(dataTable, element);\n",
       "          const docLink = document.createElement('div');\n",
       "          docLink.innerHTML = docLinkHtml;\n",
       "          element.appendChild(docLink);\n",
       "        }\n",
       "      </script>\n",
       "    </div>\n",
       "  </div>\n",
       "  "
      ],
      "text/plain": [
       "      CAMPAÑA  ID_FINCA  ID_ZONA  ID_ESTACION  ALTITUD  VARIEDAD  MODO  TIPO  \\\n",
       "0          14     76953      515            4      660        26     1     0   \n",
       "1          14     84318      515            4      660        26     1     0   \n",
       "2          14     85579      340            4      520        32     1     0   \n",
       "3          14     69671      340            4      520        32     1     0   \n",
       "4          14     14001      852           14  650-660        81     0     0   \n",
       "...       ...       ...      ...          ...      ...       ...   ...   ...   \n",
       "6584       20     38272       44            7  620-640        71     0     0   \n",
       "6585       20     38272       44            7  620-640        87     0     0   \n",
       "6586       20     38272       44            7  620-640        17     0     0   \n",
       "6587       20     38272       44            7  620-640        81     0     0   \n",
       "6588       20     27629       44            7  620-640        32     1     0   \n",
       "\n",
       "      COLOR  PRODUCCION  ALTITUD_MIN  ALTITUD_DIF  SUPERFICIE_CAT  \n",
       "0         1   22215.000   660.000000      0.00000            7225  \n",
       "1         1   22215.000   660.000000      0.00000            7225  \n",
       "2         1   20978.000   520.000000      0.00000            7037  \n",
       "3         1   40722.000   520.000000      0.00000            7151  \n",
       "4         1   14126.000   654.501718      9.19244            7038  \n",
       "...     ...         ...          ...          ...             ...  \n",
       "6584      1     498.528   620.000000     20.00000            2748  \n",
       "6585      0    2960.000   620.000000     20.00000            4056  \n",
       "6586      1    7580.000   620.000000     20.00000            3660  \n",
       "6587      1    9200.000   620.000000     20.00000            5698  \n",
       "6588      1   20010.000   620.000000     20.00000            5552  \n",
       "\n",
       "[6589 rows x 13 columns]"
      ]
     },
     "execution_count": 44,
     "metadata": {},
     "output_type": "execute_result"
    }
   ],
   "source": [
    "X_train"
   ]
  },
  {
   "cell_type": "code",
   "execution_count": 80,
   "metadata": {
    "colab": {
     "base_uri": "https://localhost:8080/",
     "height": 519
    },
    "id": "xCk8dS2XthlX",
    "outputId": "7f274a71-a6c7-4e44-c3b6-98e0e066a104"
   },
   "outputs": [
    {
     "data": {
      "text/html": [
       "\n",
       "  <div id=\"df-0a0d44ea-eba8-4caf-99c5-02df90ae6aa6\">\n",
       "    <div class=\"colab-df-container\">\n",
       "      <div>\n",
       "<style scoped>\n",
       "    .dataframe tbody tr th:only-of-type {\n",
       "        vertical-align: middle;\n",
       "    }\n",
       "\n",
       "    .dataframe tbody tr th {\n",
       "        vertical-align: top;\n",
       "    }\n",
       "\n",
       "    .dataframe thead th {\n",
       "        text-align: right;\n",
       "    }\n",
       "</style>\n",
       "<table border=\"1\" class=\"dataframe\">\n",
       "  <thead>\n",
       "    <tr style=\"text-align: right;\">\n",
       "      <th></th>\n",
       "      <th>CAMPAÑA</th>\n",
       "      <th>ID_FINCA</th>\n",
       "      <th>ID_ZONA</th>\n",
       "      <th>ID_ESTACION</th>\n",
       "      <th>ALTITUD</th>\n",
       "      <th>VARIEDAD</th>\n",
       "      <th>MODO</th>\n",
       "      <th>TIPO</th>\n",
       "      <th>COLOR</th>\n",
       "      <th>PRODUCCION</th>\n",
       "      <th>ALTITUD_MIN</th>\n",
       "      <th>ALTITUD_DIF</th>\n",
       "    </tr>\n",
       "    <tr>\n",
       "      <th>SUPERFICIE_CAT</th>\n",
       "      <th></th>\n",
       "      <th></th>\n",
       "      <th></th>\n",
       "      <th></th>\n",
       "      <th></th>\n",
       "      <th></th>\n",
       "      <th></th>\n",
       "      <th></th>\n",
       "      <th></th>\n",
       "      <th></th>\n",
       "      <th></th>\n",
       "      <th></th>\n",
       "    </tr>\n",
       "  </thead>\n",
       "  <tbody>\n",
       "    <tr>\n",
       "      <th>12</th>\n",
       "      <td>1</td>\n",
       "      <td>1</td>\n",
       "      <td>1</td>\n",
       "      <td>1</td>\n",
       "      <td>1</td>\n",
       "      <td>1</td>\n",
       "      <td>1</td>\n",
       "      <td>1</td>\n",
       "      <td>1</td>\n",
       "      <td>1</td>\n",
       "      <td>1</td>\n",
       "      <td>1</td>\n",
       "    </tr>\n",
       "    <tr>\n",
       "      <th>17</th>\n",
       "      <td>1</td>\n",
       "      <td>1</td>\n",
       "      <td>1</td>\n",
       "      <td>1</td>\n",
       "      <td>1</td>\n",
       "      <td>1</td>\n",
       "      <td>1</td>\n",
       "      <td>1</td>\n",
       "      <td>1</td>\n",
       "      <td>1</td>\n",
       "      <td>1</td>\n",
       "      <td>1</td>\n",
       "    </tr>\n",
       "    <tr>\n",
       "      <th>18</th>\n",
       "      <td>1</td>\n",
       "      <td>1</td>\n",
       "      <td>1</td>\n",
       "      <td>1</td>\n",
       "      <td>1</td>\n",
       "      <td>1</td>\n",
       "      <td>1</td>\n",
       "      <td>1</td>\n",
       "      <td>1</td>\n",
       "      <td>1</td>\n",
       "      <td>1</td>\n",
       "      <td>1</td>\n",
       "    </tr>\n",
       "    <tr>\n",
       "      <th>20</th>\n",
       "      <td>1</td>\n",
       "      <td>1</td>\n",
       "      <td>1</td>\n",
       "      <td>1</td>\n",
       "      <td>1</td>\n",
       "      <td>1</td>\n",
       "      <td>1</td>\n",
       "      <td>1</td>\n",
       "      <td>1</td>\n",
       "      <td>1</td>\n",
       "      <td>1</td>\n",
       "      <td>1</td>\n",
       "    </tr>\n",
       "    <tr>\n",
       "      <th>24</th>\n",
       "      <td>1</td>\n",
       "      <td>1</td>\n",
       "      <td>1</td>\n",
       "      <td>1</td>\n",
       "      <td>1</td>\n",
       "      <td>1</td>\n",
       "      <td>1</td>\n",
       "      <td>1</td>\n",
       "      <td>1</td>\n",
       "      <td>1</td>\n",
       "      <td>1</td>\n",
       "      <td>1</td>\n",
       "    </tr>\n",
       "    <tr>\n",
       "      <th>...</th>\n",
       "      <td>...</td>\n",
       "      <td>...</td>\n",
       "      <td>...</td>\n",
       "      <td>...</td>\n",
       "      <td>...</td>\n",
       "      <td>...</td>\n",
       "      <td>...</td>\n",
       "      <td>...</td>\n",
       "      <td>...</td>\n",
       "      <td>...</td>\n",
       "      <td>...</td>\n",
       "      <td>...</td>\n",
       "    </tr>\n",
       "    <tr>\n",
       "      <th>7419</th>\n",
       "      <td>2</td>\n",
       "      <td>2</td>\n",
       "      <td>2</td>\n",
       "      <td>2</td>\n",
       "      <td>2</td>\n",
       "      <td>2</td>\n",
       "      <td>2</td>\n",
       "      <td>2</td>\n",
       "      <td>2</td>\n",
       "      <td>2</td>\n",
       "      <td>2</td>\n",
       "      <td>2</td>\n",
       "    </tr>\n",
       "    <tr>\n",
       "      <th>7422</th>\n",
       "      <td>1</td>\n",
       "      <td>1</td>\n",
       "      <td>1</td>\n",
       "      <td>1</td>\n",
       "      <td>1</td>\n",
       "      <td>1</td>\n",
       "      <td>1</td>\n",
       "      <td>1</td>\n",
       "      <td>1</td>\n",
       "      <td>1</td>\n",
       "      <td>1</td>\n",
       "      <td>1</td>\n",
       "    </tr>\n",
       "    <tr>\n",
       "      <th>7425</th>\n",
       "      <td>1</td>\n",
       "      <td>1</td>\n",
       "      <td>1</td>\n",
       "      <td>1</td>\n",
       "      <td>1</td>\n",
       "      <td>1</td>\n",
       "      <td>1</td>\n",
       "      <td>1</td>\n",
       "      <td>1</td>\n",
       "      <td>1</td>\n",
       "      <td>1</td>\n",
       "      <td>1</td>\n",
       "    </tr>\n",
       "    <tr>\n",
       "      <th>7433</th>\n",
       "      <td>1</td>\n",
       "      <td>1</td>\n",
       "      <td>1</td>\n",
       "      <td>1</td>\n",
       "      <td>1</td>\n",
       "      <td>1</td>\n",
       "      <td>1</td>\n",
       "      <td>1</td>\n",
       "      <td>1</td>\n",
       "      <td>1</td>\n",
       "      <td>1</td>\n",
       "      <td>1</td>\n",
       "    </tr>\n",
       "    <tr>\n",
       "      <th>7434</th>\n",
       "      <td>1</td>\n",
       "      <td>1</td>\n",
       "      <td>1</td>\n",
       "      <td>1</td>\n",
       "      <td>1</td>\n",
       "      <td>1</td>\n",
       "      <td>1</td>\n",
       "      <td>1</td>\n",
       "      <td>1</td>\n",
       "      <td>1</td>\n",
       "      <td>1</td>\n",
       "      <td>1</td>\n",
       "    </tr>\n",
       "  </tbody>\n",
       "</table>\n",
       "<p>1639 rows × 12 columns</p>\n",
       "</div>\n",
       "      <button class=\"colab-df-convert\" onclick=\"convertToInteractive('df-0a0d44ea-eba8-4caf-99c5-02df90ae6aa6')\"\n",
       "              title=\"Convert this dataframe to an interactive table.\"\n",
       "              style=\"display:none;\">\n",
       "        \n",
       "  <svg xmlns=\"http://www.w3.org/2000/svg\" height=\"24px\"viewBox=\"0 0 24 24\"\n",
       "       width=\"24px\">\n",
       "    <path d=\"M0 0h24v24H0V0z\" fill=\"none\"/>\n",
       "    <path d=\"M18.56 5.44l.94 2.06.94-2.06 2.06-.94-2.06-.94-.94-2.06-.94 2.06-2.06.94zm-11 1L8.5 8.5l.94-2.06 2.06-.94-2.06-.94L8.5 2.5l-.94 2.06-2.06.94zm10 10l.94 2.06.94-2.06 2.06-.94-2.06-.94-.94-2.06-.94 2.06-2.06.94z\"/><path d=\"M17.41 7.96l-1.37-1.37c-.4-.4-.92-.59-1.43-.59-.52 0-1.04.2-1.43.59L10.3 9.45l-7.72 7.72c-.78.78-.78 2.05 0 2.83L4 21.41c.39.39.9.59 1.41.59.51 0 1.02-.2 1.41-.59l7.78-7.78 2.81-2.81c.8-.78.8-2.07 0-2.86zM5.41 20L4 18.59l7.72-7.72 1.47 1.35L5.41 20z\"/>\n",
       "  </svg>\n",
       "      </button>\n",
       "      \n",
       "  <style>\n",
       "    .colab-df-container {\n",
       "      display:flex;\n",
       "      flex-wrap:wrap;\n",
       "      gap: 12px;\n",
       "    }\n",
       "\n",
       "    .colab-df-convert {\n",
       "      background-color: #E8F0FE;\n",
       "      border: none;\n",
       "      border-radius: 50%;\n",
       "      cursor: pointer;\n",
       "      display: none;\n",
       "      fill: #1967D2;\n",
       "      height: 32px;\n",
       "      padding: 0 0 0 0;\n",
       "      width: 32px;\n",
       "    }\n",
       "\n",
       "    .colab-df-convert:hover {\n",
       "      background-color: #E2EBFA;\n",
       "      box-shadow: 0px 1px 2px rgba(60, 64, 67, 0.3), 0px 1px 3px 1px rgba(60, 64, 67, 0.15);\n",
       "      fill: #174EA6;\n",
       "    }\n",
       "\n",
       "    [theme=dark] .colab-df-convert {\n",
       "      background-color: #3B4455;\n",
       "      fill: #D2E3FC;\n",
       "    }\n",
       "\n",
       "    [theme=dark] .colab-df-convert:hover {\n",
       "      background-color: #434B5C;\n",
       "      box-shadow: 0px 1px 3px 1px rgba(0, 0, 0, 0.15);\n",
       "      filter: drop-shadow(0px 1px 2px rgba(0, 0, 0, 0.3));\n",
       "      fill: #FFFFFF;\n",
       "    }\n",
       "  </style>\n",
       "\n",
       "      <script>\n",
       "        const buttonEl =\n",
       "          document.querySelector('#df-0a0d44ea-eba8-4caf-99c5-02df90ae6aa6 button.colab-df-convert');\n",
       "        buttonEl.style.display =\n",
       "          google.colab.kernel.accessAllowed ? 'block' : 'none';\n",
       "\n",
       "        async function convertToInteractive(key) {\n",
       "          const element = document.querySelector('#df-0a0d44ea-eba8-4caf-99c5-02df90ae6aa6');\n",
       "          const dataTable =\n",
       "            await google.colab.kernel.invokeFunction('convertToInteractive',\n",
       "                                                     [key], {});\n",
       "          if (!dataTable) return;\n",
       "\n",
       "          const docLinkHtml = 'Like what you see? Visit the ' +\n",
       "            '<a target=\"_blank\" href=https://colab.research.google.com/notebooks/data_table.ipynb>data table notebook</a>'\n",
       "            + ' to learn more about interactive tables.';\n",
       "          element.innerHTML = '';\n",
       "          dataTable['output_type'] = 'display_data';\n",
       "          await google.colab.output.renderOutput(dataTable, element);\n",
       "          const docLink = document.createElement('div');\n",
       "          docLink.innerHTML = docLinkHtml;\n",
       "          element.appendChild(docLink);\n",
       "        }\n",
       "      </script>\n",
       "    </div>\n",
       "  </div>\n",
       "  "
      ],
      "text/plain": [
       "                CAMPAÑA  ID_FINCA  ID_ZONA  ID_ESTACION  ALTITUD  VARIEDAD  \\\n",
       "SUPERFICIE_CAT                                                               \n",
       "12                    1         1        1            1        1         1   \n",
       "17                    1         1        1            1        1         1   \n",
       "18                    1         1        1            1        1         1   \n",
       "20                    1         1        1            1        1         1   \n",
       "24                    1         1        1            1        1         1   \n",
       "...                 ...       ...      ...          ...      ...       ...   \n",
       "7419                  2         2        2            2        2         2   \n",
       "7422                  1         1        1            1        1         1   \n",
       "7425                  1         1        1            1        1         1   \n",
       "7433                  1         1        1            1        1         1   \n",
       "7434                  1         1        1            1        1         1   \n",
       "\n",
       "                MODO  TIPO  COLOR  PRODUCCION  ALTITUD_MIN  ALTITUD_DIF  \n",
       "SUPERFICIE_CAT                                                           \n",
       "12                 1     1      1           1            1            1  \n",
       "17                 1     1      1           1            1            1  \n",
       "18                 1     1      1           1            1            1  \n",
       "20                 1     1      1           1            1            1  \n",
       "24                 1     1      1           1            1            1  \n",
       "...              ...   ...    ...         ...          ...          ...  \n",
       "7419               2     2      2           2            2            2  \n",
       "7422               1     1      1           1            1            1  \n",
       "7425               1     1      1           1            1            1  \n",
       "7433               1     1      1           1            1            1  \n",
       "7434               1     1      1           1            1            1  \n",
       "\n",
       "[1639 rows x 12 columns]"
      ]
     },
     "execution_count": 80,
     "metadata": {},
     "output_type": "execute_result"
    }
   ],
   "source": [
    "df_train.groupby(by='SUPERFICIE_CAT').count()"
   ]
  },
  {
   "cell_type": "code",
   "execution_count": 82,
   "metadata": {
    "colab": {
     "base_uri": "https://localhost:8080/"
    },
    "id": "CFaAV-OEuugy",
    "outputId": "d2dc3928-d09a-4ecc-bca1-3e395ef49729"
   },
   "outputs": [
    {
     "data": {
      "text/plain": [
       "((8526, 13), (1937, 13))"
      ]
     },
     "execution_count": 82,
     "metadata": {},
     "output_type": "execute_result"
    }
   ],
   "source": [
    "df.shape, df_train.shape"
   ]
  },
  {
   "cell_type": "code",
   "execution_count": 79,
   "metadata": {
    "colab": {
     "base_uri": "https://localhost:8080/",
     "height": 407
    },
    "id": "CSfw921IgOnW",
    "outputId": "36f6acbf-3615-47d0-c7ff-82701ae97221"
   },
   "outputs": [
    {
     "ename": "ValueError",
     "evalue": "ignored",
     "output_type": "error",
     "traceback": [
      "\u001b[0;31m---------------------------------------------------------------------------\u001b[0m",
      "\u001b[0;31mValueError\u001b[0m                                Traceback (most recent call last)",
      "\u001b[0;32m<ipython-input-79-233f00ccf2ac>\u001b[0m in \u001b[0;36m<module>\u001b[0;34m\u001b[0m\n\u001b[0;32m----> 1\u001b[0;31m df_train2, df_test= train_test_split(df_train, \n\u001b[0m\u001b[1;32m      2\u001b[0m                                     \u001b[0mtest_size\u001b[0m\u001b[0;34m=\u001b[0m \u001b[0;36m0.15\u001b[0m\u001b[0;34m,\u001b[0m\u001b[0;34m\u001b[0m\u001b[0;34m\u001b[0m\u001b[0m\n\u001b[1;32m      3\u001b[0m                                     \u001b[0mshuffle\u001b[0m\u001b[0;34m=\u001b[0m \u001b[0;32mTrue\u001b[0m\u001b[0;34m,\u001b[0m\u001b[0;34m\u001b[0m\u001b[0;34m\u001b[0m\u001b[0m\n\u001b[1;32m      4\u001b[0m                                     \u001b[0mrandom_state\u001b[0m\u001b[0;34m=\u001b[0m \u001b[0;36m0\u001b[0m\u001b[0;34m,\u001b[0m\u001b[0;34m\u001b[0m\u001b[0;34m\u001b[0m\u001b[0m\n\u001b[1;32m      5\u001b[0m                                     stratify=df_train[[\"SUPERFICIE_CAT\"]])\n",
      "\u001b[0;32m/usr/local/lib/python3.8/dist-packages/sklearn/model_selection/_split.py\u001b[0m in \u001b[0;36mtrain_test_split\u001b[0;34m(test_size, train_size, random_state, shuffle, stratify, *arrays)\u001b[0m\n\u001b[1;32m   2581\u001b[0m         \u001b[0mcv\u001b[0m \u001b[0;34m=\u001b[0m \u001b[0mCVClass\u001b[0m\u001b[0;34m(\u001b[0m\u001b[0mtest_size\u001b[0m\u001b[0;34m=\u001b[0m\u001b[0mn_test\u001b[0m\u001b[0;34m,\u001b[0m \u001b[0mtrain_size\u001b[0m\u001b[0;34m=\u001b[0m\u001b[0mn_train\u001b[0m\u001b[0;34m,\u001b[0m \u001b[0mrandom_state\u001b[0m\u001b[0;34m=\u001b[0m\u001b[0mrandom_state\u001b[0m\u001b[0;34m)\u001b[0m\u001b[0;34m\u001b[0m\u001b[0;34m\u001b[0m\u001b[0m\n\u001b[1;32m   2582\u001b[0m \u001b[0;34m\u001b[0m\u001b[0m\n\u001b[0;32m-> 2583\u001b[0;31m         \u001b[0mtrain\u001b[0m\u001b[0;34m,\u001b[0m \u001b[0mtest\u001b[0m \u001b[0;34m=\u001b[0m \u001b[0mnext\u001b[0m\u001b[0;34m(\u001b[0m\u001b[0mcv\u001b[0m\u001b[0;34m.\u001b[0m\u001b[0msplit\u001b[0m\u001b[0;34m(\u001b[0m\u001b[0mX\u001b[0m\u001b[0;34m=\u001b[0m\u001b[0marrays\u001b[0m\u001b[0;34m[\u001b[0m\u001b[0;36m0\u001b[0m\u001b[0;34m]\u001b[0m\u001b[0;34m,\u001b[0m \u001b[0my\u001b[0m\u001b[0;34m=\u001b[0m\u001b[0mstratify\u001b[0m\u001b[0;34m)\u001b[0m\u001b[0;34m)\u001b[0m\u001b[0;34m\u001b[0m\u001b[0;34m\u001b[0m\u001b[0m\n\u001b[0m\u001b[1;32m   2584\u001b[0m \u001b[0;34m\u001b[0m\u001b[0m\n\u001b[1;32m   2585\u001b[0m     return list(\n",
      "\u001b[0;32m/usr/local/lib/python3.8/dist-packages/sklearn/model_selection/_split.py\u001b[0m in \u001b[0;36msplit\u001b[0;34m(self, X, y, groups)\u001b[0m\n\u001b[1;32m   1687\u001b[0m         \"\"\"\n\u001b[1;32m   1688\u001b[0m         \u001b[0mX\u001b[0m\u001b[0;34m,\u001b[0m \u001b[0my\u001b[0m\u001b[0;34m,\u001b[0m \u001b[0mgroups\u001b[0m \u001b[0;34m=\u001b[0m \u001b[0mindexable\u001b[0m\u001b[0;34m(\u001b[0m\u001b[0mX\u001b[0m\u001b[0;34m,\u001b[0m \u001b[0my\u001b[0m\u001b[0;34m,\u001b[0m \u001b[0mgroups\u001b[0m\u001b[0;34m)\u001b[0m\u001b[0;34m\u001b[0m\u001b[0;34m\u001b[0m\u001b[0m\n\u001b[0;32m-> 1689\u001b[0;31m         \u001b[0;32mfor\u001b[0m \u001b[0mtrain\u001b[0m\u001b[0;34m,\u001b[0m \u001b[0mtest\u001b[0m \u001b[0;32min\u001b[0m \u001b[0mself\u001b[0m\u001b[0;34m.\u001b[0m\u001b[0m_iter_indices\u001b[0m\u001b[0;34m(\u001b[0m\u001b[0mX\u001b[0m\u001b[0;34m,\u001b[0m \u001b[0my\u001b[0m\u001b[0;34m,\u001b[0m \u001b[0mgroups\u001b[0m\u001b[0;34m)\u001b[0m\u001b[0;34m:\u001b[0m\u001b[0;34m\u001b[0m\u001b[0;34m\u001b[0m\u001b[0m\n\u001b[0m\u001b[1;32m   1690\u001b[0m             \u001b[0;32myield\u001b[0m \u001b[0mtrain\u001b[0m\u001b[0;34m,\u001b[0m \u001b[0mtest\u001b[0m\u001b[0;34m\u001b[0m\u001b[0;34m\u001b[0m\u001b[0m\n\u001b[1;32m   1691\u001b[0m \u001b[0;34m\u001b[0m\u001b[0m\n",
      "\u001b[0;32m/usr/local/lib/python3.8/dist-packages/sklearn/model_selection/_split.py\u001b[0m in \u001b[0;36m_iter_indices\u001b[0;34m(self, X, y, groups)\u001b[0m\n\u001b[1;32m   2076\u001b[0m         \u001b[0mclass_counts\u001b[0m \u001b[0;34m=\u001b[0m \u001b[0mnp\u001b[0m\u001b[0;34m.\u001b[0m\u001b[0mbincount\u001b[0m\u001b[0;34m(\u001b[0m\u001b[0my_indices\u001b[0m\u001b[0;34m)\u001b[0m\u001b[0;34m\u001b[0m\u001b[0;34m\u001b[0m\u001b[0m\n\u001b[1;32m   2077\u001b[0m         \u001b[0;32mif\u001b[0m \u001b[0mnp\u001b[0m\u001b[0;34m.\u001b[0m\u001b[0mmin\u001b[0m\u001b[0;34m(\u001b[0m\u001b[0mclass_counts\u001b[0m\u001b[0;34m)\u001b[0m \u001b[0;34m<\u001b[0m \u001b[0;36m2\u001b[0m\u001b[0;34m:\u001b[0m\u001b[0;34m\u001b[0m\u001b[0;34m\u001b[0m\u001b[0m\n\u001b[0;32m-> 2078\u001b[0;31m             raise ValueError(\n\u001b[0m\u001b[1;32m   2079\u001b[0m                 \u001b[0;34m\"The least populated class in y has only 1\"\u001b[0m\u001b[0;34m\u001b[0m\u001b[0;34m\u001b[0m\u001b[0m\n\u001b[1;32m   2080\u001b[0m                 \u001b[0;34m\" member, which is too few. The minimum\"\u001b[0m\u001b[0;34m\u001b[0m\u001b[0;34m\u001b[0m\u001b[0m\n",
      "\u001b[0;31mValueError\u001b[0m: The least populated class in y has only 1 member, which is too few. The minimum number of groups for any class cannot be less than 2."
     ]
    }
   ],
   "source": [
    "df_train2, df_test= train_test_split(df_train, \n",
    "                                    test_size= 0.15,\n",
    "                                    shuffle= True, \n",
    "                                    random_state= 0, \n",
    "                                    stratify=df_train[[\"SUPERFICIE_CAT\"]])"
   ]
  },
  {
   "cell_type": "markdown",
   "metadata": {
    "id": "ZZT6vRnpfIq5"
   },
   "source": [
    "+ xgboost x predir superficie categòrica"
   ]
  },
  {
   "cell_type": "code",
   "execution_count": 62,
   "metadata": {
    "colab": {
     "base_uri": "https://localhost:8080/",
     "height": 1000
    },
    "id": "Vf8wBXnvf9e1",
    "outputId": "457151f4-6c11-433c-d4d6-769f5e0f7fa0"
   },
   "outputs": [
    {
     "name": "stderr",
     "output_type": "stream",
     "text": [
      "/usr/local/lib/python3.8/dist-packages/sklearn/model_selection/_split.py:700: UserWarning: The least populated class in y has only 1 members, which is less than n_splits=5.\n",
      "  warnings.warn(\n"
     ]
    },
    {
     "ename": "ValueError",
     "evalue": "ignored",
     "output_type": "error",
     "traceback": [
      "\u001b[0;31m---------------------------------------------------------------------------\u001b[0m",
      "\u001b[0;31mValueError\u001b[0m                                Traceback (most recent call last)",
      "\u001b[0;32m<ipython-input-62-eee41e37ba6f>\u001b[0m in \u001b[0;36m<module>\u001b[0;34m\u001b[0m\n\u001b[1;32m      9\u001b[0m             cv=5, scoring='neg_root_mean_squared_error', verbose=0, n_jobs=-1)\n\u001b[1;32m     10\u001b[0m \u001b[0;34m\u001b[0m\u001b[0m\n\u001b[0;32m---> 11\u001b[0;31m \u001b[0mgrid_result_sup\u001b[0m \u001b[0;34m=\u001b[0m \u001b[0mgsc_sup\u001b[0m\u001b[0;34m.\u001b[0m\u001b[0mfit\u001b[0m\u001b[0;34m(\u001b[0m\u001b[0mX_train\u001b[0m\u001b[0;34m,\u001b[0m \u001b[0my_train\u001b[0m\u001b[0;34m)\u001b[0m\u001b[0;34m\u001b[0m\u001b[0;34m\u001b[0m\u001b[0m\n\u001b[0m\u001b[1;32m     12\u001b[0m \u001b[0;31m#xgb_model = xgb.XGBClassifier(objective=\"multi:softprob\", random_state=42)\u001b[0m\u001b[0;34m\u001b[0m\u001b[0;34m\u001b[0m\u001b[0;34m\u001b[0m\u001b[0m\n\u001b[1;32m     13\u001b[0m \u001b[0;31m#xgb_model.fit(X, y)\u001b[0m\u001b[0;34m\u001b[0m\u001b[0;34m\u001b[0m\u001b[0;34m\u001b[0m\u001b[0m\n",
      "\u001b[0;32m/usr/local/lib/python3.8/dist-packages/sklearn/model_selection/_search.py\u001b[0m in \u001b[0;36mfit\u001b[0;34m(self, X, y, groups, **fit_params)\u001b[0m\n\u001b[1;32m    872\u001b[0m                 \u001b[0;32mreturn\u001b[0m \u001b[0mresults\u001b[0m\u001b[0;34m\u001b[0m\u001b[0;34m\u001b[0m\u001b[0m\n\u001b[1;32m    873\u001b[0m \u001b[0;34m\u001b[0m\u001b[0m\n\u001b[0;32m--> 874\u001b[0;31m             \u001b[0mself\u001b[0m\u001b[0;34m.\u001b[0m\u001b[0m_run_search\u001b[0m\u001b[0;34m(\u001b[0m\u001b[0mevaluate_candidates\u001b[0m\u001b[0;34m)\u001b[0m\u001b[0;34m\u001b[0m\u001b[0;34m\u001b[0m\u001b[0m\n\u001b[0m\u001b[1;32m    875\u001b[0m \u001b[0;34m\u001b[0m\u001b[0m\n\u001b[1;32m    876\u001b[0m             \u001b[0;31m# multimetric is determined here because in the case of a callable\u001b[0m\u001b[0;34m\u001b[0m\u001b[0;34m\u001b[0m\u001b[0;34m\u001b[0m\u001b[0m\n",
      "\u001b[0;32m/usr/local/lib/python3.8/dist-packages/sklearn/model_selection/_search.py\u001b[0m in \u001b[0;36m_run_search\u001b[0;34m(self, evaluate_candidates)\u001b[0m\n\u001b[1;32m   1386\u001b[0m     \u001b[0;32mdef\u001b[0m \u001b[0m_run_search\u001b[0m\u001b[0;34m(\u001b[0m\u001b[0mself\u001b[0m\u001b[0;34m,\u001b[0m \u001b[0mevaluate_candidates\u001b[0m\u001b[0;34m)\u001b[0m\u001b[0;34m:\u001b[0m\u001b[0;34m\u001b[0m\u001b[0;34m\u001b[0m\u001b[0m\n\u001b[1;32m   1387\u001b[0m         \u001b[0;34m\"\"\"Search all candidates in param_grid\"\"\"\u001b[0m\u001b[0;34m\u001b[0m\u001b[0;34m\u001b[0m\u001b[0m\n\u001b[0;32m-> 1388\u001b[0;31m         \u001b[0mevaluate_candidates\u001b[0m\u001b[0;34m(\u001b[0m\u001b[0mParameterGrid\u001b[0m\u001b[0;34m(\u001b[0m\u001b[0mself\u001b[0m\u001b[0;34m.\u001b[0m\u001b[0mparam_grid\u001b[0m\u001b[0;34m)\u001b[0m\u001b[0;34m)\u001b[0m\u001b[0;34m\u001b[0m\u001b[0;34m\u001b[0m\u001b[0m\n\u001b[0m\u001b[1;32m   1389\u001b[0m \u001b[0;34m\u001b[0m\u001b[0m\n\u001b[1;32m   1390\u001b[0m \u001b[0;34m\u001b[0m\u001b[0m\n",
      "\u001b[0;32m/usr/local/lib/python3.8/dist-packages/sklearn/model_selection/_search.py\u001b[0m in \u001b[0;36mevaluate_candidates\u001b[0;34m(candidate_params, cv, more_results)\u001b[0m\n\u001b[1;32m    849\u001b[0m                     )\n\u001b[1;32m    850\u001b[0m \u001b[0;34m\u001b[0m\u001b[0m\n\u001b[0;32m--> 851\u001b[0;31m                 \u001b[0m_warn_or_raise_about_fit_failures\u001b[0m\u001b[0;34m(\u001b[0m\u001b[0mout\u001b[0m\u001b[0;34m,\u001b[0m \u001b[0mself\u001b[0m\u001b[0;34m.\u001b[0m\u001b[0merror_score\u001b[0m\u001b[0;34m)\u001b[0m\u001b[0;34m\u001b[0m\u001b[0;34m\u001b[0m\u001b[0m\n\u001b[0m\u001b[1;32m    852\u001b[0m \u001b[0;34m\u001b[0m\u001b[0m\n\u001b[1;32m    853\u001b[0m                 \u001b[0;31m# For callable self.scoring, the return type is only know after\u001b[0m\u001b[0;34m\u001b[0m\u001b[0;34m\u001b[0m\u001b[0;34m\u001b[0m\u001b[0m\n",
      "\u001b[0;32m/usr/local/lib/python3.8/dist-packages/sklearn/model_selection/_validation.py\u001b[0m in \u001b[0;36m_warn_or_raise_about_fit_failures\u001b[0;34m(results, error_score)\u001b[0m\n\u001b[1;32m    365\u001b[0m                 \u001b[0;34mf\"Below are more details about the failures:\\n{fit_errors_summary}\"\u001b[0m\u001b[0;34m\u001b[0m\u001b[0;34m\u001b[0m\u001b[0m\n\u001b[1;32m    366\u001b[0m             )\n\u001b[0;32m--> 367\u001b[0;31m             \u001b[0;32mraise\u001b[0m \u001b[0mValueError\u001b[0m\u001b[0;34m(\u001b[0m\u001b[0mall_fits_failed_message\u001b[0m\u001b[0;34m)\u001b[0m\u001b[0;34m\u001b[0m\u001b[0;34m\u001b[0m\u001b[0m\n\u001b[0m\u001b[1;32m    368\u001b[0m \u001b[0;34m\u001b[0m\u001b[0m\n\u001b[1;32m    369\u001b[0m         \u001b[0;32melse\u001b[0m\u001b[0;34m:\u001b[0m\u001b[0;34m\u001b[0m\u001b[0;34m\u001b[0m\u001b[0m\n",
      "\u001b[0;31mValueError\u001b[0m: \nAll the 120 fits failed.\nIt is very likely that your model is misconfigured.\nYou can try to debug the error by setting error_score='raise'.\n\nBelow are more details about the failures:\n--------------------------------------------------------------------------------\n24 fits failed with the following error:\nTraceback (most recent call last):\n  File \"/usr/local/lib/python3.8/dist-packages/sklearn/model_selection/_validation.py\", line 686, in _fit_and_score\n    estimator.fit(X_train, y_train, **fit_params)\n  File \"/usr/local/lib/python3.8/dist-packages/xgboost/core.py\", line 620, in inner_f\n    return func(**kwargs)\n  File \"/usr/local/lib/python3.8/dist-packages/xgboost/sklearn.py\", line 1440, in fit\n    raise ValueError(\nValueError: Invalid classes inferred from unique values of `y`.  Expected: [   0    1    2 ... 5277 5278 5279], got [   0    1    2 ... 7431 7433 7434]\n\n--------------------------------------------------------------------------------\n24 fits failed with the following error:\nTraceback (most recent call last):\n  File \"/usr/local/lib/python3.8/dist-packages/sklearn/model_selection/_validation.py\", line 686, in _fit_and_score\n    estimator.fit(X_train, y_train, **fit_params)\n  File \"/usr/local/lib/python3.8/dist-packages/xgboost/core.py\", line 620, in inner_f\n    return func(**kwargs)\n  File \"/usr/local/lib/python3.8/dist-packages/xgboost/sklearn.py\", line 1440, in fit\n    raise ValueError(\nValueError: Invalid classes inferred from unique values of `y`.  Expected: [   0    1    2 ... 5275 5276 5277], got [   1    5    6 ... 7431 7432 7434]\n\n--------------------------------------------------------------------------------\n24 fits failed with the following error:\nTraceback (most recent call last):\n  File \"/usr/local/lib/python3.8/dist-packages/sklearn/model_selection/_validation.py\", line 686, in _fit_and_score\n    estimator.fit(X_train, y_train, **fit_params)\n  File \"/usr/local/lib/python3.8/dist-packages/xgboost/core.py\", line 620, in inner_f\n    return func(**kwargs)\n  File \"/usr/local/lib/python3.8/dist-packages/xgboost/sklearn.py\", line 1440, in fit\n    raise ValueError(\nValueError: Invalid classes inferred from unique values of `y`.  Expected: [   0    1    2 ... 5275 5276 5277], got [   0    2    5 ... 7431 7432 7433]\n\n--------------------------------------------------------------------------------\n24 fits failed with the following error:\nTraceback (most recent call last):\n  File \"/usr/local/lib/python3.8/dist-packages/sklearn/model_selection/_validation.py\", line 686, in _fit_and_score\n    estimator.fit(X_train, y_train, **fit_params)\n  File \"/usr/local/lib/python3.8/dist-packages/xgboost/core.py\", line 620, in inner_f\n    return func(**kwargs)\n  File \"/usr/local/lib/python3.8/dist-packages/xgboost/sklearn.py\", line 1440, in fit\n    raise ValueError(\nValueError: Invalid classes inferred from unique values of `y`.  Expected: [   0    1    2 ... 5261 5262 5263], got [   0    1    2 ... 7432 7433 7434]\n\n--------------------------------------------------------------------------------\n24 fits failed with the following error:\nTraceback (most recent call last):\n  File \"/usr/local/lib/python3.8/dist-packages/sklearn/model_selection/_validation.py\", line 686, in _fit_and_score\n    estimator.fit(X_train, y_train, **fit_params)\n  File \"/usr/local/lib/python3.8/dist-packages/xgboost/core.py\", line 620, in inner_f\n    return func(**kwargs)\n  File \"/usr/local/lib/python3.8/dist-packages/xgboost/sklearn.py\", line 1440, in fit\n    raise ValueError(\nValueError: Invalid classes inferred from unique values of `y`.  Expected: [   0    1    2 ... 5274 5275 5276], got [   0    1    2 ... 7432 7433 7434]\n"
     ]
    }
   ],
   "source": [
    "gsc_sup = GridSearchCV(\n",
    "            estimator=xgb.XGBClassifier(),\n",
    "            param_grid={\"n_estimators\": [100, 300, 500],\n",
    "                        \"learning_rate\": [0.15],\n",
    "                        \"max_depth\": [3, 20, 40, 60],\n",
    "                        \"min_child_weight\": [1],\n",
    "                        \"gamma\":[ 0.0],\n",
    "                        \"colsample_bytree\":[0.4,1],},\n",
    "            cv=5, scoring='neg_root_mean_squared_error', verbose=0, n_jobs=-1)\n",
    "\n",
    "grid_result_sup = gsc_sup.fit(X_train, y_train)\n",
    "#xgb_model = xgb.XGBClassifier(objective=\"multi:softprob\", random_state=42)\n",
    "#xgb_model.fit(X, y)\n",
    "\n",
    "#y_pred = xgb_model.predict(X)\n",
    "\n",
    "#print(confusion_matrix(y, y_pred))\n",
    "#(base_score=0.5, booster='gbtree', colsample_bylevel=1,\n",
    "#       colsample_bynode=1, colsample_bytree=1, gamma=0, learning_rate=0.1,\n",
    "#       max_delta_step=0, max_depth=3, min_child_weight=1, missing=None,\n",
    "#       n_estimators=100, n_jobs=1, nthread=None,\n",
    "#       objective='multi:softprob', random_state=0, reg_alpha=0,\n",
    "#       reg_lambda=1, scale_pos_weight=1, seed=None, silent=None,\n",
    "#       subsample=1, verbosity=1)"
   ]
  },
  {
   "cell_type": "code",
   "execution_count": null,
   "metadata": {
    "id": "sr2gWcMIiSzy"
   },
   "outputs": [],
   "source": []
  },
  {
   "cell_type": "markdown",
   "metadata": {
    "id": "qjuFpFlvfKPf"
   },
   "source": [
    "+ logistic x predir superficie categòrica"
   ]
  },
  {
   "cell_type": "code",
   "execution_count": null,
   "metadata": {
    "id": "RCe53vjif7Gn"
   },
   "outputs": [],
   "source": []
  },
  {
   "cell_type": "code",
   "execution_count": null,
   "metadata": {
    "id": "Y0WYzdmNfKbs"
   },
   "outputs": [],
   "source": []
  },
  {
   "cell_type": "markdown",
   "metadata": {
    "id": "5YHAZWqMfK_x"
   },
   "source": [
    "\n",
    "+ o rf?"
   ]
  },
  {
   "cell_type": "code",
   "execution_count": null,
   "metadata": {
    "id": "ms2HuAkLfLX9"
   },
   "outputs": [],
   "source": []
  }
 ],
 "metadata": {
  "accelerator": "GPU",
  "colab": {
   "provenance": []
  },
  "gpuClass": "standard",
  "kernelspec": {
   "display_name": "Python 3 (ipykernel)",
   "language": "python",
   "name": "python3"
  },
  "language_info": {
   "codemirror_mode": {
    "name": "ipython",
    "version": 3
   },
   "file_extension": ".py",
   "mimetype": "text/x-python",
   "name": "python",
   "nbconvert_exporter": "python",
   "pygments_lexer": "ipython3",
   "version": "3.8.12"
  }
 },
 "nbformat": 4,
 "nbformat_minor": 1
}
