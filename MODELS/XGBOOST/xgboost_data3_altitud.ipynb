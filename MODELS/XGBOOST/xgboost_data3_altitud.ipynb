{
 "cells": [
  {
   "cell_type": "code",
   "execution_count": 1,
   "id": "2240ecc7",
   "metadata": {},
   "outputs": [],
   "source": [
    "import pandas as pd"
   ]
  },
  {
   "cell_type": "code",
   "execution_count": 2,
   "id": "de903ec9",
   "metadata": {},
   "outputs": [],
   "source": [
    "df = pd.read_csv(\"../../DATASETS_TRACTATS/TOT_fzv_1415_altitud.csv\")"
   ]
  },
  {
   "cell_type": "code",
   "execution_count": 3,
   "id": "e5000627",
   "metadata": {},
   "outputs": [],
   "source": [
    "df = df.astype({\"CAMPAÑA\": str, \"ID_FINCA\": str, \"ID_ZONA\": str, \"ID_ESTACION\": str, \"VARIEDAD\": str, \"MODO\": str, \"TIPO\": str, \"COLOR\": str})"
   ]
  },
  {
   "cell_type": "code",
   "execution_count": 5,
   "id": "e2ee9b00",
   "metadata": {},
   "outputs": [],
   "source": [
    "import category_encoders as ce\n",
    "from sklearn.preprocessing import LabelEncoder\n",
    "encoder = ce.OrdinalEncoder(cols=[\"ID_FINCA\", \"ID_ZONA\", \"ID_ESTACION\", \"ALTITUD\", \"VARIEDAD\", \"COLOR\", \"TIPO\", \"MODO\"])\n",
    "df = encoder.fit_transform(df)"
   ]
  },
  {
   "cell_type": "code",
   "execution_count": 23,
   "id": "99725044",
   "metadata": {},
   "outputs": [],
   "source": [
    "df = df[df[\"CAMPAÑA\"] != \"22\"].drop(columns =\"SUPERFICIE\")"
   ]
  },
  {
   "cell_type": "code",
   "execution_count": 24,
   "id": "17ac1095",
   "metadata": {},
   "outputs": [],
   "source": [
    "X = df.drop(columns = [\"PRODUCCION\", \"CAMPAÑA\"])\n",
    "y = df[\"PRODUCCION\"]"
   ]
  },
  {
   "cell_type": "code",
   "execution_count": 26,
   "id": "d379b7c9",
   "metadata": {},
   "outputs": [],
   "source": [
    "import xgboost as xgb\n",
    "from sklearn.model_selection import GridSearchCV\n",
    "\n",
    "def grid(X,y):\n",
    "    gsc = GridSearchCV(\n",
    "                estimator=xgb.XGBRegressor(),\n",
    "                param_grid={\"n_estimators\": [100],\n",
    "                            \"learning_rate\": [0.15],\n",
    "                            \"max_depth\": [40],\n",
    "                            \"min_child_weight\": [1],\n",
    "                            \"gamma\":[0.1],\n",
    "                            \"colsample_bytree\":[0.4],\n",
    "                            \"booster\": [\"dart\"]},\n",
    "                cv=5, scoring=[\"r2\", \"neg_root_mean_squared_error\"], refit = \"neg_root_mean_squared_error\", verbose=0, n_jobs=-1)\n",
    "    gsc.fit(X,y)\n",
    "    \n",
    "    return gsc"
   ]
  },
  {
   "cell_type": "markdown",
   "id": "4e6a802e",
   "metadata": {},
   "source": [
    "#### Random"
   ]
  },
  {
   "cell_type": "code",
   "execution_count": 27,
   "id": "bd669d71",
   "metadata": {},
   "outputs": [],
   "source": [
    "model_random = grid(X,y)"
   ]
  },
  {
   "cell_type": "code",
   "execution_count": 28,
   "id": "45ae2c80",
   "metadata": {},
   "outputs": [
    {
     "data": {
      "text/plain": [
       "-6561.264679128365"
      ]
     },
     "execution_count": 28,
     "metadata": {},
     "output_type": "execute_result"
    }
   ],
   "source": [
    "model_random.best_score_"
   ]
  },
  {
   "cell_type": "code",
   "execution_count": 29,
   "id": "cd222ac0",
   "metadata": {},
   "outputs": [
    {
     "data": {
      "text/html": [
       "<div>\n",
       "<style scoped>\n",
       "    .dataframe tbody tr th:only-of-type {\n",
       "        vertical-align: middle;\n",
       "    }\n",
       "\n",
       "    .dataframe tbody tr th {\n",
       "        vertical-align: top;\n",
       "    }\n",
       "\n",
       "    .dataframe thead th {\n",
       "        text-align: right;\n",
       "    }\n",
       "</style>\n",
       "<table border=\"1\" class=\"dataframe\">\n",
       "  <thead>\n",
       "    <tr style=\"text-align: right;\">\n",
       "      <th></th>\n",
       "      <th>split2_test_r2</th>\n",
       "      <th>split3_test_r2</th>\n",
       "      <th>split4_test_r2</th>\n",
       "      <th>mean_test_r2</th>\n",
       "      <th>std_test_r2</th>\n",
       "      <th>rank_test_r2</th>\n",
       "      <th>split0_test_neg_root_mean_squared_error</th>\n",
       "      <th>split1_test_neg_root_mean_squared_error</th>\n",
       "      <th>split2_test_neg_root_mean_squared_error</th>\n",
       "      <th>split3_test_neg_root_mean_squared_error</th>\n",
       "      <th>split4_test_neg_root_mean_squared_error</th>\n",
       "    </tr>\n",
       "  </thead>\n",
       "  <tbody>\n",
       "    <tr>\n",
       "      <th>0</th>\n",
       "      <td>0.851431</td>\n",
       "      <td>0.765069</td>\n",
       "      <td>0.742548</td>\n",
       "      <td>0.7645</td>\n",
       "      <td>0.04526</td>\n",
       "      <td>1</td>\n",
       "      <td>-7580.233252</td>\n",
       "      <td>-6698.868021</td>\n",
       "      <td>-5153.99235</td>\n",
       "      <td>-6439.069352</td>\n",
       "      <td>-6934.160421</td>\n",
       "    </tr>\n",
       "  </tbody>\n",
       "</table>\n",
       "</div>"
      ],
      "text/plain": [
       "   split2_test_r2  split3_test_r2  split4_test_r2  mean_test_r2  std_test_r2  \\\n",
       "0        0.851431        0.765069        0.742548        0.7645      0.04526   \n",
       "\n",
       "   rank_test_r2  split0_test_neg_root_mean_squared_error  \\\n",
       "0             1                             -7580.233252   \n",
       "\n",
       "   split1_test_neg_root_mean_squared_error  \\\n",
       "0                             -6698.868021   \n",
       "\n",
       "   split2_test_neg_root_mean_squared_error  \\\n",
       "0                              -5153.99235   \n",
       "\n",
       "   split3_test_neg_root_mean_squared_error  \\\n",
       "0                             -6439.069352   \n",
       "\n",
       "   split4_test_neg_root_mean_squared_error  \n",
       "0                             -6934.160421  "
      ]
     },
     "execution_count": 29,
     "metadata": {},
     "output_type": "execute_result"
    }
   ],
   "source": [
    "pd.DataFrame(model_random.cv_results_).iloc[:, 14:25]"
   ]
  },
  {
   "cell_type": "markdown",
   "id": "9f3aa9e6",
   "metadata": {},
   "source": [
    "#### Testejant un any"
   ]
  },
  {
   "cell_type": "code",
   "execution_count": 30,
   "id": "ae58a349",
   "metadata": {},
   "outputs": [],
   "source": [
    "years_to_test = [\"14\", \"15\", \"16\", \"17\", \"18\", \"19\", \"20\", \"21\"]\n",
    "model_one_year_test = {}\n",
    "for year in years_to_test:\n",
    "    X_train = X[df[\"CAMPAÑA\"] != year]\n",
    "    y_train = y[df[\"CAMPAÑA\"] != year]\n",
    "    X_test = X[df[\"CAMPAÑA\"] == year]\n",
    "    y_test = y[df[\"CAMPAÑA\"] == year]\n",
    "    m_y = grid(X_train, y_train)\n",
    "    score_y = m_y.score(X_test, y_test)\n",
    "    model_one_year_test[year] = (m_y, score_y)"
   ]
  },
  {
   "cell_type": "code",
   "execution_count": 31,
   "id": "3e55b63b",
   "metadata": {},
   "outputs": [
    {
     "name": "stdout",
     "output_type": "stream",
     "text": [
      "14\n",
      "   mean_test_r2  mean_test_neg_root_mean_squared_error\n",
      "0      0.764717                           -6488.668975\n",
      "-7724.804012517787\n",
      "15\n",
      "   mean_test_r2  mean_test_neg_root_mean_squared_error\n",
      "0      0.741791                           -6583.195512\n",
      "-6957.818320739117\n",
      "16\n",
      "   mean_test_r2  mean_test_neg_root_mean_squared_error\n",
      "0      0.760578                           -6592.361971\n",
      "-6701.060973035428\n",
      "17\n",
      "   mean_test_r2  mean_test_neg_root_mean_squared_error\n",
      "0      0.753102                           -6848.726009\n",
      "-5575.655956133801\n",
      "18\n",
      "   mean_test_r2  mean_test_neg_root_mean_squared_error\n",
      "0      0.748361                            -6707.37225\n",
      "-6038.470703206219\n",
      "19\n",
      "   mean_test_r2  mean_test_neg_root_mean_squared_error\n",
      "0      0.741626                           -7017.367042\n",
      "-4785.4153814097535\n",
      "20\n",
      "   mean_test_r2  mean_test_neg_root_mean_squared_error\n",
      "0      0.765223                           -6572.281788\n",
      "-6932.751360525485\n",
      "21\n",
      "   mean_test_r2  mean_test_neg_root_mean_squared_error\n",
      "0      0.756239                           -6666.964469\n",
      "-6411.063839285266\n"
     ]
    }
   ],
   "source": [
    "for year in years_to_test:\n",
    "    print(year)\n",
    "    print(pd.DataFrame(model_one_year_test[year][0].cv_results_).loc[:,[\"mean_test_r2\", \"mean_test_neg_root_mean_squared_error\"]])\n",
    "    print(model_one_year_test[year][1])"
   ]
  },
  {
   "cell_type": "markdown",
   "id": "002c6cde",
   "metadata": {},
   "source": [
    "#### Per anys"
   ]
  },
  {
   "cell_type": "code",
   "execution_count": 32,
   "id": "25b0d375",
   "metadata": {},
   "outputs": [],
   "source": [
    "years_to_test2 = df[\"CAMPAÑA\"].unique()\n",
    "model_one_year = {}\n",
    "for year in years_to_test2:\n",
    "    X2 = X[df[\"CAMPAÑA\"] == year]\n",
    "    y2 = y[df[\"CAMPAÑA\"] == year]\n",
    "    m_y = grid(X2, y2)\n",
    "    model_one_year[year] = m_y"
   ]
  },
  {
   "cell_type": "code",
   "execution_count": 33,
   "id": "0b4151f9",
   "metadata": {},
   "outputs": [
    {
     "name": "stdout",
     "output_type": "stream",
     "text": [
      "14\n",
      "   mean_test_r2  mean_test_neg_root_mean_squared_error\n",
      "0     -0.322994                          -13787.419996\n",
      "15\n",
      "   mean_test_r2  mean_test_neg_root_mean_squared_error\n",
      "0     -0.036947                          -15389.601996\n",
      "16\n",
      "   mean_test_r2  mean_test_neg_root_mean_squared_error\n",
      "0       -0.1666                          -13749.832358\n",
      "17\n",
      "   mean_test_r2  mean_test_neg_root_mean_squared_error\n",
      "0     -0.049774                           -10938.53245\n",
      "18\n",
      "   mean_test_r2  mean_test_neg_root_mean_squared_error\n",
      "0     -0.111593                          -14175.968036\n",
      "19\n",
      "   mean_test_r2  mean_test_neg_root_mean_squared_error\n",
      "0     -0.054788                          -11258.730029\n",
      "20\n",
      "   mean_test_r2  mean_test_neg_root_mean_squared_error\n",
      "0     -0.229936                           -13437.04554\n",
      "21\n",
      "   mean_test_r2  mean_test_neg_root_mean_squared_error\n",
      "0     -0.365809                           -13812.90385\n"
     ]
    }
   ],
   "source": [
    "for year in years_to_test2:\n",
    "    print(year)\n",
    "    print(pd.DataFrame(model_one_year[year].cv_results_).loc[:,[\"mean_test_r2\", \"mean_test_neg_root_mean_squared_error\"]])"
   ]
  },
  {
   "cell_type": "code",
   "execution_count": 34,
   "id": "6d7c433f",
   "metadata": {},
   "outputs": [
    {
     "data": {
      "text/html": [
       "<div>\n",
       "<style scoped>\n",
       "    .dataframe tbody tr th:only-of-type {\n",
       "        vertical-align: middle;\n",
       "    }\n",
       "\n",
       "    .dataframe tbody tr th {\n",
       "        vertical-align: top;\n",
       "    }\n",
       "\n",
       "    .dataframe thead th {\n",
       "        text-align: right;\n",
       "    }\n",
       "</style>\n",
       "<table border=\"1\" class=\"dataframe\">\n",
       "  <thead>\n",
       "    <tr style=\"text-align: right;\">\n",
       "      <th></th>\n",
       "      <th>ID_FINCA</th>\n",
       "      <th>ID_ZONA</th>\n",
       "      <th>ID_ESTACION</th>\n",
       "      <th>ALTITUD</th>\n",
       "      <th>VARIEDAD</th>\n",
       "      <th>MODO</th>\n",
       "      <th>TIPO</th>\n",
       "      <th>COLOR</th>\n",
       "      <th>ALTITUD_MIN</th>\n",
       "      <th>ALTITUD_DIF</th>\n",
       "    </tr>\n",
       "  </thead>\n",
       "  <tbody>\n",
       "    <tr>\n",
       "      <th>0</th>\n",
       "      <td>1</td>\n",
       "      <td>1</td>\n",
       "      <td>1</td>\n",
       "      <td>1</td>\n",
       "      <td>1</td>\n",
       "      <td>1</td>\n",
       "      <td>1</td>\n",
       "      <td>1</td>\n",
       "      <td>650</td>\n",
       "      <td>10</td>\n",
       "    </tr>\n",
       "    <tr>\n",
       "      <th>1</th>\n",
       "      <td>2</td>\n",
       "      <td>1</td>\n",
       "      <td>1</td>\n",
       "      <td>1</td>\n",
       "      <td>2</td>\n",
       "      <td>2</td>\n",
       "      <td>1</td>\n",
       "      <td>1</td>\n",
       "      <td>650</td>\n",
       "      <td>10</td>\n",
       "    </tr>\n",
       "    <tr>\n",
       "      <th>2</th>\n",
       "      <td>2</td>\n",
       "      <td>1</td>\n",
       "      <td>1</td>\n",
       "      <td>1</td>\n",
       "      <td>3</td>\n",
       "      <td>2</td>\n",
       "      <td>1</td>\n",
       "      <td>1</td>\n",
       "      <td>650</td>\n",
       "      <td>10</td>\n",
       "    </tr>\n",
       "    <tr>\n",
       "      <th>3</th>\n",
       "      <td>3</td>\n",
       "      <td>1</td>\n",
       "      <td>1</td>\n",
       "      <td>1</td>\n",
       "      <td>2</td>\n",
       "      <td>2</td>\n",
       "      <td>1</td>\n",
       "      <td>1</td>\n",
       "      <td>650</td>\n",
       "      <td>10</td>\n",
       "    </tr>\n",
       "    <tr>\n",
       "      <th>4</th>\n",
       "      <td>3</td>\n",
       "      <td>1</td>\n",
       "      <td>1</td>\n",
       "      <td>1</td>\n",
       "      <td>4</td>\n",
       "      <td>2</td>\n",
       "      <td>1</td>\n",
       "      <td>2</td>\n",
       "      <td>650</td>\n",
       "      <td>10</td>\n",
       "    </tr>\n",
       "    <tr>\n",
       "      <th>...</th>\n",
       "      <td>...</td>\n",
       "      <td>...</td>\n",
       "      <td>...</td>\n",
       "      <td>...</td>\n",
       "      <td>...</td>\n",
       "      <td>...</td>\n",
       "      <td>...</td>\n",
       "      <td>...</td>\n",
       "      <td>...</td>\n",
       "      <td>...</td>\n",
       "    </tr>\n",
       "    <tr>\n",
       "      <th>7840</th>\n",
       "      <td>578</td>\n",
       "      <td>86</td>\n",
       "      <td>15</td>\n",
       "      <td>3</td>\n",
       "      <td>6</td>\n",
       "      <td>2</td>\n",
       "      <td>1</td>\n",
       "      <td>1</td>\n",
       "      <td>700</td>\n",
       "      <td>0</td>\n",
       "    </tr>\n",
       "    <tr>\n",
       "      <th>7841</th>\n",
       "      <td>579</td>\n",
       "      <td>86</td>\n",
       "      <td>15</td>\n",
       "      <td>3</td>\n",
       "      <td>2</td>\n",
       "      <td>2</td>\n",
       "      <td>1</td>\n",
       "      <td>1</td>\n",
       "      <td>700</td>\n",
       "      <td>0</td>\n",
       "    </tr>\n",
       "    <tr>\n",
       "      <th>7842</th>\n",
       "      <td>579</td>\n",
       "      <td>86</td>\n",
       "      <td>15</td>\n",
       "      <td>3</td>\n",
       "      <td>1</td>\n",
       "      <td>2</td>\n",
       "      <td>1</td>\n",
       "      <td>1</td>\n",
       "      <td>700</td>\n",
       "      <td>0</td>\n",
       "    </tr>\n",
       "    <tr>\n",
       "      <th>7843</th>\n",
       "      <td>580</td>\n",
       "      <td>86</td>\n",
       "      <td>15</td>\n",
       "      <td>3</td>\n",
       "      <td>3</td>\n",
       "      <td>2</td>\n",
       "      <td>1</td>\n",
       "      <td>1</td>\n",
       "      <td>700</td>\n",
       "      <td>0</td>\n",
       "    </tr>\n",
       "    <tr>\n",
       "      <th>7844</th>\n",
       "      <td>580</td>\n",
       "      <td>86</td>\n",
       "      <td>15</td>\n",
       "      <td>3</td>\n",
       "      <td>6</td>\n",
       "      <td>2</td>\n",
       "      <td>1</td>\n",
       "      <td>1</td>\n",
       "      <td>700</td>\n",
       "      <td>0</td>\n",
       "    </tr>\n",
       "  </tbody>\n",
       "</table>\n",
       "<p>7845 rows × 10 columns</p>\n",
       "</div>"
      ],
      "text/plain": [
       "      ID_FINCA  ID_ZONA  ID_ESTACION  ALTITUD  VARIEDAD  MODO  TIPO  COLOR  \\\n",
       "0            1        1            1        1         1     1     1      1   \n",
       "1            2        1            1        1         2     2     1      1   \n",
       "2            2        1            1        1         3     2     1      1   \n",
       "3            3        1            1        1         2     2     1      1   \n",
       "4            3        1            1        1         4     2     1      2   \n",
       "...        ...      ...          ...      ...       ...   ...   ...    ...   \n",
       "7840       578       86           15        3         6     2     1      1   \n",
       "7841       579       86           15        3         2     2     1      1   \n",
       "7842       579       86           15        3         1     2     1      1   \n",
       "7843       580       86           15        3         3     2     1      1   \n",
       "7844       580       86           15        3         6     2     1      1   \n",
       "\n",
       "      ALTITUD_MIN  ALTITUD_DIF  \n",
       "0             650           10  \n",
       "1             650           10  \n",
       "2             650           10  \n",
       "3             650           10  \n",
       "4             650           10  \n",
       "...           ...          ...  \n",
       "7840          700            0  \n",
       "7841          700            0  \n",
       "7842          700            0  \n",
       "7843          700            0  \n",
       "7844          700            0  \n",
       "\n",
       "[7845 rows x 10 columns]"
      ]
     },
     "execution_count": 34,
     "metadata": {},
     "output_type": "execute_result"
    }
   ],
   "source": [
    "X"
   ]
  },
  {
   "cell_type": "code",
   "execution_count": null,
   "id": "74ce3919",
   "metadata": {},
   "outputs": [],
   "source": []
  }
 ],
 "metadata": {
  "kernelspec": {
   "display_name": "Python 3 (ipykernel)",
   "language": "python",
   "name": "python3"
  },
  "language_info": {
   "codemirror_mode": {
    "name": "ipython",
    "version": 3
   },
   "file_extension": ".py",
   "mimetype": "text/x-python",
   "name": "python",
   "nbconvert_exporter": "python",
   "pygments_lexer": "ipython3",
   "version": "3.9.12"
  }
 },
 "nbformat": 4,
 "nbformat_minor": 5
}
