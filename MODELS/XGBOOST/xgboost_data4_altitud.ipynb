{
 "cells": [
  {
   "cell_type": "code",
   "execution_count": 1,
   "id": "3c44508b",
   "metadata": {},
   "outputs": [],
   "source": [
    "import pandas as pd"
   ]
  },
  {
   "cell_type": "code",
   "execution_count": 2,
   "id": "febedd8d",
   "metadata": {},
   "outputs": [],
   "source": [
    "df = pd.read_csv(\"../../DATASETS_TRACTATS/TOT_fzv_1421_altitud.csv\")"
   ]
  },
  {
   "cell_type": "code",
   "execution_count": 3,
   "id": "71be3b9e",
   "metadata": {},
   "outputs": [],
   "source": [
    "df = df.astype({\"CAMPAÑA\": str, \"ID_FINCA\": str, \"ID_ZONA\": str, \"ID_ESTACION\": str, \"VARIEDAD\": str, \"MODO\": str, \"TIPO\": str, \"COLOR\": str})"
   ]
  },
  {
   "cell_type": "code",
   "execution_count": 4,
   "id": "e1ebc4ec",
   "metadata": {},
   "outputs": [],
   "source": [
    "import category_encoders as ce\n",
    "from sklearn.preprocessing import LabelEncoder\n",
    "encoder = ce.OrdinalEncoder(cols=[\"ID_FINCA\", \"ID_ZONA\", \"ID_ESTACION\", \"ALTITUD\", \"VARIEDAD\", \"COLOR\", \"TIPO\", \"MODO\"])\n",
    "df = encoder.fit_transform(df)"
   ]
  },
  {
   "cell_type": "code",
   "execution_count": 6,
   "id": "9c14999b",
   "metadata": {},
   "outputs": [],
   "source": [
    "df = df[df[\"CAMPAÑA\"] != \"22\"].drop(columns =\"SUPERFICIE\")"
   ]
  },
  {
   "cell_type": "code",
   "execution_count": 7,
   "id": "b47c3c2f",
   "metadata": {},
   "outputs": [],
   "source": [
    "X = df.drop(columns = [\"PRODUCCION\", \"CAMPAÑA\"])\n",
    "y = df[\"PRODUCCION\"]"
   ]
  },
  {
   "cell_type": "code",
   "execution_count": 9,
   "id": "7d135b47",
   "metadata": {},
   "outputs": [],
   "source": [
    "import xgboost as xgb\n",
    "from sklearn.model_selection import GridSearchCV\n",
    "\n",
    "def grid(X,y):\n",
    "    gsc = GridSearchCV(\n",
    "                estimator=xgb.XGBRegressor(),\n",
    "                param_grid={\"n_estimators\": [100],\n",
    "                            \"learning_rate\": [0.15],\n",
    "                            \"max_depth\": [40],\n",
    "                            \"min_child_weight\": [1],\n",
    "                            \"gamma\":[0.1],\n",
    "                            \"colsample_bytree\":[0.4],\n",
    "                            \"booster\": [\"dart\"]},\n",
    "                cv=5, scoring=[\"r2\", \"neg_root_mean_squared_error\"], refit = \"neg_root_mean_squared_error\", verbose=0, n_jobs=-1)\n",
    "    gsc.fit(X,y)\n",
    "    \n",
    "    return gsc"
   ]
  },
  {
   "cell_type": "markdown",
   "id": "cb77e60a",
   "metadata": {},
   "source": [
    "#### Random"
   ]
  },
  {
   "cell_type": "code",
   "execution_count": 10,
   "id": "3bba9aad",
   "metadata": {},
   "outputs": [],
   "source": [
    "model_random = grid(X,y)"
   ]
  },
  {
   "cell_type": "code",
   "execution_count": 11,
   "id": "f6a295d4",
   "metadata": {},
   "outputs": [
    {
     "data": {
      "text/plain": [
       "-6830.512036847834"
      ]
     },
     "execution_count": 11,
     "metadata": {},
     "output_type": "execute_result"
    }
   ],
   "source": [
    "model_random.best_score_"
   ]
  },
  {
   "cell_type": "code",
   "execution_count": 12,
   "id": "9c330e11",
   "metadata": {},
   "outputs": [
    {
     "data": {
      "text/html": [
       "<div>\n",
       "<style scoped>\n",
       "    .dataframe tbody tr th:only-of-type {\n",
       "        vertical-align: middle;\n",
       "    }\n",
       "\n",
       "    .dataframe tbody tr th {\n",
       "        vertical-align: top;\n",
       "    }\n",
       "\n",
       "    .dataframe thead th {\n",
       "        text-align: right;\n",
       "    }\n",
       "</style>\n",
       "<table border=\"1\" class=\"dataframe\">\n",
       "  <thead>\n",
       "    <tr style=\"text-align: right;\">\n",
       "      <th></th>\n",
       "      <th>split2_test_r2</th>\n",
       "      <th>split3_test_r2</th>\n",
       "      <th>split4_test_r2</th>\n",
       "      <th>mean_test_r2</th>\n",
       "      <th>std_test_r2</th>\n",
       "      <th>rank_test_r2</th>\n",
       "      <th>split0_test_neg_root_mean_squared_error</th>\n",
       "      <th>split1_test_neg_root_mean_squared_error</th>\n",
       "      <th>split2_test_neg_root_mean_squared_error</th>\n",
       "      <th>split3_test_neg_root_mean_squared_error</th>\n",
       "      <th>split4_test_neg_root_mean_squared_error</th>\n",
       "    </tr>\n",
       "  </thead>\n",
       "  <tbody>\n",
       "    <tr>\n",
       "      <th>0</th>\n",
       "      <td>0.836691</td>\n",
       "      <td>0.768214</td>\n",
       "      <td>0.761937</td>\n",
       "      <td>0.7644</td>\n",
       "      <td>0.042812</td>\n",
       "      <td>1</td>\n",
       "      <td>-7690.801965</td>\n",
       "      <td>-7286.732658</td>\n",
       "      <td>-6225.945605</td>\n",
       "      <td>-6313.506978</td>\n",
       "      <td>-6635.572978</td>\n",
       "    </tr>\n",
       "  </tbody>\n",
       "</table>\n",
       "</div>"
      ],
      "text/plain": [
       "   split2_test_r2  split3_test_r2  split4_test_r2  mean_test_r2  std_test_r2  \\\n",
       "0        0.836691        0.768214        0.761937        0.7644     0.042812   \n",
       "\n",
       "   rank_test_r2  split0_test_neg_root_mean_squared_error  \\\n",
       "0             1                             -7690.801965   \n",
       "\n",
       "   split1_test_neg_root_mean_squared_error  \\\n",
       "0                             -7286.732658   \n",
       "\n",
       "   split2_test_neg_root_mean_squared_error  \\\n",
       "0                             -6225.945605   \n",
       "\n",
       "   split3_test_neg_root_mean_squared_error  \\\n",
       "0                             -6313.506978   \n",
       "\n",
       "   split4_test_neg_root_mean_squared_error  \n",
       "0                             -6635.572978  "
      ]
     },
     "execution_count": 12,
     "metadata": {},
     "output_type": "execute_result"
    }
   ],
   "source": [
    "pd.DataFrame(model_random.cv_results_).iloc[:, 14:25]"
   ]
  },
  {
   "cell_type": "markdown",
   "id": "366a9fcb",
   "metadata": {},
   "source": [
    "#### Testejant un any"
   ]
  },
  {
   "cell_type": "code",
   "execution_count": 13,
   "id": "6da7c795",
   "metadata": {},
   "outputs": [],
   "source": [
    "years_to_test = [\"14\", \"15\", \"16\", \"17\", \"18\", \"19\", \"20\", \"21\"]\n",
    "model_one_year_test = {}\n",
    "for year in years_to_test:\n",
    "    X_train = X[df[\"CAMPAÑA\"] != year]\n",
    "    y_train = y[df[\"CAMPAÑA\"] != year]\n",
    "    X_test = X[df[\"CAMPAÑA\"] == year]\n",
    "    y_test = y[df[\"CAMPAÑA\"] == year]\n",
    "    m_y = grid(X_train, y_train)\n",
    "    score_y = m_y.score(X_test, y_test)\n",
    "    model_one_year_test[year] = (m_y, score_y)"
   ]
  },
  {
   "cell_type": "code",
   "execution_count": 14,
   "id": "e46f3fb9",
   "metadata": {},
   "outputs": [
    {
     "name": "stdout",
     "output_type": "stream",
     "text": [
      "14\n",
      "   mean_test_r2  mean_test_neg_root_mean_squared_error\n",
      "0      0.776433                           -6725.899079\n",
      "-7809.276192239334\n",
      "15\n",
      "   mean_test_r2  mean_test_neg_root_mean_squared_error\n",
      "0      0.749264                           -6856.141688\n",
      "-6963.390065893019\n",
      "16\n",
      "   mean_test_r2  mean_test_neg_root_mean_squared_error\n",
      "0      0.761905                           -6806.125482\n",
      "-6976.970361800545\n",
      "17\n",
      "   mean_test_r2  mean_test_neg_root_mean_squared_error\n",
      "0      0.759096                           -7012.702358\n",
      "-6029.396022524218\n",
      "18\n",
      "   mean_test_r2  mean_test_neg_root_mean_squared_error\n",
      "0      0.746322                           -6992.648321\n",
      "-6384.2418594482015\n",
      "19\n",
      "   mean_test_r2  mean_test_neg_root_mean_squared_error\n",
      "0      0.738019                           -7346.034388\n",
      "-4917.23807167744\n",
      "20\n",
      "   mean_test_r2  mean_test_neg_root_mean_squared_error\n",
      "0      0.762133                           -6883.241771\n",
      "-7166.954023648184\n",
      "21\n",
      "   mean_test_r2  mean_test_neg_root_mean_squared_error\n",
      "0      0.755736                           -6966.655653\n",
      "-6546.6654051601545\n"
     ]
    }
   ],
   "source": [
    "for year in years_to_test:\n",
    "    print(year)\n",
    "    print(pd.DataFrame(model_one_year_test[year][0].cv_results_).loc[:,[\"mean_test_r2\", \"mean_test_neg_root_mean_squared_error\"]])\n",
    "    print(model_one_year_test[year][1])"
   ]
  },
  {
   "cell_type": "markdown",
   "id": "1348b1b4",
   "metadata": {},
   "source": [
    "#### Per anys"
   ]
  },
  {
   "cell_type": "code",
   "execution_count": 15,
   "id": "9e2eab3c",
   "metadata": {},
   "outputs": [],
   "source": [
    "years_to_test2 = df[\"CAMPAÑA\"].unique()\n",
    "model_one_year = {}\n",
    "for year in years_to_test2:\n",
    "    X2 = X[df[\"CAMPAÑA\"] == year]\n",
    "    y2 = y[df[\"CAMPAÑA\"] == year]\n",
    "    m_y = grid(X2, y2)\n",
    "    model_one_year[year] = m_y"
   ]
  },
  {
   "cell_type": "code",
   "execution_count": 16,
   "id": "a814103b",
   "metadata": {},
   "outputs": [
    {
     "name": "stdout",
     "output_type": "stream",
     "text": [
      "14\n",
      "   mean_test_r2  mean_test_neg_root_mean_squared_error\n",
      "0     -0.322994                          -13787.419996\n",
      "15\n",
      "   mean_test_r2  mean_test_neg_root_mean_squared_error\n",
      "0     -0.036947                          -15389.601996\n",
      "16\n",
      "   mean_test_r2  mean_test_neg_root_mean_squared_error\n",
      "0     -0.083617                          -14360.016722\n",
      "17\n",
      "   mean_test_r2  mean_test_neg_root_mean_squared_error\n",
      "0      -0.08037                           -11892.21996\n",
      "18\n",
      "   mean_test_r2  mean_test_neg_root_mean_squared_error\n",
      "0     -0.143781                          -15170.827903\n",
      "19\n",
      "   mean_test_r2  mean_test_neg_root_mean_squared_error\n",
      "0     -0.252232                          -12700.567018\n",
      "20\n",
      "   mean_test_r2  mean_test_neg_root_mean_squared_error\n",
      "0      -0.23537                          -13754.019118\n",
      "21\n",
      "   mean_test_r2  mean_test_neg_root_mean_squared_error\n",
      "0      -0.52561                          -14650.251709\n"
     ]
    }
   ],
   "source": [
    "for year in years_to_test2:\n",
    "    print(year)\n",
    "    print(pd.DataFrame(model_one_year[year].cv_results_).loc[:,[\"mean_test_r2\", \"mean_test_neg_root_mean_squared_error\"]])"
   ]
  },
  {
   "cell_type": "code",
   "execution_count": null,
   "id": "2beba428",
   "metadata": {},
   "outputs": [],
   "source": []
  },
  {
   "cell_type": "code",
   "execution_count": null,
   "id": "5a3872f2",
   "metadata": {},
   "outputs": [],
   "source": []
  }
 ],
 "metadata": {
  "kernelspec": {
   "display_name": "Python 3 (ipykernel)",
   "language": "python",
   "name": "python3"
  },
  "language_info": {
   "codemirror_mode": {
    "name": "ipython",
    "version": 3
   },
   "file_extension": ".py",
   "mimetype": "text/x-python",
   "name": "python",
   "nbconvert_exporter": "python",
   "pygments_lexer": "ipython3",
   "version": "3.9.12"
  }
 },
 "nbformat": 4,
 "nbformat_minor": 5
}
