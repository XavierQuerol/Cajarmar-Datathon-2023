{
 "cells": [
  {
   "cell_type": "code",
   "execution_count": 1,
   "id": "b96d7b97",
   "metadata": {},
   "outputs": [],
   "source": [
    "import pandas as pd"
   ]
  },
  {
   "cell_type": "code",
   "execution_count": 2,
   "id": "3c8528ad",
   "metadata": {},
   "outputs": [],
   "source": [
    "df = pd.read_csv(\"../../DATASETS_TRACTATS/TOT.csv\")"
   ]
  },
  {
   "cell_type": "code",
   "execution_count": 3,
   "id": "74465bd7",
   "metadata": {},
   "outputs": [],
   "source": [
    "df = df.astype({\"CAMPAÑA\": str, \"ID_FINCA\": str, \"ID_ZONA\": str, \"ID_ESTACION\": str, \"VARIEDAD\": str, \"MODO\": str, \"TIPO\": str, \"COLOR\": str})"
   ]
  },
  {
   "cell_type": "code",
   "execution_count": 4,
   "id": "dcda601e",
   "metadata": {},
   "outputs": [
    {
     "name": "stderr",
     "output_type": "stream",
     "text": [
      "<frozen importlib._bootstrap>:219: RuntimeWarning: scipy._lib.messagestream.MessageStream size changed, may indicate binary incompatibility. Expected 56 from C header, got 64 from PyObject\n"
     ]
    }
   ],
   "source": [
    "import category_encoders as ce\n",
    "from sklearn.preprocessing import LabelEncoder\n",
    "encoder = ce.OrdinalEncoder(cols=[\"ID_FINCA\", \"ID_ZONA\", \"ID_ESTACION\", \"ALTITUD\", \"VARIEDAD\", \"COLOR\", \"TIPO\", \"MODO\"])\n",
    "df = encoder.fit_transform(df)"
   ]
  },
  {
   "cell_type": "code",
   "execution_count": 5,
   "id": "3d123dc1",
   "metadata": {
    "scrolled": true
   },
   "outputs": [],
   "source": [
    "df = df[df[\"CAMPAÑA\"] != \"22\"].drop(columns =\"P/S\")"
   ]
  },
  {
   "cell_type": "code",
   "execution_count": 6,
   "id": "8a37858e",
   "metadata": {},
   "outputs": [],
   "source": [
    "X = df.drop(columns = [\"PRODUCCION\", \"CAMPAÑA\"])\n",
    "y = df[\"PRODUCCION\"]"
   ]
  },
  {
   "cell_type": "code",
   "execution_count": 7,
   "id": "5d9bdf34",
   "metadata": {},
   "outputs": [],
   "source": [
    "import xgboost as xgb\n",
    "from sklearn.model_selection import GridSearchCV\n",
    "\n",
    "def grid(X,y):\n",
    "    gsc = GridSearchCV(\n",
    "                estimator=xgb.XGBRegressor(),\n",
    "                param_grid={\"n_estimators\": [300, 500, 1000],\n",
    "                            \"learning_rate\": [0.15],\n",
    "                            \"max_depth\": [40, 60, 100],\n",
    "                            \"min_child_weight\": [1, 2],\n",
    "                            \"gamma\":[0.0],\n",
    "                            \"colsample_bytree\":[0.4],},\n",
    "                cv=5, scoring=[\"r2\", \"neg_root_mean_squared_error\"], refit = \"r2\", verbose=0, n_jobs=-1)\n",
    "    gsc.fit(X,y)\n",
    "    \n",
    "    return gsc"
   ]
  },
  {
   "cell_type": "markdown",
   "id": "9a1508c6",
   "metadata": {},
   "source": [
    "#### Random"
   ]
  },
  {
   "cell_type": "code",
   "execution_count": 8,
   "id": "68a402ac",
   "metadata": {},
   "outputs": [],
   "source": [
    "model_random = grid(X,y)"
   ]
  },
  {
   "cell_type": "markdown",
   "id": "74711db0",
   "metadata": {},
   "source": [
    "#### Testejant un any"
   ]
  },
  {
   "cell_type": "code",
   "execution_count": null,
   "id": "af614ce2",
   "metadata": {},
   "outputs": [],
   "source": [
    "years_to_test = [\"19\", \"20\", \"21\"]\n",
    "model_one_year_test = {}\n",
    "for year in years_to_test:\n",
    "    X_train = X[df[\"CAMPAÑA\"] != year]\n",
    "    y_train = y[df[\"CAMPAÑA\"] != year]\n",
    "    X_test = X[df[\"CAMPAÑA\"] == year]\n",
    "    y_test = y[df[\"CAMPAÑA\"] == year]\n",
    "    m_y = grid(X_train, y_train)\n",
    "    score_y = m_y.score(X_test, y_test)\n",
    "    model_one_year_test[year] = (m_y, score_y)"
   ]
  },
  {
   "cell_type": "markdown",
   "id": "fb6e1688",
   "metadata": {},
   "source": [
    "#### Per anys"
   ]
  },
  {
   "cell_type": "code",
   "execution_count": null,
   "id": "261c974b",
   "metadata": {},
   "outputs": [],
   "source": [
    "years_to_test2 = df[\"CAMPAÑA\"].unique()\n",
    "model_one_year = {}\n",
    "for year in years_to_test2:\n",
    "    X2 = X[df[\"CAMPAÑA\"] == year]\n",
    "    y2 = y[df[\"CAMPAÑA\"] == year]\n",
    "    m_y = grid(X2, y2)\n",
    "    model_one_year[year] = m_y"
   ]
  },
  {
   "cell_type": "code",
   "execution_count": null,
   "id": "25df0b3c",
   "metadata": {},
   "outputs": [],
   "source": []
  }
 ],
 "metadata": {
  "kernelspec": {
   "display_name": "Python 3 (ipykernel)",
   "language": "python",
   "name": "python3"
  },
  "language_info": {
   "codemirror_mode": {
    "name": "ipython",
    "version": 3
   },
   "file_extension": ".py",
   "mimetype": "text/x-python",
   "name": "python",
   "nbconvert_exporter": "python",
   "pygments_lexer": "ipython3",
   "version": "3.8.12"
  }
 },
 "nbformat": 4,
 "nbformat_minor": 5
}
