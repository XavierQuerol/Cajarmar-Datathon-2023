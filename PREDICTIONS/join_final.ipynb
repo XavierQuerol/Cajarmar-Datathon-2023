{
 "cells": [
  {
   "cell_type": "code",
   "execution_count": 4,
   "id": "ecb34fb1",
   "metadata": {},
   "outputs": [],
   "source": [
    "import pandas as pd\n",
    "\n",
    "df_22 = pd.read_csv(\"./final_22.csv\")\n",
    "produccio_22 = df_22[\"PRODUCCION\"]"
   ]
  },
  {
   "cell_type": "code",
   "execution_count": 6,
   "id": "9aab8878",
   "metadata": {},
   "outputs": [],
   "source": [
    "DATASET_GROS = pd.read_csv(\"../UH_2023/UH_2023_TRAIN.txt\", sep = \"|\", dtype = {'CAMPAÑA': int,\n",
    "                                                                              'ID_FINCA': int,\n",
    "                                                                              'ID_ZONA': int,\n",
    "                                                                              'ID_ESTACION': int,\n",
    "                                                                              'ALTITUD': str,\n",
    "                                                                              \"VARIEDAD\": str,\n",
    "                                                                              \"MODO\": int,\n",
    "                                                                              \"TIPO\": str, \n",
    "                                                                              \"COLOR\": int, \n",
    "                                                                              \"SUPERFICIE\": float, \n",
    "                                                                              \"PRODUCCION\":float\n",
    "                                                                              })\n",
    "\n",
    "DATASET_GROS = DATASET_GROS[DATASET_GROS[\"CAMPAÑA\"]==22]\n",
    "\n",
    "DATASET_GROS[\"PRODUCCION\"] = produccio_22\n",
    "\n",
    "\n",
    "\n",
    "DATASET_GROS = DATASET_GROS.drop(columns=[\"ALTITUD\", \"ID_ZONA\", \"ID_ESTACION\"])\n",
    "\n",
    "DATASET_GROS = DATASET_GROS.reindex(columns=[\"ID_FINCA\", \"VARIEDAD\", \"MODO\", \"TIPO\", \"COLOR\", \"SUPERFICIE\", \"PRODUCCION\"])\n",
    "DATASET_GROS = DATASET_GROS.sort_values(by=[\"ID_FINCA\", \"VARIEDAD\", \"MODO\", \"TIPO\", \"COLOR\", \"SUPERFICIE\"])\n",
    "\n",
    "DATASET_GROS[\"PRODUCCION\"] = DATASET_GROS[\"PRODUCCION\"].apply(lambda x: '{:.2f}'.format(x) if type(x) is int or type(x) is float else x)\n",
    "DATASET_GROS[\"SUPERFICIE\"] = DATASET_GROS[\"SUPERFICIE\"].apply(lambda x: '{:.2f}'.format(x) if type(x) is int or type(x) is float else x)\n",
    "\n",
    "def fun(x): \n",
    "    x=str(x)\n",
    "    if len(x) == 0:\n",
    "        return '\"' + '000' +'\"'\n",
    "    elif len(x) == 1:\n",
    "        return '\"' + '00' + x +'\"'\n",
    "    elif len(x) == 2:\n",
    "        return '\"' + '0' + x +'\"'\n",
    "    elif len(x) == 3:\n",
    "        return '\"' + x +'\"'\n",
    "\n",
    "def fun2(x): \n",
    "    x='\"' + str(x) +'\"'\n",
    "    return x\n",
    "\n",
    "DATASET_GROS[\"VARIEDAD\"] = DATASET_GROS[\"VARIEDAD\"].apply(fun)\n",
    "DATASET_GROS[\"TIPO\"] = DATASET_GROS[\"TIPO\"].apply(fun2)\n",
    "\n",
    "\n",
    "name_file = \"UH2023_Universitat Autònoma de Barcelona (UAB)_Farts del vi_1.txt\"\n",
    "DATASET_GROS.to_csv(name_file, sep = \"|\", header=False, index=False)"
   ]
  },
  {
   "cell_type": "code",
   "execution_count": null,
   "id": "da1be60d",
   "metadata": {},
   "outputs": [],
   "source": []
  }
 ],
 "metadata": {
  "kernelspec": {
   "display_name": "Python 3 (ipykernel)",
   "language": "python",
   "name": "python3"
  },
  "language_info": {
   "codemirror_mode": {
    "name": "ipython",
    "version": 3
   },
   "file_extension": ".py",
   "mimetype": "text/x-python",
   "name": "python",
   "nbconvert_exporter": "python",
   "pygments_lexer": "ipython3",
   "version": "3.8.12"
  }
 },
 "nbformat": 4,
 "nbformat_minor": 5
}
