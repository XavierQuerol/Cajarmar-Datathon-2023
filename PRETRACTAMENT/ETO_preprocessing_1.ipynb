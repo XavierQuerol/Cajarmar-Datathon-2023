{
 "cells": [
  {
   "cell_type": "code",
   "execution_count": 86,
   "id": "ff92b577",
   "metadata": {},
   "outputs": [],
   "source": [
    "import pandas as pd\n",
    "import matplotlib.pyplot as plt\n",
    "import numpy as np\n",
    "import seaborn as sns"
   ]
  },
  {
   "cell_type": "code",
   "execution_count": 87,
   "id": "36df8c62",
   "metadata": {},
   "outputs": [],
   "source": [
    "df = pd.read_csv(\"../UH_2023/DATOS_ETO.txt\", sep = \"|\")"
   ]
  },
  {
   "cell_type": "code",
   "execution_count": 88,
   "id": "fe6087cb",
   "metadata": {},
   "outputs": [],
   "source": [
    "df.date = df.date.astype('str')\n",
    "df.date = pd.to_datetime(df.date)"
   ]
  },
  {
   "cell_type": "markdown",
   "id": "8a3fd02c",
   "metadata": {},
   "source": [
    "No hi ha dades pel 2022"
   ]
  },
  {
   "cell_type": "code",
   "execution_count": 89,
   "id": "32ed35a0",
   "metadata": {},
   "outputs": [],
   "source": [
    "columns_to_drop = list(df.isna().sum()[df.isna().sum() > 20].index)"
   ]
  },
  {
   "cell_type": "code",
   "execution_count": 90,
   "id": "e35cf758",
   "metadata": {},
   "outputs": [],
   "source": [
    "df2 = df.drop(columns_to_drop, axis=1)"
   ]
  },
  {
   "cell_type": "code",
   "execution_count": 91,
   "id": "47806681",
   "metadata": {},
   "outputs": [],
   "source": [
    "cols_to_modify = list(df2.isna().sum()[df2.isna().sum() != 0].index)"
   ]
  },
  {
   "cell_type": "code",
   "execution_count": 92,
   "id": "289dec0f",
   "metadata": {},
   "outputs": [],
   "source": [
    "df2[cols_to_modify] = (df2[cols_to_modify].ffill()+df2[cols_to_modify].bfill())/2"
   ]
  },
  {
   "cell_type": "code",
   "execution_count": 93,
   "id": "6e626ccc",
   "metadata": {},
   "outputs": [],
   "source": [
    "df3 = df2.bfill()"
   ]
  },
  {
   "cell_type": "markdown",
   "id": "06c1d642",
   "metadata": {},
   "source": [
    "No necessitem el 29 de juny per la campanya 16."
   ]
  },
  {
   "cell_type": "code",
   "execution_count": 94,
   "id": "c1617fd5",
   "metadata": {},
   "outputs": [],
   "source": [
    "df4 = df3.drop(df3[(df3.date.dt.day == 29) & (df3.date.dt.month == 6) & (df3.date.dt.year == 2015)].index)"
   ]
  },
  {
   "cell_type": "code",
   "execution_count": 95,
   "id": "e8216327",
   "metadata": {},
   "outputs": [],
   "source": [
    "df4.to_csv(\"../DATASETS_TRACTATS/df_eto_tractat.csv\", index = False)"
   ]
  },
  {
   "cell_type": "markdown",
   "id": "776ae29a",
   "metadata": {},
   "source": [
    "Mirar-nos visibilitat"
   ]
  }
 ],
 "metadata": {
  "kernelspec": {
   "display_name": "Python 3 (ipykernel)",
   "language": "python",
   "name": "python3"
  },
  "language_info": {
   "codemirror_mode": {
    "name": "ipython",
    "version": 3
   },
   "file_extension": ".py",
   "mimetype": "text/x-python",
   "name": "python",
   "nbconvert_exporter": "python",
   "pygments_lexer": "ipython3",
   "version": "3.8.12"
  }
 },
 "nbformat": 4,
 "nbformat_minor": 5
}
