{
 "cells": [
  {
   "cell_type": "code",
   "execution_count": 25,
   "id": "782f1ac7",
   "metadata": {},
   "outputs": [],
   "source": [
    "import pandas as pd\n",
    "import matplotlib.pyplot as plt\n",
    "import numpy as np\n",
    "import seaborn as sns"
   ]
  },
  {
   "cell_type": "code",
   "execution_count": 26,
   "id": "ddf7b2d7",
   "metadata": {},
   "outputs": [],
   "source": [
    "df = pd.read_csv(\"../UH_2023/DATOS_METEO.txt\", sep = \"|\")"
   ]
  },
  {
   "cell_type": "code",
   "execution_count": 27,
   "id": "936eca72",
   "metadata": {},
   "outputs": [],
   "source": [
    "df.validTimeUtc = pd.to_datetime(df.validTimeUtc)"
   ]
  },
  {
   "cell_type": "markdown",
   "id": "ad6a901d",
   "metadata": {},
   "source": [
    "Només necessitem dades horàries, que en tinguem suficients i pel 22."
   ]
  },
  {
   "cell_type": "code",
   "execution_count": 28,
   "id": "5f8690bc",
   "metadata": {},
   "outputs": [
    {
     "data": {
      "text/plain": [
       "array([2015, 2016, 2017], dtype=int64)"
      ]
     },
     "execution_count": 28,
     "metadata": {},
     "output_type": "execute_result"
    }
   ],
   "source": [
    "df[df[\"windDirection\"].isna()==True].validTimeUtc.dt.year.unique()"
   ]
  },
  {
   "cell_type": "code",
   "execution_count": 29,
   "id": "2f939fa2",
   "metadata": {},
   "outputs": [],
   "source": [
    "columns_to_drop = [\"precip2Day\", \"precip3Day\", \"precip7Day\", \"precipMtd\", \"precipYtd\", \"pressureMeanSeaLevel\", \"snow2Day\", \"snow3Day\", \"snow7Day\", \"snowMtd\", \"snowSeason\", \"snowYtd\", \"windDirection\", \"windGust\", \"precip24Hour\", \"precip6Hour\", \"snow24Hour\", \"snow6Hour\", \"temperatureChange24Hour\", \"temperatureMax24Hour\", \"temperatureMin24Hour\", \"visibility\", \"uvIndex\"]"
   ]
  },
  {
   "cell_type": "code",
   "execution_count": 30,
   "id": "73b6e4d1",
   "metadata": {},
   "outputs": [],
   "source": [
    "df2 = df.drop(columns_to_drop, axis=1)"
   ]
  },
  {
   "cell_type": "code",
   "execution_count": 31,
   "id": "2c2c8593",
   "metadata": {},
   "outputs": [],
   "source": [
    "cols_to_modify = list(df2.isna().sum()[df2.isna().sum() != 0].index)"
   ]
  },
  {
   "cell_type": "markdown",
   "id": "40007671",
   "metadata": {},
   "source": [
    "Hi ha 20 files que falten."
   ]
  },
  {
   "cell_type": "code",
   "execution_count": 32,
   "id": "e2f22df7",
   "metadata": {},
   "outputs": [],
   "source": [
    "df2[cols_to_modify] = (df2[cols_to_modify].ffill()+df2[cols_to_modify].bfill())/2"
   ]
  },
  {
   "cell_type": "markdown",
   "id": "3bdce879",
   "metadata": {},
   "source": [
    "El 13/9/2015 hi ha 7 files que falten a totes les estacions."
   ]
  },
  {
   "cell_type": "code",
   "execution_count": 33,
   "id": "1ab463eb",
   "metadata": {},
   "outputs": [],
   "source": [
    "for st in list(df2.ID_ESTACION.unique()):\n",
    "    row_primer = df2[(df2.validTimeUtc.dt.day == 13) & ( df2.validTimeUtc.dt.month == 9) & (df2.validTimeUtc.dt.year == 2015) & (df2.ID_ESTACION == st)].iloc[-1, :]\n",
    "    row_ultima = df2[(df2.validTimeUtc.dt.day == 14) & ( df2.validTimeUtc.dt.month == 9) & (df2.validTimeUtc.dt.year == 2015) & (df2.ID_ESTACION == st)].iloc[0, :]\n",
    "    row_primer_del = row_primer.drop(['ID_ESTACION'])\n",
    "    row_ultima_del = row_ultima.drop(['ID_ESTACION'])\n",
    "    diff = row_ultima_del - row_primer_del\n",
    "    diff /= 8\n",
    "    for i in range(1, 8):\n",
    "        df_aux = pd.DataFrame([row_primer_del + diff*i], columns=df2.columns[:-1])\n",
    "        df_aux[\"ID_ESTACION\"] = st\n",
    "        df2 = pd.concat([df2, df_aux]).reset_index(drop = True)"
   ]
  },
  {
   "cell_type": "markdown",
   "id": "7f726c80",
   "metadata": {},
   "source": [
    "### GroupBy amb day"
   ]
  },
  {
   "cell_type": "code",
   "execution_count": 34,
   "id": "40fe0d0c",
   "metadata": {},
   "outputs": [],
   "source": [
    "df2_mean = df2.groupby([pd.Grouper(key=\"validTimeUtc\", freq=\"1D\"), pd.Grouper(key = 'ID_ESTACION')]).mean()\n",
    "df2_max = df2.groupby([pd.Grouper(key=\"validTimeUtc\", freq=\"1D\"), pd.Grouper(key = 'ID_ESTACION')]).max()\n",
    "df2_min = df2.groupby([pd.Grouper(key=\"validTimeUtc\", freq=\"1D\"), pd.Grouper(key = 'ID_ESTACION')]).min()"
   ]
  },
  {
   "cell_type": "code",
   "execution_count": 35,
   "id": "0f622bb8",
   "metadata": {},
   "outputs": [],
   "source": [
    "cols_mean = [i + \"DayAvg\" for i in df2_mean.columns]\n",
    "df2_mean.columns = cols_mean\n",
    "cols_max = [i + \"DayMax\" for i in df2_max.columns]\n",
    "df2_max.columns = cols_max\n",
    "cols_min = [i + \"DayMin\" for i in df2_min.columns]\n",
    "df2_min.columns = cols_min"
   ]
  },
  {
   "cell_type": "markdown",
   "id": "e7148f77",
   "metadata": {},
   "source": [
    "### GroupyBy amb daytime"
   ]
  },
  {
   "cell_type": "code",
   "execution_count": 36,
   "id": "71a04d74",
   "metadata": {},
   "outputs": [],
   "source": [
    "df2_daytime = df2[(7 < df2.validTimeUtc.dt.hour) & (df2.validTimeUtc.dt.hour < 19)]\n",
    "\n",
    "df2_mean_daytime = df2.groupby([pd.Grouper(key=\"validTimeUtc\", freq=\"1D\"), pd.Grouper(key = 'ID_ESTACION')]).mean()\n",
    "df2_max_daytime = df2.groupby([pd.Grouper(key=\"validTimeUtc\", freq=\"1D\"), pd.Grouper(key = 'ID_ESTACION')]).max()\n",
    "df2_min_daytime = df2.groupby([pd.Grouper(key=\"validTimeUtc\", freq=\"1D\"), pd.Grouper(key = 'ID_ESTACION')]).min()"
   ]
  },
  {
   "cell_type": "code",
   "execution_count": 37,
   "id": "1b7c2f3d",
   "metadata": {},
   "outputs": [],
   "source": [
    "# Periodes normals\n",
    "dic_periodes = {\"Day\": (0, 24), \"Daytime\": (7, 19), \"Morning\": (7, 13), \"Afternoon\": (13, 19)}\n",
    "llista_df = {}\n",
    "for k,(i,j) in dic_periodes.items():\n",
    "    df_aux = df2[(i < df2.validTimeUtc.dt.hour) & (df2.validTimeUtc.dt.hour < j)]\n",
    "    df2_mean = df_aux.groupby([pd.Grouper(key=\"validTimeUtc\", freq=\"1D\"), pd.Grouper(key = 'ID_ESTACION')]).mean()\n",
    "    df2_max = df_aux.groupby([pd.Grouper(key=\"validTimeUtc\", freq=\"1D\"), pd.Grouper(key = 'ID_ESTACION')]).max()\n",
    "    df2_min = df_aux.groupby([pd.Grouper(key=\"validTimeUtc\", freq=\"1D\"), pd.Grouper(key = 'ID_ESTACION')]).min()\n",
    "    \n",
    "    cols_mean = [c + k + \"Avg\" for c in df2_mean.columns]\n",
    "    df2_mean.columns = cols_mean\n",
    "    cols_max = [c + k + \"Max\" for c in df2_max.columns]\n",
    "    df2_max.columns = cols_max\n",
    "    cols_min = [c + k + \"Min\" for c in df2_min.columns]\n",
    "    df2_min.columns = cols_min\n",
    "    llista_df[k] = [df2_mean, df2_max, df2_min]"
   ]
  },
  {
   "cell_type": "code",
   "execution_count": 38,
   "id": "ec507462",
   "metadata": {},
   "outputs": [
    {
     "name": "stderr",
     "output_type": "stream",
     "text": [
      "C:\\Users\\xavid\\AppData\\Local\\Temp\\ipykernel_7368\\3559150541.py:5: SettingWithCopyWarning: \n",
      "A value is trying to be set on a copy of a slice from a DataFrame.\n",
      "Try using .loc[row_indexer,col_indexer] = value instead\n",
      "\n",
      "See the caveats in the documentation: https://pandas.pydata.org/pandas-docs/stable/user_guide/indexing.html#returning-a-view-versus-a-copy\n",
      "  df_aux.loc[:, \"validTimeUtc\"] = df_aux.loc[:, \"validTimeUtc\"] - pd.Timedelta(hours=10)\n",
      "C:\\Users\\xavid\\AppData\\Local\\Temp\\ipykernel_7368\\3559150541.py:5: SettingWithCopyWarning: \n",
      "A value is trying to be set on a copy of a slice from a DataFrame.\n",
      "Try using .loc[row_indexer,col_indexer] = value instead\n",
      "\n",
      "See the caveats in the documentation: https://pandas.pydata.org/pandas-docs/stable/user_guide/indexing.html#returning-a-view-versus-a-copy\n",
      "  df_aux.loc[:, \"validTimeUtc\"] = df_aux.loc[:, \"validTimeUtc\"] - pd.Timedelta(hours=10)\n"
     ]
    }
   ],
   "source": [
    "# Periodes raros\n",
    "dic_periodes = {\"Nighttime\": (19, 7), \"Evening\": (19, 1), \"Overnight\": (1, 7)}\n",
    "for k,(i,j) in dic_periodes.items():\n",
    "    df_aux = df2[(i < df2.validTimeUtc.dt.hour) | (df2.validTimeUtc.dt.hour < j)]\n",
    "    df_aux.loc[:, \"validTimeUtc\"] = df_aux.loc[:, \"validTimeUtc\"] - pd.Timedelta(hours=10)\n",
    "    df2_mean = df_aux.groupby([pd.Grouper(key=\"validTimeUtc\", freq=\"1D\"), pd.Grouper(key = 'ID_ESTACION')]).mean()\n",
    "    df2_max = df_aux.groupby([pd.Grouper(key=\"validTimeUtc\", freq=\"1D\"), pd.Grouper(key = 'ID_ESTACION')]).max()\n",
    "    df2_min = df_aux.groupby([pd.Grouper(key=\"validTimeUtc\", freq=\"1D\"), pd.Grouper(key = 'ID_ESTACION')]).min()\n",
    "    \n",
    "    cols_mean = [c + k + \"Avg\" for c in df2_mean.columns]\n",
    "    df2_mean.columns = cols_mean\n",
    "    cols_max = [c + k + \"Max\" for c in df2_max.columns]\n",
    "    df2_max.columns = cols_max\n",
    "    cols_min = [c + k + \"Min\" for c in df2_min.columns]\n",
    "    df2_min.columns = cols_min\n",
    "    llista_df[k] = [df2_mean, df2_max, df2_min]"
   ]
  },
  {
   "cell_type": "code",
   "execution_count": 39,
   "id": "314442b4",
   "metadata": {},
   "outputs": [],
   "source": [
    "first_df = llista_df[\"Day\"][0]\n",
    "llista = [j for j in [i for i in llista_df.values()]]\n",
    "df_tractats = [item for sublist in llista for item in sublist]\n",
    "df_tractats = df_tractats[1:]"
   ]
  },
  {
   "cell_type": "code",
   "execution_count": 40,
   "id": "53cf3366",
   "metadata": {},
   "outputs": [],
   "source": [
    "for ds in df_tractats:\n",
    "    first_df = pd.merge(first_df, ds, left_index=True, right_index=True)"
   ]
  },
  {
   "cell_type": "code",
   "execution_count": 41,
   "id": "1fab65a9",
   "metadata": {},
   "outputs": [],
   "source": [
    "first_df = first_df.reset_index()"
   ]
  },
  {
   "cell_type": "code",
   "execution_count": 42,
   "id": "cc7594e7",
   "metadata": {},
   "outputs": [],
   "source": [
    "first_df.to_csv(\"../DATASETS_TRACTATS/df_meteo_tractat.csv\", index = False)"
   ]
  }
 ],
 "metadata": {
  "kernelspec": {
   "display_name": "Python 3 (ipykernel)",
   "language": "python",
   "name": "python3"
  },
  "language_info": {
   "codemirror_mode": {
    "name": "ipython",
    "version": 3
   },
   "file_extension": ".py",
   "mimetype": "text/x-python",
   "name": "python",
   "nbconvert_exporter": "python",
   "pygments_lexer": "ipython3",
   "version": "3.8.12"
  }
 },
 "nbformat": 4,
 "nbformat_minor": 5
}
