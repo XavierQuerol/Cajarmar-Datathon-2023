{
 "cells": [
  {
   "cell_type": "code",
   "execution_count": 1,
   "id": "e80772ee",
   "metadata": {},
   "outputs": [
    {
     "name": "stderr",
     "output_type": "stream",
     "text": [
      "<frozen importlib._bootstrap>:219: RuntimeWarning: scipy._lib.messagestream.MessageStream size changed, may indicate binary incompatibility. Expected 56 from C header, got 64 from PyObject\n"
     ]
    }
   ],
   "source": [
    "import pandas as pd\n",
    "import matplotlib.pyplot as plt\n",
    "import numpy as np\n",
    "import seaborn as sns"
   ]
  },
  {
   "cell_type": "code",
   "execution_count": 2,
   "id": "e49fbe27",
   "metadata": {},
   "outputs": [],
   "source": [
    "df = pd.read_csv(\"../UH_2023/UH_2023_TRAIN.txt\", sep = \"|\")"
   ]
  },
  {
   "cell_type": "code",
   "execution_count": 3,
   "id": "37d6a062",
   "metadata": {},
   "outputs": [],
   "source": [
    "df = df.astype({\"CAMPAÑA\": str, \"ID_FINCA\": str, \"ID_ZONA\": str, \"ID_ESTACION\": str, \"VARIEDAD\": str, \"MODO\": str, \"TIPO\": str, \"COLOR\": str})"
   ]
  },
  {
   "cell_type": "code",
   "execution_count": 4,
   "id": "27615d72",
   "metadata": {},
   "outputs": [
    {
     "data": {
      "text/html": [
       "<div>\n",
       "<style scoped>\n",
       "    .dataframe tbody tr th:only-of-type {\n",
       "        vertical-align: middle;\n",
       "    }\n",
       "\n",
       "    .dataframe tbody tr th {\n",
       "        vertical-align: top;\n",
       "    }\n",
       "\n",
       "    .dataframe thead th {\n",
       "        text-align: right;\n",
       "    }\n",
       "</style>\n",
       "<table border=\"1\" class=\"dataframe\">\n",
       "  <thead>\n",
       "    <tr style=\"text-align: right;\">\n",
       "      <th></th>\n",
       "      <th>CAMPAÑA</th>\n",
       "      <th>ID_FINCA</th>\n",
       "      <th>ID_ZONA</th>\n",
       "      <th>ID_ESTACION</th>\n",
       "      <th>ALTITUD</th>\n",
       "      <th>VARIEDAD</th>\n",
       "      <th>MODO</th>\n",
       "      <th>TIPO</th>\n",
       "      <th>COLOR</th>\n",
       "      <th>SUPERFICIE</th>\n",
       "      <th>PRODUCCION</th>\n",
       "    </tr>\n",
       "  </thead>\n",
       "  <tbody>\n",
       "    <tr>\n",
       "      <th>0</th>\n",
       "      <td>14</td>\n",
       "      <td>76953</td>\n",
       "      <td>515</td>\n",
       "      <td>4</td>\n",
       "      <td>660</td>\n",
       "      <td>26</td>\n",
       "      <td>2</td>\n",
       "      <td>0</td>\n",
       "      <td>1</td>\n",
       "      <td>0.0000</td>\n",
       "      <td>22215.0</td>\n",
       "    </tr>\n",
       "    <tr>\n",
       "      <th>1</th>\n",
       "      <td>14</td>\n",
       "      <td>84318</td>\n",
       "      <td>515</td>\n",
       "      <td>4</td>\n",
       "      <td>660</td>\n",
       "      <td>26</td>\n",
       "      <td>2</td>\n",
       "      <td>0</td>\n",
       "      <td>1</td>\n",
       "      <td>0.0000</td>\n",
       "      <td>22215.0</td>\n",
       "    </tr>\n",
       "    <tr>\n",
       "      <th>2</th>\n",
       "      <td>14</td>\n",
       "      <td>85579</td>\n",
       "      <td>340</td>\n",
       "      <td>4</td>\n",
       "      <td>520</td>\n",
       "      <td>32</td>\n",
       "      <td>2</td>\n",
       "      <td>0</td>\n",
       "      <td>1</td>\n",
       "      <td>0.0000</td>\n",
       "      <td>20978.0</td>\n",
       "    </tr>\n",
       "    <tr>\n",
       "      <th>3</th>\n",
       "      <td>14</td>\n",
       "      <td>69671</td>\n",
       "      <td>340</td>\n",
       "      <td>4</td>\n",
       "      <td>520</td>\n",
       "      <td>32</td>\n",
       "      <td>2</td>\n",
       "      <td>0</td>\n",
       "      <td>1</td>\n",
       "      <td>0.0000</td>\n",
       "      <td>40722.0</td>\n",
       "    </tr>\n",
       "    <tr>\n",
       "      <th>4</th>\n",
       "      <td>14</td>\n",
       "      <td>14001</td>\n",
       "      <td>852</td>\n",
       "      <td>14</td>\n",
       "      <td>NaN</td>\n",
       "      <td>81</td>\n",
       "      <td>1</td>\n",
       "      <td>0</td>\n",
       "      <td>1</td>\n",
       "      <td>0.0000</td>\n",
       "      <td>14126.0</td>\n",
       "    </tr>\n",
       "    <tr>\n",
       "      <th>...</th>\n",
       "      <td>...</td>\n",
       "      <td>...</td>\n",
       "      <td>...</td>\n",
       "      <td>...</td>\n",
       "      <td>...</td>\n",
       "      <td>...</td>\n",
       "      <td>...</td>\n",
       "      <td>...</td>\n",
       "      <td>...</td>\n",
       "      <td>...</td>\n",
       "      <td>...</td>\n",
       "    </tr>\n",
       "    <tr>\n",
       "      <th>9596</th>\n",
       "      <td>22</td>\n",
       "      <td>37461</td>\n",
       "      <td>239</td>\n",
       "      <td>6</td>\n",
       "      <td>700</td>\n",
       "      <td>52</td>\n",
       "      <td>2</td>\n",
       "      <td>0</td>\n",
       "      <td>1</td>\n",
       "      <td>3.6800</td>\n",
       "      <td>NaN</td>\n",
       "    </tr>\n",
       "    <tr>\n",
       "      <th>9597</th>\n",
       "      <td>22</td>\n",
       "      <td>58769</td>\n",
       "      <td>239</td>\n",
       "      <td>6</td>\n",
       "      <td>700</td>\n",
       "      <td>32</td>\n",
       "      <td>2</td>\n",
       "      <td>0</td>\n",
       "      <td>1</td>\n",
       "      <td>4.2500</td>\n",
       "      <td>NaN</td>\n",
       "    </tr>\n",
       "    <tr>\n",
       "      <th>9598</th>\n",
       "      <td>22</td>\n",
       "      <td>58769</td>\n",
       "      <td>239</td>\n",
       "      <td>6</td>\n",
       "      <td>700</td>\n",
       "      <td>59</td>\n",
       "      <td>2</td>\n",
       "      <td>0</td>\n",
       "      <td>1</td>\n",
       "      <td>4.0700</td>\n",
       "      <td>NaN</td>\n",
       "    </tr>\n",
       "    <tr>\n",
       "      <th>9599</th>\n",
       "      <td>22</td>\n",
       "      <td>88928</td>\n",
       "      <td>239</td>\n",
       "      <td>6</td>\n",
       "      <td>700</td>\n",
       "      <td>40</td>\n",
       "      <td>2</td>\n",
       "      <td>0</td>\n",
       "      <td>1</td>\n",
       "      <td>4.5727</td>\n",
       "      <td>NaN</td>\n",
       "    </tr>\n",
       "    <tr>\n",
       "      <th>9600</th>\n",
       "      <td>22</td>\n",
       "      <td>88928</td>\n",
       "      <td>239</td>\n",
       "      <td>6</td>\n",
       "      <td>700</td>\n",
       "      <td>52</td>\n",
       "      <td>2</td>\n",
       "      <td>0</td>\n",
       "      <td>1</td>\n",
       "      <td>1.6099</td>\n",
       "      <td>NaN</td>\n",
       "    </tr>\n",
       "  </tbody>\n",
       "</table>\n",
       "<p>9601 rows × 11 columns</p>\n",
       "</div>"
      ],
      "text/plain": [
       "     CAMPAÑA ID_FINCA ID_ZONA ID_ESTACION ALTITUD VARIEDAD MODO TIPO COLOR  \\\n",
       "0         14    76953     515           4     660       26    2    0     1   \n",
       "1         14    84318     515           4     660       26    2    0     1   \n",
       "2         14    85579     340           4     520       32    2    0     1   \n",
       "3         14    69671     340           4     520       32    2    0     1   \n",
       "4         14    14001     852          14     NaN       81    1    0     1   \n",
       "...      ...      ...     ...         ...     ...      ...  ...  ...   ...   \n",
       "9596      22    37461     239           6     700       52    2    0     1   \n",
       "9597      22    58769     239           6     700       32    2    0     1   \n",
       "9598      22    58769     239           6     700       59    2    0     1   \n",
       "9599      22    88928     239           6     700       40    2    0     1   \n",
       "9600      22    88928     239           6     700       52    2    0     1   \n",
       "\n",
       "      SUPERFICIE  PRODUCCION  \n",
       "0         0.0000     22215.0  \n",
       "1         0.0000     22215.0  \n",
       "2         0.0000     20978.0  \n",
       "3         0.0000     40722.0  \n",
       "4         0.0000     14126.0  \n",
       "...          ...         ...  \n",
       "9596      3.6800         NaN  \n",
       "9597      4.2500         NaN  \n",
       "9598      4.0700         NaN  \n",
       "9599      4.5727         NaN  \n",
       "9600      1.6099         NaN  \n",
       "\n",
       "[9601 rows x 11 columns]"
      ]
     },
     "execution_count": 4,
     "metadata": {},
     "output_type": "execute_result"
    }
   ],
   "source": [
    "df"
   ]
  },
  {
   "cell_type": "code",
   "execution_count": 5,
   "id": "f4623fbc",
   "metadata": {},
   "outputs": [],
   "source": [
    "import category_encoders as ce\n",
    "from sklearn.preprocessing import LabelEncoder\n",
    "encoder = ce.OrdinalEncoder(cols=[\"ID_FINCA\", \"ID_ZONA\", \"ID_ESTACION\", \"VARIEDAD\", \"COLOR\", \"TIPO\", \"MODO\"])\n",
    "df = encoder.fit_transform(df)"
   ]
  },
  {
   "cell_type": "code",
   "execution_count": 6,
   "id": "208a3475",
   "metadata": {},
   "outputs": [],
   "source": [
    "df_alt = df.drop(columns = [\"SUPERFICIE\", \"PRODUCCION\"])\n",
    "X_df_alt = df_alt.drop(columns = [\"ALTITUD\", \"CAMPAÑA\"])\n",
    "y_df_alt = df_alt[\"ALTITUD\"]\n",
    "\n",
    "X_df_alt_train = X_df_alt[df[\"ALTITUD\"].isna() == False]\n",
    "y_df_alt_train = y_df_alt[df[\"ALTITUD\"].isna() == False]\n",
    "\n",
    "X_to_predict = X_df_alt[df[\"ALTITUD\"].isna() == True]"
   ]
  },
  {
   "cell_type": "code",
   "execution_count": 7,
   "id": "bab1a401",
   "metadata": {},
   "outputs": [
    {
     "data": {
      "text/plain": [
       "0           660\n",
       "1           660\n",
       "2           520\n",
       "3           520\n",
       "12      650-660\n",
       "         ...   \n",
       "9596        700\n",
       "9597        700\n",
       "9598        700\n",
       "9599        700\n",
       "9600        700\n",
       "Name: ALTITUD, Length: 9547, dtype: object"
      ]
     },
     "execution_count": 7,
     "metadata": {},
     "output_type": "execute_result"
    }
   ],
   "source": [
    "y_df_alt_train"
   ]
  },
  {
   "cell_type": "code",
   "execution_count": 8,
   "id": "f16696a8",
   "metadata": {},
   "outputs": [],
   "source": [
    "X_df_alt_train_n390 = X_df_alt_train[y_df_alt_train != \"390\"]\n",
    "y_df_alt_train_n390 = y_df_alt_train[y_df_alt_train != \"390\"]"
   ]
  },
  {
   "cell_type": "code",
   "execution_count": 9,
   "id": "c9a405d0",
   "metadata": {},
   "outputs": [],
   "source": [
    "y_df_alt_train_n390_enc = pd.Series(LabelEncoder().fit_transform(y_df_alt_train_n390))"
   ]
  },
  {
   "cell_type": "code",
   "execution_count": null,
   "id": "4be9d3ed",
   "metadata": {},
   "outputs": [],
   "source": [
    "import xgboost as xgb\n",
    "from sklearn.model_selection import GridSearchCV\n",
    "\n",
    "def grid(X,y):\n",
    "    gsc = GridSearchCV(\n",
    "                estimator=xgb.XGBClassifier(),\n",
    "                param_grid={\"n_estimators\": [300, 500, 1000],\n",
    "                            \"learning_rate\": [0.15],\n",
    "                            \"max_depth\": [40, 60, 100],\n",
    "                            \"min_child_weight\": [1, 2],\n",
    "                            \"gamma\":[0.0],\n",
    "                            \"colsample_bytree\":[0.4],},\n",
    "                cv=2, scoring=[\"r2\", \"neg_root_mean_squared_error\"], refit = \"r2\", verbose=0, n_jobs=-1)\n",
    "    gsc.fit(X,y)\n",
    "    return gsc"
   ]
  },
  {
   "cell_type": "code",
   "execution_count": 26,
   "id": "9bd699c4",
   "metadata": {},
   "outputs": [],
   "source": [
    "alt_grid = grid(X_df_alt_train_n390, y_df_alt_train_n390_enc)"
   ]
  },
  {
   "cell_type": "code",
   "execution_count": 10,
   "id": "d94383d7",
   "metadata": {},
   "outputs": [],
   "source": [
    "#params_model = alt_grid.best_params_\n",
    "params_model={\"n_estimators\": 300,\n",
    "              \"learning_rate\": 0.15,\n",
    "              \"max_depth\": 40,\n",
    "              \"min_child_weight\": 1,\n",
    "              \"gamma\":0.0,\n",
    "              \"colsample_bytree\":0.4}"
   ]
  },
  {
   "cell_type": "code",
   "execution_count": 11,
   "id": "1a672466",
   "metadata": {},
   "outputs": [
    {
     "name": "stdout",
     "output_type": "stream",
     "text": [
      "{'n_estimators': 300, 'learning_rate': 0.15, 'max_depth': 40, 'min_child_weight': 1, 'gamma': 0.0, 'colsample_bytree': 0.4}\n"
     ]
    }
   ],
   "source": [
    "print(params_model)"
   ]
  },
  {
   "cell_type": "code",
   "execution_count": 12,
   "id": "7895d106",
   "metadata": {},
   "outputs": [],
   "source": [
    "label_enc = LabelEncoder().fit(y_df_alt_train)\n",
    "y_df_alt_train_enc = pd.Series(label_enc.transform(y_df_alt_train))"
   ]
  },
  {
   "cell_type": "code",
   "execution_count": 13,
   "id": "2ccdb4a8",
   "metadata": {},
   "outputs": [],
   "source": [
    "import xgboost as xgb\n",
    "model_alt_grid = xgb.XGBClassifier(**params_model)\n",
    "model_alt_grid.fit(X_df_alt_train,y_df_alt_train_enc)\n",
    "predicted = model_alt_grid.predict(X_to_predict)"
   ]
  },
  {
   "cell_type": "code",
   "execution_count": 14,
   "id": "e1ec0837",
   "metadata": {},
   "outputs": [],
   "source": [
    "df2 = pd.read_csv(\"../UH_2023/UH_2023_TRAIN.txt\", sep = \"|\")\n",
    "df2 = df2.astype({\"CAMPAÑA\": str, \"ID_FINCA\": str, \"ID_ZONA\": str, \"ID_ESTACION\": str, \"VARIEDAD\": str, \"MODO\": str, \"TIPO\": str, \"COLOR\": str})"
   ]
  },
  {
   "cell_type": "code",
   "execution_count": 15,
   "id": "84565482",
   "metadata": {},
   "outputs": [
    {
     "data": {
      "text/html": [
       "<div>\n",
       "<style scoped>\n",
       "    .dataframe tbody tr th:only-of-type {\n",
       "        vertical-align: middle;\n",
       "    }\n",
       "\n",
       "    .dataframe tbody tr th {\n",
       "        vertical-align: top;\n",
       "    }\n",
       "\n",
       "    .dataframe thead th {\n",
       "        text-align: right;\n",
       "    }\n",
       "</style>\n",
       "<table border=\"1\" class=\"dataframe\">\n",
       "  <thead>\n",
       "    <tr style=\"text-align: right;\">\n",
       "      <th></th>\n",
       "      <th>CAMPAÑA</th>\n",
       "      <th>ID_FINCA</th>\n",
       "      <th>ID_ZONA</th>\n",
       "      <th>ID_ESTACION</th>\n",
       "      <th>ALTITUD</th>\n",
       "      <th>VARIEDAD</th>\n",
       "      <th>MODO</th>\n",
       "      <th>TIPO</th>\n",
       "      <th>COLOR</th>\n",
       "      <th>SUPERFICIE</th>\n",
       "      <th>PRODUCCION</th>\n",
       "    </tr>\n",
       "  </thead>\n",
       "  <tbody>\n",
       "    <tr>\n",
       "      <th>0</th>\n",
       "      <td>14</td>\n",
       "      <td>76953</td>\n",
       "      <td>515</td>\n",
       "      <td>4</td>\n",
       "      <td>660</td>\n",
       "      <td>26</td>\n",
       "      <td>2</td>\n",
       "      <td>0</td>\n",
       "      <td>1</td>\n",
       "      <td>0.0000</td>\n",
       "      <td>22215.0</td>\n",
       "    </tr>\n",
       "    <tr>\n",
       "      <th>1</th>\n",
       "      <td>14</td>\n",
       "      <td>84318</td>\n",
       "      <td>515</td>\n",
       "      <td>4</td>\n",
       "      <td>660</td>\n",
       "      <td>26</td>\n",
       "      <td>2</td>\n",
       "      <td>0</td>\n",
       "      <td>1</td>\n",
       "      <td>0.0000</td>\n",
       "      <td>22215.0</td>\n",
       "    </tr>\n",
       "    <tr>\n",
       "      <th>2</th>\n",
       "      <td>14</td>\n",
       "      <td>85579</td>\n",
       "      <td>340</td>\n",
       "      <td>4</td>\n",
       "      <td>520</td>\n",
       "      <td>32</td>\n",
       "      <td>2</td>\n",
       "      <td>0</td>\n",
       "      <td>1</td>\n",
       "      <td>0.0000</td>\n",
       "      <td>20978.0</td>\n",
       "    </tr>\n",
       "    <tr>\n",
       "      <th>3</th>\n",
       "      <td>14</td>\n",
       "      <td>69671</td>\n",
       "      <td>340</td>\n",
       "      <td>4</td>\n",
       "      <td>520</td>\n",
       "      <td>32</td>\n",
       "      <td>2</td>\n",
       "      <td>0</td>\n",
       "      <td>1</td>\n",
       "      <td>0.0000</td>\n",
       "      <td>40722.0</td>\n",
       "    </tr>\n",
       "    <tr>\n",
       "      <th>4</th>\n",
       "      <td>14</td>\n",
       "      <td>14001</td>\n",
       "      <td>852</td>\n",
       "      <td>14</td>\n",
       "      <td>NaN</td>\n",
       "      <td>81</td>\n",
       "      <td>1</td>\n",
       "      <td>0</td>\n",
       "      <td>1</td>\n",
       "      <td>0.0000</td>\n",
       "      <td>14126.0</td>\n",
       "    </tr>\n",
       "    <tr>\n",
       "      <th>...</th>\n",
       "      <td>...</td>\n",
       "      <td>...</td>\n",
       "      <td>...</td>\n",
       "      <td>...</td>\n",
       "      <td>...</td>\n",
       "      <td>...</td>\n",
       "      <td>...</td>\n",
       "      <td>...</td>\n",
       "      <td>...</td>\n",
       "      <td>...</td>\n",
       "      <td>...</td>\n",
       "    </tr>\n",
       "    <tr>\n",
       "      <th>9596</th>\n",
       "      <td>22</td>\n",
       "      <td>37461</td>\n",
       "      <td>239</td>\n",
       "      <td>6</td>\n",
       "      <td>700</td>\n",
       "      <td>52</td>\n",
       "      <td>2</td>\n",
       "      <td>0</td>\n",
       "      <td>1</td>\n",
       "      <td>3.6800</td>\n",
       "      <td>NaN</td>\n",
       "    </tr>\n",
       "    <tr>\n",
       "      <th>9597</th>\n",
       "      <td>22</td>\n",
       "      <td>58769</td>\n",
       "      <td>239</td>\n",
       "      <td>6</td>\n",
       "      <td>700</td>\n",
       "      <td>32</td>\n",
       "      <td>2</td>\n",
       "      <td>0</td>\n",
       "      <td>1</td>\n",
       "      <td>4.2500</td>\n",
       "      <td>NaN</td>\n",
       "    </tr>\n",
       "    <tr>\n",
       "      <th>9598</th>\n",
       "      <td>22</td>\n",
       "      <td>58769</td>\n",
       "      <td>239</td>\n",
       "      <td>6</td>\n",
       "      <td>700</td>\n",
       "      <td>59</td>\n",
       "      <td>2</td>\n",
       "      <td>0</td>\n",
       "      <td>1</td>\n",
       "      <td>4.0700</td>\n",
       "      <td>NaN</td>\n",
       "    </tr>\n",
       "    <tr>\n",
       "      <th>9599</th>\n",
       "      <td>22</td>\n",
       "      <td>88928</td>\n",
       "      <td>239</td>\n",
       "      <td>6</td>\n",
       "      <td>700</td>\n",
       "      <td>40</td>\n",
       "      <td>2</td>\n",
       "      <td>0</td>\n",
       "      <td>1</td>\n",
       "      <td>4.5727</td>\n",
       "      <td>NaN</td>\n",
       "    </tr>\n",
       "    <tr>\n",
       "      <th>9600</th>\n",
       "      <td>22</td>\n",
       "      <td>88928</td>\n",
       "      <td>239</td>\n",
       "      <td>6</td>\n",
       "      <td>700</td>\n",
       "      <td>52</td>\n",
       "      <td>2</td>\n",
       "      <td>0</td>\n",
       "      <td>1</td>\n",
       "      <td>1.6099</td>\n",
       "      <td>NaN</td>\n",
       "    </tr>\n",
       "  </tbody>\n",
       "</table>\n",
       "<p>9601 rows × 11 columns</p>\n",
       "</div>"
      ],
      "text/plain": [
       "     CAMPAÑA ID_FINCA ID_ZONA ID_ESTACION ALTITUD VARIEDAD MODO TIPO COLOR  \\\n",
       "0         14    76953     515           4     660       26    2    0     1   \n",
       "1         14    84318     515           4     660       26    2    0     1   \n",
       "2         14    85579     340           4     520       32    2    0     1   \n",
       "3         14    69671     340           4     520       32    2    0     1   \n",
       "4         14    14001     852          14     NaN       81    1    0     1   \n",
       "...      ...      ...     ...         ...     ...      ...  ...  ...   ...   \n",
       "9596      22    37461     239           6     700       52    2    0     1   \n",
       "9597      22    58769     239           6     700       32    2    0     1   \n",
       "9598      22    58769     239           6     700       59    2    0     1   \n",
       "9599      22    88928     239           6     700       40    2    0     1   \n",
       "9600      22    88928     239           6     700       52    2    0     1   \n",
       "\n",
       "      SUPERFICIE  PRODUCCION  \n",
       "0         0.0000     22215.0  \n",
       "1         0.0000     22215.0  \n",
       "2         0.0000     20978.0  \n",
       "3         0.0000     40722.0  \n",
       "4         0.0000     14126.0  \n",
       "...          ...         ...  \n",
       "9596      3.6800         NaN  \n",
       "9597      4.2500         NaN  \n",
       "9598      4.0700         NaN  \n",
       "9599      4.5727         NaN  \n",
       "9600      1.6099         NaN  \n",
       "\n",
       "[9601 rows x 11 columns]"
      ]
     },
     "execution_count": 15,
     "metadata": {},
     "output_type": "execute_result"
    }
   ],
   "source": [
    "df2"
   ]
  },
  {
   "cell_type": "code",
   "execution_count": 16,
   "id": "247f7d7f",
   "metadata": {},
   "outputs": [],
   "source": [
    "predicted2 = pd.Series(label_enc.inverse_transform(predicted))\n",
    "predicted2.index = df2[df2[\"ALTITUD\"].isna() == True].index"
   ]
  },
  {
   "cell_type": "code",
   "execution_count": 17,
   "id": "29c97c45",
   "metadata": {},
   "outputs": [],
   "source": [
    "df2.fillna({\"ALTITUD\": predicted2}, inplace=True)"
   ]
  },
  {
   "cell_type": "code",
   "execution_count": 18,
   "id": "cb681223",
   "metadata": {},
   "outputs": [
    {
     "data": {
      "text/html": [
       "<div>\n",
       "<style scoped>\n",
       "    .dataframe tbody tr th:only-of-type {\n",
       "        vertical-align: middle;\n",
       "    }\n",
       "\n",
       "    .dataframe tbody tr th {\n",
       "        vertical-align: top;\n",
       "    }\n",
       "\n",
       "    .dataframe thead th {\n",
       "        text-align: right;\n",
       "    }\n",
       "</style>\n",
       "<table border=\"1\" class=\"dataframe\">\n",
       "  <thead>\n",
       "    <tr style=\"text-align: right;\">\n",
       "      <th></th>\n",
       "      <th>CAMPAÑA</th>\n",
       "      <th>ID_FINCA</th>\n",
       "      <th>ID_ZONA</th>\n",
       "      <th>ID_ESTACION</th>\n",
       "      <th>ALTITUD</th>\n",
       "      <th>VARIEDAD</th>\n",
       "      <th>MODO</th>\n",
       "      <th>TIPO</th>\n",
       "      <th>COLOR</th>\n",
       "      <th>SUPERFICIE</th>\n",
       "      <th>PRODUCCION</th>\n",
       "    </tr>\n",
       "  </thead>\n",
       "  <tbody>\n",
       "    <tr>\n",
       "      <th>0</th>\n",
       "      <td>14</td>\n",
       "      <td>76953</td>\n",
       "      <td>515</td>\n",
       "      <td>4</td>\n",
       "      <td>660</td>\n",
       "      <td>26</td>\n",
       "      <td>2</td>\n",
       "      <td>0</td>\n",
       "      <td>1</td>\n",
       "      <td>0.0000</td>\n",
       "      <td>22215.0</td>\n",
       "    </tr>\n",
       "    <tr>\n",
       "      <th>1</th>\n",
       "      <td>14</td>\n",
       "      <td>84318</td>\n",
       "      <td>515</td>\n",
       "      <td>4</td>\n",
       "      <td>660</td>\n",
       "      <td>26</td>\n",
       "      <td>2</td>\n",
       "      <td>0</td>\n",
       "      <td>1</td>\n",
       "      <td>0.0000</td>\n",
       "      <td>22215.0</td>\n",
       "    </tr>\n",
       "    <tr>\n",
       "      <th>2</th>\n",
       "      <td>14</td>\n",
       "      <td>85579</td>\n",
       "      <td>340</td>\n",
       "      <td>4</td>\n",
       "      <td>520</td>\n",
       "      <td>32</td>\n",
       "      <td>2</td>\n",
       "      <td>0</td>\n",
       "      <td>1</td>\n",
       "      <td>0.0000</td>\n",
       "      <td>20978.0</td>\n",
       "    </tr>\n",
       "    <tr>\n",
       "      <th>3</th>\n",
       "      <td>14</td>\n",
       "      <td>69671</td>\n",
       "      <td>340</td>\n",
       "      <td>4</td>\n",
       "      <td>520</td>\n",
       "      <td>32</td>\n",
       "      <td>2</td>\n",
       "      <td>0</td>\n",
       "      <td>1</td>\n",
       "      <td>0.0000</td>\n",
       "      <td>40722.0</td>\n",
       "    </tr>\n",
       "    <tr>\n",
       "      <th>4</th>\n",
       "      <td>14</td>\n",
       "      <td>14001</td>\n",
       "      <td>852</td>\n",
       "      <td>14</td>\n",
       "      <td>650-660</td>\n",
       "      <td>81</td>\n",
       "      <td>1</td>\n",
       "      <td>0</td>\n",
       "      <td>1</td>\n",
       "      <td>0.0000</td>\n",
       "      <td>14126.0</td>\n",
       "    </tr>\n",
       "    <tr>\n",
       "      <th>...</th>\n",
       "      <td>...</td>\n",
       "      <td>...</td>\n",
       "      <td>...</td>\n",
       "      <td>...</td>\n",
       "      <td>...</td>\n",
       "      <td>...</td>\n",
       "      <td>...</td>\n",
       "      <td>...</td>\n",
       "      <td>...</td>\n",
       "      <td>...</td>\n",
       "      <td>...</td>\n",
       "    </tr>\n",
       "    <tr>\n",
       "      <th>9596</th>\n",
       "      <td>22</td>\n",
       "      <td>37461</td>\n",
       "      <td>239</td>\n",
       "      <td>6</td>\n",
       "      <td>700</td>\n",
       "      <td>52</td>\n",
       "      <td>2</td>\n",
       "      <td>0</td>\n",
       "      <td>1</td>\n",
       "      <td>3.6800</td>\n",
       "      <td>NaN</td>\n",
       "    </tr>\n",
       "    <tr>\n",
       "      <th>9597</th>\n",
       "      <td>22</td>\n",
       "      <td>58769</td>\n",
       "      <td>239</td>\n",
       "      <td>6</td>\n",
       "      <td>700</td>\n",
       "      <td>32</td>\n",
       "      <td>2</td>\n",
       "      <td>0</td>\n",
       "      <td>1</td>\n",
       "      <td>4.2500</td>\n",
       "      <td>NaN</td>\n",
       "    </tr>\n",
       "    <tr>\n",
       "      <th>9598</th>\n",
       "      <td>22</td>\n",
       "      <td>58769</td>\n",
       "      <td>239</td>\n",
       "      <td>6</td>\n",
       "      <td>700</td>\n",
       "      <td>59</td>\n",
       "      <td>2</td>\n",
       "      <td>0</td>\n",
       "      <td>1</td>\n",
       "      <td>4.0700</td>\n",
       "      <td>NaN</td>\n",
       "    </tr>\n",
       "    <tr>\n",
       "      <th>9599</th>\n",
       "      <td>22</td>\n",
       "      <td>88928</td>\n",
       "      <td>239</td>\n",
       "      <td>6</td>\n",
       "      <td>700</td>\n",
       "      <td>40</td>\n",
       "      <td>2</td>\n",
       "      <td>0</td>\n",
       "      <td>1</td>\n",
       "      <td>4.5727</td>\n",
       "      <td>NaN</td>\n",
       "    </tr>\n",
       "    <tr>\n",
       "      <th>9600</th>\n",
       "      <td>22</td>\n",
       "      <td>88928</td>\n",
       "      <td>239</td>\n",
       "      <td>6</td>\n",
       "      <td>700</td>\n",
       "      <td>52</td>\n",
       "      <td>2</td>\n",
       "      <td>0</td>\n",
       "      <td>1</td>\n",
       "      <td>1.6099</td>\n",
       "      <td>NaN</td>\n",
       "    </tr>\n",
       "  </tbody>\n",
       "</table>\n",
       "<p>9601 rows × 11 columns</p>\n",
       "</div>"
      ],
      "text/plain": [
       "     CAMPAÑA ID_FINCA ID_ZONA ID_ESTACION  ALTITUD VARIEDAD MODO TIPO COLOR  \\\n",
       "0         14    76953     515           4      660       26    2    0     1   \n",
       "1         14    84318     515           4      660       26    2    0     1   \n",
       "2         14    85579     340           4      520       32    2    0     1   \n",
       "3         14    69671     340           4      520       32    2    0     1   \n",
       "4         14    14001     852          14  650-660       81    1    0     1   \n",
       "...      ...      ...     ...         ...      ...      ...  ...  ...   ...   \n",
       "9596      22    37461     239           6      700       52    2    0     1   \n",
       "9597      22    58769     239           6      700       32    2    0     1   \n",
       "9598      22    58769     239           6      700       59    2    0     1   \n",
       "9599      22    88928     239           6      700       40    2    0     1   \n",
       "9600      22    88928     239           6      700       52    2    0     1   \n",
       "\n",
       "      SUPERFICIE  PRODUCCION  \n",
       "0         0.0000     22215.0  \n",
       "1         0.0000     22215.0  \n",
       "2         0.0000     20978.0  \n",
       "3         0.0000     40722.0  \n",
       "4         0.0000     14126.0  \n",
       "...          ...         ...  \n",
       "9596      3.6800         NaN  \n",
       "9597      4.2500         NaN  \n",
       "9598      4.0700         NaN  \n",
       "9599      4.5727         NaN  \n",
       "9600      1.6099         NaN  \n",
       "\n",
       "[9601 rows x 11 columns]"
      ]
     },
     "execution_count": 18,
     "metadata": {},
     "output_type": "execute_result"
    }
   ],
   "source": [
    "df2"
   ]
  },
  {
   "cell_type": "code",
   "execution_count": 19,
   "id": "b420ed41",
   "metadata": {},
   "outputs": [],
   "source": [
    "def fun(x, mode): \n",
    "    altitud = str(x).split('-')\n",
    "    if altitud[0] == \"nan\":\n",
    "        if mode == \"nan_1\":\n",
    "            return -1\n",
    "        return np.nan\n",
    "    if mode == \"nan_1\":\n",
    "            return x\n",
    "    if mode == \"min\":\n",
    "        return int(altitud[0])\n",
    "    if mode == \"diff\":\n",
    "        if len(altitud) == 1:\n",
    "            return 0\n",
    "        else:\n",
    "            return int(altitud[1])-int(altitud[0])\n",
    "\n",
    "df2[\"ALTITUD_MIN\"] = df2[\"ALTITUD\"].apply(fun, args=(\"min\",))\n",
    "df2[\"ALTITUD_DIF\"] = df2[\"ALTITUD\"].apply(fun, args=(\"diff\",))\n",
    "df2[\"ALTITUD\"] = df2[\"ALTITUD\"].apply(fun, args=(\"nan_1\",))"
   ]
  },
  {
   "cell_type": "code",
   "execution_count": 20,
   "id": "583753b5",
   "metadata": {},
   "outputs": [],
   "source": [
    "df2.loc[df[\"MODO\"]==\"1\", \"MODO\"]  = \"0\"\n",
    "df2.loc[df[\"MODO\"]==\"2\", \"MODO\"]  = \"1\""
   ]
  },
  {
   "cell_type": "code",
   "execution_count": 21,
   "id": "50ebdb4a",
   "metadata": {},
   "outputs": [],
   "source": [
    "df_new = df2"
   ]
  },
  {
   "cell_type": "markdown",
   "id": "50006a8b",
   "metadata": {},
   "source": [
    "#### Splitting dataset"
   ]
  },
  {
   "cell_type": "markdown",
   "id": "c803dd11",
   "metadata": {},
   "source": [
    "#### 1. cas genèric\n",
    "- TRAIN: 16-21 \n",
    "- TEST: 22 gairebé tot\n",
    "\n",
    "#### 2. sense id_finca amb superfície\n",
    "- TRAIN: 20-21\n",
    "- TEST: 22 - gairebé totes les finques que no apareixen el 16-21\n",
    "\n",
    "#### 3. sense id_finca ni id_zona amb superfície\n",
    "- TRAIN: 20-21\n",
    "- TEST: 22 - finques, zones que no apareixen el 16-21 --> zona 233\n",
    "\n",
    "#### 4. amb producció predita\n",
    "- TRAIN: 14 + 22 predit\n",
    "- TEST: 22 - finques, zones que no apareixen el 16-21 --> finca 13450\n",
    "\n"
   ]
  },
  {
   "cell_type": "code",
   "execution_count": 103,
   "id": "60e42567",
   "metadata": {},
   "outputs": [],
   "source": [
    "df_new[\"CAMPAÑA_ESTACION\"] = \"20\" + df_new[\"CAMPAÑA\"].astype(str)+ \"_\" + df_new[\"ID_ESTACION\"].astype(str)"
   ]
  },
  {
   "cell_type": "markdown",
   "id": "812a4fa3",
   "metadata": {},
   "source": [
    "#### 16-21 dataset"
   ]
  },
  {
   "cell_type": "code",
   "execution_count": 39,
   "id": "1314f7a0",
   "metadata": {},
   "outputs": [],
   "source": [
    "df_new_14_15 = df_new[df_new[\"CAMPAÑA\"].isin([\"14\", \"15\"]) == False]"
   ]
  },
  {
   "cell_type": "code",
   "execution_count": 42,
   "id": "2466f74d",
   "metadata": {},
   "outputs": [],
   "source": [
    "df_new_14_15.to_csv(\"../DATASETS_FINALS/TOT_menys_14_15.csv\", index=False)"
   ]
  },
  {
   "cell_type": "markdown",
   "id": "6f855579",
   "metadata": {},
   "source": [
    "#### 20-21 dataset"
   ]
  },
  {
   "cell_type": "code",
   "execution_count": 70,
   "id": "763323d4",
   "metadata": {},
   "outputs": [],
   "source": [
    "df_new_20_21 = df_new[df_new[\"CAMPAÑA\"].isin([\"20\", \"21\"]) == True]"
   ]
  },
  {
   "cell_type": "code",
   "execution_count": 71,
   "id": "b2430e7a",
   "metadata": {},
   "outputs": [],
   "source": [
    "df_new_20_21 = df_new_20_21[df_new_20_21[\"SUPERFICIE\"] != 0]"
   ]
  },
  {
   "cell_type": "code",
   "execution_count": 78,
   "id": "511cd835",
   "metadata": {},
   "outputs": [],
   "source": [
    "df_new_20_21.to_csv(\"../DATASETS_FINALS/TOT_20_21.csv\", index=False)"
   ]
  },
  {
   "cell_type": "markdown",
   "id": "c8fa458c",
   "metadata": {},
   "source": [
    "#### 14 i 22 dataset"
   ]
  },
  {
   "cell_type": "code",
   "execution_count": 104,
   "id": "b832af3b",
   "metadata": {},
   "outputs": [],
   "source": [
    "df_new_14_22 = df_new[df_new[\"CAMPAÑA\"].isin([\"14\", \"22\"]) == True]"
   ]
  },
  {
   "cell_type": "code",
   "execution_count": 105,
   "id": "bf0d8686",
   "metadata": {},
   "outputs": [],
   "source": [
    "df_new_14_22.to_csv(\"../DATASETS_FINALS/TOT_14_22.csv\", index_label = \"INDEX\")"
   ]
  },
  {
   "cell_type": "markdown",
   "id": "dc336e98",
   "metadata": {},
   "source": [
    "#### Intersections"
   ]
  },
  {
   "cell_type": "code",
   "execution_count": 93,
   "id": "9aa1d3e8",
   "metadata": {},
   "outputs": [],
   "source": [
    "df_new5 = df_new.copy()\n",
    "df_16_21 = df_new[df_new[\"CAMPAÑA\"].isin([\"14\", \"15\", \"22\"]) == False]\n",
    "df_20_21 = df_new[df_new[\"CAMPAÑA\"].isin([\"20\", \"21\"]) == True]\n",
    "df_22 = df_new[df_new[\"CAMPAÑA\"].isin([\"22\"]) == True]\n",
    "id_finca = set(df_22[\"ID_FINCA\"]) - set(df_16_21[\"ID_FINCA\"])\n",
    "id_zona = set(df_22[\"ID_ZONA\"]) - set(df_16_21[\"ID_ZONA\"])\n",
    "#id_estacion = set(df_22[\"ID_ESTACION\"]) - set(df_16_21[\"ID_ESTACION\"])\n",
    "#id_color = set(df_22[\"COLOR\"]) - set(df_16_21[\"COLOR\"])\n",
    "#id_tipo = set(df_22[\"TIPO\"]) - set(df_16_21[\"TIPO\"])\n",
    "#id_modo = set(df_22[\"MODO\"]) - set(df_16_21[\"MODO\"])"
   ]
  },
  {
   "cell_type": "code",
   "execution_count": null,
   "id": "840fc4ec",
   "metadata": {},
   "outputs": [],
   "source": [
    "#FINCA 13450 apareix l'any 14\n",
    "df_new5[df_new5[\"ID_FINCA\"].isin(id_finca) == True]"
   ]
  },
  {
   "cell_type": "code",
   "execution_count": null,
   "id": "28835354",
   "metadata": {},
   "outputs": [],
   "source": [
    "df_new5[df_new5[\"ID_ZONA\"].isin(id_zona) == True]"
   ]
  },
  {
   "cell_type": "code",
   "execution_count": null,
   "id": "9469679a",
   "metadata": {},
   "outputs": [],
   "source": [
    "#ZONA 233 NO APAREIX 14-21\n",
    "set(df_22[df_22[\"ID_FINCA\"].isin(id_finca) == True][\"ID_ZONA\"])- set(df_20_21[\"ID_ZONA\"])"
   ]
  },
  {
   "cell_type": "markdown",
   "id": "2c8fa5c2",
   "metadata": {},
   "source": [
    "#### Cas 1"
   ]
  },
  {
   "cell_type": "code",
   "execution_count": 73,
   "id": "968aa612",
   "metadata": {},
   "outputs": [],
   "source": [
    "df_22_cas1 = df_22[df_22[\"ID_FINCA\"].isin(id_finca) == False]"
   ]
  },
  {
   "cell_type": "code",
   "execution_count": 74,
   "id": "35e6d0bb",
   "metadata": {},
   "outputs": [],
   "source": [
    "df_22_cas1.to_csv(\"../DATASETS_FINALS/df_22_cas1.csv\", index_label = \"INDEX\")"
   ]
  },
  {
   "cell_type": "markdown",
   "id": "fbef55f5",
   "metadata": {},
   "source": [
    "#### Cas 2"
   ]
  },
  {
   "cell_type": "code",
   "execution_count": 94,
   "id": "ee11957a",
   "metadata": {},
   "outputs": [],
   "source": [
    "df_22_cas2 = df_22.copy()"
   ]
  },
  {
   "cell_type": "code",
   "execution_count": 95,
   "id": "dd039c64",
   "metadata": {},
   "outputs": [],
   "source": [
    "df_22_cas2 = df_22_cas2[(df_22_cas2[\"ID_FINCA\"].isin(id_finca) == True) &\n",
    "                             (df_22_cas2[\"ID_FINCA\"] != \"13450\") &\n",
    "                             (df_22_cas2[\"ID_ZONA\"] != \"233\")]"
   ]
  },
  {
   "cell_type": "code",
   "execution_count": 96,
   "id": "08fce06d",
   "metadata": {},
   "outputs": [],
   "source": [
    "df_22_cas2 = df_22_cas2.drop(columns = [\"ID_FINCA\"])"
   ]
  },
  {
   "cell_type": "code",
   "execution_count": 98,
   "id": "ee8fac90",
   "metadata": {},
   "outputs": [],
   "source": [
    "df_22_cas2.to_csv(\"../DATASETS_FINALS/df_22_cas2.csv\", index_label = \"INDEX\")"
   ]
  },
  {
   "cell_type": "markdown",
   "id": "4fa8d8ce",
   "metadata": {},
   "source": [
    "#### Cas 3"
   ]
  },
  {
   "cell_type": "code",
   "execution_count": 99,
   "id": "e804ec0f",
   "metadata": {},
   "outputs": [],
   "source": [
    "df_22_cas3 = df_22.copy()"
   ]
  },
  {
   "cell_type": "code",
   "execution_count": 100,
   "id": "6173bc60",
   "metadata": {},
   "outputs": [],
   "source": [
    "df_22_cas3 = df_22_cas3[df_22_cas3[\"ID_ZONA\"] == \"233\"]"
   ]
  },
  {
   "cell_type": "code",
   "execution_count": 101,
   "id": "4bf33a04",
   "metadata": {},
   "outputs": [],
   "source": [
    "df_22_cas3 = df_22_cas3.drop(columns = [\"ID_FINCA\", \"ID_ZONA\"])"
   ]
  },
  {
   "cell_type": "code",
   "execution_count": 102,
   "id": "b89ca11c",
   "metadata": {},
   "outputs": [],
   "source": [
    "df_22_cas3.to_csv(\"../DATASETS_FINALS/df_22_cas3.csv\", index_label = \"INDEX\")"
   ]
  },
  {
   "cell_type": "markdown",
   "id": "69e00a61",
   "metadata": {},
   "source": [
    "#### Cas 4"
   ]
  },
  {
   "cell_type": "code",
   "execution_count": 84,
   "id": "83665d1a",
   "metadata": {},
   "outputs": [],
   "source": [
    "df_22_cas4 = df_22.copy()"
   ]
  },
  {
   "cell_type": "code",
   "execution_count": 85,
   "id": "19d2ee38",
   "metadata": {},
   "outputs": [],
   "source": [
    "df_22_cas4 = df_22_cas4[df_22_cas4[\"ID_FINCA\"] == \"13450\"]"
   ]
  },
  {
   "cell_type": "code",
   "execution_count": 86,
   "id": "4ee4da8e",
   "metadata": {},
   "outputs": [],
   "source": [
    "df_22_cas4.to_csv(\"../DATASETS_FINALS/df_22_cas4.csv\", index_label = \"INDEX\")"
   ]
  }
 ],
 "metadata": {
  "kernelspec": {
   "display_name": "Python 3 (ipykernel)",
   "language": "python",
   "name": "python3"
  },
  "language_info": {
   "codemirror_mode": {
    "name": "ipython",
    "version": 3
   },
   "file_extension": ".py",
   "mimetype": "text/x-python",
   "name": "python",
   "nbconvert_exporter": "python",
   "pygments_lexer": "ipython3",
   "version": "3.8.12"
  }
 },
 "nbformat": 4,
 "nbformat_minor": 5
}
