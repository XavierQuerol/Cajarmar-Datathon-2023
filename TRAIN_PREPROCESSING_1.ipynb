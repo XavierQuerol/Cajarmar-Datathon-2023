{
 "cells": [
  {
   "cell_type": "code",
   "execution_count": 226,
   "id": "ef8f0f22",
   "metadata": {},
   "outputs": [],
   "source": [
    "import pandas as pd\n",
    "import numpy as np"
   ]
  },
  {
   "cell_type": "markdown",
   "id": "440b4377",
   "metadata": {},
   "source": [
    "### Preprocessing for all possible TABLES"
   ]
  },
  {
   "cell_type": "code",
   "execution_count": 267,
   "id": "091091d2",
   "metadata": {},
   "outputs": [],
   "source": [
    "df = pd.read_csv(\"./UH_2023/UH_2023_TRAIN.txt\", sep = \"|\")"
   ]
  },
  {
   "cell_type": "code",
   "execution_count": 269,
   "id": "42bdca60",
   "metadata": {},
   "outputs": [
    {
     "data": {
      "text/plain": [
       "1231"
      ]
     },
     "execution_count": 269,
     "metadata": {},
     "output_type": "execute_result"
    }
   ],
   "source": [
    "len(df[\"ID_FINCA\"].unique())"
   ]
  },
  {
   "cell_type": "code",
   "execution_count": 228,
   "id": "96bfa5e3",
   "metadata": {},
   "outputs": [],
   "source": [
    "df = df.astype({\"CAMPAÑA\": str, \"ID_FINCA\": str, \"ID_ZONA\": str, \"ID_ESTACION\": str, \"VARIEDAD\": str, \"MODO\": str, \"TIPO\": str, \"COLOR\": str})"
   ]
  },
  {
   "cell_type": "code",
   "execution_count": 229,
   "id": "e7b7dcab",
   "metadata": {},
   "outputs": [],
   "source": [
    "def fun(x, mode): \n",
    "    altitud = str(x).split('-')\n",
    "    if altitud[0] == \"nan\":\n",
    "        if mode == \"nan_1\":\n",
    "            return -1\n",
    "        return np.nan\n",
    "    if mode == \"nan_1\":\n",
    "            return x\n",
    "    if mode == \"min\":\n",
    "        return int(altitud[0])\n",
    "    if mode == \"diff\":\n",
    "        if len(altitud) == 1:\n",
    "            return 0\n",
    "        else:\n",
    "            return int(altitud[1])-int(altitud[0])\n",
    "\n",
    "df[\"ALTITUD_MIN\"] = df[\"ALTITUD\"].apply(fun, args=(\"min\",))\n",
    "df[\"ALTITUD_DIF\"] = df[\"ALTITUD\"].apply(fun, args=(\"diff\",))\n",
    "df[\"ALTITUD\"] = df[\"ALTITUD\"].apply(fun, args=(\"nan_1\",))"
   ]
  },
  {
   "cell_type": "code",
   "execution_count": 230,
   "id": "efdd34f5",
   "metadata": {},
   "outputs": [
    {
     "name": "stderr",
     "output_type": "stream",
     "text": [
      "C:\\Users\\xavid\\anaconda3\\lib\\site-packages\\pandas\\core\\algorithms.py:968: UserWarning: Unable to sort modes: '<' not supported between instances of 'int' and 'str'\n",
      "  warn(f\"Unable to sort modes: {err}\")\n",
      "C:\\Users\\xavid\\AppData\\Local\\Temp\\ipykernel_516\\3219566741.py:2: FutureWarning: ['SUPERFICIE', 'PRODUCCION'] did not aggregate successfully. If any error is raised this will raise in a future version of pandas. Drop these columns/ops to avoid this warning.\n",
      "  df_estacion_gb_mode = df.groupby(by=\"ID_ESTACION\").agg(pd.Series.mode)\n"
     ]
    }
   ],
   "source": [
    "df_estacion_gb_mean = df.groupby(by=\"ID_ESTACION\").mean()\n",
    "df_estacion_gb_mode = df.groupby(by=\"ID_ESTACION\").agg(pd.Series.mode)"
   ]
  },
  {
   "cell_type": "code",
   "execution_count": 231,
   "id": "d4a64ccd",
   "metadata": {},
   "outputs": [],
   "source": [
    "df_estacion_gb_mean.reset_index(inplace=True)\n",
    "df_estacion_gb_mode.reset_index(inplace=True)"
   ]
  },
  {
   "cell_type": "code",
   "execution_count": 232,
   "id": "81873ad8",
   "metadata": {},
   "outputs": [],
   "source": [
    "df_estacion_gb_mode.loc[df_estacion_gb_mode[\"ID_ESTACION\"] == \"0\", \"ALTITUD\"] = 390\n",
    "df_estacion_gb_mode.loc[df_estacion_gb_mode[\"ID_ESTACION\"] == \"4\", \"ALTITUD\"] = 520"
   ]
  },
  {
   "cell_type": "code",
   "execution_count": 233,
   "id": "da931247",
   "metadata": {},
   "outputs": [],
   "source": [
    "for i in df[\"ID_ESTACION\"].unique():\n",
    "    df.loc[(df[\"ID_ESTACION\"] == i) & (df[\"ALTITUD\"] == -1),\"ALTITUD_MIN\"] = df_estacion_gb_mean.loc[df_estacion_gb_mean[\"ID_ESTACION\"] == i,\"ALTITUD_MIN\"].values[0]\n",
    "    df.loc[(df[\"ID_ESTACION\"] == i) & (df[\"ALTITUD\"] == -1),\"ALTITUD_DIF\"] = df_estacion_gb_mean.loc[df_estacion_gb_mean[\"ID_ESTACION\"] == i,\"ALTITUD_DIF\"].values[0]\n",
    "    df.loc[(df[\"ID_ESTACION\"] == i) & (df[\"ALTITUD\"] == -1),\"ALTITUD\"] = df_estacion_gb_mode.loc[df_estacion_gb_mode[\"ID_ESTACION\"] == i,\"ALTITUD\"].values[0]"
   ]
  },
  {
   "cell_type": "code",
   "execution_count": 234,
   "id": "b1df54a8",
   "metadata": {},
   "outputs": [],
   "source": [
    "df.loc[df[\"MODO\"]==\"1\", \"MODO\"]  = 0\n",
    "df.loc[df[\"MODO\"]==\"2\", \"MODO\"]  = 1"
   ]
  },
  {
   "cell_type": "code",
   "execution_count": 235,
   "id": "f7ff2dde",
   "metadata": {},
   "outputs": [],
   "source": [
    "df = df.drop(index=df[df[\"CAMPAÑA\"] == \"22\"].index)"
   ]
  },
  {
   "cell_type": "markdown",
   "id": "786ee72c",
   "metadata": {},
   "source": [
    "### 1 - Table without SUPERFICIE"
   ]
  },
  {
   "cell_type": "code",
   "execution_count": 185,
   "id": "e7cce31a",
   "metadata": {},
   "outputs": [],
   "source": [
    "df_temporal = df.drop(axis = 1, columns = [\"SUPERFICIE\"])"
   ]
  },
  {
   "cell_type": "code",
   "execution_count": 186,
   "id": "fd9853a4",
   "metadata": {},
   "outputs": [],
   "source": [
    "import category_encoders as ce\n",
    "\n",
    "encoder = ce.OneHotEncoder(cols=[\"ID_FINCA\", \"ID_ZONA\", \"ID_ESTACION\", \"VARIEDAD\", \"ALTITUD\"])\n",
    "df_encoded = encoder.fit_transform(df_temporal)\n",
    "encoder = ce.OrdinalEncoder(cols = [\"CAMPAÑA\"])\n",
    "df_encoded = encoder.fit_transform(df_temporal)"
   ]
  },
  {
   "cell_type": "code",
   "execution_count": 169,
   "id": "0792f9d3",
   "metadata": {},
   "outputs": [],
   "source": [
    "df_temporal.to_csv(\"D_T_1.csv\")\n",
    "df_encoded.to_csv(\"D_T_1_encoded.csv\")"
   ]
  },
  {
   "cell_type": "markdown",
   "id": "30e88709",
   "metadata": {},
   "source": [
    "### 2 - Table without CAMPAÑA and SUPERFICIE"
   ]
  },
  {
   "cell_type": "code",
   "execution_count": 187,
   "id": "18cb4b54",
   "metadata": {},
   "outputs": [],
   "source": [
    "df_temporal = df.drop(axis = 1, columns = [\"CAMPAÑA\", \"SUPERFICIE\"])"
   ]
  },
  {
   "cell_type": "code",
   "execution_count": 188,
   "id": "2509d8ca",
   "metadata": {},
   "outputs": [],
   "source": [
    "encoder = ce.OneHotEncoder(cols=[\"ID_FINCA\", \"ID_ZONA\", \"ID_ESTACION\", \"VARIEDAD\", \"ALTITUD\"])\n",
    "\n",
    "df_encoded = encoder.fit_transform(df_temporal)"
   ]
  },
  {
   "cell_type": "code",
   "execution_count": 172,
   "id": "7834029a",
   "metadata": {},
   "outputs": [],
   "source": [
    "df_temporal.to_csv(\"D_T_2.csv\")\n",
    "df_encoded.to_csv(\"D_T_encoded_2.csv\")"
   ]
  },
  {
   "cell_type": "markdown",
   "id": "75ce42ea",
   "metadata": {},
   "source": [
    "### 3 - Table without CAMPAÑA"
   ]
  },
  {
   "cell_type": "code",
   "execution_count": 237,
   "id": "ddb1bd93",
   "metadata": {},
   "outputs": [],
   "source": [
    "df_temporal = df.drop(axis = 1, columns = [\"CAMPAÑA\"])"
   ]
  },
  {
   "cell_type": "code",
   "execution_count": 238,
   "id": "71b63d3d",
   "metadata": {},
   "outputs": [],
   "source": [
    "encoder = ce.OneHotEncoder(cols=[\"ID_FINCA\", \"ID_ZONA\", \"ID_ESTACION\", \"VARIEDAD\", \"ALTITUD\"])\n",
    "\n",
    "df_encoded = encoder.fit_transform(df_temporal)"
   ]
  },
  {
   "cell_type": "code",
   "execution_count": 239,
   "id": "e337abe8",
   "metadata": {},
   "outputs": [],
   "source": [
    "train = df_encoded[(df_encoded[\"PRODUCCION\"] != 0) & (df_encoded[\"SUPERFICIE\"] != 0)]\n",
    "to_predict = df_encoded[~((df_encoded[\"PRODUCCION\"] != 0) & (df_encoded[\"SUPERFICIE\"] != 0))]"
   ]
  },
  {
   "cell_type": "code",
   "execution_count": 242,
   "id": "1bbe807b",
   "metadata": {},
   "outputs": [],
   "source": [
    "X = train.drop(axis = 1, columns = [\"SUPERFICIE\"])\n",
    "y = train[\"SUPERFICIE\"]\n",
    "to_predict = to_predict.drop(axis = 1, columns = [\"SUPERFICIE\"])"
   ]
  },
  {
   "cell_type": "code",
   "execution_count": 246,
   "id": "715d48cf",
   "metadata": {},
   "outputs": [],
   "source": [
    "from sklearn.preprocessing import Normalizer, StandardScaler, MinMaxScaler, MaxAbsScaler, RobustScaler\n",
    "\n",
    "normalizer = StandardScaler()\n",
    "norm_X = normalizer.fit_transform(X)\n",
    "norm_to_predict = normalizer.transform(to_predict)"
   ]
  },
  {
   "cell_type": "code",
   "execution_count": 247,
   "id": "d53ba30c",
   "metadata": {},
   "outputs": [
    {
     "name": "stderr",
     "output_type": "stream",
     "text": [
      "C:\\Users\\xavid\\anaconda3\\lib\\site-packages\\sklearn\\neural_network\\_multilayer_perceptron.py:686: UserWarning: Training interrupted by user.\n",
      "  warnings.warn(\"Training interrupted by user.\")\n"
     ]
    },
    {
     "data": {
      "text/html": [
       "<style>#sk-container-id-2 {color: black;background-color: white;}#sk-container-id-2 pre{padding: 0;}#sk-container-id-2 div.sk-toggleable {background-color: white;}#sk-container-id-2 label.sk-toggleable__label {cursor: pointer;display: block;width: 100%;margin-bottom: 0;padding: 0.3em;box-sizing: border-box;text-align: center;}#sk-container-id-2 label.sk-toggleable__label-arrow:before {content: \"▸\";float: left;margin-right: 0.25em;color: #696969;}#sk-container-id-2 label.sk-toggleable__label-arrow:hover:before {color: black;}#sk-container-id-2 div.sk-estimator:hover label.sk-toggleable__label-arrow:before {color: black;}#sk-container-id-2 div.sk-toggleable__content {max-height: 0;max-width: 0;overflow: hidden;text-align: left;background-color: #f0f8ff;}#sk-container-id-2 div.sk-toggleable__content pre {margin: 0.2em;color: black;border-radius: 0.25em;background-color: #f0f8ff;}#sk-container-id-2 input.sk-toggleable__control:checked~div.sk-toggleable__content {max-height: 200px;max-width: 100%;overflow: auto;}#sk-container-id-2 input.sk-toggleable__control:checked~label.sk-toggleable__label-arrow:before {content: \"▾\";}#sk-container-id-2 div.sk-estimator input.sk-toggleable__control:checked~label.sk-toggleable__label {background-color: #d4ebff;}#sk-container-id-2 div.sk-label input.sk-toggleable__control:checked~label.sk-toggleable__label {background-color: #d4ebff;}#sk-container-id-2 input.sk-hidden--visually {border: 0;clip: rect(1px 1px 1px 1px);clip: rect(1px, 1px, 1px, 1px);height: 1px;margin: -1px;overflow: hidden;padding: 0;position: absolute;width: 1px;}#sk-container-id-2 div.sk-estimator {font-family: monospace;background-color: #f0f8ff;border: 1px dotted black;border-radius: 0.25em;box-sizing: border-box;margin-bottom: 0.5em;}#sk-container-id-2 div.sk-estimator:hover {background-color: #d4ebff;}#sk-container-id-2 div.sk-parallel-item::after {content: \"\";width: 100%;border-bottom: 1px solid gray;flex-grow: 1;}#sk-container-id-2 div.sk-label:hover label.sk-toggleable__label {background-color: #d4ebff;}#sk-container-id-2 div.sk-serial::before {content: \"\";position: absolute;border-left: 1px solid gray;box-sizing: border-box;top: 0;bottom: 0;left: 50%;z-index: 0;}#sk-container-id-2 div.sk-serial {display: flex;flex-direction: column;align-items: center;background-color: white;padding-right: 0.2em;padding-left: 0.2em;position: relative;}#sk-container-id-2 div.sk-item {position: relative;z-index: 1;}#sk-container-id-2 div.sk-parallel {display: flex;align-items: stretch;justify-content: center;background-color: white;position: relative;}#sk-container-id-2 div.sk-item::before, #sk-container-id-2 div.sk-parallel-item::before {content: \"\";position: absolute;border-left: 1px solid gray;box-sizing: border-box;top: 0;bottom: 0;left: 50%;z-index: -1;}#sk-container-id-2 div.sk-parallel-item {display: flex;flex-direction: column;z-index: 1;position: relative;background-color: white;}#sk-container-id-2 div.sk-parallel-item:first-child::after {align-self: flex-end;width: 50%;}#sk-container-id-2 div.sk-parallel-item:last-child::after {align-self: flex-start;width: 50%;}#sk-container-id-2 div.sk-parallel-item:only-child::after {width: 0;}#sk-container-id-2 div.sk-dashed-wrapped {border: 1px dashed gray;margin: 0 0.4em 0.5em 0.4em;box-sizing: border-box;padding-bottom: 0.4em;background-color: white;}#sk-container-id-2 div.sk-label label {font-family: monospace;font-weight: bold;display: inline-block;line-height: 1.2em;}#sk-container-id-2 div.sk-label-container {text-align: center;}#sk-container-id-2 div.sk-container {/* jupyter's `normalize.less` sets `[hidden] { display: none; }` but bootstrap.min.css set `[hidden] { display: none !important; }` so we also need the `!important` here to be able to override the default hidden behavior on the sphinx rendered scikit-learn.org. See: https://github.com/scikit-learn/scikit-learn/issues/21755 */display: inline-block !important;position: relative;}#sk-container-id-2 div.sk-text-repr-fallback {display: none;}</style><div id=\"sk-container-id-2\" class=\"sk-top-container\"><div class=\"sk-text-repr-fallback\"><pre>GridSearchCV(estimator=MLPRegressor(),\n",
       "             param_grid={&#x27;hidden_layer_sizes&#x27;: [100, (100, 100, 100)],\n",
       "                         &#x27;learning_rate&#x27;: [&#x27;constant&#x27;, &#x27;adaptive&#x27;]},\n",
       "             scoring=&#x27;r2&#x27;)</pre><b>In a Jupyter environment, please rerun this cell to show the HTML representation or trust the notebook. <br />On GitHub, the HTML representation is unable to render, please try loading this page with nbviewer.org.</b></div><div class=\"sk-container\" hidden><div class=\"sk-item sk-dashed-wrapped\"><div class=\"sk-label-container\"><div class=\"sk-label sk-toggleable\"><input class=\"sk-toggleable__control sk-hidden--visually\" id=\"sk-estimator-id-4\" type=\"checkbox\" ><label for=\"sk-estimator-id-4\" class=\"sk-toggleable__label sk-toggleable__label-arrow\">GridSearchCV</label><div class=\"sk-toggleable__content\"><pre>GridSearchCV(estimator=MLPRegressor(),\n",
       "             param_grid={&#x27;hidden_layer_sizes&#x27;: [100, (100, 100, 100)],\n",
       "                         &#x27;learning_rate&#x27;: [&#x27;constant&#x27;, &#x27;adaptive&#x27;]},\n",
       "             scoring=&#x27;r2&#x27;)</pre></div></div></div><div class=\"sk-parallel\"><div class=\"sk-parallel-item\"><div class=\"sk-item\"><div class=\"sk-label-container\"><div class=\"sk-label sk-toggleable\"><input class=\"sk-toggleable__control sk-hidden--visually\" id=\"sk-estimator-id-5\" type=\"checkbox\" ><label for=\"sk-estimator-id-5\" class=\"sk-toggleable__label sk-toggleable__label-arrow\">estimator: MLPRegressor</label><div class=\"sk-toggleable__content\"><pre>MLPRegressor()</pre></div></div></div><div class=\"sk-serial\"><div class=\"sk-item\"><div class=\"sk-estimator sk-toggleable\"><input class=\"sk-toggleable__control sk-hidden--visually\" id=\"sk-estimator-id-6\" type=\"checkbox\" ><label for=\"sk-estimator-id-6\" class=\"sk-toggleable__label sk-toggleable__label-arrow\">MLPRegressor</label><div class=\"sk-toggleable__content\"><pre>MLPRegressor()</pre></div></div></div></div></div></div></div></div></div></div>"
      ],
      "text/plain": [
       "GridSearchCV(estimator=MLPRegressor(),\n",
       "             param_grid={'hidden_layer_sizes': [100, (100, 100, 100)],\n",
       "                         'learning_rate': ['constant', 'adaptive']},\n",
       "             scoring='r2')"
      ]
     },
     "execution_count": 247,
     "metadata": {},
     "output_type": "execute_result"
    }
   ],
   "source": [
    "from sklearn.model_selection import GridSearchCV\n",
    "from sklearn.neural_network import MLPRegressor\n",
    "\n",
    "\n",
    "model = {\"model_name\": \"SVC\", \"model\": MLPRegressor(), \"params\": {'hidden_layer_sizes':[(100),(1000,1000,1000)],\n",
    "                                                                  'learning_rate':[\"constant\", \"adaptive\"],}}\n",
    "\n",
    "grid_search = GridSearchCV(model[\"model\"], model[\"params\"], scoring=\"r2\")\n",
    "grid_search.fit(norm_X, y)"
   ]
  },
  {
   "cell_type": "code",
   "execution_count": 248,
   "id": "3b8dc10e",
   "metadata": {},
   "outputs": [
    {
     "name": "stdout",
     "output_type": "stream",
     "text": [
      "{'hidden_layer_sizes': (100, 100, 100), 'learning_rate': 'adaptive'}\n"
     ]
    },
    {
     "data": {
      "text/html": [
       "<div>\n",
       "<style scoped>\n",
       "    .dataframe tbody tr th:only-of-type {\n",
       "        vertical-align: middle;\n",
       "    }\n",
       "\n",
       "    .dataframe tbody tr th {\n",
       "        vertical-align: top;\n",
       "    }\n",
       "\n",
       "    .dataframe thead th {\n",
       "        text-align: right;\n",
       "    }\n",
       "</style>\n",
       "<table border=\"1\" class=\"dataframe\">\n",
       "  <thead>\n",
       "    <tr style=\"text-align: right;\">\n",
       "      <th></th>\n",
       "      <th>mean_fit_time</th>\n",
       "      <th>std_fit_time</th>\n",
       "      <th>mean_score_time</th>\n",
       "      <th>std_score_time</th>\n",
       "      <th>param_hidden_layer_sizes</th>\n",
       "      <th>param_learning_rate</th>\n",
       "      <th>params</th>\n",
       "      <th>split0_test_score</th>\n",
       "      <th>split1_test_score</th>\n",
       "      <th>split2_test_score</th>\n",
       "      <th>split3_test_score</th>\n",
       "      <th>split4_test_score</th>\n",
       "      <th>mean_test_score</th>\n",
       "      <th>std_test_score</th>\n",
       "      <th>rank_test_score</th>\n",
       "    </tr>\n",
       "  </thead>\n",
       "  <tbody>\n",
       "    <tr>\n",
       "      <th>0</th>\n",
       "      <td>9.451171</td>\n",
       "      <td>3.131344</td>\n",
       "      <td>0.005322</td>\n",
       "      <td>0.000376</td>\n",
       "      <td>100</td>\n",
       "      <td>constant</td>\n",
       "      <td>{'hidden_layer_sizes': 100, 'learning_rate': '...</td>\n",
       "      <td>0.774989</td>\n",
       "      <td>0.799511</td>\n",
       "      <td>0.870512</td>\n",
       "      <td>0.590862</td>\n",
       "      <td>0.665164</td>\n",
       "      <td>0.740207</td>\n",
       "      <td>0.099641</td>\n",
       "      <td>4</td>\n",
       "    </tr>\n",
       "    <tr>\n",
       "      <th>1</th>\n",
       "      <td>9.308895</td>\n",
       "      <td>1.867798</td>\n",
       "      <td>0.004107</td>\n",
       "      <td>0.000587</td>\n",
       "      <td>100</td>\n",
       "      <td>adaptive</td>\n",
       "      <td>{'hidden_layer_sizes': 100, 'learning_rate': '...</td>\n",
       "      <td>0.784408</td>\n",
       "      <td>0.759720</td>\n",
       "      <td>0.861517</td>\n",
       "      <td>0.754148</td>\n",
       "      <td>0.586562</td>\n",
       "      <td>0.749271</td>\n",
       "      <td>0.089934</td>\n",
       "      <td>3</td>\n",
       "    </tr>\n",
       "    <tr>\n",
       "      <th>2</th>\n",
       "      <td>8.366059</td>\n",
       "      <td>0.976483</td>\n",
       "      <td>0.005138</td>\n",
       "      <td>0.000371</td>\n",
       "      <td>(100, 100, 100)</td>\n",
       "      <td>constant</td>\n",
       "      <td>{'hidden_layer_sizes': (100, 100, 100), 'learn...</td>\n",
       "      <td>0.891863</td>\n",
       "      <td>0.824670</td>\n",
       "      <td>0.908488</td>\n",
       "      <td>0.864096</td>\n",
       "      <td>0.617077</td>\n",
       "      <td>0.821239</td>\n",
       "      <td>0.105953</td>\n",
       "      <td>2</td>\n",
       "    </tr>\n",
       "    <tr>\n",
       "      <th>3</th>\n",
       "      <td>8.098244</td>\n",
       "      <td>1.237529</td>\n",
       "      <td>0.004801</td>\n",
       "      <td>0.000393</td>\n",
       "      <td>(100, 100, 100)</td>\n",
       "      <td>adaptive</td>\n",
       "      <td>{'hidden_layer_sizes': (100, 100, 100), 'learn...</td>\n",
       "      <td>0.821207</td>\n",
       "      <td>0.866981</td>\n",
       "      <td>0.892721</td>\n",
       "      <td>0.871692</td>\n",
       "      <td>0.829611</td>\n",
       "      <td>0.856443</td>\n",
       "      <td>0.026912</td>\n",
       "      <td>1</td>\n",
       "    </tr>\n",
       "  </tbody>\n",
       "</table>\n",
       "</div>"
      ],
      "text/plain": [
       "   mean_fit_time  std_fit_time  mean_score_time  std_score_time  \\\n",
       "0       9.451171      3.131344         0.005322        0.000376   \n",
       "1       9.308895      1.867798         0.004107        0.000587   \n",
       "2       8.366059      0.976483         0.005138        0.000371   \n",
       "3       8.098244      1.237529         0.004801        0.000393   \n",
       "\n",
       "  param_hidden_layer_sizes param_learning_rate  \\\n",
       "0                      100            constant   \n",
       "1                      100            adaptive   \n",
       "2          (100, 100, 100)            constant   \n",
       "3          (100, 100, 100)            adaptive   \n",
       "\n",
       "                                              params  split0_test_score  \\\n",
       "0  {'hidden_layer_sizes': 100, 'learning_rate': '...           0.774989   \n",
       "1  {'hidden_layer_sizes': 100, 'learning_rate': '...           0.784408   \n",
       "2  {'hidden_layer_sizes': (100, 100, 100), 'learn...           0.891863   \n",
       "3  {'hidden_layer_sizes': (100, 100, 100), 'learn...           0.821207   \n",
       "\n",
       "   split1_test_score  split2_test_score  split3_test_score  split4_test_score  \\\n",
       "0           0.799511           0.870512           0.590862           0.665164   \n",
       "1           0.759720           0.861517           0.754148           0.586562   \n",
       "2           0.824670           0.908488           0.864096           0.617077   \n",
       "3           0.866981           0.892721           0.871692           0.829611   \n",
       "\n",
       "   mean_test_score  std_test_score  rank_test_score  \n",
       "0         0.740207        0.099641                4  \n",
       "1         0.749271        0.089934                3  \n",
       "2         0.821239        0.105953                2  \n",
       "3         0.856443        0.026912                1  "
      ]
     },
     "execution_count": 248,
     "metadata": {},
     "output_type": "execute_result"
    }
   ],
   "source": [
    "print(grid_search.best_params_)\n",
    "df = pd.DataFrame(grid_search.cv_results_)\n",
    "df"
   ]
  },
  {
   "cell_type": "code",
   "execution_count": 251,
   "id": "e40046ac",
   "metadata": {},
   "outputs": [],
   "source": [
    "modelMLPR = MLPRegressor(hidden_layer_sizes=(1000, 1000, 1000), learning_rate=\"adaptive\")\n",
    "modelMLPR.fit(norm_X, y)\n",
    "predicted = modelMLPR.predict(norm_to_predict)\n",
    "final_df = to_predict\n",
    "final_df[\"SUPERFICIE\"] = predicted"
   ]
  },
  {
   "cell_type": "code",
   "execution_count": 253,
   "id": "0e2fdaab",
   "metadata": {},
   "outputs": [
    {
     "data": {
      "text/plain": [
       "array([1.06726886, 1.06726886, 2.07793888, ..., 6.70734351, 6.66371718,\n",
       "       2.44470395])"
      ]
     },
     "execution_count": 253,
     "metadata": {},
     "output_type": "execute_result"
    }
   ],
   "source": [
    "predicted"
   ]
  },
  {
   "cell_type": "code",
   "execution_count": 254,
   "id": "e9058489",
   "metadata": {},
   "outputs": [],
   "source": [
    "final_df = pd.concat([final_df, train])"
   ]
  },
  {
   "cell_type": "code",
   "execution_count": 255,
   "id": "2bdd3195",
   "metadata": {},
   "outputs": [
    {
     "data": {
      "text/html": [
       "<div>\n",
       "<style scoped>\n",
       "    .dataframe tbody tr th:only-of-type {\n",
       "        vertical-align: middle;\n",
       "    }\n",
       "\n",
       "    .dataframe tbody tr th {\n",
       "        vertical-align: top;\n",
       "    }\n",
       "\n",
       "    .dataframe thead th {\n",
       "        text-align: right;\n",
       "    }\n",
       "</style>\n",
       "<table border=\"1\" class=\"dataframe\">\n",
       "  <thead>\n",
       "    <tr style=\"text-align: right;\">\n",
       "      <th></th>\n",
       "      <th>ID_FINCA_1</th>\n",
       "      <th>ID_FINCA_2</th>\n",
       "      <th>ID_FINCA_3</th>\n",
       "      <th>ID_FINCA_4</th>\n",
       "      <th>ID_FINCA_5</th>\n",
       "      <th>ID_FINCA_6</th>\n",
       "      <th>ID_FINCA_7</th>\n",
       "      <th>ID_FINCA_8</th>\n",
       "      <th>ID_FINCA_9</th>\n",
       "      <th>ID_FINCA_10</th>\n",
       "      <th>...</th>\n",
       "      <th>VARIEDAD_23</th>\n",
       "      <th>VARIEDAD_24</th>\n",
       "      <th>VARIEDAD_25</th>\n",
       "      <th>MODO</th>\n",
       "      <th>TIPO</th>\n",
       "      <th>COLOR</th>\n",
       "      <th>PRODUCCION</th>\n",
       "      <th>ALTITUD_MIN</th>\n",
       "      <th>ALTITUD_DIF</th>\n",
       "      <th>SUPERFICIE</th>\n",
       "    </tr>\n",
       "  </thead>\n",
       "  <tbody>\n",
       "    <tr>\n",
       "      <th>0</th>\n",
       "      <td>1</td>\n",
       "      <td>0</td>\n",
       "      <td>0</td>\n",
       "      <td>0</td>\n",
       "      <td>0</td>\n",
       "      <td>0</td>\n",
       "      <td>0</td>\n",
       "      <td>0</td>\n",
       "      <td>0</td>\n",
       "      <td>0</td>\n",
       "      <td>...</td>\n",
       "      <td>0</td>\n",
       "      <td>0</td>\n",
       "      <td>0</td>\n",
       "      <td>1</td>\n",
       "      <td>0</td>\n",
       "      <td>1</td>\n",
       "      <td>22215.0</td>\n",
       "      <td>660.000000</td>\n",
       "      <td>0.00000</td>\n",
       "      <td>1.067269</td>\n",
       "    </tr>\n",
       "    <tr>\n",
       "      <th>1</th>\n",
       "      <td>0</td>\n",
       "      <td>1</td>\n",
       "      <td>0</td>\n",
       "      <td>0</td>\n",
       "      <td>0</td>\n",
       "      <td>0</td>\n",
       "      <td>0</td>\n",
       "      <td>0</td>\n",
       "      <td>0</td>\n",
       "      <td>0</td>\n",
       "      <td>...</td>\n",
       "      <td>0</td>\n",
       "      <td>0</td>\n",
       "      <td>0</td>\n",
       "      <td>1</td>\n",
       "      <td>0</td>\n",
       "      <td>1</td>\n",
       "      <td>22215.0</td>\n",
       "      <td>660.000000</td>\n",
       "      <td>0.00000</td>\n",
       "      <td>1.067269</td>\n",
       "    </tr>\n",
       "    <tr>\n",
       "      <th>2</th>\n",
       "      <td>0</td>\n",
       "      <td>0</td>\n",
       "      <td>1</td>\n",
       "      <td>0</td>\n",
       "      <td>0</td>\n",
       "      <td>0</td>\n",
       "      <td>0</td>\n",
       "      <td>0</td>\n",
       "      <td>0</td>\n",
       "      <td>0</td>\n",
       "      <td>...</td>\n",
       "      <td>0</td>\n",
       "      <td>0</td>\n",
       "      <td>0</td>\n",
       "      <td>1</td>\n",
       "      <td>0</td>\n",
       "      <td>1</td>\n",
       "      <td>20978.0</td>\n",
       "      <td>520.000000</td>\n",
       "      <td>0.00000</td>\n",
       "      <td>2.077939</td>\n",
       "    </tr>\n",
       "    <tr>\n",
       "      <th>3</th>\n",
       "      <td>0</td>\n",
       "      <td>0</td>\n",
       "      <td>0</td>\n",
       "      <td>1</td>\n",
       "      <td>0</td>\n",
       "      <td>0</td>\n",
       "      <td>0</td>\n",
       "      <td>0</td>\n",
       "      <td>0</td>\n",
       "      <td>0</td>\n",
       "      <td>...</td>\n",
       "      <td>0</td>\n",
       "      <td>0</td>\n",
       "      <td>0</td>\n",
       "      <td>1</td>\n",
       "      <td>0</td>\n",
       "      <td>1</td>\n",
       "      <td>40722.0</td>\n",
       "      <td>520.000000</td>\n",
       "      <td>0.00000</td>\n",
       "      <td>2.741506</td>\n",
       "    </tr>\n",
       "    <tr>\n",
       "      <th>4</th>\n",
       "      <td>0</td>\n",
       "      <td>0</td>\n",
       "      <td>0</td>\n",
       "      <td>0</td>\n",
       "      <td>1</td>\n",
       "      <td>0</td>\n",
       "      <td>0</td>\n",
       "      <td>0</td>\n",
       "      <td>0</td>\n",
       "      <td>0</td>\n",
       "      <td>...</td>\n",
       "      <td>0</td>\n",
       "      <td>0</td>\n",
       "      <td>0</td>\n",
       "      <td>0</td>\n",
       "      <td>0</td>\n",
       "      <td>1</td>\n",
       "      <td>14126.0</td>\n",
       "      <td>654.501718</td>\n",
       "      <td>9.19244</td>\n",
       "      <td>1.658436</td>\n",
       "    </tr>\n",
       "    <tr>\n",
       "      <th>...</th>\n",
       "      <td>...</td>\n",
       "      <td>...</td>\n",
       "      <td>...</td>\n",
       "      <td>...</td>\n",
       "      <td>...</td>\n",
       "      <td>...</td>\n",
       "      <td>...</td>\n",
       "      <td>...</td>\n",
       "      <td>...</td>\n",
       "      <td>...</td>\n",
       "      <td>...</td>\n",
       "      <td>...</td>\n",
       "      <td>...</td>\n",
       "      <td>...</td>\n",
       "      <td>...</td>\n",
       "      <td>...</td>\n",
       "      <td>...</td>\n",
       "      <td>...</td>\n",
       "      <td>...</td>\n",
       "      <td>...</td>\n",
       "      <td>...</td>\n",
       "    </tr>\n",
       "    <tr>\n",
       "      <th>8521</th>\n",
       "      <td>0</td>\n",
       "      <td>0</td>\n",
       "      <td>0</td>\n",
       "      <td>0</td>\n",
       "      <td>0</td>\n",
       "      <td>0</td>\n",
       "      <td>0</td>\n",
       "      <td>0</td>\n",
       "      <td>0</td>\n",
       "      <td>0</td>\n",
       "      <td>...</td>\n",
       "      <td>0</td>\n",
       "      <td>0</td>\n",
       "      <td>0</td>\n",
       "      <td>1</td>\n",
       "      <td>0</td>\n",
       "      <td>1</td>\n",
       "      <td>28160.1</td>\n",
       "      <td>700.000000</td>\n",
       "      <td>0.00000</td>\n",
       "      <td>3.680000</td>\n",
       "    </tr>\n",
       "    <tr>\n",
       "      <th>8522</th>\n",
       "      <td>0</td>\n",
       "      <td>0</td>\n",
       "      <td>0</td>\n",
       "      <td>0</td>\n",
       "      <td>0</td>\n",
       "      <td>0</td>\n",
       "      <td>0</td>\n",
       "      <td>0</td>\n",
       "      <td>0</td>\n",
       "      <td>0</td>\n",
       "      <td>...</td>\n",
       "      <td>0</td>\n",
       "      <td>0</td>\n",
       "      <td>0</td>\n",
       "      <td>1</td>\n",
       "      <td>0</td>\n",
       "      <td>1</td>\n",
       "      <td>41310.0</td>\n",
       "      <td>700.000000</td>\n",
       "      <td>0.00000</td>\n",
       "      <td>4.250000</td>\n",
       "    </tr>\n",
       "    <tr>\n",
       "      <th>8523</th>\n",
       "      <td>0</td>\n",
       "      <td>0</td>\n",
       "      <td>0</td>\n",
       "      <td>0</td>\n",
       "      <td>0</td>\n",
       "      <td>0</td>\n",
       "      <td>0</td>\n",
       "      <td>0</td>\n",
       "      <td>0</td>\n",
       "      <td>0</td>\n",
       "      <td>...</td>\n",
       "      <td>0</td>\n",
       "      <td>0</td>\n",
       "      <td>0</td>\n",
       "      <td>1</td>\n",
       "      <td>0</td>\n",
       "      <td>1</td>\n",
       "      <td>45420.0</td>\n",
       "      <td>700.000000</td>\n",
       "      <td>0.00000</td>\n",
       "      <td>4.160000</td>\n",
       "    </tr>\n",
       "    <tr>\n",
       "      <th>8524</th>\n",
       "      <td>0</td>\n",
       "      <td>0</td>\n",
       "      <td>0</td>\n",
       "      <td>0</td>\n",
       "      <td>0</td>\n",
       "      <td>0</td>\n",
       "      <td>0</td>\n",
       "      <td>0</td>\n",
       "      <td>0</td>\n",
       "      <td>0</td>\n",
       "      <td>...</td>\n",
       "      <td>0</td>\n",
       "      <td>0</td>\n",
       "      <td>0</td>\n",
       "      <td>1</td>\n",
       "      <td>0</td>\n",
       "      <td>1</td>\n",
       "      <td>56140.0</td>\n",
       "      <td>700.000000</td>\n",
       "      <td>0.00000</td>\n",
       "      <td>4.750000</td>\n",
       "    </tr>\n",
       "    <tr>\n",
       "      <th>8525</th>\n",
       "      <td>0</td>\n",
       "      <td>0</td>\n",
       "      <td>0</td>\n",
       "      <td>0</td>\n",
       "      <td>0</td>\n",
       "      <td>0</td>\n",
       "      <td>0</td>\n",
       "      <td>0</td>\n",
       "      <td>0</td>\n",
       "      <td>0</td>\n",
       "      <td>...</td>\n",
       "      <td>0</td>\n",
       "      <td>0</td>\n",
       "      <td>0</td>\n",
       "      <td>1</td>\n",
       "      <td>0</td>\n",
       "      <td>1</td>\n",
       "      <td>13869.9</td>\n",
       "      <td>700.000000</td>\n",
       "      <td>0.00000</td>\n",
       "      <td>1.462000</td>\n",
       "    </tr>\n",
       "  </tbody>\n",
       "</table>\n",
       "<p>8526 rows × 1453 columns</p>\n",
       "</div>"
      ],
      "text/plain": [
       "      ID_FINCA_1  ID_FINCA_2  ID_FINCA_3  ID_FINCA_4  ID_FINCA_5  ID_FINCA_6  \\\n",
       "0              1           0           0           0           0           0   \n",
       "1              0           1           0           0           0           0   \n",
       "2              0           0           1           0           0           0   \n",
       "3              0           0           0           1           0           0   \n",
       "4              0           0           0           0           1           0   \n",
       "...          ...         ...         ...         ...         ...         ...   \n",
       "8521           0           0           0           0           0           0   \n",
       "8522           0           0           0           0           0           0   \n",
       "8523           0           0           0           0           0           0   \n",
       "8524           0           0           0           0           0           0   \n",
       "8525           0           0           0           0           0           0   \n",
       "\n",
       "      ID_FINCA_7  ID_FINCA_8  ID_FINCA_9  ID_FINCA_10  ...  VARIEDAD_23  \\\n",
       "0              0           0           0            0  ...            0   \n",
       "1              0           0           0            0  ...            0   \n",
       "2              0           0           0            0  ...            0   \n",
       "3              0           0           0            0  ...            0   \n",
       "4              0           0           0            0  ...            0   \n",
       "...          ...         ...         ...          ...  ...          ...   \n",
       "8521           0           0           0            0  ...            0   \n",
       "8522           0           0           0            0  ...            0   \n",
       "8523           0           0           0            0  ...            0   \n",
       "8524           0           0           0            0  ...            0   \n",
       "8525           0           0           0            0  ...            0   \n",
       "\n",
       "      VARIEDAD_24  VARIEDAD_25  MODO  TIPO  COLOR  PRODUCCION  ALTITUD_MIN  \\\n",
       "0               0            0     1     0      1     22215.0   660.000000   \n",
       "1               0            0     1     0      1     22215.0   660.000000   \n",
       "2               0            0     1     0      1     20978.0   520.000000   \n",
       "3               0            0     1     0      1     40722.0   520.000000   \n",
       "4               0            0     0     0      1     14126.0   654.501718   \n",
       "...           ...          ...   ...   ...    ...         ...          ...   \n",
       "8521            0            0     1     0      1     28160.1   700.000000   \n",
       "8522            0            0     1     0      1     41310.0   700.000000   \n",
       "8523            0            0     1     0      1     45420.0   700.000000   \n",
       "8524            0            0     1     0      1     56140.0   700.000000   \n",
       "8525            0            0     1     0      1     13869.9   700.000000   \n",
       "\n",
       "      ALTITUD_DIF  SUPERFICIE  \n",
       "0         0.00000    1.067269  \n",
       "1         0.00000    1.067269  \n",
       "2         0.00000    2.077939  \n",
       "3         0.00000    2.741506  \n",
       "4         9.19244    1.658436  \n",
       "...           ...         ...  \n",
       "8521      0.00000    3.680000  \n",
       "8522      0.00000    4.250000  \n",
       "8523      0.00000    4.160000  \n",
       "8524      0.00000    4.750000  \n",
       "8525      0.00000    1.462000  \n",
       "\n",
       "[8526 rows x 1453 columns]"
      ]
     },
     "execution_count": 255,
     "metadata": {},
     "output_type": "execute_result"
    }
   ],
   "source": [
    "final_df"
   ]
  },
  {
   "cell_type": "code",
   "execution_count": 262,
   "id": "226a9ad9",
   "metadata": {},
   "outputs": [],
   "source": [
    "final_df.to_csv(\"D_T_3.csv\")\n",
    "final_df.to_csv(\"D_T_encoded_3.csv\")"
   ]
  },
  {
   "cell_type": "code",
   "execution_count": 273,
   "id": "c310c3dd",
   "metadata": {},
   "outputs": [
    {
     "name": "stdout",
     "output_type": "stream",
     "text": [
      "<class 'pandas.core.frame.DataFrame'>\n",
      "RangeIndex: 9601 entries, 0 to 9600\n",
      "Data columns (total 11 columns):\n",
      " #   Column       Non-Null Count  Dtype  \n",
      "---  ------       --------------  -----  \n",
      " 0   CAMPAÑA      9601 non-null   int64  \n",
      " 1   ID_FINCA     9601 non-null   int64  \n",
      " 2   ID_ZONA      9601 non-null   int64  \n",
      " 3   ID_ESTACION  9601 non-null   int64  \n",
      " 4   ALTITUD      9547 non-null   object \n",
      " 5   VARIEDAD     9601 non-null   int64  \n",
      " 6   MODO         9601 non-null   int64  \n",
      " 7   TIPO         9601 non-null   int64  \n",
      " 8   COLOR        9601 non-null   int64  \n",
      " 9   SUPERFICIE   9601 non-null   float64\n",
      " 10  PRODUCCION   8526 non-null   float64\n",
      "dtypes: float64(2), int64(8), object(1)\n",
      "memory usage: 825.2+ KB\n"
     ]
    }
   ],
   "source": [
    "df.info()"
   ]
  },
  {
   "cell_type": "code",
   "execution_count": 277,
   "id": "5c31f5ef",
   "metadata": {},
   "outputs": [
    {
     "ename": "TypeError",
     "evalue": "bad operand type for unary ~: 'list'",
     "output_type": "error",
     "traceback": [
      "\u001b[1;31m---------------------------------------------------------------------------\u001b[0m",
      "\u001b[1;31mTypeError\u001b[0m                                 Traceback (most recent call last)",
      "\u001b[1;32m~\\AppData\\Local\\Temp\\ipykernel_516\\1096811427.py\u001b[0m in \u001b[0;36m<module>\u001b[1;34m\u001b[0m\n\u001b[1;32m----> 1\u001b[1;33m \u001b[0mdf\u001b[0m\u001b[1;33m.\u001b[0m\u001b[0mloc\u001b[0m\u001b[1;33m[\u001b[0m\u001b[1;33m:\u001b[0m\u001b[1;33m,\u001b[0m \u001b[1;33m~\u001b[0m\u001b[1;33m[\u001b[0m\u001b[1;34m\"PRODUCCION\"\u001b[0m\u001b[1;33m]\u001b[0m\u001b[1;33m]\u001b[0m\u001b[1;33m\u001b[0m\u001b[1;33m\u001b[0m\u001b[0m\n\u001b[0m",
      "\u001b[1;31mTypeError\u001b[0m: bad operand type for unary ~: 'list'"
     ]
    }
   ],
   "source": [
    "df.loc["
   ]
  }
 ],
 "metadata": {
  "kernelspec": {
   "display_name": "Python 3 (ipykernel)",
   "language": "python",
   "name": "python3"
  },
  "language_info": {
   "codemirror_mode": {
    "name": "ipython",
    "version": 3
   },
   "file_extension": ".py",
   "mimetype": "text/x-python",
   "name": "python",
   "nbconvert_exporter": "python",
   "pygments_lexer": "ipython3",
   "version": "3.8.12"
  }
 },
 "nbformat": 4,
 "nbformat_minor": 5
}
