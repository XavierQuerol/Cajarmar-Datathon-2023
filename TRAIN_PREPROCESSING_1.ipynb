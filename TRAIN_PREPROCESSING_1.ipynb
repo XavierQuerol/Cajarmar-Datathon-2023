{
 "cells": [
  {
   "cell_type": "code",
   "execution_count": null,
   "id": "ef8f0f22",
   "metadata": {},
   "outputs": [],
   "source": [
    "import pandas as pd\n",
    "import numpy as np"
   ]
  },
  {
   "cell_type": "markdown",
   "id": "440b4377",
   "metadata": {},
   "source": [
    "### Preprocessing for all possible TABLES"
   ]
  },
  {
   "cell_type": "code",
   "execution_count": null,
   "id": "091091d2",
   "metadata": {},
   "outputs": [],
   "source": [
    "df = pd.read_csv(\"./UH_2023/UH_2023_TRAIN.txt\", sep = \"|\")"
   ]
  },
  {
   "cell_type": "code",
   "execution_count": null,
   "id": "42bdca60",
   "metadata": {},
   "outputs": [],
   "source": [
    "import pandas as pd\n",
    "from pandas_profiling import ProfileReport\n",
    "profile = ProfileReport(df)"
   ]
  },
  {
   "cell_type": "code",
   "execution_count": null,
   "id": "96bfa5e3",
   "metadata": {},
   "outputs": [],
   "source": [
    "df = df.astype({\"CAMPAÑA\": str, \"ID_FINCA\": str, \"ID_ZONA\": str, \"ID_ESTACION\": str, \"VARIEDAD\": str, \"MODO\": str, \"TIPO\": str, \"COLOR\": str})"
   ]
  },
  {
   "cell_type": "code",
   "execution_count": null,
   "id": "e7b7dcab",
   "metadata": {},
   "outputs": [],
   "source": [
    "def fun(x, mode): \n",
    "    altitud = str(x).split('-')\n",
    "    if altitud[0] == \"nan\":\n",
    "        if mode == \"nan_1\":\n",
    "            return -1\n",
    "        return np.nan\n",
    "    if mode == \"nan_1\":\n",
    "            return x\n",
    "    if mode == \"min\":\n",
    "        return int(altitud[0])\n",
    "    if mode == \"diff\":\n",
    "        if len(altitud) == 1:\n",
    "            return 0\n",
    "        else:\n",
    "            return int(altitud[1])-int(altitud[0])\n",
    "\n",
    "df[\"ALTITUD_MIN\"] = df[\"ALTITUD\"].apply(fun, args=(\"min\",))\n",
    "df[\"ALTITUD_DIF\"] = df[\"ALTITUD\"].apply(fun, args=(\"diff\",))\n",
    "df[\"ALTITUD\"] = df[\"ALTITUD\"].apply(fun, args=(\"nan_1\",))"
   ]
  },
  {
   "cell_type": "code",
   "execution_count": null,
   "id": "efdd34f5",
   "metadata": {},
   "outputs": [],
   "source": [
    "df_estacion_gb_mean = df.groupby(by=\"ID_ESTACION\").mean()\n",
    "df_estacion_gb_mode = df.groupby(by=\"ID_ESTACION\").agg(pd.Series.mode)"
   ]
  },
  {
   "cell_type": "code",
   "execution_count": null,
   "id": "d4a64ccd",
   "metadata": {},
   "outputs": [],
   "source": [
    "df_estacion_gb_mean.reset_index(inplace=True)\n",
    "df_estacion_gb_mode.reset_index(inplace=True)"
   ]
  },
  {
   "cell_type": "code",
   "execution_count": null,
   "id": "81873ad8",
   "metadata": {},
   "outputs": [],
   "source": [
    "df_estacion_gb_mode.loc[df_estacion_gb_mode[\"ID_ESTACION\"] == \"0\", \"ALTITUD\"] = 390\n",
    "df_estacion_gb_mode.loc[df_estacion_gb_mode[\"ID_ESTACION\"] == \"4\", \"ALTITUD\"] = 520"
   ]
  },
  {
   "cell_type": "code",
   "execution_count": null,
   "id": "da931247",
   "metadata": {},
   "outputs": [],
   "source": [
    "for i in df[\"ID_ESTACION\"].unique():\n",
    "    df.loc[(df[\"ID_ESTACION\"] == i) & (df[\"ALTITUD\"] == -1),\"ALTITUD_MIN\"] = df_estacion_gb_mean.loc[df_estacion_gb_mean[\"ID_ESTACION\"] == i,\"ALTITUD_MIN\"].values[0]\n",
    "    df.loc[(df[\"ID_ESTACION\"] == i) & (df[\"ALTITUD\"] == -1),\"ALTITUD_DIF\"] = df_estacion_gb_mean.loc[df_estacion_gb_mean[\"ID_ESTACION\"] == i,\"ALTITUD_DIF\"].values[0]\n",
    "    df.loc[(df[\"ID_ESTACION\"] == i) & (df[\"ALTITUD\"] == -1),\"ALTITUD\"] = df_estacion_gb_mode.loc[df_estacion_gb_mode[\"ID_ESTACION\"] == i,\"ALTITUD\"].values[0]"
   ]
  },
  {
   "cell_type": "code",
   "execution_count": null,
   "id": "b1df54a8",
   "metadata": {},
   "outputs": [],
   "source": [
    "df.loc[df[\"MODO\"]==\"1\", \"MODO\"]  = \"0\"\n",
    "df.loc[df[\"MODO\"]==\"2\", \"MODO\"]  = \"1\""
   ]
  },
  {
   "cell_type": "markdown",
   "id": "934deb9a",
   "metadata": {},
   "source": [
    "Al fer servir producció com a feature, no podrem calcular la superfície de CAMPAÑA. S'haurà de fer manualment."
   ]
  },
  {
   "cell_type": "code",
   "execution_count": null,
   "id": "f7ff2dde",
   "metadata": {},
   "outputs": [],
   "source": [
    "df = df.drop(index=df[df[\"CAMPAÑA\"] == \"22\"].index)"
   ]
  },
  {
   "cell_type": "markdown",
   "id": "786ee72c",
   "metadata": {},
   "source": [
    "### 1 - Table without SUPERFICIE"
   ]
  },
  {
   "cell_type": "code",
   "execution_count": null,
   "id": "e7cce31a",
   "metadata": {},
   "outputs": [],
   "source": [
    "df_temporal = df.drop(axis = 1, columns = [\"SUPERFICIE\"])"
   ]
  },
  {
   "cell_type": "code",
   "execution_count": null,
   "id": "fd9853a4",
   "metadata": {},
   "outputs": [],
   "source": [
    "import category_encoders as ce\n",
    "\n",
    "encoder = ce.OneHotEncoder(cols=[\"ID_FINCA\", \"ID_ZONA\", \"ID_ESTACION\", \"VARIEDAD\", \"ALTITUD\"])\n",
    "df_encoded = encoder.fit_transform(df_temporal)\n",
    "encoder = ce.OrdinalEncoder(cols = [\"CAMPAÑA\"])\n",
    "df_encoded = encoder.fit_transform(df_temporal)"
   ]
  },
  {
   "cell_type": "code",
   "execution_count": null,
   "id": "0792f9d3",
   "metadata": {},
   "outputs": [],
   "source": [
    "df_temporal.to_csv(\"D_T_1.csv\")\n",
    "df_encoded.to_csv(\"D_T_1_encoded.csv\")"
   ]
  },
  {
   "cell_type": "markdown",
   "id": "30e88709",
   "metadata": {},
   "source": [
    "### 2 - Table without CAMPAÑA and SUPERFICIE"
   ]
  },
  {
   "cell_type": "code",
   "execution_count": null,
   "id": "18cb4b54",
   "metadata": {},
   "outputs": [],
   "source": [
    "df_temporal = df.drop(axis = 1, columns = [\"CAMPAÑA\", \"SUPERFICIE\"])"
   ]
  },
  {
   "cell_type": "code",
   "execution_count": null,
   "id": "2509d8ca",
   "metadata": {},
   "outputs": [],
   "source": [
    "import category_encoders as ce\n",
    "encoder = ce.OneHotEncoder(cols=[\"ID_FINCA\", \"ID_ZONA\", \"ID_ESTACION\", \"VARIEDAD\", \"ALTITUD\"])\n",
    "df_encoded = encoder.fit_transform(df_temporal)"
   ]
  },
  {
   "cell_type": "code",
   "execution_count": null,
   "id": "7834029a",
   "metadata": {},
   "outputs": [],
   "source": [
    "df_temporal.to_csv(\"D_T_2.csv\")\n",
    "df_encoded.to_csv(\"D_T_encoded_2.csv\")"
   ]
  },
  {
   "cell_type": "markdown",
   "id": "75ce42ea",
   "metadata": {},
   "source": [
    "### 3 - Table without CAMPAÑA. SUPERFICIE PREDICTION"
   ]
  },
  {
   "cell_type": "markdown",
   "id": "cf52ffc4",
   "metadata": {},
   "source": [
    "#### X, y, X_train, y_train, X_test, y_test"
   ]
  },
  {
   "cell_type": "code",
   "execution_count": null,
   "id": "d2f9939d",
   "metadata": {},
   "outputs": [],
   "source": [
    "import category_encoders as ce\n",
    "encoder = ce.OrdinalEncoder(cols=[\"ID_FINCA\", \"ID_ZONA\", \"ID_ESTACION\", \"VARIEDAD\", \"ALTITUD\", \"COLOR\", \"TIPO\", \"MODO\"])"
   ]
  },
  {
   "cell_type": "code",
   "execution_count": null,
   "id": "c275eaec",
   "metadata": {},
   "outputs": [],
   "source": [
    "df_temporal = df.drop(axis = 1, columns = [\"CAMPAÑA\"])\n",
    "\n",
    "df_encoded = encoder.fit_transform(df_temporal)\n",
    "\n",
    "train = df_encoded[(df[\"PRODUCCION\"] != 0) & (df_encoded[\"SUPERFICIE\"] != 0)]\n",
    "to_predict = df_encoded[~((df[\"PRODUCCION\"] != 0) & (df_encoded[\"SUPERFICIE\"] != 0))]\n",
    "\n",
    "X = train.drop(axis = 1, columns = [\"SUPERFICIE\"])\n",
    "y = train[\"SUPERFICIE\"]\n",
    "to_predict = to_predict.drop(axis = 1, columns = [\"SUPERFICIE\"])"
   ]
  },
  {
   "cell_type": "code",
   "execution_count": null,
   "id": "bec1dcb7",
   "metadata": {},
   "outputs": [],
   "source": [
    "from sklearn.model_selection import train_test_split\n",
    "X_train, X_test, y_train, y_test = train_test_split(X, y, test_size=0.1, random_state=3)"
   ]
  },
  {
   "cell_type": "code",
   "execution_count": null,
   "id": "2f7c9e0a",
   "metadata": {},
   "outputs": [],
   "source": [
    "\"\"\"from sklearn.preprocessing import Normalizer, StandardScaler, MinMaxScaler, MaxAbsScaler, RobustScaler\n",
    "\n",
    "normalizer = StandardScaler()\n",
    "norm_X = normalizer.fit_transform(X)\n",
    "norm_to_predict = normalizer.transform(to_predict)\"\"\""
   ]
  },
  {
   "cell_type": "markdown",
   "id": "4030b0b2",
   "metadata": {},
   "source": [
    "#### xgboost"
   ]
  },
  {
   "cell_type": "code",
   "execution_count": null,
   "id": "1561380d",
   "metadata": {},
   "outputs": [],
   "source": [
    "import xgboost as xgb\n",
    "from sklearn.model_selection import GridSearchCV\n",
    "gsc = GridSearchCV(\n",
    "            estimator=xgb.XGBRegressor(),\n",
    "            param_grid={\"n_estimators\": [300, 500, 1000],\n",
    "                        \"learning_rate\": [0.15],\n",
    "                        \"max_depth\": [40, 60, 100],\n",
    "                        \"min_child_weight\": [1],\n",
    "                        \"gamma\":[ 0.0],\n",
    "                        \"colsample_bytree\":[0.4],},\n",
    "            cv=5, scoring='r2', verbose=0, n_jobs=-1)\n",
    "\n",
    "grid_result = gsc.fit(X, y)"
   ]
  },
  {
   "cell_type": "code",
   "execution_count": null,
   "id": "11bd1728",
   "metadata": {
    "scrolled": true
   },
   "outputs": [],
   "source": [
    "print(grid_result.best_params_)\n",
    "df_grid = pd.DataFrame(grid_result.cv_results_)\n",
    "df_grid[df_grid[\"mean_test_score\"]>0.86]"
   ]
  },
  {
   "cell_type": "markdown",
   "id": "a93ba019",
   "metadata": {},
   "source": [
    "#### Evaluating r2score"
   ]
  },
  {
   "cell_type": "code",
   "execution_count": null,
   "id": "e7aedaa5",
   "metadata": {},
   "outputs": [],
   "source": [
    "import xgboost as xgb\n",
    "params_model = {'colsample_bytree': 0.4, 'gamma': 0.0, 'learning_rate': 0.15, 'max_depth': 60, 'min_child_weight': 1, 'n_estimators': 1000}\n",
    "model = xgb.XGBRegressor(**params_model)\n",
    "model.fit(X_train,y_train)\n",
    "model.score(X_test, y_test)"
   ]
  },
  {
   "cell_type": "markdown",
   "id": "0ca9f9a5",
   "metadata": {},
   "source": [
    "#### Predicting rows with no SUPERFICIE"
   ]
  },
  {
   "cell_type": "code",
   "execution_count": 29,
   "id": "1bedc63e",
   "metadata": {},
   "outputs": [],
   "source": [
    "#params_model = grid_result.best_params_\n",
    "params_model = {'colsample_bytree': 0.4, 'gamma': 0.0, 'learning_rate': 0.15, 'max_depth': 60, 'min_child_weight': 1, 'n_estimators': 1000}\n",
    "model = xgb.XGBRegressor(**params_model)\n",
    "model.fit(X,y)\n",
    "predicted = model.predict(to_predict)"
   ]
  },
  {
   "cell_type": "code",
   "execution_count": 30,
   "id": "96187605",
   "metadata": {},
   "outputs": [
    {
     "name": "stderr",
     "output_type": "stream",
     "text": [
      "C:\\Users\\xavid\\AppData\\Local\\Temp\\ipykernel_18596\\193630758.py:2: SettingWithCopyWarning: \n",
      "A value is trying to be set on a copy of a slice from a DataFrame.\n",
      "Try using .loc[row_indexer,col_indexer] = value instead\n",
      "\n",
      "See the caveats in the documentation: https://pandas.pydata.org/pandas-docs/stable/user_guide/indexing.html#returning-a-view-versus-a-copy\n",
      "  final_predict[\"SUPERFICIE\"] = predicted\n"
     ]
    }
   ],
   "source": [
    "final_predict = df[~((df[\"PRODUCCION\"] != 0) & (df[\"SUPERFICIE\"] != 0))]\n",
    "final_predict[\"SUPERFICIE\"] = predicted\n",
    "final_train = df[(df[\"PRODUCCION\"] != 0) & (df[\"SUPERFICIE\"] != 0)]"
   ]
  },
  {
   "cell_type": "code",
   "execution_count": 35,
   "id": "9e1a26ed",
   "metadata": {},
   "outputs": [],
   "source": [
    "final_df = pd.concat([final_predict, final_train])"
   ]
  },
  {
   "cell_type": "code",
   "execution_count": 36,
   "id": "55095927",
   "metadata": {},
   "outputs": [
    {
     "ename": "OSError",
     "evalue": "Cannot save file into a non-existent directory: 'ds_tractats'",
     "output_type": "error",
     "traceback": [
      "\u001b[1;31m---------------------------------------------------------------------------\u001b[0m",
      "\u001b[1;31mOSError\u001b[0m                                   Traceback (most recent call last)",
      "\u001b[1;32m~\\AppData\\Local\\Temp\\ipykernel_18596\\938849362.py\u001b[0m in \u001b[0;36m<module>\u001b[1;34m\u001b[0m\n\u001b[1;32m----> 1\u001b[1;33m \u001b[0mfinal_df\u001b[0m\u001b[1;33m.\u001b[0m\u001b[0mto_csv\u001b[0m\u001b[1;33m(\u001b[0m\u001b[1;34m\"./ds_tractats/df_train_tractat.csv\"\u001b[0m\u001b[1;33m,\u001b[0m \u001b[0mindex\u001b[0m \u001b[1;33m=\u001b[0m \u001b[1;32mFalse\u001b[0m\u001b[1;33m)\u001b[0m\u001b[1;33m\u001b[0m\u001b[1;33m\u001b[0m\u001b[0m\n\u001b[0m",
      "\u001b[1;32m~\\anaconda3\\lib\\site-packages\\pandas\\core\\generic.py\u001b[0m in \u001b[0;36mto_csv\u001b[1;34m(self, path_or_buf, sep, na_rep, float_format, columns, header, index, index_label, mode, encoding, compression, quoting, quotechar, line_terminator, chunksize, date_format, doublequote, escapechar, decimal, errors, storage_options)\u001b[0m\n\u001b[0;32m   3549\u001b[0m         )\n\u001b[0;32m   3550\u001b[0m \u001b[1;33m\u001b[0m\u001b[0m\n\u001b[1;32m-> 3551\u001b[1;33m         return DataFrameRenderer(formatter).to_csv(\n\u001b[0m\u001b[0;32m   3552\u001b[0m             \u001b[0mpath_or_buf\u001b[0m\u001b[1;33m,\u001b[0m\u001b[1;33m\u001b[0m\u001b[1;33m\u001b[0m\u001b[0m\n\u001b[0;32m   3553\u001b[0m             \u001b[0mline_terminator\u001b[0m\u001b[1;33m=\u001b[0m\u001b[0mline_terminator\u001b[0m\u001b[1;33m,\u001b[0m\u001b[1;33m\u001b[0m\u001b[1;33m\u001b[0m\u001b[0m\n",
      "\u001b[1;32m~\\anaconda3\\lib\\site-packages\\pandas\\io\\formats\\format.py\u001b[0m in \u001b[0;36mto_csv\u001b[1;34m(self, path_or_buf, encoding, sep, columns, index_label, mode, compression, quoting, quotechar, line_terminator, chunksize, date_format, doublequote, escapechar, errors, storage_options)\u001b[0m\n\u001b[0;32m   1178\u001b[0m             \u001b[0mformatter\u001b[0m\u001b[1;33m=\u001b[0m\u001b[0mself\u001b[0m\u001b[1;33m.\u001b[0m\u001b[0mfmt\u001b[0m\u001b[1;33m,\u001b[0m\u001b[1;33m\u001b[0m\u001b[1;33m\u001b[0m\u001b[0m\n\u001b[0;32m   1179\u001b[0m         )\n\u001b[1;32m-> 1180\u001b[1;33m         \u001b[0mcsv_formatter\u001b[0m\u001b[1;33m.\u001b[0m\u001b[0msave\u001b[0m\u001b[1;33m(\u001b[0m\u001b[1;33m)\u001b[0m\u001b[1;33m\u001b[0m\u001b[1;33m\u001b[0m\u001b[0m\n\u001b[0m\u001b[0;32m   1181\u001b[0m \u001b[1;33m\u001b[0m\u001b[0m\n\u001b[0;32m   1182\u001b[0m         \u001b[1;32mif\u001b[0m \u001b[0mcreated_buffer\u001b[0m\u001b[1;33m:\u001b[0m\u001b[1;33m\u001b[0m\u001b[1;33m\u001b[0m\u001b[0m\n",
      "\u001b[1;32m~\\anaconda3\\lib\\site-packages\\pandas\\io\\formats\\csvs.py\u001b[0m in \u001b[0;36msave\u001b[1;34m(self)\u001b[0m\n\u001b[0;32m    239\u001b[0m         \"\"\"\n\u001b[0;32m    240\u001b[0m         \u001b[1;31m# apply compression and byte/text conversion\u001b[0m\u001b[1;33m\u001b[0m\u001b[1;33m\u001b[0m\u001b[1;33m\u001b[0m\u001b[0m\n\u001b[1;32m--> 241\u001b[1;33m         with get_handle(\n\u001b[0m\u001b[0;32m    242\u001b[0m             \u001b[0mself\u001b[0m\u001b[1;33m.\u001b[0m\u001b[0mfilepath_or_buffer\u001b[0m\u001b[1;33m,\u001b[0m\u001b[1;33m\u001b[0m\u001b[1;33m\u001b[0m\u001b[0m\n\u001b[0;32m    243\u001b[0m             \u001b[0mself\u001b[0m\u001b[1;33m.\u001b[0m\u001b[0mmode\u001b[0m\u001b[1;33m,\u001b[0m\u001b[1;33m\u001b[0m\u001b[1;33m\u001b[0m\u001b[0m\n",
      "\u001b[1;32m~\\anaconda3\\lib\\site-packages\\pandas\\io\\common.py\u001b[0m in \u001b[0;36mget_handle\u001b[1;34m(path_or_buf, mode, encoding, compression, memory_map, is_text, errors, storage_options)\u001b[0m\n\u001b[0;32m    692\u001b[0m     \u001b[1;31m# Only for write methods\u001b[0m\u001b[1;33m\u001b[0m\u001b[1;33m\u001b[0m\u001b[1;33m\u001b[0m\u001b[0m\n\u001b[0;32m    693\u001b[0m     \u001b[1;32mif\u001b[0m \u001b[1;34m\"r\"\u001b[0m \u001b[1;32mnot\u001b[0m \u001b[1;32min\u001b[0m \u001b[0mmode\u001b[0m \u001b[1;32mand\u001b[0m \u001b[0mis_path\u001b[0m\u001b[1;33m:\u001b[0m\u001b[1;33m\u001b[0m\u001b[1;33m\u001b[0m\u001b[0m\n\u001b[1;32m--> 694\u001b[1;33m         \u001b[0mcheck_parent_directory\u001b[0m\u001b[1;33m(\u001b[0m\u001b[0mstr\u001b[0m\u001b[1;33m(\u001b[0m\u001b[0mhandle\u001b[0m\u001b[1;33m)\u001b[0m\u001b[1;33m)\u001b[0m\u001b[1;33m\u001b[0m\u001b[1;33m\u001b[0m\u001b[0m\n\u001b[0m\u001b[0;32m    695\u001b[0m \u001b[1;33m\u001b[0m\u001b[0m\n\u001b[0;32m    696\u001b[0m     \u001b[1;32mif\u001b[0m \u001b[0mcompression\u001b[0m\u001b[1;33m:\u001b[0m\u001b[1;33m\u001b[0m\u001b[1;33m\u001b[0m\u001b[0m\n",
      "\u001b[1;32m~\\anaconda3\\lib\\site-packages\\pandas\\io\\common.py\u001b[0m in \u001b[0;36mcheck_parent_directory\u001b[1;34m(path)\u001b[0m\n\u001b[0;32m    566\u001b[0m     \u001b[0mparent\u001b[0m \u001b[1;33m=\u001b[0m \u001b[0mPath\u001b[0m\u001b[1;33m(\u001b[0m\u001b[0mpath\u001b[0m\u001b[1;33m)\u001b[0m\u001b[1;33m.\u001b[0m\u001b[0mparent\u001b[0m\u001b[1;33m\u001b[0m\u001b[1;33m\u001b[0m\u001b[0m\n\u001b[0;32m    567\u001b[0m     \u001b[1;32mif\u001b[0m \u001b[1;32mnot\u001b[0m \u001b[0mparent\u001b[0m\u001b[1;33m.\u001b[0m\u001b[0mis_dir\u001b[0m\u001b[1;33m(\u001b[0m\u001b[1;33m)\u001b[0m\u001b[1;33m:\u001b[0m\u001b[1;33m\u001b[0m\u001b[1;33m\u001b[0m\u001b[0m\n\u001b[1;32m--> 568\u001b[1;33m         \u001b[1;32mraise\u001b[0m \u001b[0mOSError\u001b[0m\u001b[1;33m(\u001b[0m\u001b[1;34mrf\"Cannot save file into a non-existent directory: '{parent}'\"\u001b[0m\u001b[1;33m)\u001b[0m\u001b[1;33m\u001b[0m\u001b[1;33m\u001b[0m\u001b[0m\n\u001b[0m\u001b[0;32m    569\u001b[0m \u001b[1;33m\u001b[0m\u001b[0m\n\u001b[0;32m    570\u001b[0m \u001b[1;33m\u001b[0m\u001b[0m\n",
      "\u001b[1;31mOSError\u001b[0m: Cannot save file into a non-existent directory: 'ds_tractats'"
     ]
    }
   ],
   "source": [
    "final_df.to_csv(\"./ds_tractats/df_train_tractat.csv\", index = False)"
   ]
  },
  {
   "cell_type": "code",
   "execution_count": null,
   "id": "a681be60",
   "metadata": {},
   "outputs": [],
   "source": []
  }
 ],
 "metadata": {
  "kernelspec": {
   "display_name": "Python 3 (ipykernel)",
   "language": "python",
   "name": "python3"
  },
  "language_info": {
   "codemirror_mode": {
    "name": "ipython",
    "version": 3
   },
   "file_extension": ".py",
   "mimetype": "text/x-python",
   "name": "python",
   "nbconvert_exporter": "python",
   "pygments_lexer": "ipython3",
   "version": "3.8.12"
  }
 },
 "nbformat": 4,
 "nbformat_minor": 5
}
