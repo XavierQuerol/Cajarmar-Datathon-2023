{
 "cells": [
  {
   "cell_type": "code",
   "execution_count": 1,
   "id": "ef8f0f22",
   "metadata": {},
   "outputs": [],
   "source": [
    "import pandas as pd\n",
    "import numpy as np"
   ]
  },
  {
   "cell_type": "markdown",
   "id": "440b4377",
   "metadata": {},
   "source": [
    "### Preprocessing for all possible TABLES"
   ]
  },
  {
   "cell_type": "code",
   "execution_count": 2,
   "id": "091091d2",
   "metadata": {},
   "outputs": [],
   "source": [
    "df = pd.read_csv(\"./UH_2023/UH_2023_TRAIN.txt\", sep = \"|\")"
   ]
  },
  {
   "cell_type": "code",
   "execution_count": 3,
   "id": "42bdca60",
   "metadata": {},
   "outputs": [
    {
     "data": {
      "text/plain": [
       "1231"
      ]
     },
     "execution_count": 3,
     "metadata": {},
     "output_type": "execute_result"
    }
   ],
   "source": [
    "len(df[\"ID_FINCA\"].unique())"
   ]
  },
  {
   "cell_type": "code",
   "execution_count": 4,
   "id": "96bfa5e3",
   "metadata": {},
   "outputs": [],
   "source": [
    "df = df.astype({\"CAMPAÑA\": str, \"ID_FINCA\": str, \"ID_ZONA\": str, \"ID_ESTACION\": str, \"VARIEDAD\": str, \"MODO\": str, \"TIPO\": str, \"COLOR\": str})"
   ]
  },
  {
   "cell_type": "code",
   "execution_count": 5,
   "id": "e7b7dcab",
   "metadata": {},
   "outputs": [],
   "source": [
    "def fun(x, mode): \n",
    "    altitud = str(x).split('-')\n",
    "    if altitud[0] == \"nan\":\n",
    "        if mode == \"nan_1\":\n",
    "            return -1\n",
    "        return np.nan\n",
    "    if mode == \"nan_1\":\n",
    "            return x\n",
    "    if mode == \"min\":\n",
    "        return int(altitud[0])\n",
    "    if mode == \"diff\":\n",
    "        if len(altitud) == 1:\n",
    "            return 0\n",
    "        else:\n",
    "            return int(altitud[1])-int(altitud[0])\n",
    "\n",
    "df[\"ALTITUD_MIN\"] = df[\"ALTITUD\"].apply(fun, args=(\"min\",))\n",
    "df[\"ALTITUD_DIF\"] = df[\"ALTITUD\"].apply(fun, args=(\"diff\",))\n",
    "df[\"ALTITUD\"] = df[\"ALTITUD\"].apply(fun, args=(\"nan_1\",))"
   ]
  },
  {
   "cell_type": "code",
   "execution_count": 6,
   "id": "efdd34f5",
   "metadata": {},
   "outputs": [
    {
     "name": "stderr",
     "output_type": "stream",
     "text": [
      "C:\\Users\\xavid\\anaconda3\\lib\\site-packages\\pandas\\core\\algorithms.py:968: UserWarning: Unable to sort modes: '<' not supported between instances of 'int' and 'str'\n",
      "  warn(f\"Unable to sort modes: {err}\")\n",
      "C:\\Users\\xavid\\AppData\\Local\\Temp\\ipykernel_14836\\3219566741.py:2: FutureWarning: ['SUPERFICIE', 'PRODUCCION'] did not aggregate successfully. If any error is raised this will raise in a future version of pandas. Drop these columns/ops to avoid this warning.\n",
      "  df_estacion_gb_mode = df.groupby(by=\"ID_ESTACION\").agg(pd.Series.mode)\n"
     ]
    }
   ],
   "source": [
    "df_estacion_gb_mean = df.groupby(by=\"ID_ESTACION\").mean()\n",
    "df_estacion_gb_mode = df.groupby(by=\"ID_ESTACION\").agg(pd.Series.mode)"
   ]
  },
  {
   "cell_type": "code",
   "execution_count": 7,
   "id": "d4a64ccd",
   "metadata": {},
   "outputs": [],
   "source": [
    "df_estacion_gb_mean.reset_index(inplace=True)\n",
    "df_estacion_gb_mode.reset_index(inplace=True)"
   ]
  },
  {
   "cell_type": "code",
   "execution_count": 8,
   "id": "81873ad8",
   "metadata": {},
   "outputs": [],
   "source": [
    "df_estacion_gb_mode.loc[df_estacion_gb_mode[\"ID_ESTACION\"] == \"0\", \"ALTITUD\"] = 390\n",
    "df_estacion_gb_mode.loc[df_estacion_gb_mode[\"ID_ESTACION\"] == \"4\", \"ALTITUD\"] = 520"
   ]
  },
  {
   "cell_type": "code",
   "execution_count": 9,
   "id": "da931247",
   "metadata": {},
   "outputs": [],
   "source": [
    "for i in df[\"ID_ESTACION\"].unique():\n",
    "    df.loc[(df[\"ID_ESTACION\"] == i) & (df[\"ALTITUD\"] == -1),\"ALTITUD_MIN\"] = df_estacion_gb_mean.loc[df_estacion_gb_mean[\"ID_ESTACION\"] == i,\"ALTITUD_MIN\"].values[0]\n",
    "    df.loc[(df[\"ID_ESTACION\"] == i) & (df[\"ALTITUD\"] == -1),\"ALTITUD_DIF\"] = df_estacion_gb_mean.loc[df_estacion_gb_mean[\"ID_ESTACION\"] == i,\"ALTITUD_DIF\"].values[0]\n",
    "    df.loc[(df[\"ID_ESTACION\"] == i) & (df[\"ALTITUD\"] == -1),\"ALTITUD\"] = df_estacion_gb_mode.loc[df_estacion_gb_mode[\"ID_ESTACION\"] == i,\"ALTITUD\"].values[0]"
   ]
  },
  {
   "cell_type": "code",
   "execution_count": 10,
   "id": "b1df54a8",
   "metadata": {},
   "outputs": [],
   "source": [
    "df.loc[df[\"MODO\"]==\"1\", \"MODO\"]  = 0\n",
    "df.loc[df[\"MODO\"]==\"2\", \"MODO\"]  = 1"
   ]
  },
  {
   "cell_type": "code",
   "execution_count": 11,
   "id": "f7ff2dde",
   "metadata": {},
   "outputs": [],
   "source": [
    "df = df.drop(index=df[df[\"CAMPAÑA\"] == \"22\"].index)"
   ]
  },
  {
   "cell_type": "markdown",
   "id": "786ee72c",
   "metadata": {},
   "source": [
    "### 1 - Table without SUPERFICIE"
   ]
  },
  {
   "cell_type": "code",
   "execution_count": 185,
   "id": "e7cce31a",
   "metadata": {},
   "outputs": [],
   "source": [
    "df_temporal = df.drop(axis = 1, columns = [\"SUPERFICIE\"])"
   ]
  },
  {
   "cell_type": "code",
   "execution_count": 186,
   "id": "fd9853a4",
   "metadata": {},
   "outputs": [],
   "source": [
    "import category_encoders as ce\n",
    "\n",
    "encoder = ce.OneHotEncoder(cols=[\"ID_FINCA\", \"ID_ZONA\", \"ID_ESTACION\", \"VARIEDAD\", \"ALTITUD\"])\n",
    "df_encoded = encoder.fit_transform(df_temporal)\n",
    "encoder = ce.OrdinalEncoder(cols = [\"CAMPAÑA\"])\n",
    "df_encoded = encoder.fit_transform(df_temporal)"
   ]
  },
  {
   "cell_type": "code",
   "execution_count": 169,
   "id": "0792f9d3",
   "metadata": {},
   "outputs": [],
   "source": [
    "df_temporal.to_csv(\"D_T_1.csv\")\n",
    "df_encoded.to_csv(\"D_T_1_encoded.csv\")"
   ]
  },
  {
   "cell_type": "markdown",
   "id": "30e88709",
   "metadata": {},
   "source": [
    "### 2 - Table without CAMPAÑA and SUPERFICIE"
   ]
  },
  {
   "cell_type": "code",
   "execution_count": 187,
   "id": "18cb4b54",
   "metadata": {},
   "outputs": [],
   "source": [
    "df_temporal = df.drop(axis = 1, columns = [\"CAMPAÑA\", \"SUPERFICIE\"])"
   ]
  },
  {
   "cell_type": "code",
   "execution_count": 188,
   "id": "2509d8ca",
   "metadata": {},
   "outputs": [],
   "source": [
    "import category_encoders as ce\n",
    "encoder = ce.OneHotEncoder(cols=[\"ID_FINCA\", \"ID_ZONA\", \"ID_ESTACION\", \"VARIEDAD\", \"ALTITUD\"])\n",
    "\n",
    "df_encoded = encoder.fit_transform(df_temporal)"
   ]
  },
  {
   "cell_type": "code",
   "execution_count": 172,
   "id": "7834029a",
   "metadata": {},
   "outputs": [],
   "source": [
    "df_temporal.to_csv(\"D_T_2.csv\")\n",
    "df_encoded.to_csv(\"D_T_encoded_2.csv\")"
   ]
  },
  {
   "cell_type": "markdown",
   "id": "75ce42ea",
   "metadata": {},
   "source": [
    "### 3 - Table without CAMPAÑA"
   ]
  },
  {
   "cell_type": "code",
   "execution_count": 12,
   "id": "ddb1bd93",
   "metadata": {},
   "outputs": [],
   "source": [
    "df_temporal = df.drop(axis = 1, columns = [\"CAMPAÑA\"])"
   ]
  },
  {
   "cell_type": "code",
   "execution_count": 14,
   "id": "71b63d3d",
   "metadata": {},
   "outputs": [
    {
     "name": "stderr",
     "output_type": "stream",
     "text": [
      "<frozen importlib._bootstrap>:219: RuntimeWarning: scipy._lib.messagestream.MessageStream size changed, may indicate binary incompatibility. Expected 56 from C header, got 64 from PyObject\n"
     ]
    }
   ],
   "source": [
    "import category_encoders as ce\n",
    "\n",
    "encoder = ce.OneHotEncoder(cols=[\"ID_FINCA\", \"ID_ZONA\", \"ID_ESTACION\", \"VARIEDAD\", \"ALTITUD\"])\n",
    "\n",
    "df_encoded = encoder.fit_transform(df_temporal)"
   ]
  },
  {
   "cell_type": "code",
   "execution_count": 15,
   "id": "e337abe8",
   "metadata": {},
   "outputs": [],
   "source": [
    "train = df_encoded[(df_encoded[\"PRODUCCION\"] != 0) & (df_encoded[\"SUPERFICIE\"] != 0)]\n",
    "to_predict = df_encoded[~((df_encoded[\"PRODUCCION\"] != 0) & (df_encoded[\"SUPERFICIE\"] != 0))]"
   ]
  },
  {
   "cell_type": "code",
   "execution_count": 16,
   "id": "1bbe807b",
   "metadata": {},
   "outputs": [],
   "source": [
    "X = train.drop(axis = 1, columns = [\"SUPERFICIE\"])\n",
    "y = train[\"SUPERFICIE\"]\n",
    "to_predict = to_predict.drop(axis = 1, columns = [\"SUPERFICIE\"])"
   ]
  },
  {
   "cell_type": "code",
   "execution_count": 17,
   "id": "715d48cf",
   "metadata": {},
   "outputs": [],
   "source": [
    "from sklearn.preprocessing import Normalizer, StandardScaler, MinMaxScaler, MaxAbsScaler, RobustScaler\n",
    "\n",
    "normalizer = StandardScaler()\n",
    "norm_X = normalizer.fit_transform(X)\n",
    "norm_to_predict = normalizer.transform(to_predict)"
   ]
  },
  {
   "cell_type": "code",
   "execution_count": 247,
   "id": "d53ba30c",
   "metadata": {},
   "outputs": [
    {
     "name": "stderr",
     "output_type": "stream",
     "text": [
      "C:\\Users\\xavid\\anaconda3\\lib\\site-packages\\sklearn\\neural_network\\_multilayer_perceptron.py:686: UserWarning: Training interrupted by user.\n",
      "  warnings.warn(\"Training interrupted by user.\")\n"
     ]
    },
    {
     "data": {
      "text/html": [
       "<style>#sk-container-id-2 {color: black;background-color: white;}#sk-container-id-2 pre{padding: 0;}#sk-container-id-2 div.sk-toggleable {background-color: white;}#sk-container-id-2 label.sk-toggleable__label {cursor: pointer;display: block;width: 100%;margin-bottom: 0;padding: 0.3em;box-sizing: border-box;text-align: center;}#sk-container-id-2 label.sk-toggleable__label-arrow:before {content: \"▸\";float: left;margin-right: 0.25em;color: #696969;}#sk-container-id-2 label.sk-toggleable__label-arrow:hover:before {color: black;}#sk-container-id-2 div.sk-estimator:hover label.sk-toggleable__label-arrow:before {color: black;}#sk-container-id-2 div.sk-toggleable__content {max-height: 0;max-width: 0;overflow: hidden;text-align: left;background-color: #f0f8ff;}#sk-container-id-2 div.sk-toggleable__content pre {margin: 0.2em;color: black;border-radius: 0.25em;background-color: #f0f8ff;}#sk-container-id-2 input.sk-toggleable__control:checked~div.sk-toggleable__content {max-height: 200px;max-width: 100%;overflow: auto;}#sk-container-id-2 input.sk-toggleable__control:checked~label.sk-toggleable__label-arrow:before {content: \"▾\";}#sk-container-id-2 div.sk-estimator input.sk-toggleable__control:checked~label.sk-toggleable__label {background-color: #d4ebff;}#sk-container-id-2 div.sk-label input.sk-toggleable__control:checked~label.sk-toggleable__label {background-color: #d4ebff;}#sk-container-id-2 input.sk-hidden--visually {border: 0;clip: rect(1px 1px 1px 1px);clip: rect(1px, 1px, 1px, 1px);height: 1px;margin: -1px;overflow: hidden;padding: 0;position: absolute;width: 1px;}#sk-container-id-2 div.sk-estimator {font-family: monospace;background-color: #f0f8ff;border: 1px dotted black;border-radius: 0.25em;box-sizing: border-box;margin-bottom: 0.5em;}#sk-container-id-2 div.sk-estimator:hover {background-color: #d4ebff;}#sk-container-id-2 div.sk-parallel-item::after {content: \"\";width: 100%;border-bottom: 1px solid gray;flex-grow: 1;}#sk-container-id-2 div.sk-label:hover label.sk-toggleable__label {background-color: #d4ebff;}#sk-container-id-2 div.sk-serial::before {content: \"\";position: absolute;border-left: 1px solid gray;box-sizing: border-box;top: 0;bottom: 0;left: 50%;z-index: 0;}#sk-container-id-2 div.sk-serial {display: flex;flex-direction: column;align-items: center;background-color: white;padding-right: 0.2em;padding-left: 0.2em;position: relative;}#sk-container-id-2 div.sk-item {position: relative;z-index: 1;}#sk-container-id-2 div.sk-parallel {display: flex;align-items: stretch;justify-content: center;background-color: white;position: relative;}#sk-container-id-2 div.sk-item::before, #sk-container-id-2 div.sk-parallel-item::before {content: \"\";position: absolute;border-left: 1px solid gray;box-sizing: border-box;top: 0;bottom: 0;left: 50%;z-index: -1;}#sk-container-id-2 div.sk-parallel-item {display: flex;flex-direction: column;z-index: 1;position: relative;background-color: white;}#sk-container-id-2 div.sk-parallel-item:first-child::after {align-self: flex-end;width: 50%;}#sk-container-id-2 div.sk-parallel-item:last-child::after {align-self: flex-start;width: 50%;}#sk-container-id-2 div.sk-parallel-item:only-child::after {width: 0;}#sk-container-id-2 div.sk-dashed-wrapped {border: 1px dashed gray;margin: 0 0.4em 0.5em 0.4em;box-sizing: border-box;padding-bottom: 0.4em;background-color: white;}#sk-container-id-2 div.sk-label label {font-family: monospace;font-weight: bold;display: inline-block;line-height: 1.2em;}#sk-container-id-2 div.sk-label-container {text-align: center;}#sk-container-id-2 div.sk-container {/* jupyter's `normalize.less` sets `[hidden] { display: none; }` but bootstrap.min.css set `[hidden] { display: none !important; }` so we also need the `!important` here to be able to override the default hidden behavior on the sphinx rendered scikit-learn.org. See: https://github.com/scikit-learn/scikit-learn/issues/21755 */display: inline-block !important;position: relative;}#sk-container-id-2 div.sk-text-repr-fallback {display: none;}</style><div id=\"sk-container-id-2\" class=\"sk-top-container\"><div class=\"sk-text-repr-fallback\"><pre>GridSearchCV(estimator=MLPRegressor(),\n",
       "             param_grid={&#x27;hidden_layer_sizes&#x27;: [100, (100, 100, 100)],\n",
       "                         &#x27;learning_rate&#x27;: [&#x27;constant&#x27;, &#x27;adaptive&#x27;]},\n",
       "             scoring=&#x27;r2&#x27;)</pre><b>In a Jupyter environment, please rerun this cell to show the HTML representation or trust the notebook. <br />On GitHub, the HTML representation is unable to render, please try loading this page with nbviewer.org.</b></div><div class=\"sk-container\" hidden><div class=\"sk-item sk-dashed-wrapped\"><div class=\"sk-label-container\"><div class=\"sk-label sk-toggleable\"><input class=\"sk-toggleable__control sk-hidden--visually\" id=\"sk-estimator-id-4\" type=\"checkbox\" ><label for=\"sk-estimator-id-4\" class=\"sk-toggleable__label sk-toggleable__label-arrow\">GridSearchCV</label><div class=\"sk-toggleable__content\"><pre>GridSearchCV(estimator=MLPRegressor(),\n",
       "             param_grid={&#x27;hidden_layer_sizes&#x27;: [100, (100, 100, 100)],\n",
       "                         &#x27;learning_rate&#x27;: [&#x27;constant&#x27;, &#x27;adaptive&#x27;]},\n",
       "             scoring=&#x27;r2&#x27;)</pre></div></div></div><div class=\"sk-parallel\"><div class=\"sk-parallel-item\"><div class=\"sk-item\"><div class=\"sk-label-container\"><div class=\"sk-label sk-toggleable\"><input class=\"sk-toggleable__control sk-hidden--visually\" id=\"sk-estimator-id-5\" type=\"checkbox\" ><label for=\"sk-estimator-id-5\" class=\"sk-toggleable__label sk-toggleable__label-arrow\">estimator: MLPRegressor</label><div class=\"sk-toggleable__content\"><pre>MLPRegressor()</pre></div></div></div><div class=\"sk-serial\"><div class=\"sk-item\"><div class=\"sk-estimator sk-toggleable\"><input class=\"sk-toggleable__control sk-hidden--visually\" id=\"sk-estimator-id-6\" type=\"checkbox\" ><label for=\"sk-estimator-id-6\" class=\"sk-toggleable__label sk-toggleable__label-arrow\">MLPRegressor</label><div class=\"sk-toggleable__content\"><pre>MLPRegressor()</pre></div></div></div></div></div></div></div></div></div></div>"
      ],
      "text/plain": [
       "GridSearchCV(estimator=MLPRegressor(),\n",
       "             param_grid={'hidden_layer_sizes': [100, (100, 100, 100)],\n",
       "                         'learning_rate': ['constant', 'adaptive']},\n",
       "             scoring='r2')"
      ]
     },
     "execution_count": 247,
     "metadata": {},
     "output_type": "execute_result"
    }
   ],
   "source": [
    "from sklearn.model_selection import GridSearchCV\n",
    "from sklearn.neural_network import MLPRegressor\n",
    "\n",
    "\n",
    "model = {\"model_name\": \"SVC\", \"model\": MLPRegressor(), \"params\": {'hidden_layer_sizes':[(100),(1000,1000,1000)],\n",
    "                                                                  'learning_rate':[\"constant\", \"adaptive\"],}}\n",
    "\n",
    "grid_search = GridSearchCV(model[\"model\"], model[\"params\"], scoring=\"r2\")\n",
    "grid_search.fit(norm_X, y)"
   ]
  },
  {
   "cell_type": "code",
   "execution_count": 248,
   "id": "3b8dc10e",
   "metadata": {},
   "outputs": [
    {
     "name": "stdout",
     "output_type": "stream",
     "text": [
      "{'hidden_layer_sizes': (100, 100, 100), 'learning_rate': 'adaptive'}\n"
     ]
    },
    {
     "data": {
      "text/html": [
       "<div>\n",
       "<style scoped>\n",
       "    .dataframe tbody tr th:only-of-type {\n",
       "        vertical-align: middle;\n",
       "    }\n",
       "\n",
       "    .dataframe tbody tr th {\n",
       "        vertical-align: top;\n",
       "    }\n",
       "\n",
       "    .dataframe thead th {\n",
       "        text-align: right;\n",
       "    }\n",
       "</style>\n",
       "<table border=\"1\" class=\"dataframe\">\n",
       "  <thead>\n",
       "    <tr style=\"text-align: right;\">\n",
       "      <th></th>\n",
       "      <th>mean_fit_time</th>\n",
       "      <th>std_fit_time</th>\n",
       "      <th>mean_score_time</th>\n",
       "      <th>std_score_time</th>\n",
       "      <th>param_hidden_layer_sizes</th>\n",
       "      <th>param_learning_rate</th>\n",
       "      <th>params</th>\n",
       "      <th>split0_test_score</th>\n",
       "      <th>split1_test_score</th>\n",
       "      <th>split2_test_score</th>\n",
       "      <th>split3_test_score</th>\n",
       "      <th>split4_test_score</th>\n",
       "      <th>mean_test_score</th>\n",
       "      <th>std_test_score</th>\n",
       "      <th>rank_test_score</th>\n",
       "    </tr>\n",
       "  </thead>\n",
       "  <tbody>\n",
       "    <tr>\n",
       "      <th>0</th>\n",
       "      <td>9.451171</td>\n",
       "      <td>3.131344</td>\n",
       "      <td>0.005322</td>\n",
       "      <td>0.000376</td>\n",
       "      <td>100</td>\n",
       "      <td>constant</td>\n",
       "      <td>{'hidden_layer_sizes': 100, 'learning_rate': '...</td>\n",
       "      <td>0.774989</td>\n",
       "      <td>0.799511</td>\n",
       "      <td>0.870512</td>\n",
       "      <td>0.590862</td>\n",
       "      <td>0.665164</td>\n",
       "      <td>0.740207</td>\n",
       "      <td>0.099641</td>\n",
       "      <td>4</td>\n",
       "    </tr>\n",
       "    <tr>\n",
       "      <th>1</th>\n",
       "      <td>9.308895</td>\n",
       "      <td>1.867798</td>\n",
       "      <td>0.004107</td>\n",
       "      <td>0.000587</td>\n",
       "      <td>100</td>\n",
       "      <td>adaptive</td>\n",
       "      <td>{'hidden_layer_sizes': 100, 'learning_rate': '...</td>\n",
       "      <td>0.784408</td>\n",
       "      <td>0.759720</td>\n",
       "      <td>0.861517</td>\n",
       "      <td>0.754148</td>\n",
       "      <td>0.586562</td>\n",
       "      <td>0.749271</td>\n",
       "      <td>0.089934</td>\n",
       "      <td>3</td>\n",
       "    </tr>\n",
       "    <tr>\n",
       "      <th>2</th>\n",
       "      <td>8.366059</td>\n",
       "      <td>0.976483</td>\n",
       "      <td>0.005138</td>\n",
       "      <td>0.000371</td>\n",
       "      <td>(100, 100, 100)</td>\n",
       "      <td>constant</td>\n",
       "      <td>{'hidden_layer_sizes': (100, 100, 100), 'learn...</td>\n",
       "      <td>0.891863</td>\n",
       "      <td>0.824670</td>\n",
       "      <td>0.908488</td>\n",
       "      <td>0.864096</td>\n",
       "      <td>0.617077</td>\n",
       "      <td>0.821239</td>\n",
       "      <td>0.105953</td>\n",
       "      <td>2</td>\n",
       "    </tr>\n",
       "    <tr>\n",
       "      <th>3</th>\n",
       "      <td>8.098244</td>\n",
       "      <td>1.237529</td>\n",
       "      <td>0.004801</td>\n",
       "      <td>0.000393</td>\n",
       "      <td>(100, 100, 100)</td>\n",
       "      <td>adaptive</td>\n",
       "      <td>{'hidden_layer_sizes': (100, 100, 100), 'learn...</td>\n",
       "      <td>0.821207</td>\n",
       "      <td>0.866981</td>\n",
       "      <td>0.892721</td>\n",
       "      <td>0.871692</td>\n",
       "      <td>0.829611</td>\n",
       "      <td>0.856443</td>\n",
       "      <td>0.026912</td>\n",
       "      <td>1</td>\n",
       "    </tr>\n",
       "  </tbody>\n",
       "</table>\n",
       "</div>"
      ],
      "text/plain": [
       "   mean_fit_time  std_fit_time  mean_score_time  std_score_time  \\\n",
       "0       9.451171      3.131344         0.005322        0.000376   \n",
       "1       9.308895      1.867798         0.004107        0.000587   \n",
       "2       8.366059      0.976483         0.005138        0.000371   \n",
       "3       8.098244      1.237529         0.004801        0.000393   \n",
       "\n",
       "  param_hidden_layer_sizes param_learning_rate  \\\n",
       "0                      100            constant   \n",
       "1                      100            adaptive   \n",
       "2          (100, 100, 100)            constant   \n",
       "3          (100, 100, 100)            adaptive   \n",
       "\n",
       "                                              params  split0_test_score  \\\n",
       "0  {'hidden_layer_sizes': 100, 'learning_rate': '...           0.774989   \n",
       "1  {'hidden_layer_sizes': 100, 'learning_rate': '...           0.784408   \n",
       "2  {'hidden_layer_sizes': (100, 100, 100), 'learn...           0.891863   \n",
       "3  {'hidden_layer_sizes': (100, 100, 100), 'learn...           0.821207   \n",
       "\n",
       "   split1_test_score  split2_test_score  split3_test_score  split4_test_score  \\\n",
       "0           0.799511           0.870512           0.590862           0.665164   \n",
       "1           0.759720           0.861517           0.754148           0.586562   \n",
       "2           0.824670           0.908488           0.864096           0.617077   \n",
       "3           0.866981           0.892721           0.871692           0.829611   \n",
       "\n",
       "   mean_test_score  std_test_score  rank_test_score  \n",
       "0         0.740207        0.099641                4  \n",
       "1         0.749271        0.089934                3  \n",
       "2         0.821239        0.105953                2  \n",
       "3         0.856443        0.026912                1  "
      ]
     },
     "execution_count": 248,
     "metadata": {},
     "output_type": "execute_result"
    }
   ],
   "source": [
    "print(grid_search.best_params_)\n",
    "df = pd.DataFrame(grid_search.cv_results_)\n",
    "df"
   ]
  },
  {
   "cell_type": "code",
   "execution_count": 19,
   "id": "e40046ac",
   "metadata": {},
   "outputs": [
    {
     "name": "stderr",
     "output_type": "stream",
     "text": [
      "C:\\Users\\xavid\\AppData\\Local\\Temp\\ipykernel_14836\\1973200238.py:6: SettingWithCopyWarning: \n",
      "A value is trying to be set on a copy of a slice from a DataFrame.\n",
      "Try using .loc[row_indexer,col_indexer] = value instead\n",
      "\n",
      "See the caveats in the documentation: https://pandas.pydata.org/pandas-docs/stable/user_guide/indexing.html#returning-a-view-versus-a-copy\n",
      "  final_df[\"SUPERFICIE\"] = predicted\n"
     ]
    }
   ],
   "source": [
    "from sklearn.neural_network import MLPRegressor\n",
    "modelMLPR = MLPRegressor(hidden_layer_sizes=(1000, 1000, 1000), learning_rate=\"adaptive\")\n",
    "modelMLPR.fit(norm_X, y)\n",
    "predicted = modelMLPR.predict(norm_to_predict)"
   ]
  },
  {
   "cell_type": "code",
   "execution_count": 39,
   "id": "0e2fdaab",
   "metadata": {},
   "outputs": [
    {
     "name": "stderr",
     "output_type": "stream",
     "text": [
      "C:\\Users\\xavid\\AppData\\Local\\Temp\\ipykernel_14836\\193630758.py:2: SettingWithCopyWarning: \n",
      "A value is trying to be set on a copy of a slice from a DataFrame.\n",
      "Try using .loc[row_indexer,col_indexer] = value instead\n",
      "\n",
      "See the caveats in the documentation: https://pandas.pydata.org/pandas-docs/stable/user_guide/indexing.html#returning-a-view-versus-a-copy\n",
      "  final_predict[\"SUPERFICIE\"] = predicted\n"
     ]
    }
   ],
   "source": [
    "final_predict = df[~((df[\"PRODUCCION\"] != 0) & (df[\"SUPERFICIE\"] != 0))]\n",
    "final_predict[\"SUPERFICIE\"] = predicted\n",
    "final_train = df[(df[\"PRODUCCION\"] != 0) & (df[\"SUPERFICIE\"] != 0)]"
   ]
  },
  {
   "cell_type": "code",
   "execution_count": 40,
   "id": "e9058489",
   "metadata": {},
   "outputs": [],
   "source": [
    "final_df = pd.concat([final_predict, final_train])"
   ]
  },
  {
   "cell_type": "code",
   "execution_count": 46,
   "id": "2bdd3195",
   "metadata": {
    "scrolled": true
   },
   "outputs": [
    {
     "data": {
      "text/html": [
       "<div>\n",
       "<style scoped>\n",
       "    .dataframe tbody tr th:only-of-type {\n",
       "        vertical-align: middle;\n",
       "    }\n",
       "\n",
       "    .dataframe tbody tr th {\n",
       "        vertical-align: top;\n",
       "    }\n",
       "\n",
       "    .dataframe thead th {\n",
       "        text-align: right;\n",
       "    }\n",
       "</style>\n",
       "<table border=\"1\" class=\"dataframe\">\n",
       "  <thead>\n",
       "    <tr style=\"text-align: right;\">\n",
       "      <th></th>\n",
       "      <th>CAMPAÑA</th>\n",
       "      <th>ID_FINCA</th>\n",
       "      <th>ID_ZONA</th>\n",
       "      <th>ID_ESTACION</th>\n",
       "      <th>ALTITUD</th>\n",
       "      <th>VARIEDAD</th>\n",
       "      <th>MODO</th>\n",
       "      <th>TIPO</th>\n",
       "      <th>COLOR</th>\n",
       "      <th>SUPERFICIE</th>\n",
       "      <th>PRODUCCION</th>\n",
       "      <th>ALTITUD_MIN</th>\n",
       "      <th>ALTITUD_DIF</th>\n",
       "    </tr>\n",
       "  </thead>\n",
       "  <tbody>\n",
       "    <tr>\n",
       "      <th>0</th>\n",
       "      <td>14</td>\n",
       "      <td>76953</td>\n",
       "      <td>515</td>\n",
       "      <td>4</td>\n",
       "      <td>660</td>\n",
       "      <td>26</td>\n",
       "      <td>1</td>\n",
       "      <td>0</td>\n",
       "      <td>1</td>\n",
       "      <td>1.278273</td>\n",
       "      <td>22215.0</td>\n",
       "      <td>660.000000</td>\n",
       "      <td>0.00000</td>\n",
       "    </tr>\n",
       "    <tr>\n",
       "      <th>1</th>\n",
       "      <td>14</td>\n",
       "      <td>84318</td>\n",
       "      <td>515</td>\n",
       "      <td>4</td>\n",
       "      <td>660</td>\n",
       "      <td>26</td>\n",
       "      <td>1</td>\n",
       "      <td>0</td>\n",
       "      <td>1</td>\n",
       "      <td>1.278273</td>\n",
       "      <td>22215.0</td>\n",
       "      <td>660.000000</td>\n",
       "      <td>0.00000</td>\n",
       "    </tr>\n",
       "    <tr>\n",
       "      <th>2</th>\n",
       "      <td>14</td>\n",
       "      <td>85579</td>\n",
       "      <td>340</td>\n",
       "      <td>4</td>\n",
       "      <td>520</td>\n",
       "      <td>32</td>\n",
       "      <td>1</td>\n",
       "      <td>0</td>\n",
       "      <td>1</td>\n",
       "      <td>1.824001</td>\n",
       "      <td>20978.0</td>\n",
       "      <td>520.000000</td>\n",
       "      <td>0.00000</td>\n",
       "    </tr>\n",
       "    <tr>\n",
       "      <th>3</th>\n",
       "      <td>14</td>\n",
       "      <td>69671</td>\n",
       "      <td>340</td>\n",
       "      <td>4</td>\n",
       "      <td>520</td>\n",
       "      <td>32</td>\n",
       "      <td>1</td>\n",
       "      <td>0</td>\n",
       "      <td>1</td>\n",
       "      <td>2.420002</td>\n",
       "      <td>40722.0</td>\n",
       "      <td>520.000000</td>\n",
       "      <td>0.00000</td>\n",
       "    </tr>\n",
       "    <tr>\n",
       "      <th>4</th>\n",
       "      <td>14</td>\n",
       "      <td>14001</td>\n",
       "      <td>852</td>\n",
       "      <td>14</td>\n",
       "      <td>650-660</td>\n",
       "      <td>81</td>\n",
       "      <td>0</td>\n",
       "      <td>0</td>\n",
       "      <td>1</td>\n",
       "      <td>2.515576</td>\n",
       "      <td>14126.0</td>\n",
       "      <td>654.501718</td>\n",
       "      <td>9.19244</td>\n",
       "    </tr>\n",
       "    <tr>\n",
       "      <th>...</th>\n",
       "      <td>...</td>\n",
       "      <td>...</td>\n",
       "      <td>...</td>\n",
       "      <td>...</td>\n",
       "      <td>...</td>\n",
       "      <td>...</td>\n",
       "      <td>...</td>\n",
       "      <td>...</td>\n",
       "      <td>...</td>\n",
       "      <td>...</td>\n",
       "      <td>...</td>\n",
       "      <td>...</td>\n",
       "      <td>...</td>\n",
       "    </tr>\n",
       "    <tr>\n",
       "      <th>8521</th>\n",
       "      <td>21</td>\n",
       "      <td>37461</td>\n",
       "      <td>239</td>\n",
       "      <td>6</td>\n",
       "      <td>700</td>\n",
       "      <td>52</td>\n",
       "      <td>1</td>\n",
       "      <td>0</td>\n",
       "      <td>1</td>\n",
       "      <td>3.680000</td>\n",
       "      <td>28160.1</td>\n",
       "      <td>700.000000</td>\n",
       "      <td>0.00000</td>\n",
       "    </tr>\n",
       "    <tr>\n",
       "      <th>8522</th>\n",
       "      <td>21</td>\n",
       "      <td>58769</td>\n",
       "      <td>239</td>\n",
       "      <td>6</td>\n",
       "      <td>700</td>\n",
       "      <td>32</td>\n",
       "      <td>1</td>\n",
       "      <td>0</td>\n",
       "      <td>1</td>\n",
       "      <td>4.250000</td>\n",
       "      <td>41310.0</td>\n",
       "      <td>700.000000</td>\n",
       "      <td>0.00000</td>\n",
       "    </tr>\n",
       "    <tr>\n",
       "      <th>8523</th>\n",
       "      <td>21</td>\n",
       "      <td>58769</td>\n",
       "      <td>239</td>\n",
       "      <td>6</td>\n",
       "      <td>700</td>\n",
       "      <td>59</td>\n",
       "      <td>1</td>\n",
       "      <td>0</td>\n",
       "      <td>1</td>\n",
       "      <td>4.160000</td>\n",
       "      <td>45420.0</td>\n",
       "      <td>700.000000</td>\n",
       "      <td>0.00000</td>\n",
       "    </tr>\n",
       "    <tr>\n",
       "      <th>8524</th>\n",
       "      <td>21</td>\n",
       "      <td>88928</td>\n",
       "      <td>239</td>\n",
       "      <td>6</td>\n",
       "      <td>700</td>\n",
       "      <td>40</td>\n",
       "      <td>1</td>\n",
       "      <td>0</td>\n",
       "      <td>1</td>\n",
       "      <td>4.750000</td>\n",
       "      <td>56140.0</td>\n",
       "      <td>700.000000</td>\n",
       "      <td>0.00000</td>\n",
       "    </tr>\n",
       "    <tr>\n",
       "      <th>8525</th>\n",
       "      <td>21</td>\n",
       "      <td>88928</td>\n",
       "      <td>239</td>\n",
       "      <td>6</td>\n",
       "      <td>700</td>\n",
       "      <td>52</td>\n",
       "      <td>1</td>\n",
       "      <td>0</td>\n",
       "      <td>1</td>\n",
       "      <td>1.462000</td>\n",
       "      <td>13869.9</td>\n",
       "      <td>700.000000</td>\n",
       "      <td>0.00000</td>\n",
       "    </tr>\n",
       "  </tbody>\n",
       "</table>\n",
       "<p>8526 rows × 13 columns</p>\n",
       "</div>"
      ],
      "text/plain": [
       "     CAMPAÑA ID_FINCA ID_ZONA ID_ESTACION  ALTITUD VARIEDAD MODO TIPO COLOR  \\\n",
       "0         14    76953     515           4      660       26    1    0     1   \n",
       "1         14    84318     515           4      660       26    1    0     1   \n",
       "2         14    85579     340           4      520       32    1    0     1   \n",
       "3         14    69671     340           4      520       32    1    0     1   \n",
       "4         14    14001     852          14  650-660       81    0    0     1   \n",
       "...      ...      ...     ...         ...      ...      ...  ...  ...   ...   \n",
       "8521      21    37461     239           6      700       52    1    0     1   \n",
       "8522      21    58769     239           6      700       32    1    0     1   \n",
       "8523      21    58769     239           6      700       59    1    0     1   \n",
       "8524      21    88928     239           6      700       40    1    0     1   \n",
       "8525      21    88928     239           6      700       52    1    0     1   \n",
       "\n",
       "      SUPERFICIE  PRODUCCION  ALTITUD_MIN  ALTITUD_DIF  \n",
       "0       1.278273     22215.0   660.000000      0.00000  \n",
       "1       1.278273     22215.0   660.000000      0.00000  \n",
       "2       1.824001     20978.0   520.000000      0.00000  \n",
       "3       2.420002     40722.0   520.000000      0.00000  \n",
       "4       2.515576     14126.0   654.501718      9.19244  \n",
       "...          ...         ...          ...          ...  \n",
       "8521    3.680000     28160.1   700.000000      0.00000  \n",
       "8522    4.250000     41310.0   700.000000      0.00000  \n",
       "8523    4.160000     45420.0   700.000000      0.00000  \n",
       "8524    4.750000     56140.0   700.000000      0.00000  \n",
       "8525    1.462000     13869.9   700.000000      0.00000  \n",
       "\n",
       "[8526 rows x 13 columns]"
      ]
     },
     "execution_count": 46,
     "metadata": {},
     "output_type": "execute_result"
    }
   ],
   "source": [
    "final_df"
   ]
  },
  {
   "cell_type": "code",
   "execution_count": 49,
   "id": "226a9ad9",
   "metadata": {},
   "outputs": [],
   "source": [
    "final_df.to_csv(\"first_model/datasets/D_T_3.csv\")"
   ]
  },
  {
   "cell_type": "code",
   "execution_count": null,
   "id": "3a4f8523",
   "metadata": {},
   "outputs": [],
   "source": []
  },
  {
   "cell_type": "code",
   "execution_count": 56,
   "id": "dece8a5a",
   "metadata": {},
   "outputs": [
    {
     "data": {
      "text/html": [
       "<div>\n",
       "<style scoped>\n",
       "    .dataframe tbody tr th:only-of-type {\n",
       "        vertical-align: middle;\n",
       "    }\n",
       "\n",
       "    .dataframe tbody tr th {\n",
       "        vertical-align: top;\n",
       "    }\n",
       "\n",
       "    .dataframe thead th {\n",
       "        text-align: right;\n",
       "    }\n",
       "</style>\n",
       "<table border=\"1\" class=\"dataframe\">\n",
       "  <thead>\n",
       "    <tr style=\"text-align: right;\">\n",
       "      <th></th>\n",
       "      <th>CAMPAÑA</th>\n",
       "      <th>ID_FINCA</th>\n",
       "      <th>ID_ZONA</th>\n",
       "      <th>ID_ESTACION</th>\n",
       "      <th>ALTITUD</th>\n",
       "      <th>VARIEDAD</th>\n",
       "      <th>MODO</th>\n",
       "      <th>TIPO</th>\n",
       "      <th>COLOR</th>\n",
       "      <th>SUPERFICIE</th>\n",
       "      <th>PRODUCCION</th>\n",
       "      <th>ALTITUD_MIN</th>\n",
       "      <th>ALTITUD_DIF</th>\n",
       "    </tr>\n",
       "  </thead>\n",
       "  <tbody>\n",
       "    <tr>\n",
       "      <th>615</th>\n",
       "      <td>14</td>\n",
       "      <td>3579</td>\n",
       "      <td>449</td>\n",
       "      <td>12</td>\n",
       "      <td>550-700</td>\n",
       "      <td>32</td>\n",
       "      <td>1</td>\n",
       "      <td>0</td>\n",
       "      <td>1</td>\n",
       "      <td>0.00000</td>\n",
       "      <td>392.500</td>\n",
       "      <td>550.0</td>\n",
       "      <td>150.0</td>\n",
       "    </tr>\n",
       "    <tr>\n",
       "      <th>1772</th>\n",
       "      <td>15</td>\n",
       "      <td>3579</td>\n",
       "      <td>449</td>\n",
       "      <td>12</td>\n",
       "      <td>550-700</td>\n",
       "      <td>32</td>\n",
       "      <td>1</td>\n",
       "      <td>0</td>\n",
       "      <td>1</td>\n",
       "      <td>0.00000</td>\n",
       "      <td>469.382</td>\n",
       "      <td>550.0</td>\n",
       "      <td>150.0</td>\n",
       "    </tr>\n",
       "    <tr>\n",
       "      <th>2873</th>\n",
       "      <td>16</td>\n",
       "      <td>3579</td>\n",
       "      <td>449</td>\n",
       "      <td>12</td>\n",
       "      <td>550-700</td>\n",
       "      <td>32</td>\n",
       "      <td>1</td>\n",
       "      <td>0</td>\n",
       "      <td>1</td>\n",
       "      <td>0.00000</td>\n",
       "      <td>248.418</td>\n",
       "      <td>550.0</td>\n",
       "      <td>150.0</td>\n",
       "    </tr>\n",
       "    <tr>\n",
       "      <th>3925</th>\n",
       "      <td>17</td>\n",
       "      <td>3579</td>\n",
       "      <td>449</td>\n",
       "      <td>12</td>\n",
       "      <td>550-700</td>\n",
       "      <td>32</td>\n",
       "      <td>1</td>\n",
       "      <td>0</td>\n",
       "      <td>1</td>\n",
       "      <td>0.00000</td>\n",
       "      <td>504.680</td>\n",
       "      <td>550.0</td>\n",
       "      <td>150.0</td>\n",
       "    </tr>\n",
       "    <tr>\n",
       "      <th>4993</th>\n",
       "      <td>18</td>\n",
       "      <td>3579</td>\n",
       "      <td>449</td>\n",
       "      <td>12</td>\n",
       "      <td>550-700</td>\n",
       "      <td>32</td>\n",
       "      <td>1</td>\n",
       "      <td>0</td>\n",
       "      <td>1</td>\n",
       "      <td>0.00000</td>\n",
       "      <td>426.684</td>\n",
       "      <td>550.0</td>\n",
       "      <td>150.0</td>\n",
       "    </tr>\n",
       "    <tr>\n",
       "      <th>6063</th>\n",
       "      <td>19</td>\n",
       "      <td>3579</td>\n",
       "      <td>449</td>\n",
       "      <td>12</td>\n",
       "      <td>550-700</td>\n",
       "      <td>32</td>\n",
       "      <td>1</td>\n",
       "      <td>0</td>\n",
       "      <td>1</td>\n",
       "      <td>0.00000</td>\n",
       "      <td>288.898</td>\n",
       "      <td>550.0</td>\n",
       "      <td>150.0</td>\n",
       "    </tr>\n",
       "    <tr>\n",
       "      <th>7090</th>\n",
       "      <td>20</td>\n",
       "      <td>3579</td>\n",
       "      <td>449</td>\n",
       "      <td>12</td>\n",
       "      <td>550-700</td>\n",
       "      <td>32</td>\n",
       "      <td>1</td>\n",
       "      <td>0</td>\n",
       "      <td>1</td>\n",
       "      <td>0.00072</td>\n",
       "      <td>83.433</td>\n",
       "      <td>550.0</td>\n",
       "      <td>150.0</td>\n",
       "    </tr>\n",
       "  </tbody>\n",
       "</table>\n",
       "</div>"
      ],
      "text/plain": [
       "     CAMPAÑA ID_FINCA ID_ZONA ID_ESTACION  ALTITUD VARIEDAD MODO TIPO COLOR  \\\n",
       "615       14     3579     449          12  550-700       32    1    0     1   \n",
       "1772      15     3579     449          12  550-700       32    1    0     1   \n",
       "2873      16     3579     449          12  550-700       32    1    0     1   \n",
       "3925      17     3579     449          12  550-700       32    1    0     1   \n",
       "4993      18     3579     449          12  550-700       32    1    0     1   \n",
       "6063      19     3579     449          12  550-700       32    1    0     1   \n",
       "7090      20     3579     449          12  550-700       32    1    0     1   \n",
       "\n",
       "      SUPERFICIE  PRODUCCION  ALTITUD_MIN  ALTITUD_DIF  \n",
       "615      0.00000     392.500        550.0        150.0  \n",
       "1772     0.00000     469.382        550.0        150.0  \n",
       "2873     0.00000     248.418        550.0        150.0  \n",
       "3925     0.00000     504.680        550.0        150.0  \n",
       "4993     0.00000     426.684        550.0        150.0  \n",
       "6063     0.00000     288.898        550.0        150.0  \n",
       "7090     0.00072      83.433        550.0        150.0  "
      ]
     },
     "execution_count": 56,
     "metadata": {},
     "output_type": "execute_result"
    }
   ],
   "source": [
    "df[df[\"ID_FINCA\"]==\"3579\"]"
   ]
  }
 ],
 "metadata": {
  "kernelspec": {
   "display_name": "Python 3 (ipykernel)",
   "language": "python",
   "name": "python3"
  },
  "language_info": {
   "codemirror_mode": {
    "name": "ipython",
    "version": 3
   },
   "file_extension": ".py",
   "mimetype": "text/x-python",
   "name": "python",
   "nbconvert_exporter": "python",
   "pygments_lexer": "ipython3",
   "version": "3.8.12"
  }
 },
 "nbformat": 4,
 "nbformat_minor": 5
}
