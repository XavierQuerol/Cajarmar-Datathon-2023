{
 "cells": [
  {
   "cell_type": "code",
   "execution_count": 76,
   "id": "30042bc0",
   "metadata": {},
   "outputs": [],
   "source": [
    "import pandas as pd\n",
    "import matplotlib.pyplot as plt\n",
    "import numpy as np\n",
    "import seaborn as sns"
   ]
  },
  {
   "cell_type": "code",
   "execution_count": 77,
   "id": "db6e43fe",
   "metadata": {},
   "outputs": [],
   "source": [
    "df = pd.read_csv(\"./UH_2023/UH_2023_TRAIN.txt\", sep = \"|\")"
   ]
  },
  {
   "cell_type": "code",
   "execution_count": 86,
   "id": "39a6a32f",
   "metadata": {},
   "outputs": [
    {
     "data": {
      "text/html": [
       "<div>\n",
       "<style scoped>\n",
       "    .dataframe tbody tr th:only-of-type {\n",
       "        vertical-align: middle;\n",
       "    }\n",
       "\n",
       "    .dataframe tbody tr th {\n",
       "        vertical-align: top;\n",
       "    }\n",
       "\n",
       "    .dataframe thead th {\n",
       "        text-align: right;\n",
       "    }\n",
       "</style>\n",
       "<table border=\"1\" class=\"dataframe\">\n",
       "  <thead>\n",
       "    <tr style=\"text-align: right;\">\n",
       "      <th></th>\n",
       "      <th>CAMPAÑA</th>\n",
       "      <th>ID_FINCA</th>\n",
       "      <th>ID_ZONA</th>\n",
       "      <th>ID_ESTACION</th>\n",
       "      <th>ALTITUD</th>\n",
       "      <th>VARIEDAD</th>\n",
       "      <th>MODO</th>\n",
       "      <th>TIPO</th>\n",
       "      <th>COLOR</th>\n",
       "      <th>SUPERFICIE</th>\n",
       "      <th>PRODUCCION</th>\n",
       "      <th>ALTITUD_MIN</th>\n",
       "      <th>ALTITUD_DIF</th>\n",
       "    </tr>\n",
       "  </thead>\n",
       "  <tbody>\n",
       "    <tr>\n",
       "      <th>9591</th>\n",
       "      <td>22</td>\n",
       "      <td>84174</td>\n",
       "      <td>473</td>\n",
       "      <td>10</td>\n",
       "      <td>450-480</td>\n",
       "      <td>15</td>\n",
       "      <td>2</td>\n",
       "      <td>0</td>\n",
       "      <td>1</td>\n",
       "      <td>2.7400</td>\n",
       "      <td>NaN</td>\n",
       "      <td>450.0</td>\n",
       "      <td>30.0</td>\n",
       "    </tr>\n",
       "    <tr>\n",
       "      <th>9592</th>\n",
       "      <td>22</td>\n",
       "      <td>84174</td>\n",
       "      <td>473</td>\n",
       "      <td>10</td>\n",
       "      <td>450-480</td>\n",
       "      <td>32</td>\n",
       "      <td>2</td>\n",
       "      <td>0</td>\n",
       "      <td>1</td>\n",
       "      <td>2.6280</td>\n",
       "      <td>NaN</td>\n",
       "      <td>450.0</td>\n",
       "      <td>30.0</td>\n",
       "    </tr>\n",
       "    <tr>\n",
       "      <th>9593</th>\n",
       "      <td>22</td>\n",
       "      <td>84174</td>\n",
       "      <td>473</td>\n",
       "      <td>10</td>\n",
       "      <td>450-480</td>\n",
       "      <td>40</td>\n",
       "      <td>2</td>\n",
       "      <td>0</td>\n",
       "      <td>1</td>\n",
       "      <td>3.0600</td>\n",
       "      <td>NaN</td>\n",
       "      <td>450.0</td>\n",
       "      <td>30.0</td>\n",
       "    </tr>\n",
       "    <tr>\n",
       "      <th>9594</th>\n",
       "      <td>22</td>\n",
       "      <td>61478</td>\n",
       "      <td>831</td>\n",
       "      <td>10</td>\n",
       "      <td>455-465</td>\n",
       "      <td>32</td>\n",
       "      <td>2</td>\n",
       "      <td>0</td>\n",
       "      <td>1</td>\n",
       "      <td>2.4900</td>\n",
       "      <td>NaN</td>\n",
       "      <td>455.0</td>\n",
       "      <td>10.0</td>\n",
       "    </tr>\n",
       "    <tr>\n",
       "      <th>9595</th>\n",
       "      <td>22</td>\n",
       "      <td>34244</td>\n",
       "      <td>831</td>\n",
       "      <td>10</td>\n",
       "      <td>455-465</td>\n",
       "      <td>32</td>\n",
       "      <td>2</td>\n",
       "      <td>0</td>\n",
       "      <td>1</td>\n",
       "      <td>5.1900</td>\n",
       "      <td>NaN</td>\n",
       "      <td>455.0</td>\n",
       "      <td>10.0</td>\n",
       "    </tr>\n",
       "    <tr>\n",
       "      <th>9596</th>\n",
       "      <td>22</td>\n",
       "      <td>37461</td>\n",
       "      <td>239</td>\n",
       "      <td>6</td>\n",
       "      <td>700</td>\n",
       "      <td>52</td>\n",
       "      <td>2</td>\n",
       "      <td>0</td>\n",
       "      <td>1</td>\n",
       "      <td>3.6800</td>\n",
       "      <td>NaN</td>\n",
       "      <td>700.0</td>\n",
       "      <td>0.0</td>\n",
       "    </tr>\n",
       "    <tr>\n",
       "      <th>9597</th>\n",
       "      <td>22</td>\n",
       "      <td>58769</td>\n",
       "      <td>239</td>\n",
       "      <td>6</td>\n",
       "      <td>700</td>\n",
       "      <td>32</td>\n",
       "      <td>2</td>\n",
       "      <td>0</td>\n",
       "      <td>1</td>\n",
       "      <td>4.2500</td>\n",
       "      <td>NaN</td>\n",
       "      <td>700.0</td>\n",
       "      <td>0.0</td>\n",
       "    </tr>\n",
       "    <tr>\n",
       "      <th>9598</th>\n",
       "      <td>22</td>\n",
       "      <td>58769</td>\n",
       "      <td>239</td>\n",
       "      <td>6</td>\n",
       "      <td>700</td>\n",
       "      <td>59</td>\n",
       "      <td>2</td>\n",
       "      <td>0</td>\n",
       "      <td>1</td>\n",
       "      <td>4.0700</td>\n",
       "      <td>NaN</td>\n",
       "      <td>700.0</td>\n",
       "      <td>0.0</td>\n",
       "    </tr>\n",
       "    <tr>\n",
       "      <th>9599</th>\n",
       "      <td>22</td>\n",
       "      <td>88928</td>\n",
       "      <td>239</td>\n",
       "      <td>6</td>\n",
       "      <td>700</td>\n",
       "      <td>40</td>\n",
       "      <td>2</td>\n",
       "      <td>0</td>\n",
       "      <td>1</td>\n",
       "      <td>4.5727</td>\n",
       "      <td>NaN</td>\n",
       "      <td>700.0</td>\n",
       "      <td>0.0</td>\n",
       "    </tr>\n",
       "    <tr>\n",
       "      <th>9600</th>\n",
       "      <td>22</td>\n",
       "      <td>88928</td>\n",
       "      <td>239</td>\n",
       "      <td>6</td>\n",
       "      <td>700</td>\n",
       "      <td>52</td>\n",
       "      <td>2</td>\n",
       "      <td>0</td>\n",
       "      <td>1</td>\n",
       "      <td>1.6099</td>\n",
       "      <td>NaN</td>\n",
       "      <td>700.0</td>\n",
       "      <td>0.0</td>\n",
       "    </tr>\n",
       "  </tbody>\n",
       "</table>\n",
       "</div>"
      ],
      "text/plain": [
       "      CAMPAÑA  ID_FINCA  ID_ZONA  ID_ESTACION  ALTITUD  VARIEDAD  MODO  TIPO  \\\n",
       "9591       22     84174      473           10  450-480        15     2     0   \n",
       "9592       22     84174      473           10  450-480        32     2     0   \n",
       "9593       22     84174      473           10  450-480        40     2     0   \n",
       "9594       22     61478      831           10  455-465        32     2     0   \n",
       "9595       22     34244      831           10  455-465        32     2     0   \n",
       "9596       22     37461      239            6      700        52     2     0   \n",
       "9597       22     58769      239            6      700        32     2     0   \n",
       "9598       22     58769      239            6      700        59     2     0   \n",
       "9599       22     88928      239            6      700        40     2     0   \n",
       "9600       22     88928      239            6      700        52     2     0   \n",
       "\n",
       "      COLOR  SUPERFICIE  PRODUCCION  ALTITUD_MIN  ALTITUD_DIF  \n",
       "9591      1      2.7400         NaN        450.0         30.0  \n",
       "9592      1      2.6280         NaN        450.0         30.0  \n",
       "9593      1      3.0600         NaN        450.0         30.0  \n",
       "9594      1      2.4900         NaN        455.0         10.0  \n",
       "9595      1      5.1900         NaN        455.0         10.0  \n",
       "9596      1      3.6800         NaN        700.0          0.0  \n",
       "9597      1      4.2500         NaN        700.0          0.0  \n",
       "9598      1      4.0700         NaN        700.0          0.0  \n",
       "9599      1      4.5727         NaN        700.0          0.0  \n",
       "9600      1      1.6099         NaN        700.0          0.0  "
      ]
     },
     "execution_count": 86,
     "metadata": {},
     "output_type": "execute_result"
    }
   ],
   "source": [
    "df.tail(10)"
   ]
  },
  {
   "cell_type": "code",
   "execution_count": 4,
   "id": "a19bcfdc",
   "metadata": {},
   "outputs": [],
   "source": [
    "df = df.astype({\"CAMPAÑA\": str, \"ID_FINCA\": str, \"ID_ZONA\": str, \"ID_ESTACION\": str, \"VARIEDAD\": str, \"MODO\": str, \"TIPO\": str, \"COLOR\": str})"
   ]
  },
  {
   "cell_type": "code",
   "execution_count": 84,
   "id": "dccfbeb5",
   "metadata": {},
   "outputs": [],
   "source": [
    "def fun(x, mode): \n",
    "    altitud = str(x).split('-')\n",
    "    if altitud[0] == \"nan\":\n",
    "        return np.nan\n",
    "    if mode == \"min\":\n",
    "        return int(altitud[0])\n",
    "    if mode == \"diff\":\n",
    "        if len(altitud) == 1:\n",
    "            return 0\n",
    "        else:\n",
    "            return int(altitud[1])-int(altitud[0])\n",
    "\n",
    "df[\"ALTITUD_MIN\"] = df[\"ALTITUD\"].apply(fun, args=(\"min\",))\n",
    "df[\"ALTITUD_DIF\"] = df[\"ALTITUD\"].apply(fun, args=(\"diff\",))"
   ]
  },
  {
   "cell_type": "code",
   "execution_count": 61,
   "id": "3fce8d36",
   "metadata": {},
   "outputs": [
    {
     "name": "stdout",
     "output_type": "stream",
     "text": [
      "<class 'pandas.core.frame.DataFrame'>\n",
      "RangeIndex: 9601 entries, 0 to 9600\n",
      "Data columns (total 11 columns):\n",
      " #   Column       Non-Null Count  Dtype  \n",
      "---  ------       --------------  -----  \n",
      " 0   CAMPAÑA      9601 non-null   object \n",
      " 1   ID_FINCA     9601 non-null   object \n",
      " 2   ID_ZONA      9601 non-null   object \n",
      " 3   ID_ESTACION  9601 non-null   object \n",
      " 4   ALTITUD      9547 non-null   object \n",
      " 5   VARIEDAD     9601 non-null   object \n",
      " 6   MODO         9601 non-null   object \n",
      " 7   TIPO         9601 non-null   object \n",
      " 8   COLOR        9601 non-null   object \n",
      " 9   SUPERFICIE   9601 non-null   float64\n",
      " 10  PRODUCCION   8526 non-null   float64\n",
      "dtypes: float64(2), object(9)\n",
      "memory usage: 825.2+ KB\n"
     ]
    }
   ],
   "source": [
    "df.info()"
   ]
  },
  {
   "cell_type": "code",
   "execution_count": 6,
   "id": "5ed05f42",
   "metadata": {},
   "outputs": [
    {
     "data": {
      "text/plain": [
       "CAMPAÑA         object\n",
       "ID_FINCA        object\n",
       "ID_ZONA         object\n",
       "ID_ESTACION     object\n",
       "ALTITUD         object\n",
       "VARIEDAD        object\n",
       "MODO            object\n",
       "TIPO            object\n",
       "COLOR           object\n",
       "SUPERFICIE     float64\n",
       "PRODUCCION     float64\n",
       "dtype: object"
      ]
     },
     "execution_count": 6,
     "metadata": {},
     "output_type": "execute_result"
    }
   ],
   "source": [
    "df.dtypes"
   ]
  },
  {
   "cell_type": "code",
   "execution_count": 23,
   "id": "1031c331",
   "metadata": {},
   "outputs": [
    {
     "data": {
      "text/plain": [
       "CAMPAÑA  ID_FINCA  ID_ZONA  VARIEDAD  MODO  TIPO\n",
       "14       10091     803      87        1     0       1\n",
       "19       93538     373      59        1     0       1\n",
       "         93922     50       87        2     0       1\n",
       "         93970     751      59        2     0       1\n",
       "         94033     44       52        2     0       1\n",
       "                                                   ..\n",
       "16       87434     417      15        2     0       1\n",
       "         87539     449      59        2     0       1\n",
       "         87552     468      52        2     0       1\n",
       "         87611     602      81        1     0       1\n",
       "22       99793     919      87        2     0       1\n",
       "Length: 9601, dtype: int64"
      ]
     },
     "execution_count": 23,
     "metadata": {},
     "output_type": "execute_result"
    }
   ],
   "source": [
    "# categorías que identifican unívocamente a una muestra\n",
    "df.loc[:,[\"CAMPAÑA\", \"ID_FINCA\", \"ID_ZONA\", \"VARIEDAD\", \"MODO\", \"TIPO\"]].value_counts()"
   ]
  },
  {
   "cell_type": "code",
   "execution_count": 110,
   "id": "1f281e2d",
   "metadata": {},
   "outputs": [],
   "source": [
    "from pandas_profiling import ProfileReport\n",
    "profile = ProfileReport(df2)"
   ]
  },
  {
   "cell_type": "code",
   "execution_count": null,
   "id": "c7323383",
   "metadata": {},
   "outputs": [],
   "source": [
    "profile"
   ]
  },
  {
   "cell_type": "code",
   "execution_count": 91,
   "id": "c97a2628",
   "metadata": {},
   "outputs": [
    {
     "data": {
      "text/html": [
       "<div>\n",
       "<style scoped>\n",
       "    .dataframe tbody tr th:only-of-type {\n",
       "        vertical-align: middle;\n",
       "    }\n",
       "\n",
       "    .dataframe tbody tr th {\n",
       "        vertical-align: top;\n",
       "    }\n",
       "\n",
       "    .dataframe thead th {\n",
       "        text-align: right;\n",
       "    }\n",
       "</style>\n",
       "<table border=\"1\" class=\"dataframe\">\n",
       "  <thead>\n",
       "    <tr style=\"text-align: right;\">\n",
       "      <th></th>\n",
       "      <th>CAMPAÑA</th>\n",
       "    </tr>\n",
       "  </thead>\n",
       "  <tbody>\n",
       "    <tr>\n",
       "      <th>0</th>\n",
       "      <td>14</td>\n",
       "    </tr>\n",
       "    <tr>\n",
       "      <th>1</th>\n",
       "      <td>14</td>\n",
       "    </tr>\n",
       "    <tr>\n",
       "      <th>2</th>\n",
       "      <td>14</td>\n",
       "    </tr>\n",
       "    <tr>\n",
       "      <th>3</th>\n",
       "      <td>14</td>\n",
       "    </tr>\n",
       "    <tr>\n",
       "      <th>4</th>\n",
       "      <td>14</td>\n",
       "    </tr>\n",
       "    <tr>\n",
       "      <th>...</th>\n",
       "      <td>...</td>\n",
       "    </tr>\n",
       "    <tr>\n",
       "      <th>9596</th>\n",
       "      <td>22</td>\n",
       "    </tr>\n",
       "    <tr>\n",
       "      <th>9597</th>\n",
       "      <td>22</td>\n",
       "    </tr>\n",
       "    <tr>\n",
       "      <th>9598</th>\n",
       "      <td>22</td>\n",
       "    </tr>\n",
       "    <tr>\n",
       "      <th>9599</th>\n",
       "      <td>22</td>\n",
       "    </tr>\n",
       "    <tr>\n",
       "      <th>9600</th>\n",
       "      <td>22</td>\n",
       "    </tr>\n",
       "  </tbody>\n",
       "</table>\n",
       "<p>9601 rows × 1 columns</p>\n",
       "</div>"
      ],
      "text/plain": [
       "      CAMPAÑA\n",
       "0          14\n",
       "1          14\n",
       "2          14\n",
       "3          14\n",
       "4          14\n",
       "...       ...\n",
       "9596       22\n",
       "9597       22\n",
       "9598       22\n",
       "9599       22\n",
       "9600       22\n",
       "\n",
       "[9601 rows x 1 columns]"
      ]
     },
     "execution_count": 91,
     "metadata": {},
     "output_type": "execute_result"
    }
   ],
   "source": [
    "df.loc[-48:,[\"CAMPAÑA\"]]"
   ]
  },
  {
   "cell_type": "markdown",
   "id": "a6680d1d",
   "metadata": {},
   "source": [
    "#### CAMPAÑA"
   ]
  },
  {
   "cell_type": "code",
   "execution_count": 30,
   "id": "93a27302",
   "metadata": {},
   "outputs": [
    {
     "data": {
      "image/png": "[encoded data removed]",
      "text/plain": [
       "<Figure size 640x480 with 1 Axes>"
      ]
     },
     "metadata": {},
     "output_type": "display_data"
    }
   ],
   "source": [
    "df['CAMPAÑA'].value_counts().reindex([str(i) for i in range(14, 23)]).plot(kind='bar')\n",
    "# Cada año el número de fincas y/o zonas va disminuyendo\n",
    "df[\"CAMPAÑA\"] = df[\"CAMPAÑA\"].astype(str)"
   ]
  },
  {
   "cell_type": "markdown",
   "id": "e9683845",
   "metadata": {},
   "source": [
    "#### ID_FINCA"
   ]
  },
  {
   "cell_type": "code",
   "execution_count": 24,
   "id": "93627de6",
   "metadata": {},
   "outputs": [],
   "source": [
    "a = pd.DataFrame(df.loc[:,[\"CAMPAÑA\", \"ID_FINCA\"]].value_counts())"
   ]
  },
  {
   "cell_type": "code",
   "execution_count": 25,
   "id": "b562ba1a",
   "metadata": {},
   "outputs": [],
   "source": [
    "tb = pd.pivot_table(a, index=\"ID_FINCA\", columns=\"CAMPAÑA\", values=0)\n",
    "d = {}\n",
    "for t in tb.columns:\n",
    "    d[t] = tb[t].value_counts().to_dict()"
   ]
  },
  {
   "cell_type": "code",
   "execution_count": 26,
   "id": "e06f644a",
   "metadata": {},
   "outputs": [
    {
     "data": {
      "text/html": [
       "<div>\n",
       "<style scoped>\n",
       "    .dataframe tbody tr th:only-of-type {\n",
       "        vertical-align: middle;\n",
       "    }\n",
       "\n",
       "    .dataframe tbody tr th {\n",
       "        vertical-align: top;\n",
       "    }\n",
       "\n",
       "    .dataframe thead th {\n",
       "        text-align: right;\n",
       "    }\n",
       "</style>\n",
       "<table border=\"1\" class=\"dataframe\">\n",
       "  <thead>\n",
       "    <tr style=\"text-align: right;\">\n",
       "      <th></th>\n",
       "      <th>14</th>\n",
       "      <th>15</th>\n",
       "      <th>16</th>\n",
       "      <th>17</th>\n",
       "      <th>18</th>\n",
       "      <th>19</th>\n",
       "      <th>20</th>\n",
       "      <th>21</th>\n",
       "      <th>22</th>\n",
       "    </tr>\n",
       "  </thead>\n",
       "  <tbody>\n",
       "    <tr>\n",
       "      <th>1.0</th>\n",
       "      <td>755.0</td>\n",
       "      <td>721.0</td>\n",
       "      <td>701.0</td>\n",
       "      <td>656.0</td>\n",
       "      <td>655</td>\n",
       "      <td>633.0</td>\n",
       "      <td>628.0</td>\n",
       "      <td>646.0</td>\n",
       "      <td>670.0</td>\n",
       "    </tr>\n",
       "    <tr>\n",
       "      <th>2.0</th>\n",
       "      <td>113.0</td>\n",
       "      <td>105.0</td>\n",
       "      <td>106.0</td>\n",
       "      <td>107.0</td>\n",
       "      <td>105</td>\n",
       "      <td>127.0</td>\n",
       "      <td>102.0</td>\n",
       "      <td>105.0</td>\n",
       "      <td>98.0</td>\n",
       "    </tr>\n",
       "    <tr>\n",
       "      <th>3.0</th>\n",
       "      <td>26.0</td>\n",
       "      <td>44.0</td>\n",
       "      <td>36.0</td>\n",
       "      <td>33.0</td>\n",
       "      <td>37</td>\n",
       "      <td>33.0</td>\n",
       "      <td>32.0</td>\n",
       "      <td>30.0</td>\n",
       "      <td>33.0</td>\n",
       "    </tr>\n",
       "    <tr>\n",
       "      <th>4.0</th>\n",
       "      <td>12.0</td>\n",
       "      <td>5.0</td>\n",
       "      <td>7.0</td>\n",
       "      <td>4.0</td>\n",
       "      <td>11</td>\n",
       "      <td>12.0</td>\n",
       "      <td>13.0</td>\n",
       "      <td>14.0</td>\n",
       "      <td>14.0</td>\n",
       "    </tr>\n",
       "    <tr>\n",
       "      <th>6.0</th>\n",
       "      <td>4.0</td>\n",
       "      <td>1.0</td>\n",
       "      <td>1.0</td>\n",
       "      <td>1.0</td>\n",
       "      <td>1</td>\n",
       "      <td>1.0</td>\n",
       "      <td>1.0</td>\n",
       "      <td>2.0</td>\n",
       "      <td>2.0</td>\n",
       "    </tr>\n",
       "    <tr>\n",
       "      <th>7.0</th>\n",
       "      <td>1.0</td>\n",
       "      <td>2.0</td>\n",
       "      <td>2.0</td>\n",
       "      <td>3.0</td>\n",
       "      <td>1</td>\n",
       "      <td>0.0</td>\n",
       "      <td>0.0</td>\n",
       "      <td>0.0</td>\n",
       "      <td>1.0</td>\n",
       "    </tr>\n",
       "    <tr>\n",
       "      <th>10.0</th>\n",
       "      <td>1.0</td>\n",
       "      <td>0.0</td>\n",
       "      <td>1.0</td>\n",
       "      <td>0.0</td>\n",
       "      <td>1</td>\n",
       "      <td>0.0</td>\n",
       "      <td>0.0</td>\n",
       "      <td>0.0</td>\n",
       "      <td>0.0</td>\n",
       "    </tr>\n",
       "    <tr>\n",
       "      <th>5.0</th>\n",
       "      <td>0.0</td>\n",
       "      <td>1.0</td>\n",
       "      <td>0.0</td>\n",
       "      <td>1.0</td>\n",
       "      <td>2</td>\n",
       "      <td>3.0</td>\n",
       "      <td>4.0</td>\n",
       "      <td>6.0</td>\n",
       "      <td>7.0</td>\n",
       "    </tr>\n",
       "    <tr>\n",
       "      <th>8.0</th>\n",
       "      <td>0.0</td>\n",
       "      <td>1.0</td>\n",
       "      <td>0.0</td>\n",
       "      <td>0.0</td>\n",
       "      <td>1</td>\n",
       "      <td>0.0</td>\n",
       "      <td>0.0</td>\n",
       "      <td>0.0</td>\n",
       "      <td>0.0</td>\n",
       "    </tr>\n",
       "  </tbody>\n",
       "</table>\n",
       "</div>"
      ],
      "text/plain": [
       "         14     15     16     17   18     19     20     21     22\n",
       "1.0   755.0  721.0  701.0  656.0  655  633.0  628.0  646.0  670.0\n",
       "2.0   113.0  105.0  106.0  107.0  105  127.0  102.0  105.0   98.0\n",
       "3.0    26.0   44.0   36.0   33.0   37   33.0   32.0   30.0   33.0\n",
       "4.0    12.0    5.0    7.0    4.0   11   12.0   13.0   14.0   14.0\n",
       "6.0     4.0    1.0    1.0    1.0    1    1.0    1.0    2.0    2.0\n",
       "7.0     1.0    2.0    2.0    3.0    1    0.0    0.0    0.0    1.0\n",
       "10.0    1.0    0.0    1.0    0.0    1    0.0    0.0    0.0    0.0\n",
       "5.0     0.0    1.0    0.0    1.0    2    3.0    4.0    6.0    7.0\n",
       "8.0     0.0    1.0    0.0    0.0    1    0.0    0.0    0.0    0.0"
      ]
     },
     "execution_count": 26,
     "metadata": {},
     "output_type": "execute_result"
    }
   ],
   "source": [
    "d = pd.DataFrame(d)\n",
    "d.fillna(0)"
   ]
  },
  {
   "cell_type": "markdown",
   "id": "940c8b11",
   "metadata": {},
   "source": [
    "#### ID_ZONA"
   ]
  },
  {
   "cell_type": "code",
   "execution_count": 105,
   "id": "52a19469",
   "metadata": {},
   "outputs": [],
   "source": [
    "a = pd.DataFrame(df.loc[:,[\"CAMPAÑA\", \"ID_ZONA\"]].value_counts())"
   ]
  },
  {
   "cell_type": "code",
   "execution_count": 106,
   "id": "b70f6fec",
   "metadata": {},
   "outputs": [],
   "source": [
    "tb = pd.pivot_table(a, index=\"ID_ZONA\", columns=\"CAMPAÑA\", values=0)\n",
    "d = {}\n",
    "for t in tb.columns:\n",
    "    d[t] = tb[t].value_counts().to_dict()"
   ]
  },
  {
   "cell_type": "code",
   "execution_count": 109,
   "id": "1669400c",
   "metadata": {},
   "outputs": [
    {
     "data": {
      "text/html": [
       "<div>\n",
       "<style scoped>\n",
       "    .dataframe tbody tr th:only-of-type {\n",
       "        vertical-align: middle;\n",
       "    }\n",
       "\n",
       "    .dataframe tbody tr th {\n",
       "        vertical-align: top;\n",
       "    }\n",
       "\n",
       "    .dataframe thead th {\n",
       "        text-align: right;\n",
       "    }\n",
       "</style>\n",
       "<table border=\"1\" class=\"dataframe\">\n",
       "  <thead>\n",
       "    <tr style=\"text-align: right;\">\n",
       "      <th></th>\n",
       "      <th>14</th>\n",
       "      <th>15</th>\n",
       "      <th>16</th>\n",
       "      <th>17</th>\n",
       "      <th>18</th>\n",
       "      <th>19</th>\n",
       "      <th>20</th>\n",
       "      <th>21</th>\n",
       "      <th>22</th>\n",
       "    </tr>\n",
       "  </thead>\n",
       "  <tbody>\n",
       "    <tr>\n",
       "      <th>1.0</th>\n",
       "      <td>19.0</td>\n",
       "      <td>17.0</td>\n",
       "      <td>14.0</td>\n",
       "      <td>11.0</td>\n",
       "      <td>14.0</td>\n",
       "      <td>16.0</td>\n",
       "      <td>19.0</td>\n",
       "      <td>12.0</td>\n",
       "      <td>9.0</td>\n",
       "    </tr>\n",
       "    <tr>\n",
       "      <th>2.0</th>\n",
       "      <td>11.0</td>\n",
       "      <td>13.0</td>\n",
       "      <td>12.0</td>\n",
       "      <td>14.0</td>\n",
       "      <td>11.0</td>\n",
       "      <td>6.0</td>\n",
       "      <td>9.0</td>\n",
       "      <td>14.0</td>\n",
       "      <td>13.0</td>\n",
       "    </tr>\n",
       "    <tr>\n",
       "      <th>4.0</th>\n",
       "      <td>8.0</td>\n",
       "      <td>6.0</td>\n",
       "      <td>6.0</td>\n",
       "      <td>6.0</td>\n",
       "      <td>8.0</td>\n",
       "      <td>7.0</td>\n",
       "      <td>5.0</td>\n",
       "      <td>2.0</td>\n",
       "      <td>4.0</td>\n",
       "    </tr>\n",
       "    <tr>\n",
       "      <th>5.0</th>\n",
       "      <td>8.0</td>\n",
       "      <td>6.0</td>\n",
       "      <td>3.0</td>\n",
       "      <td>9.0</td>\n",
       "      <td>8.0</td>\n",
       "      <td>5.0</td>\n",
       "      <td>10.0</td>\n",
       "      <td>9.0</td>\n",
       "      <td>6.0</td>\n",
       "    </tr>\n",
       "    <tr>\n",
       "      <th>12.0</th>\n",
       "      <td>6.0</td>\n",
       "      <td>2.0</td>\n",
       "      <td>1.0</td>\n",
       "      <td>0.0</td>\n",
       "      <td>2.0</td>\n",
       "      <td>1.0</td>\n",
       "      <td>1.0</td>\n",
       "      <td>2.0</td>\n",
       "      <td>2.0</td>\n",
       "    </tr>\n",
       "    <tr>\n",
       "      <th>...</th>\n",
       "      <td>...</td>\n",
       "      <td>...</td>\n",
       "      <td>...</td>\n",
       "      <td>...</td>\n",
       "      <td>...</td>\n",
       "      <td>...</td>\n",
       "      <td>...</td>\n",
       "      <td>...</td>\n",
       "      <td>...</td>\n",
       "    </tr>\n",
       "    <tr>\n",
       "      <th>39.0</th>\n",
       "      <td>0.0</td>\n",
       "      <td>0.0</td>\n",
       "      <td>0.0</td>\n",
       "      <td>0.0</td>\n",
       "      <td>0.0</td>\n",
       "      <td>0.0</td>\n",
       "      <td>0.0</td>\n",
       "      <td>1.0</td>\n",
       "      <td>0.0</td>\n",
       "    </tr>\n",
       "    <tr>\n",
       "      <th>59.0</th>\n",
       "      <td>0.0</td>\n",
       "      <td>0.0</td>\n",
       "      <td>0.0</td>\n",
       "      <td>0.0</td>\n",
       "      <td>0.0</td>\n",
       "      <td>0.0</td>\n",
       "      <td>0.0</td>\n",
       "      <td>1.0</td>\n",
       "      <td>0.0</td>\n",
       "    </tr>\n",
       "    <tr>\n",
       "      <th>50.0</th>\n",
       "      <td>0.0</td>\n",
       "      <td>0.0</td>\n",
       "      <td>0.0</td>\n",
       "      <td>0.0</td>\n",
       "      <td>0.0</td>\n",
       "      <td>0.0</td>\n",
       "      <td>0.0</td>\n",
       "      <td>1.0</td>\n",
       "      <td>1.0</td>\n",
       "    </tr>\n",
       "    <tr>\n",
       "      <th>58.0</th>\n",
       "      <td>0.0</td>\n",
       "      <td>0.0</td>\n",
       "      <td>0.0</td>\n",
       "      <td>0.0</td>\n",
       "      <td>0.0</td>\n",
       "      <td>0.0</td>\n",
       "      <td>0.0</td>\n",
       "      <td>0.0</td>\n",
       "      <td>1.0</td>\n",
       "    </tr>\n",
       "    <tr>\n",
       "      <th>64.0</th>\n",
       "      <td>0.0</td>\n",
       "      <td>0.0</td>\n",
       "      <td>0.0</td>\n",
       "      <td>0.0</td>\n",
       "      <td>0.0</td>\n",
       "      <td>0.0</td>\n",
       "      <td>0.0</td>\n",
       "      <td>0.0</td>\n",
       "      <td>1.0</td>\n",
       "    </tr>\n",
       "  </tbody>\n",
       "</table>\n",
       "<p>61 rows × 9 columns</p>\n",
       "</div>"
      ],
      "text/plain": [
       "        14    15    16    17    18    19    20    21    22\n",
       "1.0   19.0  17.0  14.0  11.0  14.0  16.0  19.0  12.0   9.0\n",
       "2.0   11.0  13.0  12.0  14.0  11.0   6.0   9.0  14.0  13.0\n",
       "4.0    8.0   6.0   6.0   6.0   8.0   7.0   5.0   2.0   4.0\n",
       "5.0    8.0   6.0   3.0   9.0   8.0   5.0  10.0   9.0   6.0\n",
       "12.0   6.0   2.0   1.0   0.0   2.0   1.0   1.0   2.0   2.0\n",
       "...    ...   ...   ...   ...   ...   ...   ...   ...   ...\n",
       "39.0   0.0   0.0   0.0   0.0   0.0   0.0   0.0   1.0   0.0\n",
       "59.0   0.0   0.0   0.0   0.0   0.0   0.0   0.0   1.0   0.0\n",
       "50.0   0.0   0.0   0.0   0.0   0.0   0.0   0.0   1.0   1.0\n",
       "58.0   0.0   0.0   0.0   0.0   0.0   0.0   0.0   0.0   1.0\n",
       "64.0   0.0   0.0   0.0   0.0   0.0   0.0   0.0   0.0   1.0\n",
       "\n",
       "[61 rows x 9 columns]"
      ]
     },
     "execution_count": 109,
     "metadata": {},
     "output_type": "execute_result"
    }
   ],
   "source": [
    "d = pd.DataFrame(d)\n",
    "d.fillna(0)"
   ]
  },
  {
   "cell_type": "markdown",
   "id": "acd0fbe7",
   "metadata": {},
   "source": [
    "#### ID ESTACION"
   ]
  },
  {
   "cell_type": "code",
   "execution_count": 45,
   "id": "c3f2946f",
   "metadata": {},
   "outputs": [
    {
     "data": {
      "image/png": "[encoded data removed]",
      "text/plain": [
       "<Figure size 640x480 with 1 Axes>"
      ]
     },
     "metadata": {},
     "output_type": "display_data"
    }
   ],
   "source": [
    "df['ID_ESTACION'].value_counts().reindex([str(i) for i in range(0, 19)]).plot(kind='bar')\n",
    "# Cada año el número de fincas y/o zonas va disminuyendo\n",
    "df[\"ID_ESTACION\"] = df[\"ID_ESTACION\"].astype(str)"
   ]
  },
  {
   "cell_type": "markdown",
   "id": "98b6d2d7",
   "metadata": {},
   "source": [
    "#### ALTITUD"
   ]
  },
  {
   "cell_type": "code",
   "execution_count": 87,
   "id": "3b0475a4",
   "metadata": {},
   "outputs": [
    {
     "data": {
      "text/plain": [
       "<AxesSubplot: >"
      ]
     },
     "execution_count": 87,
     "metadata": {},
     "output_type": "execute_result"
    },
    {
     "data": {
      "image/png": "[encoded data removed]",
      "text/plain": [
       "<Figure size 640x480 with 1 Axes>"
      ]
     },
     "metadata": {},
     "output_type": "display_data"
    }
   ],
   "source": [
    "df[\"ALTITUD_MIN\"].hist()"
   ]
  },
  {
   "cell_type": "code",
   "execution_count": 88,
   "id": "f552a2e7",
   "metadata": {},
   "outputs": [
    {
     "data": {
      "text/plain": [
       "<AxesSubplot: >"
      ]
     },
     "execution_count": 88,
     "metadata": {},
     "output_type": "execute_result"
    },
    {
     "data": {
      "image/png": "[encoded data removed]",
      "text/plain": [
       "<Figure size 640x480 with 1 Axes>"
      ]
     },
     "metadata": {},
     "output_type": "display_data"
    }
   ],
   "source": [
    "df[\"ALTITUD_DIF\"].hist()"
   ]
  },
  {
   "cell_type": "markdown",
   "id": "aff1e2f5",
   "metadata": {},
   "source": [
    "#### VARIEDAD"
   ]
  },
  {
   "cell_type": "code",
   "execution_count": 51,
   "id": "c24688f0",
   "metadata": {},
   "outputs": [
    {
     "data": {
      "text/plain": [
       "<AxesSubplot: >"
      ]
     },
     "execution_count": 51,
     "metadata": {},
     "output_type": "execute_result"
    },
    {
     "data": {
      "image/png": "[encoded data removed]",
      "text/plain": [
       "<Figure size 640x480 with 1 Axes>"
      ]
     },
     "metadata": {},
     "output_type": "display_data"
    }
   ],
   "source": [
    "df[\"VARIEDAD\"].value_counts().plot(kind='bar')"
   ]
  },
  {
   "cell_type": "markdown",
   "id": "463c3ff1",
   "metadata": {},
   "source": [
    "#### MODO"
   ]
  },
  {
   "cell_type": "code",
   "execution_count": 52,
   "id": "abb22502",
   "metadata": {},
   "outputs": [
    {
     "data": {
      "text/plain": [
       "<AxesSubplot: >"
      ]
     },
     "execution_count": 52,
     "metadata": {},
     "output_type": "execute_result"
    },
    {
     "data": {
      "image/png": "[encoded data removed]",
      "text/plain": [
       "<Figure size 640x480 with 1 Axes>"
      ]
     },
     "metadata": {},
     "output_type": "display_data"
    }
   ],
   "source": [
    "df[\"MODO\"].value_counts().plot(kind='bar')"
   ]
  },
  {
   "cell_type": "markdown",
   "id": "6e3c80d0",
   "metadata": {},
   "source": [
    "#### TIPO"
   ]
  },
  {
   "cell_type": "code",
   "execution_count": 53,
   "id": "c4f6afa7",
   "metadata": {},
   "outputs": [
    {
     "data": {
      "text/plain": [
       "<AxesSubplot: >"
      ]
     },
     "execution_count": 53,
     "metadata": {},
     "output_type": "execute_result"
    },
    {
     "data": {
      "image/png": "[encoded data removed]",
      "text/plain": [
       "<Figure size 640x480 with 1 Axes>"
      ]
     },
     "metadata": {},
     "output_type": "display_data"
    }
   ],
   "source": [
    "df[\"TIPO\"].value_counts().plot(kind='bar')"
   ]
  },
  {
   "cell_type": "markdown",
   "id": "b6a20072",
   "metadata": {},
   "source": [
    "#### COLOR"
   ]
  },
  {
   "cell_type": "code",
   "execution_count": 54,
   "id": "63c5be79",
   "metadata": {},
   "outputs": [
    {
     "data": {
      "text/plain": [
       "<AxesSubplot: >"
      ]
     },
     "execution_count": 54,
     "metadata": {},
     "output_type": "execute_result"
    },
    {
     "data": {
      "image/png": "[encoded data removed]",
      "text/plain": [
       "<Figure size 640x480 with 1 Axes>"
      ]
     },
     "metadata": {},
     "output_type": "display_data"
    }
   ],
   "source": [
    "df[\"COLOR\"].value_counts().plot(kind='bar')"
   ]
  },
  {
   "cell_type": "markdown",
   "id": "09d8502c",
   "metadata": {},
   "source": [
    "#### SUPERFICIE"
   ]
  },
  {
   "cell_type": "code",
   "execution_count": 55,
   "id": "ff629b5c",
   "metadata": {},
   "outputs": [
    {
     "data": {
      "text/plain": [
       "<AxesSubplot: >"
      ]
     },
     "execution_count": 55,
     "metadata": {},
     "output_type": "execute_result"
    },
    {
     "data": {
      "image/png": "[encoded data removed]",
      "text/plain": [
       "<Figure size 640x480 with 1 Axes>"
      ]
     },
     "metadata": {},
     "output_type": "display_data"
    }
   ],
   "source": [
    "df[\"SUPERFICIE\"].hist()"
   ]
  },
  {
   "cell_type": "markdown",
   "id": "43883c59",
   "metadata": {},
   "source": [
    "#### PRODUCCION"
   ]
  },
  {
   "cell_type": "code",
   "execution_count": 56,
   "id": "d3746af0",
   "metadata": {},
   "outputs": [
    {
     "data": {
      "text/plain": [
       "<AxesSubplot: >"
      ]
     },
     "execution_count": 56,
     "metadata": {},
     "output_type": "execute_result"
    },
    {
     "data": {
      "image/png": "[encoded data removed]",
      "text/plain": [
       "<Figure size 640x480 with 1 Axes>"
      ]
     },
     "metadata": {},
     "output_type": "display_data"
    }
   ],
   "source": [
    "df[\"PRODUCCION\"].hist()"
   ]
  }
 ],
 "metadata": {
  "kernelspec": {
   "display_name": "Python 3 (ipykernel)",
   "language": "python",
   "name": "python3"
  },
  "language_info": {
   "codemirror_mode": {
    "name": "ipython",
    "version": 3
   },
   "file_extension": ".py",
   "mimetype": "text/x-python",
   "name": "python",
   "nbconvert_exporter": "python",
   "pygments_lexer": "ipython3",
   "version": "3.8.12"
  }
 },
 "nbformat": 4,
 "nbformat_minor": 5
}
