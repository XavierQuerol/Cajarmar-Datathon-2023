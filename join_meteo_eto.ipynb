{
 "cells": [
  {
   "cell_type": "code",
   "execution_count": 42,
   "id": "37f66445",
   "metadata": {},
   "outputs": [],
   "source": [
    "import pandas as pd\n",
    "import matplotlib.pyplot as plt\n",
    "import numpy as np\n",
    "import seaborn as sns"
   ]
  },
  {
   "cell_type": "code",
   "execution_count": 43,
   "id": "275ffd19",
   "metadata": {},
   "outputs": [],
   "source": [
    "df_meteo = pd.read_csv(\"./ds_tractats/df_meteo_tractat.csv\", index_col = False)\n",
    "df_eto = pd.read_csv(\"./ds_tractats/df_eto_tractat.csv\", index_col = False)"
   ]
  },
  {
   "cell_type": "code",
   "execution_count": 58,
   "id": "dafc98b5",
   "metadata": {},
   "outputs": [],
   "source": [
    "df_meteo_eto = pd.merge(df_meteo, df_eto, left_on=[\"validTimeUtc\", \"ID_ESTACION\"], right_on=[\"date\", \"ID_ESTACION\"], how = \"left\")"
   ]
  },
  {
   "cell_type": "code",
   "execution_count": 61,
   "id": "8004fb0c",
   "metadata": {},
   "outputs": [],
   "source": [
    "df_meteo_eto = df_meteo_eto.drop([\"date\"], axis=1)"
   ]
  },
  {
   "cell_type": "code",
   "execution_count": 64,
   "id": "390d7095",
   "metadata": {},
   "outputs": [],
   "source": [
    "df_meteo_eto.to_csv(\"./ds_tractats/df_meteo_eto.csv\", index = False)"
   ]
  }
 ],
 "metadata": {
  "kernelspec": {
   "display_name": "Python 3 (ipykernel)",
   "language": "python",
   "name": "python3"
  },
  "language_info": {
   "codemirror_mode": {
    "name": "ipython",
    "version": 3
   },
   "file_extension": ".py",
   "mimetype": "text/x-python",
   "name": "python",
   "nbconvert_exporter": "python",
   "pygments_lexer": "ipython3",
   "version": "3.9.12"
  }
 },
 "nbformat": 4,
 "nbformat_minor": 5
}
