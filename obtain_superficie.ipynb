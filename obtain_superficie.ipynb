{
 "cells": [
  {
   "cell_type": "code",
   "execution_count": 15,
   "id": "c0e77166",
   "metadata": {},
   "outputs": [],
   "source": [
    "import pandas as pd\n",
    "import numpy as np\n",
    "from sklearn.model_selection import train_test_split"
   ]
  },
  {
   "cell_type": "code",
   "execution_count": 16,
   "id": "384a39f8",
   "metadata": {},
   "outputs": [],
   "source": [
    "df = pd.read_csv(\"./UH_2023/UH_2023_TRAIN.txt\", sep = \"|\")\n",
    "df = df.astype({\"CAMPAÑA\": str, \"ID_FINCA\": str, \"ID_ZONA\": str, \"ID_ESTACION\": str, \"VARIEDAD\": str, \"MODO\": str, \"TIPO\": str, \"COLOR\": str, \"SUPERFICIE\": str})"
   ]
  },
  {
   "cell_type": "code",
   "execution_count": 17,
   "id": "3e479eb2",
   "metadata": {},
   "outputs": [],
   "source": [
    "import category_encoders as ce\n",
    "from sklearn.preprocessing import LabelEncoder\n",
    "encoder = ce.OrdinalEncoder(cols=[\"ID_FINCA\", \"ID_ZONA\", \"ID_ESTACION\", \"VARIEDAD\", \"COLOR\", \"TIPO\", \"MODO\"])"
   ]
  },
  {
   "cell_type": "code",
   "execution_count": 18,
   "id": "79663558",
   "metadata": {},
   "outputs": [
    {
     "name": "stderr",
     "output_type": "stream",
     "text": [
      "C:\\Users\\adars\\AppData\\Local\\Temp\\ipykernel_11060\\3463993660.py:9: SettingWithCopyWarning: \n",
      "A value is trying to be set on a copy of a slice from a DataFrame.\n",
      "Try using .loc[row_indexer,col_indexer] = value instead\n",
      "\n",
      "See the caveats in the documentation: https://pandas.pydata.org/pandas-docs/stable/user_guide/indexing.html#returning-a-view-versus-a-copy\n",
      "  train[\"SUPERFICIE\"] = l_encoder.fit_transform(train[\"SUPERFICIE\"])\n"
     ]
    }
   ],
   "source": [
    "df_temporal = df.drop(axis = 1, columns = [\"CAMPAÑA\",\"PRODUCCION\", \"ALTITUD\"])\n",
    "\n",
    "df_encoded = encoder.fit_transform(df_temporal)\n",
    "\n",
    "train = df_encoded[(df[\"PRODUCCION\"] != 0) & (df_encoded[\"SUPERFICIE\"] != \"0.0\")]\n",
    "\n",
    "to_predict = df_encoded[~((df[\"PRODUCCION\"] != 0) & (df_encoded[\"SUPERFICIE\"] != 0))]\n",
    "l_encoder = LabelEncoder()\n",
    "train[\"SUPERFICIE\"] = l_encoder.fit_transform(train[\"SUPERFICIE\"])\n",
    "\n",
    "to_predict = to_predict.drop(axis = 1, columns = [\"SUPERFICIE\"])"
   ]
  },
  {
   "cell_type": "code",
   "execution_count": 19,
   "id": "acfcd0f7",
   "metadata": {},
   "outputs": [],
   "source": [
    "df_supcat = train.groupby(by='SUPERFICIE').count().reset_index()\n",
    "segur_train = df_supcat[df_supcat[\"TIPO\"] == 1][\"SUPERFICIE\"]\n",
    "train_nou = train[train['SUPERFICIE'].isin(list(segur_train))]"
   ]
  },
  {
   "cell_type": "code",
   "execution_count": 20,
   "id": "a40c422d",
   "metadata": {},
   "outputs": [],
   "source": [
    "train_a_splitejar = train.drop(index=train_nou.index)"
   ]
  },
  {
   "cell_type": "code",
   "execution_count": 21,
   "id": "603a6882",
   "metadata": {},
   "outputs": [],
   "source": [
    "X_train_a_splitejar = train_a_splitejar.drop(axis = 1, columns = [\"SUPERFICIE\"])\n",
    "y_train_a_splitejar = train_a_splitejar[\"SUPERFICIE\"]"
   ]
  },
  {
   "cell_type": "code",
   "execution_count": 22,
   "id": "8efa03f4",
   "metadata": {},
   "outputs": [],
   "source": [
    "X_train_nou = train_nou.drop(axis = 1, columns = [\"SUPERFICIE\"])\n",
    "y_train_nou = train_nou[\"SUPERFICIE\"]"
   ]
  },
  {
   "cell_type": "code",
   "execution_count": 50,
   "id": "1cdd1895",
   "metadata": {},
   "outputs": [],
   "source": [
    "X_train_splitted, X_test, y_train_splitted, y_test = train_test_split(X_train_a_splitejar, y_train_a_splitejar, test_size=0.35, random_state=3, stratify = train_a_splitejar[\"SUPERFICIE\"])"
   ]
  },
  {
   "cell_type": "code",
   "execution_count": 24,
   "id": "0124a6b0",
   "metadata": {},
   "outputs": [],
   "source": [
    "X_train = pd.concat([X_train_splitted, X_train_nou])\n",
    "y_train = pd.concat([y_train_splitted, y_train_nou])"
   ]
  },
  {
   "cell_type": "code",
   "execution_count": 25,
   "id": "f38d4ae9",
   "metadata": {},
   "outputs": [
    {
     "data": {
      "text/plain": [
       "True"
      ]
     },
     "execution_count": 25,
     "metadata": {},
     "output_type": "execute_result"
    }
   ],
   "source": [
    "len(X_test) + len(X_train) == len(train)"
   ]
  },
  {
   "cell_type": "code",
   "execution_count": 28,
   "id": "adb0d828",
   "metadata": {},
   "outputs": [
    {
     "data": {
      "text/html": [
       "<style>#sk-container-id-1 {color: black;background-color: white;}#sk-container-id-1 pre{padding: 0;}#sk-container-id-1 div.sk-toggleable {background-color: white;}#sk-container-id-1 label.sk-toggleable__label {cursor: pointer;display: block;width: 100%;margin-bottom: 0;padding: 0.3em;box-sizing: border-box;text-align: center;}#sk-container-id-1 label.sk-toggleable__label-arrow:before {content: \"▸\";float: left;margin-right: 0.25em;color: #696969;}#sk-container-id-1 label.sk-toggleable__label-arrow:hover:before {color: black;}#sk-container-id-1 div.sk-estimator:hover label.sk-toggleable__label-arrow:before {color: black;}#sk-container-id-1 div.sk-toggleable__content {max-height: 0;max-width: 0;overflow: hidden;text-align: left;background-color: #f0f8ff;}#sk-container-id-1 div.sk-toggleable__content pre {margin: 0.2em;color: black;border-radius: 0.25em;background-color: #f0f8ff;}#sk-container-id-1 input.sk-toggleable__control:checked~div.sk-toggleable__content {max-height: 200px;max-width: 100%;overflow: auto;}#sk-container-id-1 input.sk-toggleable__control:checked~label.sk-toggleable__label-arrow:before {content: \"▾\";}#sk-container-id-1 div.sk-estimator input.sk-toggleable__control:checked~label.sk-toggleable__label {background-color: #d4ebff;}#sk-container-id-1 div.sk-label input.sk-toggleable__control:checked~label.sk-toggleable__label {background-color: #d4ebff;}#sk-container-id-1 input.sk-hidden--visually {border: 0;clip: rect(1px 1px 1px 1px);clip: rect(1px, 1px, 1px, 1px);height: 1px;margin: -1px;overflow: hidden;padding: 0;position: absolute;width: 1px;}#sk-container-id-1 div.sk-estimator {font-family: monospace;background-color: #f0f8ff;border: 1px dotted black;border-radius: 0.25em;box-sizing: border-box;margin-bottom: 0.5em;}#sk-container-id-1 div.sk-estimator:hover {background-color: #d4ebff;}#sk-container-id-1 div.sk-parallel-item::after {content: \"\";width: 100%;border-bottom: 1px solid gray;flex-grow: 1;}#sk-container-id-1 div.sk-label:hover label.sk-toggleable__label {background-color: #d4ebff;}#sk-container-id-1 div.sk-serial::before {content: \"\";position: absolute;border-left: 1px solid gray;box-sizing: border-box;top: 0;bottom: 0;left: 50%;z-index: 0;}#sk-container-id-1 div.sk-serial {display: flex;flex-direction: column;align-items: center;background-color: white;padding-right: 0.2em;padding-left: 0.2em;position: relative;}#sk-container-id-1 div.sk-item {position: relative;z-index: 1;}#sk-container-id-1 div.sk-parallel {display: flex;align-items: stretch;justify-content: center;background-color: white;position: relative;}#sk-container-id-1 div.sk-item::before, #sk-container-id-1 div.sk-parallel-item::before {content: \"\";position: absolute;border-left: 1px solid gray;box-sizing: border-box;top: 0;bottom: 0;left: 50%;z-index: -1;}#sk-container-id-1 div.sk-parallel-item {display: flex;flex-direction: column;z-index: 1;position: relative;background-color: white;}#sk-container-id-1 div.sk-parallel-item:first-child::after {align-self: flex-end;width: 50%;}#sk-container-id-1 div.sk-parallel-item:last-child::after {align-self: flex-start;width: 50%;}#sk-container-id-1 div.sk-parallel-item:only-child::after {width: 0;}#sk-container-id-1 div.sk-dashed-wrapped {border: 1px dashed gray;margin: 0 0.4em 0.5em 0.4em;box-sizing: border-box;padding-bottom: 0.4em;background-color: white;}#sk-container-id-1 div.sk-label label {font-family: monospace;font-weight: bold;display: inline-block;line-height: 1.2em;}#sk-container-id-1 div.sk-label-container {text-align: center;}#sk-container-id-1 div.sk-container {/* jupyter's `normalize.less` sets `[hidden] { display: none; }` but bootstrap.min.css set `[hidden] { display: none !important; }` so we also need the `!important` here to be able to override the default hidden behavior on the sphinx rendered scikit-learn.org. See: https://github.com/scikit-learn/scikit-learn/issues/21755 */display: inline-block !important;position: relative;}#sk-container-id-1 div.sk-text-repr-fallback {display: none;}</style><div id=\"sk-container-id-1\" class=\"sk-top-container\"><div class=\"sk-text-repr-fallback\"><pre>XGBClassifier(base_score=None, booster=None, callbacks=None,\n",
       "              colsample_bylevel=None, colsample_bynode=None,\n",
       "              colsample_bytree=0.4, early_stopping_rounds=None,\n",
       "              enable_categorical=False, eval_metric=None, feature_types=None,\n",
       "              gamma=0.0, gpu_id=None, grow_policy=None, importance_type=None,\n",
       "              interaction_constraints=None, learning_rate=0.15, max_bin=None,\n",
       "              max_cat_threshold=None, max_cat_to_onehot=None,\n",
       "              max_delta_step=None, max_depth=100, max_leaves=None,\n",
       "              min_child_weight=1, missing=nan, monotone_constraints=None,\n",
       "              n_estimators=2000, n_jobs=None, num_parallel_tree=None,\n",
       "              objective=&#x27;multi:softprob&#x27;, predictor=None, ...)</pre><b>In a Jupyter environment, please rerun this cell to show the HTML representation or trust the notebook. <br />On GitHub, the HTML representation is unable to render, please try loading this page with nbviewer.org.</b></div><div class=\"sk-container\" hidden><div class=\"sk-item\"><div class=\"sk-estimator sk-toggleable\"><input class=\"sk-toggleable__control sk-hidden--visually\" id=\"sk-estimator-id-1\" type=\"checkbox\" checked><label for=\"sk-estimator-id-1\" class=\"sk-toggleable__label sk-toggleable__label-arrow\">XGBClassifier</label><div class=\"sk-toggleable__content\"><pre>XGBClassifier(base_score=None, booster=None, callbacks=None,\n",
       "              colsample_bylevel=None, colsample_bynode=None,\n",
       "              colsample_bytree=0.4, early_stopping_rounds=None,\n",
       "              enable_categorical=False, eval_metric=None, feature_types=None,\n",
       "              gamma=0.0, gpu_id=None, grow_policy=None, importance_type=None,\n",
       "              interaction_constraints=None, learning_rate=0.15, max_bin=None,\n",
       "              max_cat_threshold=None, max_cat_to_onehot=None,\n",
       "              max_delta_step=None, max_depth=100, max_leaves=None,\n",
       "              min_child_weight=1, missing=nan, monotone_constraints=None,\n",
       "              n_estimators=2000, n_jobs=None, num_parallel_tree=None,\n",
       "              objective=&#x27;multi:softprob&#x27;, predictor=None, ...)</pre></div></div></div></div></div>"
      ],
      "text/plain": [
       "XGBClassifier(base_score=None, booster=None, callbacks=None,\n",
       "              colsample_bylevel=None, colsample_bynode=None,\n",
       "              colsample_bytree=0.4, early_stopping_rounds=None,\n",
       "              enable_categorical=False, eval_metric=None, feature_types=None,\n",
       "              gamma=0.0, gpu_id=None, grow_policy=None, importance_type=None,\n",
       "              interaction_constraints=None, learning_rate=0.15, max_bin=None,\n",
       "              max_cat_threshold=None, max_cat_to_onehot=None,\n",
       "              max_delta_step=None, max_depth=100, max_leaves=None,\n",
       "              min_child_weight=1, missing=nan, monotone_constraints=None,\n",
       "              n_estimators=2000, n_jobs=None, num_parallel_tree=None,\n",
       "              objective='multi:softprob', predictor=None, ...)"
      ]
     },
     "execution_count": 28,
     "metadata": {},
     "output_type": "execute_result"
    }
   ],
   "source": [
    "import xgboost as xgb\n",
    "params_model = {'colsample_bytree': 0.4, 'gamma': 0.0, 'learning_rate': 0.15, 'max_depth': 100, 'min_child_weight': 1, 'n_estimators': 2000}\n",
    "model = xgb.XGBClassifier(**params_model)\n",
    "model.fit(X_train,y_train)"
   ]
  },
  {
   "cell_type": "code",
   "execution_count": 29,
   "id": "5920f216",
   "metadata": {},
   "outputs": [
    {
     "name": "stdout",
     "output_type": "stream",
     "text": [
      "0.7248182762201454\n",
      "0.7334905660377359\n"
     ]
    }
   ],
   "source": [
    "print(model.score(X_test, y_test))\n",
    "print(model.score(X_train, y_train))"
   ]
  },
  {
   "cell_type": "code",
   "execution_count": 30,
   "id": "86b2188b",
   "metadata": {},
   "outputs": [],
   "source": [
    "y_test_dec_gt = l_encoder.inverse_transform(y_test)\n",
    "y_predicted = l_encoder.inverse_transform(model.predict(X_test))"
   ]
  },
  {
   "cell_type": "code",
   "execution_count": 31,
   "id": "a9870538",
   "metadata": {},
   "outputs": [
    {
     "name": "stderr",
     "output_type": "stream",
     "text": [
      "C:\\Users\\adars\\AppData\\Local\\Temp\\ipykernel_11060\\2686677544.py:1: DeprecationWarning: `np.float` is a deprecated alias for the builtin `float`. To silence this warning, use `float` by itself. Doing this will not modify any behavior and is safe. If you specifically wanted the numpy scalar type, use `np.float64` here.\n",
      "Deprecated in NumPy 1.20; for more details and guidance: https://numpy.org/devdocs/release/1.20.0-notes.html#deprecations\n",
      "  y_test_dec_gt = y_test_dec_gt.astype(np.float)\n",
      "C:\\Users\\adars\\AppData\\Local\\Temp\\ipykernel_11060\\2686677544.py:2: DeprecationWarning: `np.float` is a deprecated alias for the builtin `float`. To silence this warning, use `float` by itself. Doing this will not modify any behavior and is safe. If you specifically wanted the numpy scalar type, use `np.float64` here.\n",
      "Deprecated in NumPy 1.20; for more details and guidance: https://numpy.org/devdocs/release/1.20.0-notes.html#deprecations\n",
      "  y_predicted = y_predicted.astype(np.float)\n"
     ]
    }
   ],
   "source": [
    "y_test_dec_gt = y_test_dec_gt.astype(np.float)\n",
    "y_predicted = y_predicted.astype(np.float)"
   ]
  },
  {
   "cell_type": "code",
   "execution_count": 32,
   "id": "f49d13ac",
   "metadata": {},
   "outputs": [
    {
     "data": {
      "text/plain": [
       "0.43315455142273485"
      ]
     },
     "execution_count": 32,
     "metadata": {},
     "output_type": "execute_result"
    }
   ],
   "source": [
    "from sklearn.metrics import r2_score\n",
    "r2_score(y_test_dec_gt, y_predicted)"
   ]
  },
  {
   "cell_type": "code",
   "execution_count": 202,
   "id": "c8b635da",
   "metadata": {},
   "outputs": [
    {
     "data": {
      "text/plain": [
       "2120"
      ]
     },
     "execution_count": 202,
     "metadata": {},
     "output_type": "execute_result"
    }
   ],
   "source": [
    "len(y_train)"
   ]
  },
  {
   "cell_type": "code",
   "execution_count": 204,
   "id": "d10acebc",
   "metadata": {},
   "outputs": [
    {
     "data": {
      "text/plain": [
       "array([[6.8190414e-04, 3.8513844e-04, 1.7557872e-04, ..., 5.1132516e-05,\n",
       "        1.1260376e-04, 5.8873522e-04],\n",
       "       [1.4687682e-04, 4.1054318e-05, 9.5589610e-05, ..., 1.7975106e-04,\n",
       "        3.6124216e-05, 8.1145583e-05],\n",
       "       [3.8297463e-04, 1.6848360e-04, 1.4259036e-04, ..., 2.7710092e-04,\n",
       "        1.7916671e-03, 4.3455581e-04],\n",
       "       ...,\n",
       "       [1.2515013e-03, 3.2755014e-04, 1.6364275e-04, ..., 1.5561598e-04,\n",
       "        5.9414026e-04, 2.9936555e-04],\n",
       "       [2.1049769e-04, 5.8837293e-05, 2.6087352e-04, ..., 2.5761157e-04,\n",
       "        5.1771684e-05, 1.1629438e-04],\n",
       "       [1.4517110e-04, 1.2535493e-04, 3.9822314e-04, ..., 2.7865608e-04,\n",
       "        1.0341343e-04, 4.9287215e-04]], dtype=float32)"
      ]
     },
     "execution_count": 204,
     "metadata": {},
     "output_type": "execute_result"
    }
   ],
   "source": [
    "model.predict_proba(X_test)"
   ]
  },
  {
   "cell_type": "code",
   "execution_count": 43,
   "id": "1a86893f",
   "metadata": {},
   "outputs": [],
   "source": [
    "X_test = X_test.reset_index()"
   ]
  },
  {
   "cell_type": "code",
   "execution_count": 51,
   "id": "7c556fe2",
   "metadata": {},
   "outputs": [
    {
     "data": {
      "text/html": [
       "<div>\n",
       "<style scoped>\n",
       "    .dataframe tbody tr th:only-of-type {\n",
       "        vertical-align: middle;\n",
       "    }\n",
       "\n",
       "    .dataframe tbody tr th {\n",
       "        vertical-align: top;\n",
       "    }\n",
       "\n",
       "    .dataframe thead th {\n",
       "        text-align: right;\n",
       "    }\n",
       "</style>\n",
       "<table border=\"1\" class=\"dataframe\">\n",
       "  <thead>\n",
       "    <tr style=\"text-align: right;\">\n",
       "      <th></th>\n",
       "      <th>ID_FINCA</th>\n",
       "      <th>ID_ZONA</th>\n",
       "      <th>ID_ESTACION</th>\n",
       "      <th>VARIEDAD</th>\n",
       "      <th>MODO</th>\n",
       "      <th>TIPO</th>\n",
       "      <th>COLOR</th>\n",
       "    </tr>\n",
       "  </thead>\n",
       "  <tbody>\n",
       "    <tr>\n",
       "      <th>8200</th>\n",
       "      <td>580</td>\n",
       "      <td>68</td>\n",
       "      <td>8</td>\n",
       "      <td>4</td>\n",
       "      <td>2</td>\n",
       "      <td>1</td>\n",
       "      <td>1</td>\n",
       "    </tr>\n",
       "    <tr>\n",
       "      <th>9223</th>\n",
       "      <td>541</td>\n",
       "      <td>65</td>\n",
       "      <td>14</td>\n",
       "      <td>9</td>\n",
       "      <td>2</td>\n",
       "      <td>1</td>\n",
       "      <td>2</td>\n",
       "    </tr>\n",
       "    <tr>\n",
       "      <th>7875</th>\n",
       "      <td>284</td>\n",
       "      <td>43</td>\n",
       "      <td>11</td>\n",
       "      <td>5</td>\n",
       "      <td>2</td>\n",
       "      <td>1</td>\n",
       "      <td>1</td>\n",
       "    </tr>\n",
       "    <tr>\n",
       "      <th>8166</th>\n",
       "      <td>529</td>\n",
       "      <td>65</td>\n",
       "      <td>14</td>\n",
       "      <td>7</td>\n",
       "      <td>2</td>\n",
       "      <td>1</td>\n",
       "      <td>2</td>\n",
       "    </tr>\n",
       "    <tr>\n",
       "      <th>8304</th>\n",
       "      <td>703</td>\n",
       "      <td>73</td>\n",
       "      <td>14</td>\n",
       "      <td>8</td>\n",
       "      <td>1</td>\n",
       "      <td>1</td>\n",
       "      <td>1</td>\n",
       "    </tr>\n",
       "    <tr>\n",
       "      <th>...</th>\n",
       "      <td>...</td>\n",
       "      <td>...</td>\n",
       "      <td>...</td>\n",
       "      <td>...</td>\n",
       "      <td>...</td>\n",
       "      <td>...</td>\n",
       "      <td>...</td>\n",
       "    </tr>\n",
       "    <tr>\n",
       "      <th>7691</th>\n",
       "      <td>1064</td>\n",
       "      <td>29</td>\n",
       "      <td>9</td>\n",
       "      <td>13</td>\n",
       "      <td>1</td>\n",
       "      <td>1</td>\n",
       "      <td>2</td>\n",
       "    </tr>\n",
       "    <tr>\n",
       "      <th>9312</th>\n",
       "      <td>638</td>\n",
       "      <td>72</td>\n",
       "      <td>14</td>\n",
       "      <td>2</td>\n",
       "      <td>1</td>\n",
       "      <td>1</td>\n",
       "      <td>1</td>\n",
       "    </tr>\n",
       "    <tr>\n",
       "      <th>8071</th>\n",
       "      <td>424</td>\n",
       "      <td>57</td>\n",
       "      <td>10</td>\n",
       "      <td>2</td>\n",
       "      <td>1</td>\n",
       "      <td>1</td>\n",
       "      <td>1</td>\n",
       "    </tr>\n",
       "    <tr>\n",
       "      <th>7333</th>\n",
       "      <td>803</td>\n",
       "      <td>74</td>\n",
       "      <td>13</td>\n",
       "      <td>9</td>\n",
       "      <td>2</td>\n",
       "      <td>1</td>\n",
       "      <td>2</td>\n",
       "    </tr>\n",
       "    <tr>\n",
       "      <th>6715</th>\n",
       "      <td>176</td>\n",
       "      <td>31</td>\n",
       "      <td>12</td>\n",
       "      <td>12</td>\n",
       "      <td>1</td>\n",
       "      <td>2</td>\n",
       "      <td>1</td>\n",
       "    </tr>\n",
       "  </tbody>\n",
       "</table>\n",
       "<p>963 rows × 7 columns</p>\n",
       "</div>"
      ],
      "text/plain": [
       "      ID_FINCA  ID_ZONA  ID_ESTACION  VARIEDAD  MODO  TIPO  COLOR\n",
       "8200       580       68            8         4     2     1      1\n",
       "9223       541       65           14         9     2     1      2\n",
       "7875       284       43           11         5     2     1      1\n",
       "8166       529       65           14         7     2     1      2\n",
       "8304       703       73           14         8     1     1      1\n",
       "...        ...      ...          ...       ...   ...   ...    ...\n",
       "7691      1064       29            9        13     1     1      2\n",
       "9312       638       72           14         2     1     1      1\n",
       "8071       424       57           10         2     1     1      1\n",
       "7333       803       74           13         9     2     1      2\n",
       "6715       176       31           12        12     1     2      1\n",
       "\n",
       "[963 rows x 7 columns]"
      ]
     },
     "execution_count": 51,
     "metadata": {},
     "output_type": "execute_result"
    }
   ],
   "source": [
    "X_test"
   ]
  },
  {
   "cell_type": "code",
   "execution_count": 78,
   "id": "b2497693",
   "metadata": {},
   "outputs": [],
   "source": [
    "llista_idx = np.where(np.array(y_test) == np.array(model.predict(X_test)))[0]"
   ]
  },
  {
   "cell_type": "code",
   "execution_count": 59,
   "id": "ee93b6f7",
   "metadata": {},
   "outputs": [
    {
     "data": {
      "text/plain": [
       "963"
      ]
     },
     "execution_count": 59,
     "metadata": {},
     "output_type": "execute_result"
    }
   ],
   "source": [
    "len(np.array(model.predict(X_test)))"
   ]
  },
  {
   "cell_type": "code",
   "execution_count": 74,
   "id": "837dbfd5",
   "metadata": {},
   "outputs": [
    {
     "data": {
      "text/plain": [
       "1211"
      ]
     },
     "execution_count": 74,
     "metadata": {},
     "output_type": "execute_result"
    }
   ],
   "source": [
    "y_train.nunique()"
   ]
  },
  {
   "cell_type": "code",
   "execution_count": 75,
   "id": "a2455081",
   "metadata": {},
   "outputs": [
    {
     "data": {
      "text/plain": [
       "ID_FINCA       580\n",
       "ID_ZONA         68\n",
       "ID_ESTACION      8\n",
       "VARIEDAD         4\n",
       "MODO             2\n",
       "TIPO             1\n",
       "COLOR            1\n",
       "Name: 8200, dtype: int32"
      ]
     },
     "execution_count": 75,
     "metadata": {},
     "output_type": "execute_result"
    }
   ],
   "source": [
    "X_test.iloc[0, :]"
   ]
  },
  {
   "cell_type": "code",
   "execution_count": 89,
   "id": "f6e54e78",
   "metadata": {},
   "outputs": [
    {
     "data": {
      "text/plain": [
       "array([6.8740122e-04, 3.8630271e-04, 1.7607113e-04, ..., 5.1061033e-05,\n",
       "       1.1203519e-04, 5.9812365e-04], dtype=float32)"
      ]
     },
     "execution_count": 89,
     "metadata": {},
     "output_type": "execute_result"
    }
   ],
   "source": [
    "model.predict_proba(X_test.iloc[llista_idx, :])[0]"
   ]
  },
  {
   "cell_type": "code",
   "execution_count": 94,
   "id": "7f114052",
   "metadata": {},
   "outputs": [],
   "source": [
    "llista_probs = model.predict_proba(X_test.iloc[llista_idx, :])"
   ]
  },
  {
   "cell_type": "code",
   "execution_count": 98,
   "id": "91a2f3e9",
   "metadata": {},
   "outputs": [
    {
     "data": {
      "text/plain": [
       "0.7917654"
      ]
     },
     "execution_count": 98,
     "metadata": {},
     "output_type": "execute_result"
    }
   ],
   "source": [
    "np.max(llista_probs[1])"
   ]
  },
  {
   "cell_type": "code",
   "execution_count": 103,
   "id": "3c7f2131",
   "metadata": {},
   "outputs": [],
   "source": [
    "prob_max = np.array([np.max(llista_probs[i]) for i in range(len(llista_idx))])"
   ]
  },
  {
   "cell_type": "code",
   "execution_count": 106,
   "id": "eaeaf188",
   "metadata": {},
   "outputs": [
    {
     "data": {
      "text/plain": [
       "698"
      ]
     },
     "execution_count": 106,
     "metadata": {},
     "output_type": "execute_result"
    }
   ],
   "source": [
    "len(prob_max)"
   ]
  },
  {
   "cell_type": "code",
   "execution_count": 117,
   "id": "cdaa0d6b",
   "metadata": {},
   "outputs": [],
   "source": [
    "dict_prob = {\"Menor a 0.5\": (prob_max < 0.5).sum()/len(prob_max), \"Major a 0.5\": (prob_max > 0.5).sum()/len(prob_max),\n",
    "             \"Major a 0.6\": (prob_max > 0.6).sum()/len(prob_max), \"Major a 0.65\": (prob_max > 0.65).sum()/len(prob_max),\n",
    "            \"Major a 0.75\": (prob_max > 0.75).sum()/len(prob_max), \"Major a 0.8\": (prob_max > 0.8).sum()/len(prob_max),\n",
    "            \"Major a 0.9\": (prob_max > 0.9).sum()/len(prob_max), \"Major a 0.95\": (prob_max > 0.95).sum()/len(prob_max)}\n",
    "dict_counts = {\"Menor a 0.5\": (prob_max < 0.5).sum(), \"Major a 0.5\": (prob_max > 0.5).sum(),\n",
    "               \"Major a 0.6\": (prob_max > 0.6).sum(), \"Major a 0.65\": (prob_max > 0.65).sum(),\n",
    "            \"Major a 0.75\": (prob_max > 0.75).sum(), \"Major a 0.8\": (prob_max > 0.8).sum(),\n",
    "            \"Major a 0.9\": (prob_max > 0.9).sum(), \"Major a 0.95\": (prob_max > 0.95).sum()}"
   ]
  },
  {
   "cell_type": "code",
   "execution_count": 118,
   "id": "9348240a",
   "metadata": {},
   "outputs": [],
   "source": [
    "df_prob = pd.DataFrame(dict_prob, index=[0])\n",
    "df_counts = pd.DataFrame(dict_counts, index=[0])"
   ]
  },
  {
   "cell_type": "code",
   "execution_count": 119,
   "id": "9caf0e27",
   "metadata": {},
   "outputs": [
    {
     "data": {
      "text/html": [
       "<div>\n",
       "<style scoped>\n",
       "    .dataframe tbody tr th:only-of-type {\n",
       "        vertical-align: middle;\n",
       "    }\n",
       "\n",
       "    .dataframe tbody tr th {\n",
       "        vertical-align: top;\n",
       "    }\n",
       "\n",
       "    .dataframe thead th {\n",
       "        text-align: right;\n",
       "    }\n",
       "</style>\n",
       "<table border=\"1\" class=\"dataframe\">\n",
       "  <thead>\n",
       "    <tr style=\"text-align: right;\">\n",
       "      <th></th>\n",
       "      <th>Menor a 0.5</th>\n",
       "      <th>Major a 0.5</th>\n",
       "      <th>Major a 0.6</th>\n",
       "      <th>Major a 0.65</th>\n",
       "      <th>Major a 0.75</th>\n",
       "      <th>Major a 0.8</th>\n",
       "      <th>Major a 0.9</th>\n",
       "      <th>Major a 0.95</th>\n",
       "    </tr>\n",
       "  </thead>\n",
       "  <tbody>\n",
       "    <tr>\n",
       "      <th>0</th>\n",
       "      <td>0.266476</td>\n",
       "      <td>0.733524</td>\n",
       "      <td>0.232092</td>\n",
       "      <td>0.19341</td>\n",
       "      <td>0.103152</td>\n",
       "      <td>0.055874</td>\n",
       "      <td>0.018625</td>\n",
       "      <td>0.0</td>\n",
       "    </tr>\n",
       "  </tbody>\n",
       "</table>\n",
       "</div>"
      ],
      "text/plain": [
       "   Menor a 0.5  Major a 0.5  Major a 0.6  Major a 0.65  Major a 0.75  \\\n",
       "0     0.266476     0.733524     0.232092       0.19341      0.103152   \n",
       "\n",
       "   Major a 0.8  Major a 0.9  Major a 0.95  \n",
       "0     0.055874     0.018625           0.0  "
      ]
     },
     "execution_count": 119,
     "metadata": {},
     "output_type": "execute_result"
    }
   ],
   "source": [
    "df_prob"
   ]
  },
  {
   "cell_type": "code",
   "execution_count": 120,
   "id": "a5e58b55",
   "metadata": {},
   "outputs": [
    {
     "data": {
      "text/html": [
       "<div>\n",
       "<style scoped>\n",
       "    .dataframe tbody tr th:only-of-type {\n",
       "        vertical-align: middle;\n",
       "    }\n",
       "\n",
       "    .dataframe tbody tr th {\n",
       "        vertical-align: top;\n",
       "    }\n",
       "\n",
       "    .dataframe thead th {\n",
       "        text-align: right;\n",
       "    }\n",
       "</style>\n",
       "<table border=\"1\" class=\"dataframe\">\n",
       "  <thead>\n",
       "    <tr style=\"text-align: right;\">\n",
       "      <th></th>\n",
       "      <th>Menor a 0.5</th>\n",
       "      <th>Major a 0.5</th>\n",
       "      <th>Major a 0.6</th>\n",
       "      <th>Major a 0.65</th>\n",
       "      <th>Major a 0.75</th>\n",
       "      <th>Major a 0.8</th>\n",
       "      <th>Major a 0.9</th>\n",
       "      <th>Major a 0.95</th>\n",
       "    </tr>\n",
       "  </thead>\n",
       "  <tbody>\n",
       "    <tr>\n",
       "      <th>0</th>\n",
       "      <td>186</td>\n",
       "      <td>512</td>\n",
       "      <td>162</td>\n",
       "      <td>135</td>\n",
       "      <td>72</td>\n",
       "      <td>39</td>\n",
       "      <td>13</td>\n",
       "      <td>0</td>\n",
       "    </tr>\n",
       "  </tbody>\n",
       "</table>\n",
       "</div>"
      ],
      "text/plain": [
       "   Menor a 0.5  Major a 0.5  Major a 0.6  Major a 0.65  Major a 0.75  \\\n",
       "0          186          512          162           135            72   \n",
       "\n",
       "   Major a 0.8  Major a 0.9  Major a 0.95  \n",
       "0           39           13             0  "
      ]
     },
     "execution_count": 120,
     "metadata": {},
     "output_type": "execute_result"
    }
   ],
   "source": [
    "df_counts"
   ]
  },
  {
   "cell_type": "code",
   "execution_count": 130,
   "id": "8c85ccdf",
   "metadata": {},
   "outputs": [
    {
     "data": {
      "text/plain": [
       "639"
      ]
     },
     "execution_count": 130,
     "metadata": {},
     "output_type": "execute_result"
    }
   ],
   "source": [
    "(prob_max > 0.4).sum()"
   ]
  },
  {
   "cell_type": "code",
   "execution_count": 129,
   "id": "f2a1fc62",
   "metadata": {},
   "outputs": [
    {
     "data": {
      "text/plain": [
       "963"
      ]
     },
     "execution_count": 129,
     "metadata": {},
     "output_type": "execute_result"
    }
   ],
   "source": [
    "len(y_test)"
   ]
  },
  {
   "cell_type": "code",
   "execution_count": 125,
   "id": "381006c5",
   "metadata": {},
   "outputs": [
    {
     "data": {
      "text/plain": [
       "456"
      ]
     },
     "execution_count": 125,
     "metadata": {},
     "output_type": "execute_result"
    }
   ],
   "source": [
    "((0.45 <= prob_max) & (prob_max <= 0.65)).sum()"
   ]
  },
  {
   "cell_type": "code",
   "execution_count": 126,
   "id": "63f2766c",
   "metadata": {},
   "outputs": [
    {
     "name": "stdout",
     "output_type": "stream",
     "text": [
      "[23:26:26] WARNING: C:/buildkite-agent/builds/buildkite-windows-cpu-autoscaling-group-i-0fc7796c793e6356f-1/xgboost/xgboost-ci-windows/src/learner.cc:767: \n",
      "Parameters: { \"silent\" } are not used.\n",
      "\n"
     ]
    },
    {
     "data": {
      "text/html": [
       "<style>#sk-container-id-2 {color: black;background-color: white;}#sk-container-id-2 pre{padding: 0;}#sk-container-id-2 div.sk-toggleable {background-color: white;}#sk-container-id-2 label.sk-toggleable__label {cursor: pointer;display: block;width: 100%;margin-bottom: 0;padding: 0.3em;box-sizing: border-box;text-align: center;}#sk-container-id-2 label.sk-toggleable__label-arrow:before {content: \"▸\";float: left;margin-right: 0.25em;color: #696969;}#sk-container-id-2 label.sk-toggleable__label-arrow:hover:before {color: black;}#sk-container-id-2 div.sk-estimator:hover label.sk-toggleable__label-arrow:before {color: black;}#sk-container-id-2 div.sk-toggleable__content {max-height: 0;max-width: 0;overflow: hidden;text-align: left;background-color: #f0f8ff;}#sk-container-id-2 div.sk-toggleable__content pre {margin: 0.2em;color: black;border-radius: 0.25em;background-color: #f0f8ff;}#sk-container-id-2 input.sk-toggleable__control:checked~div.sk-toggleable__content {max-height: 200px;max-width: 100%;overflow: auto;}#sk-container-id-2 input.sk-toggleable__control:checked~label.sk-toggleable__label-arrow:before {content: \"▾\";}#sk-container-id-2 div.sk-estimator input.sk-toggleable__control:checked~label.sk-toggleable__label {background-color: #d4ebff;}#sk-container-id-2 div.sk-label input.sk-toggleable__control:checked~label.sk-toggleable__label {background-color: #d4ebff;}#sk-container-id-2 input.sk-hidden--visually {border: 0;clip: rect(1px 1px 1px 1px);clip: rect(1px, 1px, 1px, 1px);height: 1px;margin: -1px;overflow: hidden;padding: 0;position: absolute;width: 1px;}#sk-container-id-2 div.sk-estimator {font-family: monospace;background-color: #f0f8ff;border: 1px dotted black;border-radius: 0.25em;box-sizing: border-box;margin-bottom: 0.5em;}#sk-container-id-2 div.sk-estimator:hover {background-color: #d4ebff;}#sk-container-id-2 div.sk-parallel-item::after {content: \"\";width: 100%;border-bottom: 1px solid gray;flex-grow: 1;}#sk-container-id-2 div.sk-label:hover label.sk-toggleable__label {background-color: #d4ebff;}#sk-container-id-2 div.sk-serial::before {content: \"\";position: absolute;border-left: 1px solid gray;box-sizing: border-box;top: 0;bottom: 0;left: 50%;z-index: 0;}#sk-container-id-2 div.sk-serial {display: flex;flex-direction: column;align-items: center;background-color: white;padding-right: 0.2em;padding-left: 0.2em;position: relative;}#sk-container-id-2 div.sk-item {position: relative;z-index: 1;}#sk-container-id-2 div.sk-parallel {display: flex;align-items: stretch;justify-content: center;background-color: white;position: relative;}#sk-container-id-2 div.sk-item::before, #sk-container-id-2 div.sk-parallel-item::before {content: \"\";position: absolute;border-left: 1px solid gray;box-sizing: border-box;top: 0;bottom: 0;left: 50%;z-index: -1;}#sk-container-id-2 div.sk-parallel-item {display: flex;flex-direction: column;z-index: 1;position: relative;background-color: white;}#sk-container-id-2 div.sk-parallel-item:first-child::after {align-self: flex-end;width: 50%;}#sk-container-id-2 div.sk-parallel-item:last-child::after {align-self: flex-start;width: 50%;}#sk-container-id-2 div.sk-parallel-item:only-child::after {width: 0;}#sk-container-id-2 div.sk-dashed-wrapped {border: 1px dashed gray;margin: 0 0.4em 0.5em 0.4em;box-sizing: border-box;padding-bottom: 0.4em;background-color: white;}#sk-container-id-2 div.sk-label label {font-family: monospace;font-weight: bold;display: inline-block;line-height: 1.2em;}#sk-container-id-2 div.sk-label-container {text-align: center;}#sk-container-id-2 div.sk-container {/* jupyter's `normalize.less` sets `[hidden] { display: none; }` but bootstrap.min.css set `[hidden] { display: none !important; }` so we also need the `!important` here to be able to override the default hidden behavior on the sphinx rendered scikit-learn.org. See: https://github.com/scikit-learn/scikit-learn/issues/21755 */display: inline-block !important;position: relative;}#sk-container-id-2 div.sk-text-repr-fallback {display: none;}</style><div id=\"sk-container-id-2\" class=\"sk-top-container\"><div class=\"sk-text-repr-fallback\"><pre>XGBClassifier(base_score=0.5, booster=&#x27;gbtree&#x27;, callbacks=None,\n",
       "              colsample_bylevel=None, colsample_bynode=None,\n",
       "              colsample_bytree=0.4, early_stopping_rounds=None,\n",
       "              enable_categorical=False, eta=0.3, eval_metric=&#x27;error&#x27;,\n",
       "              feature_types=None, gamma=0, gpu_id=None, grow_policy=None,\n",
       "              importance_type=None, interaction_constraints=None,\n",
       "              learning_rate=0.1, max_bin=None, max_cat_threshold=None,\n",
       "              max_cat_to_onehot=None, max_delta_step=0, max_depth=6,\n",
       "              max_leaves=None, min_child_weight=1, missing=nan,\n",
       "              monotone_constraints=None, n_estimators=2000, n_jobs=None,\n",
       "              num_parallel_tree=None, objective=&#x27;multi:softprob&#x27;, ...)</pre><b>In a Jupyter environment, please rerun this cell to show the HTML representation or trust the notebook. <br />On GitHub, the HTML representation is unable to render, please try loading this page with nbviewer.org.</b></div><div class=\"sk-container\" hidden><div class=\"sk-item\"><div class=\"sk-estimator sk-toggleable\"><input class=\"sk-toggleable__control sk-hidden--visually\" id=\"sk-estimator-id-2\" type=\"checkbox\" checked><label for=\"sk-estimator-id-2\" class=\"sk-toggleable__label sk-toggleable__label-arrow\">XGBClassifier</label><div class=\"sk-toggleable__content\"><pre>XGBClassifier(base_score=0.5, booster=&#x27;gbtree&#x27;, callbacks=None,\n",
       "              colsample_bylevel=None, colsample_bynode=None,\n",
       "              colsample_bytree=0.4, early_stopping_rounds=None,\n",
       "              enable_categorical=False, eta=0.3, eval_metric=&#x27;error&#x27;,\n",
       "              feature_types=None, gamma=0, gpu_id=None, grow_policy=None,\n",
       "              importance_type=None, interaction_constraints=None,\n",
       "              learning_rate=0.1, max_bin=None, max_cat_threshold=None,\n",
       "              max_cat_to_onehot=None, max_delta_step=0, max_depth=6,\n",
       "              max_leaves=None, min_child_weight=1, missing=nan,\n",
       "              monotone_constraints=None, n_estimators=2000, n_jobs=None,\n",
       "              num_parallel_tree=None, objective=&#x27;multi:softprob&#x27;, ...)</pre></div></div></div></div></div>"
      ],
      "text/plain": [
       "XGBClassifier(base_score=0.5, booster='gbtree', callbacks=None,\n",
       "              colsample_bylevel=None, colsample_bynode=None,\n",
       "              colsample_bytree=0.4, early_stopping_rounds=None,\n",
       "              enable_categorical=False, eta=0.3, eval_metric='error',\n",
       "              feature_types=None, gamma=0, gpu_id=None, grow_policy=None,\n",
       "              importance_type=None, interaction_constraints=None,\n",
       "              learning_rate=0.1, max_bin=None, max_cat_threshold=None,\n",
       "              max_cat_to_onehot=None, max_delta_step=0, max_depth=6,\n",
       "              max_leaves=None, min_child_weight=1, missing=nan,\n",
       "              monotone_constraints=None, n_estimators=2000, n_jobs=None,\n",
       "              num_parallel_tree=None, objective='multi:softprob', ...)"
      ]
     },
     "execution_count": 126,
     "metadata": {},
     "output_type": "execute_result"
    }
   ],
   "source": [
    "#params_model2 = {'colsample_bytree': 0.4, 'gamma': 0.0, 'learning_rate': 0.1, 'max_depth': 100, 'min_child_weight': 1, 'n_estimators': 600}\n",
    "param2 = {}\n",
    "param2['booster'] = 'gbtree'\n",
    "param2[\"eval_metric\"] = \"error\"\n",
    "param2['eta'] = 0.3\n",
    "param2['gamma'] = 0\n",
    "param2['max_depth'] = 6\n",
    "param2['min_child_weight']=1\n",
    "param2['max_delta_step'] = 0\n",
    "param2['subsample']= 1\n",
    "param2['colsample_bytree']=1\n",
    "param2['seed'] = 0\n",
    "param2['base_score'] = 0.5\n",
    "param2[\"colsample_bytree\"] = 0.4\n",
    "param2[\"learning_rate\"] = 0.1\n",
    "param2[\"n_estimators\"] = 2000\n",
    "\n",
    "model2 = xgb.XGBClassifier(**param2)\n",
    "model2.fit(X_train,y_train)"
   ]
  },
  {
   "cell_type": "code",
   "execution_count": 127,
   "id": "059c0adb",
   "metadata": {},
   "outputs": [
    {
     "name": "stdout",
     "output_type": "stream",
     "text": [
      "0.726895119418484\n",
      "0.7344339622641509\n"
     ]
    }
   ],
   "source": [
    "print(model2.score(X_test, y_test))\n",
    "print(model2.score(X_train, y_train))"
   ]
  },
  {
   "cell_type": "code",
   "execution_count": 131,
   "id": "6adafd77",
   "metadata": {},
   "outputs": [],
   "source": [
    "llista_probs = model.predict_proba(X_test)"
   ]
  },
  {
   "cell_type": "code",
   "execution_count": 132,
   "id": "9dc4cff8",
   "metadata": {},
   "outputs": [
    {
     "data": {
      "text/plain": [
       "array([6.8740122e-04, 3.8630271e-04, 1.7607113e-04, ..., 5.1061033e-05,\n",
       "       1.1203519e-04, 5.9812365e-04], dtype=float32)"
      ]
     },
     "execution_count": 132,
     "metadata": {},
     "output_type": "execute_result"
    }
   ],
   "source": [
    "llista_probs[0]"
   ]
  },
  {
   "cell_type": "code",
   "execution_count": 156,
   "id": "fd861d87",
   "metadata": {},
   "outputs": [],
   "source": [
    "thr_04 = [idx for idx,i in enumerate(llista_probs) if np.max(i) > 0.5]"
   ]
  },
  {
   "cell_type": "code",
   "execution_count": 157,
   "id": "7ea44fa0",
   "metadata": {},
   "outputs": [],
   "source": [
    "X_test_subset = X_test.iloc[thr_04, :]"
   ]
  },
  {
   "cell_type": "code",
   "execution_count": 158,
   "id": "71c792c5",
   "metadata": {},
   "outputs": [
    {
     "data": {
      "text/plain": [
       "512"
      ]
     },
     "execution_count": 158,
     "metadata": {},
     "output_type": "execute_result"
    }
   ],
   "source": [
    "(np.array(y_test.iloc[thr_04]) == np.array(model.predict(X_test_subset))*1).sum()"
   ]
  },
  {
   "cell_type": "code",
   "execution_count": 159,
   "id": "3a5fe6eb",
   "metadata": {},
   "outputs": [
    {
     "data": {
      "text/plain": [
       "521"
      ]
     },
     "execution_count": 159,
     "metadata": {},
     "output_type": "execute_result"
    }
   ],
   "source": [
    "len(y_test.iloc[thr_04])"
   ]
  },
  {
   "cell_type": "code",
   "execution_count": null,
   "id": "0a3dd337",
   "metadata": {},
   "outputs": [],
   "source": []
  }
 ],
 "metadata": {
  "kernelspec": {
   "display_name": "Python 3 (ipykernel)",
   "language": "python",
   "name": "python3"
  },
  "language_info": {
   "codemirror_mode": {
    "name": "ipython",
    "version": 3
   },
   "file_extension": ".py",
   "mimetype": "text/x-python",
   "name": "python",
   "nbconvert_exporter": "python",
   "pygments_lexer": "ipython3",
   "version": "3.9.12"
  }
 },
 "nbformat": 4,
 "nbformat_minor": 5
}
