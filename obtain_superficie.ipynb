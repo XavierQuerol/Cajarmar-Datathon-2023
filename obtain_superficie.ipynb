{
 "cells": [
  {
   "cell_type": "code",
   "execution_count": 120,
   "id": "c614474e",
   "metadata": {},
   "outputs": [],
   "source": [
    "import pandas as pd\n",
    "import numpy as np"
   ]
  },
  {
   "cell_type": "code",
   "execution_count": 162,
   "id": "fdf9034c",
   "metadata": {},
   "outputs": [],
   "source": [
    "df = pd.read_csv(\"./UH_2023/UH_2023_TRAIN.txt\", sep = \"|\")\n",
    "df = df.astype({\"CAMPAÑA\": str, \"ID_FINCA\": str, \"ID_ZONA\": str, \"ID_ESTACION\": str, \"VARIEDAD\": str, \"MODO\": str, \"TIPO\": str, \"COLOR\": str, \"SUPERFICIE\": str})"
   ]
  },
  {
   "cell_type": "code",
   "execution_count": 163,
   "id": "f28a354e",
   "metadata": {},
   "outputs": [],
   "source": [
    "import category_encoders as ce\n",
    "from sklearn.preprocessing import LabelEncoder\n",
    "encoder = ce.OrdinalEncoder(cols=[\"ID_FINCA\", \"ID_ZONA\", \"ID_ESTACION\", \"VARIEDAD\", \"COLOR\", \"TIPO\", \"MODO\"])"
   ]
  },
  {
   "cell_type": "code",
   "execution_count": 164,
   "id": "9d981418",
   "metadata": {},
   "outputs": [
    {
     "name": "stderr",
     "output_type": "stream",
     "text": [
      "C:\\Users\\xavid\\AppData\\Local\\Temp\\ipykernel_9248\\2113395605.py:9: SettingWithCopyWarning: \n",
      "A value is trying to be set on a copy of a slice from a DataFrame.\n",
      "Try using .loc[row_indexer,col_indexer] = value instead\n",
      "\n",
      "See the caveats in the documentation: https://pandas.pydata.org/pandas-docs/stable/user_guide/indexing.html#returning-a-view-versus-a-copy\n",
      "  train[\"SUPERFICIE\"] = l_encoder.fit_transform(train[\"SUPERFICIE\"])\n"
     ]
    }
   ],
   "source": [
    "df_temporal = df.drop(axis = 1, columns = [\"CAMPAÑA\", \"ALTITUD\"])\n",
    "\n",
    "df_encoded = encoder.fit_transform(df_temporal)\n",
    "\n",
    "train = df_encoded[(df[\"PRODUCCION\"] != 0) & (df_encoded[\"SUPERFICIE\"] != \"0.0\")]\n",
    "\n",
    "to_predict = df_encoded[~((df[\"PRODUCCION\"] != 0) & (df_encoded[\"SUPERFICIE\"] != 0))]\n",
    "l_encoder = LabelEncoder()\n",
    "train[\"SUPERFICIE\"] = l_encoder.fit_transform(train[\"SUPERFICIE\"])\n",
    "\n",
    "to_predict = to_predict.drop(axis = 1, columns = [\"SUPERFICIE\"])"
   ]
  },
  {
   "cell_type": "code",
   "execution_count": 165,
   "id": "256e8ad0",
   "metadata": {},
   "outputs": [],
   "source": [
    "df_supcat = train.groupby(by='SUPERFICIE').count().reset_index()\n",
    "segur_train = df_supcat[df_supcat[\"TIPO\"] == 1][\"SUPERFICIE\"]\n",
    "train_nou = train[train['SUPERFICIE'].isin(list(segur_train))]"
   ]
  },
  {
   "cell_type": "code",
   "execution_count": 166,
   "id": "667ec1bf",
   "metadata": {},
   "outputs": [],
   "source": [
    "train_a_splitejar = train.drop(index=train_nou.index)"
   ]
  },
  {
   "cell_type": "code",
   "execution_count": 167,
   "id": "676ed8c4",
   "metadata": {},
   "outputs": [],
   "source": [
    "X_train_a_splitejar = train_a_splitejar.drop(axis = 1, columns = [\"SUPERFICIE\"])\n",
    "y_train_a_splitejar = train_a_splitejar[\"SUPERFICIE\"]"
   ]
  },
  {
   "cell_type": "code",
   "execution_count": 168,
   "id": "1582fc8e",
   "metadata": {},
   "outputs": [],
   "source": [
    "X_train_nou = train_nou.drop(axis = 1, columns = [\"SUPERFICIE\"])\n",
    "y_train_nou = train_nou[\"SUPERFICIE\"]"
   ]
  },
  {
   "cell_type": "code",
   "execution_count": 169,
   "id": "6c23f4d0",
   "metadata": {},
   "outputs": [],
   "source": [
    "X_train_splitted, X_test, y_train_splitted, y_test = train_test_split(X_train_a_splitejar, y_train_a_splitejar, test_size=0.35, random_state=3, stratify = train_a_splitejar[\"SUPERFICIE\"])"
   ]
  },
  {
   "cell_type": "code",
   "execution_count": 170,
   "id": "3775096d",
   "metadata": {},
   "outputs": [],
   "source": [
    "X_train = pd.concat([X_train_splitted, X_train_nou])\n",
    "y_train = pd.concat([y_train_splitted, y_train_nou])"
   ]
  },
  {
   "cell_type": "code",
   "execution_count": 171,
   "id": "8dd12907",
   "metadata": {},
   "outputs": [
    {
     "data": {
      "text/plain": [
       "True"
      ]
     },
     "execution_count": 171,
     "metadata": {},
     "output_type": "execute_result"
    }
   ],
   "source": [
    "len(X_test) + len(X_train) == len(train)"
   ]
  },
  {
   "cell_type": "code",
   "execution_count": null,
   "id": "c76071dd",
   "metadata": {},
   "outputs": [],
   "source": [
    "import xgboost as xgb\n",
    "params_model = {'colsample_bytree': 0.4, 'gamma': 0.0, 'learning_rate': 0.15, 'max_depth': 60, 'min_child_weight': 1, 'n_estimators': 1000}\n",
    "model = xgb.XGBClassifier(**params_model)\n",
    "model.fit(X_train,y_train)\n",
    "model.score(X_test, y_test)"
   ]
  },
  {
   "cell_type": "code",
   "execution_count": null,
   "id": "0127767f",
   "metadata": {},
   "outputs": [],
   "source": [
    "y_test_dec_gt = l_encoder.inverse_transform(y_test)\n",
    "y_predicted = l_encoder.inverse_transform(model.predict(X_test))"
   ]
  },
  {
   "cell_type": "code",
   "execution_count": null,
   "id": "10b900ee",
   "metadata": {},
   "outputs": [],
   "source": [
    "y_test_dec_gt = y_test_dec_gt.astype(np.float)\n",
    "y_predicted = y_predicted.astype(np.float)"
   ]
  },
  {
   "cell_type": "code",
   "execution_count": null,
   "id": "d6306441",
   "metadata": {},
   "outputs": [],
   "source": [
    "from sklearn.metrics import r2_score\n",
    "r2_score(y_test_dec_gt, y_predicted)"
   ]
  },
  {
   "cell_type": "code",
   "execution_count": null,
   "id": "9b292e45",
   "metadata": {},
   "outputs": [],
   "source": []
  }
 ],
 "metadata": {
  "kernelspec": {
   "display_name": "Python 3 (ipykernel)",
   "language": "python",
   "name": "python3"
  },
  "language_info": {
   "codemirror_mode": {
    "name": "ipython",
    "version": 3
   },
   "file_extension": ".py",
   "mimetype": "text/x-python",
   "name": "python",
   "nbconvert_exporter": "python",
   "pygments_lexer": "ipython3",
   "version": "3.8.12"
  }
 },
 "nbformat": 4,
 "nbformat_minor": 5
}
