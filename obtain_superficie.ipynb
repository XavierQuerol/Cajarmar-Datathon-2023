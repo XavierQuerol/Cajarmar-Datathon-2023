{
 "cells": [
  {
   "cell_type": "code",
   "execution_count": 180,
   "id": "c0e77166",
   "metadata": {},
   "outputs": [],
   "source": [
    "import pandas as pd\n",
    "import numpy as np"
   ]
  },
  {
   "cell_type": "code",
   "execution_count": 181,
   "id": "384a39f8",
   "metadata": {},
   "outputs": [],
   "source": [
    "df = pd.read_csv(\"./UH_2023/UH_2023_TRAIN.txt\", sep = \"|\")\n",
    "df = df.astype({\"CAMPAÑA\": str, \"ID_FINCA\": str, \"ID_ZONA\": str, \"ID_ESTACION\": str, \"VARIEDAD\": str, \"MODO\": str, \"TIPO\": str, \"COLOR\": str, \"SUPERFICIE\": str})"
   ]
  },
  {
   "cell_type": "code",
   "execution_count": 182,
   "id": "3e479eb2",
   "metadata": {},
   "outputs": [],
   "source": [
    "import category_encoders as ce\n",
    "from sklearn.preprocessing import LabelEncoder\n",
    "encoder = ce.OrdinalEncoder(cols=[\"ID_FINCA\", \"ID_ZONA\", \"ID_ESTACION\", \"VARIEDAD\", \"COLOR\", \"TIPO\", \"MODO\"])"
   ]
  },
  {
   "cell_type": "code",
   "execution_count": 184,
   "id": "79663558",
   "metadata": {},
   "outputs": [
    {
     "name": "stderr",
     "output_type": "stream",
     "text": [
      "C:\\Users\\xavid\\AppData\\Local\\Temp\\ipykernel_9248\\3463993660.py:9: SettingWithCopyWarning: \n",
      "A value is trying to be set on a copy of a slice from a DataFrame.\n",
      "Try using .loc[row_indexer,col_indexer] = value instead\n",
      "\n",
      "See the caveats in the documentation: https://pandas.pydata.org/pandas-docs/stable/user_guide/indexing.html#returning-a-view-versus-a-copy\n",
      "  train[\"SUPERFICIE\"] = l_encoder.fit_transform(train[\"SUPERFICIE\"])\n"
     ]
    }
   ],
   "source": [
    "df_temporal = df.drop(axis = 1, columns = [\"CAMPAÑA\",\"PRODUCCION\", \"ALTITUD\"])\n",
    "\n",
    "df_encoded = encoder.fit_transform(df_temporal)\n",
    "\n",
    "train = df_encoded[(df[\"PRODUCCION\"] != 0) & (df_encoded[\"SUPERFICIE\"] != \"0.0\")]\n",
    "\n",
    "to_predict = df_encoded[~((df[\"PRODUCCION\"] != 0) & (df_encoded[\"SUPERFICIE\"] != 0))]\n",
    "l_encoder = LabelEncoder()\n",
    "train[\"SUPERFICIE\"] = l_encoder.fit_transform(train[\"SUPERFICIE\"])\n",
    "\n",
    "to_predict = to_predict.drop(axis = 1, columns = [\"SUPERFICIE\"])"
   ]
  },
  {
   "cell_type": "code",
   "execution_count": 185,
   "id": "acfcd0f7",
   "metadata": {},
   "outputs": [],
   "source": [
    "df_supcat = train.groupby(by='SUPERFICIE').count().reset_index()\n",
    "segur_train = df_supcat[df_supcat[\"TIPO\"] == 1][\"SUPERFICIE\"]\n",
    "train_nou = train[train['SUPERFICIE'].isin(list(segur_train))]"
   ]
  },
  {
   "cell_type": "code",
   "execution_count": 186,
   "id": "a40c422d",
   "metadata": {},
   "outputs": [],
   "source": [
    "train_a_splitejar = train.drop(index=train_nou.index)"
   ]
  },
  {
   "cell_type": "code",
   "execution_count": 187,
   "id": "603a6882",
   "metadata": {},
   "outputs": [],
   "source": [
    "X_train_a_splitejar = train_a_splitejar.drop(axis = 1, columns = [\"SUPERFICIE\"])\n",
    "y_train_a_splitejar = train_a_splitejar[\"SUPERFICIE\"]"
   ]
  },
  {
   "cell_type": "code",
   "execution_count": 188,
   "id": "8efa03f4",
   "metadata": {},
   "outputs": [],
   "source": [
    "X_train_nou = train_nou.drop(axis = 1, columns = [\"SUPERFICIE\"])\n",
    "y_train_nou = train_nou[\"SUPERFICIE\"]"
   ]
  },
  {
   "cell_type": "code",
   "execution_count": 189,
   "id": "1cdd1895",
   "metadata": {},
   "outputs": [],
   "source": [
    "X_train_splitted, X_test, y_train_splitted, y_test = train_test_split(X_train_a_splitejar, y_train_a_splitejar, test_size=0.35, random_state=3, stratify = train_a_splitejar[\"SUPERFICIE\"])"
   ]
  },
  {
   "cell_type": "code",
   "execution_count": 190,
   "id": "0124a6b0",
   "metadata": {},
   "outputs": [],
   "source": [
    "X_train = pd.concat([X_train_splitted, X_train_nou])\n",
    "y_train = pd.concat([y_train_splitted, y_train_nou])"
   ]
  },
  {
   "cell_type": "code",
   "execution_count": 191,
   "id": "f38d4ae9",
   "metadata": {},
   "outputs": [
    {
     "data": {
      "text/plain": [
       "True"
      ]
     },
     "execution_count": 191,
     "metadata": {},
     "output_type": "execute_result"
    }
   ],
   "source": [
    "len(X_test) + len(X_train) == len(train)"
   ]
  },
  {
   "cell_type": "code",
   "execution_count": 194,
   "id": "adb0d828",
   "metadata": {},
   "outputs": [
    {
     "data": {
      "text/plain": [
       "0.7258566978193146"
      ]
     },
     "execution_count": 194,
     "metadata": {},
     "output_type": "execute_result"
    }
   ],
   "source": [
    "import xgboost as xgb\n",
    "params_model = {'colsample_bytree': 0.4, 'gamma': 0.0, 'learning_rate': 0.15, 'max_depth': 100, 'min_child_weight': 1, 'n_estimators': 2000}\n",
    "model = xgb.XGBClassifier(**params_model)\n",
    "model.fit(X_train,y_train)"
   ]
  },
  {
   "cell_type": "code",
   "execution_count": 205,
   "id": "5920f216",
   "metadata": {},
   "outputs": [
    {
     "data": {
      "text/plain": [
       "0.7334905660377359"
      ]
     },
     "execution_count": 205,
     "metadata": {},
     "output_type": "execute_result"
    }
   ],
   "source": [
    "print(model.score(X_test, y_test))\n",
    "print(model.score(X_train, y_train))"
   ]
  },
  {
   "cell_type": "code",
   "execution_count": 195,
   "id": "86b2188b",
   "metadata": {},
   "outputs": [],
   "source": [
    "y_test_dec_gt = l_encoder.inverse_transform(y_test)\n",
    "y_predicted = l_encoder.inverse_transform(model.predict(X_test))"
   ]
  },
  {
   "cell_type": "code",
   "execution_count": 196,
   "id": "a9870538",
   "metadata": {},
   "outputs": [],
   "source": [
    "y_test_dec_gt = y_test_dec_gt.astype(np.float)\n",
    "y_predicted = y_predicted.astype(np.float)"
   ]
  },
  {
   "cell_type": "code",
   "execution_count": 197,
   "id": "f49d13ac",
   "metadata": {},
   "outputs": [
    {
     "data": {
      "text/plain": [
       "0.559937852007629"
      ]
     },
     "execution_count": 197,
     "metadata": {},
     "output_type": "execute_result"
    }
   ],
   "source": [
    "from sklearn.metrics import r2_score\n",
    "r2_score(y_test_dec_gt, y_predicted)"
   ]
  },
  {
   "cell_type": "code",
   "execution_count": 202,
   "id": "c8b635da",
   "metadata": {},
   "outputs": [
    {
     "data": {
      "text/plain": [
       "2120"
      ]
     },
     "execution_count": 202,
     "metadata": {},
     "output_type": "execute_result"
    }
   ],
   "source": [
    "len(y_train)"
   ]
  },
  {
   "cell_type": "code",
   "execution_count": 204,
   "id": "d10acebc",
   "metadata": {},
   "outputs": [
    {
     "data": {
      "text/plain": [
       "array([[6.8190414e-04, 3.8513844e-04, 1.7557872e-04, ..., 5.1132516e-05,\n",
       "        1.1260376e-04, 5.8873522e-04],\n",
       "       [1.4687682e-04, 4.1054318e-05, 9.5589610e-05, ..., 1.7975106e-04,\n",
       "        3.6124216e-05, 8.1145583e-05],\n",
       "       [3.8297463e-04, 1.6848360e-04, 1.4259036e-04, ..., 2.7710092e-04,\n",
       "        1.7916671e-03, 4.3455581e-04],\n",
       "       ...,\n",
       "       [1.2515013e-03, 3.2755014e-04, 1.6364275e-04, ..., 1.5561598e-04,\n",
       "        5.9414026e-04, 2.9936555e-04],\n",
       "       [2.1049769e-04, 5.8837293e-05, 2.6087352e-04, ..., 2.5761157e-04,\n",
       "        5.1771684e-05, 1.1629438e-04],\n",
       "       [1.4517110e-04, 1.2535493e-04, 3.9822314e-04, ..., 2.7865608e-04,\n",
       "        1.0341343e-04, 4.9287215e-04]], dtype=float32)"
      ]
     },
     "execution_count": 204,
     "metadata": {},
     "output_type": "execute_result"
    }
   ],
   "source": [
    "model.predict_proba(X_test)"
   ]
  },
  {
   "cell_type": "code",
   "execution_count": null,
   "id": "000adf3a",
   "metadata": {},
   "outputs": [],
   "source": []
  }
 ],
 "metadata": {
  "kernelspec": {
   "display_name": "Python 3 (ipykernel)",
   "language": "python",
   "name": "python3"
  },
  "language_info": {
   "codemirror_mode": {
    "name": "ipython",
    "version": 3
   },
   "file_extension": ".py",
   "mimetype": "text/x-python",
   "name": "python",
   "nbconvert_exporter": "python",
   "pygments_lexer": "ipython3",
   "version": "3.8.12"
  }
 },
 "nbformat": 4,
 "nbformat_minor": 5
}
