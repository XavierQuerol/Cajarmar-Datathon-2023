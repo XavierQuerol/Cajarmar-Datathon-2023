{
 "cells": [
  {
   "cell_type": "code",
   "execution_count": 110,
   "id": "513a0238",
   "metadata": {},
   "outputs": [],
   "source": [
    "import pandas as pd\n",
    "import numpy as np\n",
    "from sklearn.model_selection import train_test_split\n",
    "\n",
    "df = pd.read_csv(\"./UH_2023/UH_2023_TRAIN.txt\", sep = \"|\")\n",
    "df = df.astype({\"CAMPAÑA\": str, \"ID_FINCA\": str, \"ID_ZONA\": str, \"ID_ESTACION\": str, \"VARIEDAD\": str, \"MODO\": str, \"TIPO\": str, \"COLOR\": str, \"SUPERFICIE\": str})"
   ]
  },
  {
   "cell_type": "code",
   "execution_count": 255,
   "id": "7bbc1be4",
   "metadata": {},
   "outputs": [],
   "source": [
    "import category_encoders as ce\n",
    "from sklearn.preprocessing import LabelEncoder\n",
    "encoder = ce.OrdinalEncoder(cols=[\"ID_FINCA\", \"ID_ZONA\", \"ID_ESTACION\", \"VARIEDAD\", \"COLOR\", \"TIPO\", \"MODO\"])"
   ]
  },
  {
   "cell_type": "code",
   "execution_count": 256,
   "id": "43ce493c",
   "metadata": {},
   "outputs": [
    {
     "name": "stderr",
     "output_type": "stream",
     "text": [
      "C:\\Users\\xavid\\AppData\\Local\\Temp\\ipykernel_8944\\1802291089.py:7: UserWarning: Boolean Series key will be reindexed to match DataFrame index.\n",
      "  train = df_encoded[(df[\"PRODUCCION\"] != 0) & (df_encoded[\"SUPERFICIE\"] != \"0.0\")]\n",
      "C:\\Users\\xavid\\AppData\\Local\\Temp\\ipykernel_8944\\1802291089.py:9: UserWarning: Boolean Series key will be reindexed to match DataFrame index.\n",
      "  to_predict = df_encoded[~((df[\"PRODUCCION\"] != 0) & (df_encoded[\"SUPERFICIE\"] != \"0.0\"))]\n",
      "C:\\Users\\xavid\\AppData\\Local\\Temp\\ipykernel_8944\\1802291089.py:11: SettingWithCopyWarning: \n",
      "A value is trying to be set on a copy of a slice from a DataFrame.\n",
      "Try using .loc[row_indexer,col_indexer] = value instead\n",
      "\n",
      "See the caveats in the documentation: https://pandas.pydata.org/pandas-docs/stable/user_guide/indexing.html#returning-a-view-versus-a-copy\n",
      "  train[\"SUPERFICIE\"] = l_encoder.fit_transform(train[\"SUPERFICIE\"])\n"
     ]
    }
   ],
   "source": [
    "df_temporal = df[df['CAMPAÑA'] != \"22\"]\n",
    "\n",
    "df_temporal = df_temporal.drop(axis = 1, columns = [\"CAMPAÑA\", \"ALTITUD\"])\n",
    "\n",
    "df_encoded = encoder.fit_transform(df_temporal)\n",
    "\n",
    "train = df_encoded[(df[\"PRODUCCION\"] != 0) & (df_encoded[\"SUPERFICIE\"] != \"0.0\")]\n",
    "\n",
    "to_predict = df_encoded[~((df[\"PRODUCCION\"] != 0) & (df_encoded[\"SUPERFICIE\"] != \"0.0\"))]\n",
    "l_encoder = LabelEncoder()\n",
    "train[\"SUPERFICIE\"] = l_encoder.fit_transform(train[\"SUPERFICIE\"])\n",
    "\n",
    "to_predict = to_predict.drop(axis = 1, columns = [\"SUPERFICIE\"])"
   ]
  },
  {
   "cell_type": "code",
   "execution_count": 257,
   "id": "fd96d7ba",
   "metadata": {},
   "outputs": [
    {
     "data": {
      "text/plain": [
       "8526"
      ]
     },
     "execution_count": 257,
     "metadata": {},
     "output_type": "execute_result"
    }
   ],
   "source": [
    "len(df_encoded)"
   ]
  },
  {
   "cell_type": "code",
   "execution_count": 258,
   "id": "a6c5f183",
   "metadata": {},
   "outputs": [
    {
     "data": {
      "text/plain": [
       "2017"
      ]
     },
     "execution_count": 258,
     "metadata": {},
     "output_type": "execute_result"
    }
   ],
   "source": [
    "len(train)"
   ]
  },
  {
   "cell_type": "code",
   "execution_count": 259,
   "id": "9c67ee52",
   "metadata": {},
   "outputs": [
    {
     "data": {
      "text/plain": [
       "6509"
      ]
     },
     "execution_count": 259,
     "metadata": {},
     "output_type": "execute_result"
    }
   ],
   "source": [
    "len(to_predict)"
   ]
  },
  {
   "cell_type": "code",
   "execution_count": null,
   "id": "60ec6752",
   "metadata": {},
   "outputs": [],
   "source": [
    "import xgboost as xgb\n",
    "param2 = {}\n",
    "param2['booster'] = 'gbtree'\n",
    "param2[\"eval_metric\"] = \"error\"\n",
    "param2['eta'] = 0.3\n",
    "param2['gamma'] = 0\n",
    "param2['max_depth'] = 6\n",
    "param2['min_child_weight']=1\n",
    "param2['max_delta_step'] = 0\n",
    "param2['subsample']= 1\n",
    "param2['colsample_bytree']=1\n",
    "param2['seed'] = 0\n",
    "param2['base_score'] = 0.5\n",
    "param2[\"colsample_bytree\"] = 0.4\n",
    "param2[\"learning_rate\"] = 0.1\n",
    "param2[\"n_estimators\"] = 2000\n",
    "\n",
    "model2 = xgb.XGBClassifier(**param2)\n",
    "model2.fit(train.drop(columns=['SUPERFICIE']), train['SUPERFICIE'])"
   ]
  },
  {
   "cell_type": "code",
   "execution_count": 262,
   "id": "971cb01f",
   "metadata": {},
   "outputs": [],
   "source": [
    "pred_class = model2.predict(to_predict)"
   ]
  },
  {
   "cell_type": "code",
   "execution_count": 263,
   "id": "26ac84af",
   "metadata": {},
   "outputs": [],
   "source": [
    "pred_proba = model2.predict_proba(to_predict)"
   ]
  },
  {
   "cell_type": "code",
   "execution_count": 264,
   "id": "d571355e",
   "metadata": {},
   "outputs": [],
   "source": [
    "pred_class2 = pred_class +1"
   ]
  },
  {
   "cell_type": "code",
   "execution_count": 286,
   "id": "53d14389",
   "metadata": {},
   "outputs": [],
   "source": [
    "nova_col = ((pred_proba >= 0.45)*1).sum(axis=-1)"
   ]
  },
  {
   "cell_type": "code",
   "execution_count": 287,
   "id": "d5a5615a",
   "metadata": {},
   "outputs": [
    {
     "data": {
      "text/plain": [
       "array([976, 976, 976, ..., 157, 573, 451], dtype=int64)"
      ]
     },
     "execution_count": 287,
     "metadata": {},
     "output_type": "execute_result"
    }
   ],
   "source": [
    "pred_class2"
   ]
  },
  {
   "cell_type": "code",
   "execution_count": 288,
   "id": "bebbef68",
   "metadata": {},
   "outputs": [
    {
     "name": "stdout",
     "output_type": "stream",
     "text": [
      "0\n",
      "1084\n"
     ]
    }
   ],
   "source": [
    "print(sum(pred_class2 == 0))\n",
    "print(sum(nova_col == 1))"
   ]
  },
  {
   "cell_type": "code",
   "execution_count": 289,
   "id": "fb52a49e",
   "metadata": {},
   "outputs": [],
   "source": [
    "new_to_train = []\n",
    "for i, j in zip(pred_class2, nova_col):\n",
    "    if j == 1:\n",
    "        new_to_train.append(i-1)"
   ]
  },
  {
   "cell_type": "code",
   "execution_count": 290,
   "id": "fcffb2bf",
   "metadata": {},
   "outputs": [],
   "source": [
    "new_df = ((pred_proba >= 0.45)*1).sum(axis=-1)\n",
    "#new_df = new_df.set_index(to_predict.index)"
   ]
  },
  {
   "cell_type": "code",
   "execution_count": 291,
   "id": "2bcaf999",
   "metadata": {},
   "outputs": [],
   "source": [
    "to_predict['SUPERFICIE'] = new_df"
   ]
  },
  {
   "cell_type": "code",
   "execution_count": 309,
   "id": "510ad99f",
   "metadata": {},
   "outputs": [],
   "source": [
    "to_add_train = to_predict[to_predict[\"SUPERFICIE\"] == 1]\n",
    "new_to_predict = to_predict[to_predict[\"SUPERFICIE\"] == 0]"
   ]
  },
  {
   "cell_type": "code",
   "execution_count": 293,
   "id": "6c876555",
   "metadata": {},
   "outputs": [
    {
     "data": {
      "text/plain": [
       "array([1, 0])"
      ]
     },
     "execution_count": 293,
     "metadata": {},
     "output_type": "execute_result"
    }
   ],
   "source": [
    "to_predict[\"SUPERFICIE\"].unique()"
   ]
  },
  {
   "cell_type": "code",
   "execution_count": 294,
   "id": "0e69b634",
   "metadata": {},
   "outputs": [
    {
     "name": "stderr",
     "output_type": "stream",
     "text": [
      "C:\\Users\\xavid\\AppData\\Local\\Temp\\ipykernel_8944\\331182677.py:1: SettingWithCopyWarning: \n",
      "A value is trying to be set on a copy of a slice from a DataFrame.\n",
      "Try using .loc[row_indexer,col_indexer] = value instead\n",
      "\n",
      "See the caveats in the documentation: https://pandas.pydata.org/pandas-docs/stable/user_guide/indexing.html#returning-a-view-versus-a-copy\n",
      "  to_add_train[\"SUPERFICIE\"] = new_to_train\n"
     ]
    }
   ],
   "source": [
    "to_add_train[\"SUPERFICIE\"] = new_to_train"
   ]
  },
  {
   "cell_type": "code",
   "execution_count": 295,
   "id": "9e34c478",
   "metadata": {},
   "outputs": [],
   "source": [
    "new_train = pd.concat([train, to_add_train])"
   ]
  },
  {
   "cell_type": "code",
   "execution_count": 296,
   "id": "231d24c7",
   "metadata": {},
   "outputs": [],
   "source": [
    "new_train[\"SUPERFICIE\"] = l_encoder.inverse_transform(new_train[\"SUPERFICIE\"])"
   ]
  },
  {
   "cell_type": "code",
   "execution_count": 297,
   "id": "c21f24ac",
   "metadata": {},
   "outputs": [],
   "source": [
    "new_train[\"SUPERFICIE\"] = new_train[\"SUPERFICIE\"].astype(float)"
   ]
  },
  {
   "cell_type": "code",
   "execution_count": 298,
   "id": "34f56a3a",
   "metadata": {},
   "outputs": [
    {
     "data": {
      "text/plain": [
       "8526"
      ]
     },
     "execution_count": 298,
     "metadata": {},
     "output_type": "execute_result"
    }
   ],
   "source": [
    "len(new_train)+len(new_to_predict)"
   ]
  },
  {
   "cell_type": "code",
   "execution_count": 353,
   "id": "8810e660",
   "metadata": {},
   "outputs": [
    {
     "data": {
      "text/html": [
       "<style>#sk-container-id-11 {color: black;background-color: white;}#sk-container-id-11 pre{padding: 0;}#sk-container-id-11 div.sk-toggleable {background-color: white;}#sk-container-id-11 label.sk-toggleable__label {cursor: pointer;display: block;width: 100%;margin-bottom: 0;padding: 0.3em;box-sizing: border-box;text-align: center;}#sk-container-id-11 label.sk-toggleable__label-arrow:before {content: \"▸\";float: left;margin-right: 0.25em;color: #696969;}#sk-container-id-11 label.sk-toggleable__label-arrow:hover:before {color: black;}#sk-container-id-11 div.sk-estimator:hover label.sk-toggleable__label-arrow:before {color: black;}#sk-container-id-11 div.sk-toggleable__content {max-height: 0;max-width: 0;overflow: hidden;text-align: left;background-color: #f0f8ff;}#sk-container-id-11 div.sk-toggleable__content pre {margin: 0.2em;color: black;border-radius: 0.25em;background-color: #f0f8ff;}#sk-container-id-11 input.sk-toggleable__control:checked~div.sk-toggleable__content {max-height: 200px;max-width: 100%;overflow: auto;}#sk-container-id-11 input.sk-toggleable__control:checked~label.sk-toggleable__label-arrow:before {content: \"▾\";}#sk-container-id-11 div.sk-estimator input.sk-toggleable__control:checked~label.sk-toggleable__label {background-color: #d4ebff;}#sk-container-id-11 div.sk-label input.sk-toggleable__control:checked~label.sk-toggleable__label {background-color: #d4ebff;}#sk-container-id-11 input.sk-hidden--visually {border: 0;clip: rect(1px 1px 1px 1px);clip: rect(1px, 1px, 1px, 1px);height: 1px;margin: -1px;overflow: hidden;padding: 0;position: absolute;width: 1px;}#sk-container-id-11 div.sk-estimator {font-family: monospace;background-color: #f0f8ff;border: 1px dotted black;border-radius: 0.25em;box-sizing: border-box;margin-bottom: 0.5em;}#sk-container-id-11 div.sk-estimator:hover {background-color: #d4ebff;}#sk-container-id-11 div.sk-parallel-item::after {content: \"\";width: 100%;border-bottom: 1px solid gray;flex-grow: 1;}#sk-container-id-11 div.sk-label:hover label.sk-toggleable__label {background-color: #d4ebff;}#sk-container-id-11 div.sk-serial::before {content: \"\";position: absolute;border-left: 1px solid gray;box-sizing: border-box;top: 0;bottom: 0;left: 50%;z-index: 0;}#sk-container-id-11 div.sk-serial {display: flex;flex-direction: column;align-items: center;background-color: white;padding-right: 0.2em;padding-left: 0.2em;position: relative;}#sk-container-id-11 div.sk-item {position: relative;z-index: 1;}#sk-container-id-11 div.sk-parallel {display: flex;align-items: stretch;justify-content: center;background-color: white;position: relative;}#sk-container-id-11 div.sk-item::before, #sk-container-id-11 div.sk-parallel-item::before {content: \"\";position: absolute;border-left: 1px solid gray;box-sizing: border-box;top: 0;bottom: 0;left: 50%;z-index: -1;}#sk-container-id-11 div.sk-parallel-item {display: flex;flex-direction: column;z-index: 1;position: relative;background-color: white;}#sk-container-id-11 div.sk-parallel-item:first-child::after {align-self: flex-end;width: 50%;}#sk-container-id-11 div.sk-parallel-item:last-child::after {align-self: flex-start;width: 50%;}#sk-container-id-11 div.sk-parallel-item:only-child::after {width: 0;}#sk-container-id-11 div.sk-dashed-wrapped {border: 1px dashed gray;margin: 0 0.4em 0.5em 0.4em;box-sizing: border-box;padding-bottom: 0.4em;background-color: white;}#sk-container-id-11 div.sk-label label {font-family: monospace;font-weight: bold;display: inline-block;line-height: 1.2em;}#sk-container-id-11 div.sk-label-container {text-align: center;}#sk-container-id-11 div.sk-container {/* jupyter's `normalize.less` sets `[hidden] { display: none; }` but bootstrap.min.css set `[hidden] { display: none !important; }` so we also need the `!important` here to be able to override the default hidden behavior on the sphinx rendered scikit-learn.org. See: https://github.com/scikit-learn/scikit-learn/issues/21755 */display: inline-block !important;position: relative;}#sk-container-id-11 div.sk-text-repr-fallback {display: none;}</style><div id=\"sk-container-id-11\" class=\"sk-top-container\"><div class=\"sk-text-repr-fallback\"><pre>XGBRegressor(base_score=None, booster=None, callbacks=None,\n",
       "             colsample_bylevel=None, colsample_bynode=None,\n",
       "             colsample_bytree=0.4, early_stopping_rounds=None,\n",
       "             enable_categorical=False, eval_metric=None, feature_types=None,\n",
       "             gamma=0.0, gpu_id=None, grow_policy=None, importance_type=None,\n",
       "             interaction_constraints=None, learning_rate=0.15, max_bin=None,\n",
       "             max_cat_threshold=None, max_cat_to_onehot=None,\n",
       "             max_delta_step=None, max_depth=6, max_leaves=None,\n",
       "             min_child_weight=1, missing=nan, monotone_constraints=None,\n",
       "             n_estimators=20, n_jobs=None, num_parallel_tree=None,\n",
       "             predictor=None, random_state=None, ...)</pre><b>In a Jupyter environment, please rerun this cell to show the HTML representation or trust the notebook. <br />On GitHub, the HTML representation is unable to render, please try loading this page with nbviewer.org.</b></div><div class=\"sk-container\" hidden><div class=\"sk-item\"><div class=\"sk-estimator sk-toggleable\"><input class=\"sk-toggleable__control sk-hidden--visually\" id=\"sk-estimator-id-11\" type=\"checkbox\" checked><label for=\"sk-estimator-id-11\" class=\"sk-toggleable__label sk-toggleable__label-arrow\">XGBRegressor</label><div class=\"sk-toggleable__content\"><pre>XGBRegressor(base_score=None, booster=None, callbacks=None,\n",
       "             colsample_bylevel=None, colsample_bynode=None,\n",
       "             colsample_bytree=0.4, early_stopping_rounds=None,\n",
       "             enable_categorical=False, eval_metric=None, feature_types=None,\n",
       "             gamma=0.0, gpu_id=None, grow_policy=None, importance_type=None,\n",
       "             interaction_constraints=None, learning_rate=0.15, max_bin=None,\n",
       "             max_cat_threshold=None, max_cat_to_onehot=None,\n",
       "             max_delta_step=None, max_depth=6, max_leaves=None,\n",
       "             min_child_weight=1, missing=nan, monotone_constraints=None,\n",
       "             n_estimators=20, n_jobs=None, num_parallel_tree=None,\n",
       "             predictor=None, random_state=None, ...)</pre></div></div></div></div></div>"
      ],
      "text/plain": [
       "XGBRegressor(base_score=None, booster=None, callbacks=None,\n",
       "             colsample_bylevel=None, colsample_bynode=None,\n",
       "             colsample_bytree=0.4, early_stopping_rounds=None,\n",
       "             enable_categorical=False, eval_metric=None, feature_types=None,\n",
       "             gamma=0.0, gpu_id=None, grow_policy=None, importance_type=None,\n",
       "             interaction_constraints=None, learning_rate=0.15, max_bin=None,\n",
       "             max_cat_threshold=None, max_cat_to_onehot=None,\n",
       "             max_delta_step=None, max_depth=6, max_leaves=None,\n",
       "             min_child_weight=1, missing=nan, monotone_constraints=None,\n",
       "             n_estimators=20, n_jobs=None, num_parallel_tree=None,\n",
       "             predictor=None, random_state=None, ...)"
      ]
     },
     "execution_count": 353,
     "metadata": {},
     "output_type": "execute_result"
    }
   ],
   "source": [
    "params_model = {'colsample_bytree': 0.4, 'gamma': 0.0, 'learning_rate': 0.15, 'max_depth': 6, 'min_child_weight': 1, 'n_estimators': 20}\n",
    "model2 = xgb.XGBRegressor(**params_model)\n",
    "model2.fit(new_train.drop(columns=['SUPERFICIE']), new_train['SUPERFICIE'])"
   ]
  },
  {
   "cell_type": "code",
   "execution_count": 354,
   "id": "11a83fe8",
   "metadata": {},
   "outputs": [
    {
     "data": {
      "text/plain": [
       "0.8099718468451385"
      ]
     },
     "execution_count": 354,
     "metadata": {},
     "output_type": "execute_result"
    }
   ],
   "source": [
    "model2.score(new_train.drop(columns=['SUPERFICIE']), new_train['SUPERFICIE'])"
   ]
  },
  {
   "cell_type": "code",
   "execution_count": 355,
   "id": "9ef184e0",
   "metadata": {},
   "outputs": [
    {
     "name": "stderr",
     "output_type": "stream",
     "text": [
      "C:\\Users\\xavid\\AppData\\Local\\Temp\\ipykernel_8944\\1898123790.py:1: SettingWithCopyWarning: \n",
      "A value is trying to be set on a copy of a slice from a DataFrame.\n",
      "Try using .loc[row_indexer,col_indexer] = value instead\n",
      "\n",
      "See the caveats in the documentation: https://pandas.pydata.org/pandas-docs/stable/user_guide/indexing.html#returning-a-view-versus-a-copy\n",
      "  new_to_predict[\"SUPERFICIE\"] = model2.predict(new_to_predict.drop(columns = [\"SUPERFICIE\"]))\n"
     ]
    }
   ],
   "source": [
    "new_to_predict[\"SUPERFICIE\"] = model2.predict(new_to_predict.drop(columns = [\"SUPERFICIE\"]))"
   ]
  },
  {
   "cell_type": "code",
   "execution_count": 356,
   "id": "2def93c9",
   "metadata": {},
   "outputs": [
    {
     "data": {
      "text/html": [
       "<div>\n",
       "<style scoped>\n",
       "    .dataframe tbody tr th:only-of-type {\n",
       "        vertical-align: middle;\n",
       "    }\n",
       "\n",
       "    .dataframe tbody tr th {\n",
       "        vertical-align: top;\n",
       "    }\n",
       "\n",
       "    .dataframe thead th {\n",
       "        text-align: right;\n",
       "    }\n",
       "</style>\n",
       "<table border=\"1\" class=\"dataframe\">\n",
       "  <thead>\n",
       "    <tr style=\"text-align: right;\">\n",
       "      <th></th>\n",
       "      <th>ID_FINCA</th>\n",
       "      <th>ID_ZONA</th>\n",
       "      <th>ID_ESTACION</th>\n",
       "      <th>VARIEDAD</th>\n",
       "      <th>MODO</th>\n",
       "      <th>TIPO</th>\n",
       "      <th>COLOR</th>\n",
       "      <th>PRODUCCION</th>\n",
       "      <th>SUPERFICIE</th>\n",
       "    </tr>\n",
       "  </thead>\n",
       "  <tbody>\n",
       "    <tr>\n",
       "      <th>4</th>\n",
       "      <td>5</td>\n",
       "      <td>3</td>\n",
       "      <td>2</td>\n",
       "      <td>3</td>\n",
       "      <td>2</td>\n",
       "      <td>1</td>\n",
       "      <td>1</td>\n",
       "      <td>14126.000</td>\n",
       "      <td>5.622488</td>\n",
       "    </tr>\n",
       "    <tr>\n",
       "      <th>5</th>\n",
       "      <td>6</td>\n",
       "      <td>3</td>\n",
       "      <td>2</td>\n",
       "      <td>3</td>\n",
       "      <td>2</td>\n",
       "      <td>1</td>\n",
       "      <td>1</td>\n",
       "      <td>6054.000</td>\n",
       "      <td>5.993777</td>\n",
       "    </tr>\n",
       "    <tr>\n",
       "      <th>6</th>\n",
       "      <td>7</td>\n",
       "      <td>4</td>\n",
       "      <td>2</td>\n",
       "      <td>3</td>\n",
       "      <td>2</td>\n",
       "      <td>1</td>\n",
       "      <td>1</td>\n",
       "      <td>12900.000</td>\n",
       "      <td>5.863808</td>\n",
       "    </tr>\n",
       "    <tr>\n",
       "      <th>7</th>\n",
       "      <td>8</td>\n",
       "      <td>5</td>\n",
       "      <td>2</td>\n",
       "      <td>4</td>\n",
       "      <td>2</td>\n",
       "      <td>1</td>\n",
       "      <td>1</td>\n",
       "      <td>5450.000</td>\n",
       "      <td>5.393260</td>\n",
       "    </tr>\n",
       "    <tr>\n",
       "      <th>8</th>\n",
       "      <td>9</td>\n",
       "      <td>6</td>\n",
       "      <td>2</td>\n",
       "      <td>4</td>\n",
       "      <td>2</td>\n",
       "      <td>1</td>\n",
       "      <td>1</td>\n",
       "      <td>30720.000</td>\n",
       "      <td>7.317737</td>\n",
       "    </tr>\n",
       "    <tr>\n",
       "      <th>...</th>\n",
       "      <td>...</td>\n",
       "      <td>...</td>\n",
       "      <td>...</td>\n",
       "      <td>...</td>\n",
       "      <td>...</td>\n",
       "      <td>...</td>\n",
       "      <td>...</td>\n",
       "      <td>...</td>\n",
       "      <td>...</td>\n",
       "    </tr>\n",
       "    <tr>\n",
       "      <th>7530</th>\n",
       "      <td>36</td>\n",
       "      <td>8</td>\n",
       "      <td>2</td>\n",
       "      <td>5</td>\n",
       "      <td>1</td>\n",
       "      <td>1</td>\n",
       "      <td>1</td>\n",
       "      <td>6432.335</td>\n",
       "      <td>2.098226</td>\n",
       "    </tr>\n",
       "    <tr>\n",
       "      <th>7535</th>\n",
       "      <td>39</td>\n",
       "      <td>8</td>\n",
       "      <td>2</td>\n",
       "      <td>5</td>\n",
       "      <td>1</td>\n",
       "      <td>1</td>\n",
       "      <td>1</td>\n",
       "      <td>2007.876</td>\n",
       "      <td>1.705978</td>\n",
       "    </tr>\n",
       "    <tr>\n",
       "      <th>7536</th>\n",
       "      <td>40</td>\n",
       "      <td>8</td>\n",
       "      <td>2</td>\n",
       "      <td>5</td>\n",
       "      <td>1</td>\n",
       "      <td>1</td>\n",
       "      <td>1</td>\n",
       "      <td>2460.471</td>\n",
       "      <td>1.705978</td>\n",
       "    </tr>\n",
       "    <tr>\n",
       "      <th>7537</th>\n",
       "      <td>41</td>\n",
       "      <td>8</td>\n",
       "      <td>2</td>\n",
       "      <td>5</td>\n",
       "      <td>1</td>\n",
       "      <td>1</td>\n",
       "      <td>1</td>\n",
       "      <td>2005.133</td>\n",
       "      <td>1.705978</td>\n",
       "    </tr>\n",
       "    <tr>\n",
       "      <th>7563</th>\n",
       "      <td>60</td>\n",
       "      <td>13</td>\n",
       "      <td>2</td>\n",
       "      <td>2</td>\n",
       "      <td>1</td>\n",
       "      <td>1</td>\n",
       "      <td>1</td>\n",
       "      <td>2509.455</td>\n",
       "      <td>3.766633</td>\n",
       "    </tr>\n",
       "  </tbody>\n",
       "</table>\n",
       "<p>5425 rows × 9 columns</p>\n",
       "</div>"
      ],
      "text/plain": [
       "      ID_FINCA  ID_ZONA  ID_ESTACION  VARIEDAD  MODO  TIPO  COLOR  PRODUCCION  \\\n",
       "4            5        3            2         3     2     1      1   14126.000   \n",
       "5            6        3            2         3     2     1      1    6054.000   \n",
       "6            7        4            2         3     2     1      1   12900.000   \n",
       "7            8        5            2         4     2     1      1    5450.000   \n",
       "8            9        6            2         4     2     1      1   30720.000   \n",
       "...        ...      ...          ...       ...   ...   ...    ...         ...   \n",
       "7530        36        8            2         5     1     1      1    6432.335   \n",
       "7535        39        8            2         5     1     1      1    2007.876   \n",
       "7536        40        8            2         5     1     1      1    2460.471   \n",
       "7537        41        8            2         5     1     1      1    2005.133   \n",
       "7563        60       13            2         2     1     1      1    2509.455   \n",
       "\n",
       "      SUPERFICIE  \n",
       "4       5.622488  \n",
       "5       5.993777  \n",
       "6       5.863808  \n",
       "7       5.393260  \n",
       "8       7.317737  \n",
       "...          ...  \n",
       "7530    2.098226  \n",
       "7535    1.705978  \n",
       "7536    1.705978  \n",
       "7537    1.705978  \n",
       "7563    3.766633  \n",
       "\n",
       "[5425 rows x 9 columns]"
      ]
     },
     "execution_count": 356,
     "metadata": {},
     "output_type": "execute_result"
    }
   ],
   "source": [
    "new_to_predict"
   ]
  },
  {
   "cell_type": "code",
   "execution_count": 357,
   "id": "6a18c70a",
   "metadata": {},
   "outputs": [],
   "source": [
    "df_final = pd.concat([new_to_predict, new_train])"
   ]
  },
  {
   "cell_type": "code",
   "execution_count": 358,
   "id": "f2d08062",
   "metadata": {},
   "outputs": [
    {
     "data": {
      "text/html": [
       "<div>\n",
       "<style scoped>\n",
       "    .dataframe tbody tr th:only-of-type {\n",
       "        vertical-align: middle;\n",
       "    }\n",
       "\n",
       "    .dataframe tbody tr th {\n",
       "        vertical-align: top;\n",
       "    }\n",
       "\n",
       "    .dataframe thead th {\n",
       "        text-align: right;\n",
       "    }\n",
       "</style>\n",
       "<table border=\"1\" class=\"dataframe\">\n",
       "  <thead>\n",
       "    <tr style=\"text-align: right;\">\n",
       "      <th></th>\n",
       "      <th>ID_FINCA</th>\n",
       "      <th>ID_ZONA</th>\n",
       "      <th>ID_ESTACION</th>\n",
       "      <th>VARIEDAD</th>\n",
       "      <th>MODO</th>\n",
       "      <th>TIPO</th>\n",
       "      <th>COLOR</th>\n",
       "      <th>PRODUCCION</th>\n",
       "      <th>SUPERFICIE</th>\n",
       "    </tr>\n",
       "  </thead>\n",
       "  <tbody>\n",
       "    <tr>\n",
       "      <th>1112</th>\n",
       "      <td>901</td>\n",
       "      <td>101</td>\n",
       "      <td>16</td>\n",
       "      <td>7</td>\n",
       "      <td>2</td>\n",
       "      <td>1</td>\n",
       "      <td>2</td>\n",
       "      <td>819.50</td>\n",
       "      <td>-0.098583</td>\n",
       "    </tr>\n",
       "    <tr>\n",
       "      <th>1116</th>\n",
       "      <td>902</td>\n",
       "      <td>101</td>\n",
       "      <td>16</td>\n",
       "      <td>7</td>\n",
       "      <td>2</td>\n",
       "      <td>1</td>\n",
       "      <td>2</td>\n",
       "      <td>2011.50</td>\n",
       "      <td>-0.246865</td>\n",
       "    </tr>\n",
       "    <tr>\n",
       "      <th>4332</th>\n",
       "      <td>902</td>\n",
       "      <td>101</td>\n",
       "      <td>16</td>\n",
       "      <td>10</td>\n",
       "      <td>2</td>\n",
       "      <td>1</td>\n",
       "      <td>2</td>\n",
       "      <td>400.00</td>\n",
       "      <td>-0.122854</td>\n",
       "    </tr>\n",
       "    <tr>\n",
       "      <th>4333</th>\n",
       "      <td>902</td>\n",
       "      <td>101</td>\n",
       "      <td>16</td>\n",
       "      <td>7</td>\n",
       "      <td>2</td>\n",
       "      <td>1</td>\n",
       "      <td>2</td>\n",
       "      <td>2736.18</td>\n",
       "      <td>-0.246865</td>\n",
       "    </tr>\n",
       "    <tr>\n",
       "      <th>5391</th>\n",
       "      <td>902</td>\n",
       "      <td>101</td>\n",
       "      <td>16</td>\n",
       "      <td>10</td>\n",
       "      <td>2</td>\n",
       "      <td>1</td>\n",
       "      <td>2</td>\n",
       "      <td>740.00</td>\n",
       "      <td>-0.082474</td>\n",
       "    </tr>\n",
       "    <tr>\n",
       "      <th>5392</th>\n",
       "      <td>902</td>\n",
       "      <td>101</td>\n",
       "      <td>16</td>\n",
       "      <td>7</td>\n",
       "      <td>2</td>\n",
       "      <td>1</td>\n",
       "      <td>2</td>\n",
       "      <td>2324.60</td>\n",
       "      <td>-0.246865</td>\n",
       "    </tr>\n",
       "  </tbody>\n",
       "</table>\n",
       "</div>"
      ],
      "text/plain": [
       "      ID_FINCA  ID_ZONA  ID_ESTACION  VARIEDAD  MODO  TIPO  COLOR  PRODUCCION  \\\n",
       "1112       901      101           16         7     2     1      2      819.50   \n",
       "1116       902      101           16         7     2     1      2     2011.50   \n",
       "4332       902      101           16        10     2     1      2      400.00   \n",
       "4333       902      101           16         7     2     1      2     2736.18   \n",
       "5391       902      101           16        10     2     1      2      740.00   \n",
       "5392       902      101           16         7     2     1      2     2324.60   \n",
       "\n",
       "      SUPERFICIE  \n",
       "1112   -0.098583  \n",
       "1116   -0.246865  \n",
       "4332   -0.122854  \n",
       "4333   -0.246865  \n",
       "5391   -0.082474  \n",
       "5392   -0.246865  "
      ]
     },
     "execution_count": 358,
     "metadata": {},
     "output_type": "execute_result"
    }
   ],
   "source": [
    "df_final[df_final[\"SUPERFICIE\"]<0]"
   ]
  },
  {
   "cell_type": "code",
   "execution_count": 360,
   "id": "9f6263ee",
   "metadata": {},
   "outputs": [
    {
     "data": {
      "text/html": [
       "<div>\n",
       "<style scoped>\n",
       "    .dataframe tbody tr th:only-of-type {\n",
       "        vertical-align: middle;\n",
       "    }\n",
       "\n",
       "    .dataframe tbody tr th {\n",
       "        vertical-align: top;\n",
       "    }\n",
       "\n",
       "    .dataframe thead th {\n",
       "        text-align: right;\n",
       "    }\n",
       "</style>\n",
       "<table border=\"1\" class=\"dataframe\">\n",
       "  <thead>\n",
       "    <tr style=\"text-align: right;\">\n",
       "      <th></th>\n",
       "      <th>ID_FINCA</th>\n",
       "      <th>ID_ZONA</th>\n",
       "      <th>ID_ESTACION</th>\n",
       "      <th>VARIEDAD</th>\n",
       "      <th>MODO</th>\n",
       "      <th>TIPO</th>\n",
       "      <th>COLOR</th>\n",
       "      <th>PRODUCCION</th>\n",
       "      <th>SUPERFICIE</th>\n",
       "    </tr>\n",
       "  </thead>\n",
       "  <tbody>\n",
       "    <tr>\n",
       "      <th>4</th>\n",
       "      <td>5</td>\n",
       "      <td>3</td>\n",
       "      <td>2</td>\n",
       "      <td>3</td>\n",
       "      <td>2</td>\n",
       "      <td>1</td>\n",
       "      <td>1</td>\n",
       "      <td>14126.000</td>\n",
       "      <td>5.622488</td>\n",
       "    </tr>\n",
       "    <tr>\n",
       "      <th>5</th>\n",
       "      <td>6</td>\n",
       "      <td>3</td>\n",
       "      <td>2</td>\n",
       "      <td>3</td>\n",
       "      <td>2</td>\n",
       "      <td>1</td>\n",
       "      <td>1</td>\n",
       "      <td>6054.000</td>\n",
       "      <td>5.993777</td>\n",
       "    </tr>\n",
       "    <tr>\n",
       "      <th>6</th>\n",
       "      <td>7</td>\n",
       "      <td>4</td>\n",
       "      <td>2</td>\n",
       "      <td>3</td>\n",
       "      <td>2</td>\n",
       "      <td>1</td>\n",
       "      <td>1</td>\n",
       "      <td>12900.000</td>\n",
       "      <td>5.863808</td>\n",
       "    </tr>\n",
       "    <tr>\n",
       "      <th>7</th>\n",
       "      <td>8</td>\n",
       "      <td>5</td>\n",
       "      <td>2</td>\n",
       "      <td>4</td>\n",
       "      <td>2</td>\n",
       "      <td>1</td>\n",
       "      <td>1</td>\n",
       "      <td>5450.000</td>\n",
       "      <td>5.393260</td>\n",
       "    </tr>\n",
       "    <tr>\n",
       "      <th>8</th>\n",
       "      <td>9</td>\n",
       "      <td>6</td>\n",
       "      <td>2</td>\n",
       "      <td>4</td>\n",
       "      <td>2</td>\n",
       "      <td>1</td>\n",
       "      <td>1</td>\n",
       "      <td>30720.000</td>\n",
       "      <td>7.317737</td>\n",
       "    </tr>\n",
       "    <tr>\n",
       "      <th>...</th>\n",
       "      <td>...</td>\n",
       "      <td>...</td>\n",
       "      <td>...</td>\n",
       "      <td>...</td>\n",
       "      <td>...</td>\n",
       "      <td>...</td>\n",
       "      <td>...</td>\n",
       "      <td>...</td>\n",
       "      <td>...</td>\n",
       "    </tr>\n",
       "    <tr>\n",
       "      <th>6489</th>\n",
       "      <td>1094</td>\n",
       "      <td>7</td>\n",
       "      <td>2</td>\n",
       "      <td>9</td>\n",
       "      <td>2</td>\n",
       "      <td>1</td>\n",
       "      <td>2</td>\n",
       "      <td>9490.000</td>\n",
       "      <td>1.380000</td>\n",
       "    </tr>\n",
       "    <tr>\n",
       "      <th>6522</th>\n",
       "      <td>40</td>\n",
       "      <td>8</td>\n",
       "      <td>2</td>\n",
       "      <td>5</td>\n",
       "      <td>1</td>\n",
       "      <td>1</td>\n",
       "      <td>1</td>\n",
       "      <td>1329.354</td>\n",
       "      <td>1.660000</td>\n",
       "    </tr>\n",
       "    <tr>\n",
       "      <th>7496</th>\n",
       "      <td>1094</td>\n",
       "      <td>7</td>\n",
       "      <td>2</td>\n",
       "      <td>9</td>\n",
       "      <td>2</td>\n",
       "      <td>1</td>\n",
       "      <td>2</td>\n",
       "      <td>6500.000</td>\n",
       "      <td>1.380000</td>\n",
       "    </tr>\n",
       "    <tr>\n",
       "      <th>7521</th>\n",
       "      <td>1012</td>\n",
       "      <td>8</td>\n",
       "      <td>3</td>\n",
       "      <td>2</td>\n",
       "      <td>1</td>\n",
       "      <td>1</td>\n",
       "      <td>1</td>\n",
       "      <td>1101.435</td>\n",
       "      <td>0.860000</td>\n",
       "    </tr>\n",
       "    <tr>\n",
       "      <th>7524</th>\n",
       "      <td>33</td>\n",
       "      <td>8</td>\n",
       "      <td>2</td>\n",
       "      <td>4</td>\n",
       "      <td>2</td>\n",
       "      <td>1</td>\n",
       "      <td>1</td>\n",
       "      <td>55077.000</td>\n",
       "      <td>25.250000</td>\n",
       "    </tr>\n",
       "  </tbody>\n",
       "</table>\n",
       "<p>8526 rows × 9 columns</p>\n",
       "</div>"
      ],
      "text/plain": [
       "      ID_FINCA  ID_ZONA  ID_ESTACION  VARIEDAD  MODO  TIPO  COLOR  PRODUCCION  \\\n",
       "4            5        3            2         3     2     1      1   14126.000   \n",
       "5            6        3            2         3     2     1      1    6054.000   \n",
       "6            7        4            2         3     2     1      1   12900.000   \n",
       "7            8        5            2         4     2     1      1    5450.000   \n",
       "8            9        6            2         4     2     1      1   30720.000   \n",
       "...        ...      ...          ...       ...   ...   ...    ...         ...   \n",
       "6489      1094        7            2         9     2     1      2    9490.000   \n",
       "6522        40        8            2         5     1     1      1    1329.354   \n",
       "7496      1094        7            2         9     2     1      2    6500.000   \n",
       "7521      1012        8            3         2     1     1      1    1101.435   \n",
       "7524        33        8            2         4     2     1      1   55077.000   \n",
       "\n",
       "      SUPERFICIE  \n",
       "4       5.622488  \n",
       "5       5.993777  \n",
       "6       5.863808  \n",
       "7       5.393260  \n",
       "8       7.317737  \n",
       "...          ...  \n",
       "6489    1.380000  \n",
       "6522    1.660000  \n",
       "7496    1.380000  \n",
       "7521    0.860000  \n",
       "7524   25.250000  \n",
       "\n",
       "[8526 rows x 9 columns]"
      ]
     },
     "execution_count": 360,
     "metadata": {},
     "output_type": "execute_result"
    }
   ],
   "source": [
    "df_final"
   ]
  },
  {
   "cell_type": "code",
   "execution_count": null,
   "id": "4158ebf8",
   "metadata": {},
   "outputs": [],
   "source": []
  }
 ],
 "metadata": {
  "kernelspec": {
   "display_name": "Python 3 (ipykernel)",
   "language": "python",
   "name": "python3"
  },
  "language_info": {
   "codemirror_mode": {
    "name": "ipython",
    "version": 3
   },
   "file_extension": ".py",
   "mimetype": "text/x-python",
   "name": "python",
   "nbconvert_exporter": "python",
   "pygments_lexer": "ipython3",
   "version": "3.8.12"
  }
 },
 "nbformat": 4,
 "nbformat_minor": 5
}
