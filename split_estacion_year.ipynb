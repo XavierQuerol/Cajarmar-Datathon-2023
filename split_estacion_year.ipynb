{
 "cells": [
  {
   "cell_type": "code",
   "execution_count": null,
   "id": "3337fd94",
   "metadata": {},
   "outputs": [],
   "source": [
    "df_meteo = pd.read_csv(\"./ds_tractats/df_meteo_eto.csv\", index_col = False)"
   ]
  },
  {
   "cell_type": "code",
   "execution_count": null,
   "id": "0ab92001",
   "metadata": {},
   "outputs": [],
   "source": [
    "df_meteo_eto.validTimeUtc = pd.to_datetime(df_meteo_eto.validTimeUtc)\n",
    "df_meteo_eto.loc[:, \"validTimeUtc\"] = df_meteo_eto.loc[:, \"validTimeUtc\"] + pd.Timedelta(days=185)"
   ]
  },
  {
   "cell_type": "code",
   "execution_count": null,
   "id": "9b7db05e",
   "metadata": {},
   "outputs": [],
   "source": [
    "years = df_meteo_eto[\"validTimeUtc\"].dt.year.unique()\n",
    "estacions = df_meteo_eto[\"ID_ESTACION\"].unique()\n",
    "columns_to_store = df_meteo_eto.columns\n",
    "columns_to_store = columns_to_store.drop([\"ID_ESTACION\", \"validTimeUtc\"])"
   ]
  },
  {
   "cell_type": "code",
   "execution_count": null,
   "id": "65800ca0",
   "metadata": {},
   "outputs": [],
   "source": [
    "import torch\n",
    "\n",
    "meteo_eteo_dict = {}\n",
    "\n",
    "for year in years[1:]:\n",
    "    for estacion in estacions:\n",
    "        df_aux = df_meteo_eto.loc[(df_meteo_eto[\"ID_ESTACION\"] == estacion) & (df_meteo_eto[\"validTimeUtc\"].dt.year == year),columns_to_store]\n",
    "        df_aux2 = torch.tensor(df_aux.values, dtype=torch.float32)\n",
    "        meteo_eteo_dict[f\"{year}_{estacion}\"] = df_aux2"
   ]
  }
 ],
 "metadata": {
  "kernelspec": {
   "display_name": "Python 3 (ipykernel)",
   "language": "python",
   "name": "python3"
  },
  "language_info": {
   "codemirror_mode": {
    "name": "ipython",
    "version": 3
   },
   "file_extension": ".py",
   "mimetype": "text/x-python",
   "name": "python",
   "nbconvert_exporter": "python",
   "pygments_lexer": "ipython3",
   "version": "3.8.12"
  }
 },
 "nbformat": 4,
 "nbformat_minor": 5
}
